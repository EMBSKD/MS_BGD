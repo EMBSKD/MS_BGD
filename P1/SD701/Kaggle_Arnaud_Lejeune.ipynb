{
 "cells": [
  {
   "cell_type": "markdown",
   "metadata": {},
   "source": [
    "# <center> SD701 : Kaggle Competition </center> \n",
    "<center>Arnaud Lejeune</center>"
   ]
  },
  {
   "cell_type": "code",
   "execution_count": null,
   "metadata": {},
   "outputs": [],
   "source": [
    "from pyspark.ml import Pipeline\n",
    "from pyspark.ml.tuning import CrossValidator, ParamGridBuilder\n",
    "from pyspark.ml.evaluation import MulticlassClassificationEvaluator\n",
    "from pyspark.ml.classification import DecisionTreeClassifier, RandomForestClassifier\n",
    "from pyspark.ml.feature import VectorAssembler"
   ]
  },
  {
   "cell_type": "markdown",
   "metadata": {},
   "source": [
    "## Import data"
   ]
  },
  {
   "cell_type": "code",
   "execution_count": null,
   "metadata": {},
   "outputs": [],
   "source": [
    "train_data = sqlContext.read.format('com.databricks.spark.csv').options(header='true', inferSchema='true').load('/FileStore/tables/train_set-51e11.csv')\n",
    "\n",
    "test_data = sqlContext.read.format('com.databricks.spark.csv').options(header='true', inferSchema='true').load('/FileStore/tables/test_set-b5f57.csv')\n",
    "\n",
    "display(train_data)"
   ]
  },
  {
   "cell_type": "markdown",
   "metadata": {},
   "source": [
    "## Test du Decison Tree Classifier"
   ]
  },
  {
   "cell_type": "code",
   "execution_count": null,
   "metadata": {},
   "outputs": [],
   "source": [
    "# --- DecisionTreeClassifier ---\n",
    "\n",
    "# Train a RandomForest model.\n",
    "\n",
    "dt = DecisionTreeClassifier(labelCol=\"Cover_Type\", featuresCol=\"features\", maxDepth=30, impurity='entropy', maxBins = 128)\n",
    "\n",
    "# Chain vecAssembler and classificaiton model \n",
    "pipeline_dt = Pipeline(stages=[vector_assembler, dt])\n",
    "\n",
    "# Run stages in pipeline with the train data\n",
    "model = pipeline_dt.fit(train_data)\n",
    "\n",
    "# Make predictions on testData\n",
    "predictions = model.transform(test_data)\n",
    "\n",
    "predictions = predictions.withColumn(\"Cover_Type\", predictions[\"prediction\"].cast(\"int\"))  # Cast predictions to 'int' to mach the data type expected by Kaggle\n",
    "# Show the content of 'predictions'\n",
    "predictions.printSchema()"
   ]
  },
  {
   "cell_type": "markdown",
   "metadata": {},
   "source": [
    "## Test du Decison Tree Classifier"
   ]
  },
  {
   "cell_type": "code",
   "execution_count": null,
   "metadata": {},
   "outputs": [],
   "source": [
    "# --- RandomForestClassifier ---\n",
    "\n",
    "# Train a RandomForest model.\n",
    "\n",
    "rf = RandomForestClassifier(labelCol=\"Cover_Type\", featuresCol=\"features\", numTrees=2, maxDepth=30, maxBins = 32)\n",
    "#dt = DecisionTreeClassifier(labelCol=\"Cover_Type\", featuresCol=\"features\")\n",
    "\n",
    "# Chain vecAssembler and classificaiton model \n",
    "pipeline_rf = Pipeline(stages=[vector_assembler, rf])\n",
    "\n",
    "# Run stages in pipeline with the train data\n",
    "model_rf = pipeline_rf.fit(train_data)\n",
    "\n",
    "# Make predictions on testData\n",
    "predictions_rf = model_rf.transform(test_data)\n",
    "\n",
    "predictions_rf = predictions_rf.withColumn(\"Cover_Type\", predictions_rf[\"prediction\"].cast(\"int\"))  # Cast predictions to 'int' to mach the data type expected by Kaggle\n",
    "# Show the content of 'predictions'\n",
    "predictions_rf.printSchema()"
   ]
  },
  {
   "cell_type": "markdown",
   "metadata": {},
   "source": [
    "<center>\n",
    "Après le test de ces 2 modèles, d'autres modèles ont également été testés et plusieurs paramètres testés pour mieux comprendre ces classieurs\n",
    "</center>\n",
    "<br>\n",
    "<center>\n",
    "Une fois ces tests effectués, j'ai entreopris d'utilser une cross-validation pour tester les différents paramètres identifiés au précédemment\n",
    "</center>"
   ]
  },
  {
   "cell_type": "markdown",
   "metadata": {},
   "source": [
    "## Random Forest Classifier - Cross-Validation"
   ]
  },
  {
   "cell_type": "code",
   "execution_count": null,
   "metadata": {},
   "outputs": [],
   "source": [
    "# Cross Validation on RandomForest\n",
    "\n",
    "vector_assembler = VectorAssembler(inputCols=[\"Elevation\", \"Aspect\", \"Slope\", \"Horizontal_Distance_To_Hydrology\", \"Vertical_Distance_To_Hydrology\", \"Horizontal_Distance_To_Roadways\", \"Hillshade_9am\", \"Hillshade_Noon\", \"Hillshade_3pm\", \"Horizontal_Distance_To_Fire_Points\", \"Wilderness_Area1\", \"Wilderness_Area2\", \"Wilderness_Area3\", \"Wilderness_Area4\", \"Soil_Type1\", \"Soil_Type2\", \"Soil_Type3\", \"Soil_Type4\", \"Soil_Type5\", \"Soil_Type6\", \"Soil_Type7\", \"Soil_Type8\", \"Soil_Type9\", \"Soil_Type10\", \"Soil_Type11\", \"Soil_Type12\", \"Soil_Type13\", \"Soil_Type14\", \"Soil_Type15\", \"Soil_Type16\", \"Soil_Type17\", \"Soil_Type18\", \"Soil_Type19\", \"Soil_Type20\", \"Soil_Type21\", \"Soil_Type22\", \"Soil_Type23\", \"Soil_Type24\", \"Soil_Type25\", \"Soil_Type26\", \"Soil_Type27\", \"Soil_Type28\", \"Soil_Type29\", \"Soil_Type30\", \"Soil_Type31\", \"Soil_Type32\", \"Soil_Type33\", \"Soil_Type34\", \"Soil_Type35\", \"Soil_Type36\", \"Soil_Type37\", \"Soil_Type38\", \"Soil_Type39\", \"Soil_Type40\"], outputCol=\"features\")\n",
    "\n",
    "rf = RandomForestClassifier(labelCol=\"Cover_Type\", featuresCol=\"features\")\n",
    "\n",
    "pipeline = Pipeline(stages=[vector_assembler, rf])\n",
    "\n",
    "paramGrid = ParamGridBuilder() \\\n",
    "    .addGrid(rf.numTrees, [10, 20]) \\\n",
    "    .addGrid(rf.maxDepth, [5, 10]) \\\n",
    "    .addGrid(rf.maxBins, [4, 8, 16]) \\\n",
    "    .build()\n",
    "\n",
    "evaluator = MulticlassClassificationEvaluator(labelCol = \"Cover_Type\", predictionCol = \"prediction\")\n",
    "\n",
    "crossval = CrossValidator(\n",
    "    estimator=pipeline,\n",
    "    estimatorParamMaps=paramGrid,\n",
    "    evaluator=evaluator,\n",
    "    numFolds=10)\n",
    "\n",
    "model = crossval.fit(train_data)"
   ]
  },
  {
   "cell_type": "markdown",
   "metadata": {},
   "source": [
    "## Decision Tree Classifier - Cross-Validation"
   ]
  },
  {
   "cell_type": "code",
   "execution_count": null,
   "metadata": {},
   "outputs": [],
   "source": [
    "vector_assembler = VectorAssembler(inputCols=[\"Elevation\", \"Aspect\", \"Slope\", \"Horizontal_Distance_To_Hydrology\", \"Vertical_Distance_To_Hydrology\", \"Horizontal_Distance_To_Roadways\", \"Hillshade_9am\", \"Hillshade_Noon\", \"Hillshade_3pm\", \"Horizontal_Distance_To_Fire_Points\", \"Wilderness_Area1\", \"Wilderness_Area2\", \"Wilderness_Area3\", \"Wilderness_Area4\", \"Soil_Type1\", \"Soil_Type2\", \"Soil_Type3\", \"Soil_Type4\", \"Soil_Type5\", \"Soil_Type6\", \"Soil_Type7\", \"Soil_Type8\", \"Soil_Type9\", \"Soil_Type10\", \"Soil_Type11\", \"Soil_Type12\", \"Soil_Type13\", \"Soil_Type14\", \"Soil_Type15\", \"Soil_Type16\", \"Soil_Type17\", \"Soil_Type18\", \"Soil_Type19\", \"Soil_Type20\", \"Soil_Type21\", \"Soil_Type22\", \"Soil_Type23\", \"Soil_Type24\", \"Soil_Type25\", \"Soil_Type26\", \"Soil_Type27\", \"Soil_Type28\", \"Soil_Type29\", \"Soil_Type30\", \"Soil_Type31\", \"Soil_Type32\", \"Soil_Type33\", \"Soil_Type34\", \"Soil_Type35\", \"Soil_Type36\", \"Soil_Type37\", \"Soil_Type38\", \"Soil_Type39\", \"Soil_Type40\"], outputCol=\"features\")\n",
    "\n",
    "dt = DecisionTreeClassifier(labelCol=\"Cover_Type\", featuresCol=\"features\")\n",
    "\n",
    "pipeline = Pipeline(stages=[vector_assembler, dt])\n",
    "\n",
    "paramGrid = ParamGridBuilder() \\\n",
    "    .addGrid(dt.maxDepth, [30]) \\\n",
    "    .addGrid(dt.maxBins, [32, 64, 128]) \\\n",
    "    .build()\n",
    "\n",
    "evaluator = MulticlassClassificationEvaluator(labelCol = \"Cover_Type\", predictionCol = \"prediction\")\n",
    "\n",
    "crossval = CrossValidator(\n",
    "    estimator=pipeline,\n",
    "    estimatorParamMaps=paramGrid,\n",
    "    evaluator=evaluator,\n",
    "    numFolds=10)\n",
    "\n",
    "model = crossval.fit(train_data)"
   ]
  },
  {
   "cell_type": "markdown",
   "metadata": {},
   "source": [
    "<center>\n",
    "Après test de plusieurs jeux de paramètres sur ces 2 modèles, c'est le <strong>DecisionTree Classifier</strong> qui a donné le meilleur score sur le Kaggle, avec les paramètres testés ci-dessus\n",
    "</center>\n",
    "<br>\n",
    "<center>\n",
    "<strong>Feature Engineering : </strong>Par manque de temps, je n'ai pas pu travailler sur les features et essayer de modifier les variables explicative. Cela aurait pu être une piste d'amélioration\n",
    "</center>"
   ]
  }
 ],
 "metadata": {
  "kernelspec": {
   "display_name": "Python 3",
   "language": "python",
   "name": "python3"
  },
  "language_info": {
   "codemirror_mode": {
    "name": "ipython",
    "version": 3
   },
   "file_extension": ".py",
   "mimetype": "text/x-python",
   "name": "python",
   "nbconvert_exporter": "python",
   "pygments_lexer": "ipython3",
   "version": "3.6.5"
  }
 },
 "nbformat": 4,
 "nbformat_minor": 2
}
