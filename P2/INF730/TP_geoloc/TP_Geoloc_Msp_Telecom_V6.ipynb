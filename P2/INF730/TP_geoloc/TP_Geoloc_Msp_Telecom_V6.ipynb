{
 "cells": [
  {
   "cell_type": "markdown",
   "metadata": {},
   "source": [
    "# <center>TP Geoloc IoT</center> <br>\n",
    "<center><img src='https://media.giphy.com/media/m9Vsxp3Pbk0Bq/giphy.gif'></center>"
   ]
  },
  {
   "cell_type": "code",
   "execution_count": 1,
   "metadata": {
    "ExecuteTime": {
     "end_time": "2018-12-17T11:38:25.387098Z",
     "start_time": "2018-12-17T11:38:25.048161Z"
    }
   },
   "outputs": [],
   "source": [
    "%matplotlib inline\n",
    "import numpy as np\n",
    "import pandas as pd\n",
    "import matplotlib.pyplot as plt\n",
    "from geopy.distance import vincenty\n"
   ]
  },
  {
   "cell_type": "markdown",
   "metadata": {},
   "source": [
    "# Load Data "
   ]
  },
  {
   "cell_type": "code",
   "execution_count": 2,
   "metadata": {
    "ExecuteTime": {
     "end_time": "2018-12-17T11:38:25.502087Z",
     "start_time": "2018-12-17T11:38:25.395489Z"
    }
   },
   "outputs": [],
   "source": [
    "# load train and test data\n",
    "df_mess_train = pd.read_csv('mess_train_list.csv')\n",
    "df_mess_test = pd.read_csv('mess_test_list.csv')\n",
    "pos_train = pd.read_csv('pos_train_list.csv')"
   ]
  },
  {
   "cell_type": "code",
   "execution_count": 3,
   "metadata": {
    "ExecuteTime": {
     "end_time": "2018-12-17T11:38:25.641229Z",
     "start_time": "2018-12-17T11:38:25.571377Z"
    }
   },
   "outputs": [
    {
     "data": {
      "text/html": [
       "<div>\n",
       "<style scoped>\n",
       "    .dataframe tbody tr th:only-of-type {\n",
       "        vertical-align: middle;\n",
       "    }\n",
       "\n",
       "    .dataframe tbody tr th {\n",
       "        vertical-align: top;\n",
       "    }\n",
       "\n",
       "    .dataframe thead th {\n",
       "        text-align: right;\n",
       "    }\n",
       "</style>\n",
       "<table border=\"1\" class=\"dataframe\">\n",
       "  <thead>\n",
       "    <tr style=\"text-align: right;\">\n",
       "      <th></th>\n",
       "      <th>bsid</th>\n",
       "      <th>did</th>\n",
       "      <th>nseq</th>\n",
       "      <th>rssi</th>\n",
       "      <th>time_ux</th>\n",
       "      <th>bs_lat</th>\n",
       "      <th>bs_lng</th>\n",
       "    </tr>\n",
       "  </thead>\n",
       "  <tbody>\n",
       "    <tr>\n",
       "      <th>count</th>\n",
       "      <td>39250.000000</td>\n",
       "      <td>3.925000e+04</td>\n",
       "      <td>39250.000000</td>\n",
       "      <td>39250.000000</td>\n",
       "      <td>3.925000e+04</td>\n",
       "      <td>39250.000000</td>\n",
       "      <td>39250.000000</td>\n",
       "    </tr>\n",
       "    <tr>\n",
       "      <th>mean</th>\n",
       "      <td>4533.774752</td>\n",
       "      <td>4.835932e+05</td>\n",
       "      <td>1.043541</td>\n",
       "      <td>-125.863580</td>\n",
       "      <td>1.473368e+12</td>\n",
       "      <td>42.554998</td>\n",
       "      <td>-100.969685</td>\n",
       "    </tr>\n",
       "    <tr>\n",
       "      <th>std</th>\n",
       "      <td>2570.495638</td>\n",
       "      <td>9.893140e+04</td>\n",
       "      <td>0.563540</td>\n",
       "      <td>9.226500</td>\n",
       "      <td>5.506910e+09</td>\n",
       "      <td>7.722787</td>\n",
       "      <td>11.522732</td>\n",
       "    </tr>\n",
       "    <tr>\n",
       "      <th>min</th>\n",
       "      <td>879.000000</td>\n",
       "      <td>4.732880e+05</td>\n",
       "      <td>0.000000</td>\n",
       "      <td>-155.000000</td>\n",
       "      <td>1.463546e+12</td>\n",
       "      <td>36.053394</td>\n",
       "      <td>-107.463146</td>\n",
       "    </tr>\n",
       "    <tr>\n",
       "      <th>25%</th>\n",
       "      <td>2790.000000</td>\n",
       "      <td>4.761230e+05</td>\n",
       "      <td>1.000000</td>\n",
       "      <td>-132.500000</td>\n",
       "      <td>1.468410e+12</td>\n",
       "      <td>39.747448</td>\n",
       "      <td>-105.074287</td>\n",
       "    </tr>\n",
       "    <tr>\n",
       "      <th>50%</th>\n",
       "      <td>3559.000000</td>\n",
       "      <td>4.763150e+05</td>\n",
       "      <td>1.000000</td>\n",
       "      <td>-127.333333</td>\n",
       "      <td>1.473444e+12</td>\n",
       "      <td>39.793585</td>\n",
       "      <td>-105.043685</td>\n",
       "    </tr>\n",
       "    <tr>\n",
       "      <th>75%</th>\n",
       "      <td>7456.000000</td>\n",
       "      <td>4.766090e+05</td>\n",
       "      <td>1.500000</td>\n",
       "      <td>-121.000000</td>\n",
       "      <td>1.479118e+12</td>\n",
       "      <td>39.838740</td>\n",
       "      <td>-104.998429</td>\n",
       "    </tr>\n",
       "    <tr>\n",
       "      <th>max</th>\n",
       "      <td>11951.000000</td>\n",
       "      <td>1.747448e+06</td>\n",
       "      <td>2.000000</td>\n",
       "      <td>-64.000000</td>\n",
       "      <td>1.481143e+12</td>\n",
       "      <td>64.300000</td>\n",
       "      <td>-68.500000</td>\n",
       "    </tr>\n",
       "  </tbody>\n",
       "</table>\n",
       "</div>"
      ],
      "text/plain": [
       "               bsid           did          nseq          rssi       time_ux  \\\n",
       "count  39250.000000  3.925000e+04  39250.000000  39250.000000  3.925000e+04   \n",
       "mean    4533.774752  4.835932e+05      1.043541   -125.863580  1.473368e+12   \n",
       "std     2570.495638  9.893140e+04      0.563540      9.226500  5.506910e+09   \n",
       "min      879.000000  4.732880e+05      0.000000   -155.000000  1.463546e+12   \n",
       "25%     2790.000000  4.761230e+05      1.000000   -132.500000  1.468410e+12   \n",
       "50%     3559.000000  4.763150e+05      1.000000   -127.333333  1.473444e+12   \n",
       "75%     7456.000000  4.766090e+05      1.500000   -121.000000  1.479118e+12   \n",
       "max    11951.000000  1.747448e+06      2.000000    -64.000000  1.481143e+12   \n",
       "\n",
       "             bs_lat        bs_lng  \n",
       "count  39250.000000  39250.000000  \n",
       "mean      42.554998   -100.969685  \n",
       "std        7.722787     11.522732  \n",
       "min       36.053394   -107.463146  \n",
       "25%       39.747448   -105.074287  \n",
       "50%       39.793585   -105.043685  \n",
       "75%       39.838740   -104.998429  \n",
       "max       64.300000    -68.500000  "
      ]
     },
     "execution_count": 3,
     "metadata": {},
     "output_type": "execute_result"
    }
   ],
   "source": [
    "# Passage des colonnes en valeurs numériques\n",
    "cols = ['bsid', 'did', 'nseq', 'rssi', 'time_ux', 'bs_lat', 'bs_lng']\n",
    "df_mess_train[cols] = df_mess_train[cols].apply(pd.to_numeric)\n",
    "\n",
    "df_mess_train.describe()"
   ]
  },
  {
   "cell_type": "code",
   "execution_count": 4,
   "metadata": {
    "ExecuteTime": {
     "end_time": "2018-12-17T11:38:25.714719Z",
     "start_time": "2018-12-17T11:38:25.702818Z"
    }
   },
   "outputs": [
    {
     "data": {
      "text/html": [
       "<div>\n",
       "<style scoped>\n",
       "    .dataframe tbody tr th:only-of-type {\n",
       "        vertical-align: middle;\n",
       "    }\n",
       "\n",
       "    .dataframe tbody tr th {\n",
       "        vertical-align: top;\n",
       "    }\n",
       "\n",
       "    .dataframe thead th {\n",
       "        text-align: right;\n",
       "    }\n",
       "</style>\n",
       "<table border=\"1\" class=\"dataframe\">\n",
       "  <thead>\n",
       "    <tr style=\"text-align: right;\">\n",
       "      <th></th>\n",
       "      <th>lat</th>\n",
       "      <th>lng</th>\n",
       "    </tr>\n",
       "  </thead>\n",
       "  <tbody>\n",
       "    <tr>\n",
       "      <th>0</th>\n",
       "      <td>39.606690</td>\n",
       "      <td>-104.958490</td>\n",
       "    </tr>\n",
       "    <tr>\n",
       "      <th>1</th>\n",
       "      <td>39.606690</td>\n",
       "      <td>-104.958490</td>\n",
       "    </tr>\n",
       "    <tr>\n",
       "      <th>2</th>\n",
       "      <td>39.637741</td>\n",
       "      <td>-104.958554</td>\n",
       "    </tr>\n",
       "    <tr>\n",
       "      <th>3</th>\n",
       "      <td>39.730417</td>\n",
       "      <td>-104.968940</td>\n",
       "    </tr>\n",
       "    <tr>\n",
       "      <th>4</th>\n",
       "      <td>39.730417</td>\n",
       "      <td>-104.968940</td>\n",
       "    </tr>\n",
       "  </tbody>\n",
       "</table>\n",
       "</div>"
      ],
      "text/plain": [
       "         lat         lng\n",
       "0  39.606690 -104.958490\n",
       "1  39.606690 -104.958490\n",
       "2  39.637741 -104.958554\n",
       "3  39.730417 -104.968940\n",
       "4  39.730417 -104.968940"
      ]
     },
     "execution_count": 4,
     "metadata": {},
     "output_type": "execute_result"
    }
   ],
   "source": [
    "# Passage des colonnes en valeurs numériques\n",
    "pos_train[['lat', 'lng']] = pos_train[['lat', 'lng']].apply(pd.to_numeric)\n",
    "\n",
    "pos_train.head()"
   ]
  },
  {
   "cell_type": "code",
   "execution_count": 5,
   "metadata": {
    "ExecuteTime": {
     "end_time": "2018-12-17T11:38:25.784804Z",
     "start_time": "2018-12-17T11:38:25.779005Z"
    }
   },
   "outputs": [],
   "source": [
    "listOfBs = np.union1d(np.unique(df_mess_train['bsid']), np.unique(df_mess_test['bsid'])) # determine all Base stations that received at least 1 message"
   ]
  },
  {
   "cell_type": "code",
   "execution_count": 6,
   "metadata": {
    "ExecuteTime": {
     "end_time": "2018-12-17T11:38:25.882846Z",
     "start_time": "2018-12-17T11:38:25.878894Z"
    },
    "scrolled": true
   },
   "outputs": [
    {
     "data": {
      "text/plain": [
       "259"
      ]
     },
     "execution_count": 6,
     "metadata": {},
     "output_type": "execute_result"
    }
   ],
   "source": [
    "len(listOfBs)"
   ]
  },
  {
   "cell_type": "code",
   "execution_count": 7,
   "metadata": {
    "ExecuteTime": {
     "end_time": "2018-12-17T11:38:26.018822Z",
     "start_time": "2018-12-17T11:38:25.997588Z"
    }
   },
   "outputs": [
    {
     "data": {
      "text/html": [
       "<div>\n",
       "<style scoped>\n",
       "    .dataframe tbody tr th:only-of-type {\n",
       "        vertical-align: middle;\n",
       "    }\n",
       "\n",
       "    .dataframe tbody tr th {\n",
       "        vertical-align: top;\n",
       "    }\n",
       "\n",
       "    .dataframe thead th {\n",
       "        text-align: right;\n",
       "    }\n",
       "</style>\n",
       "<table border=\"1\" class=\"dataframe\">\n",
       "  <thead>\n",
       "    <tr style=\"text-align: right;\">\n",
       "      <th></th>\n",
       "      <th>messid</th>\n",
       "      <th>bsid</th>\n",
       "      <th>did</th>\n",
       "      <th>nseq</th>\n",
       "      <th>rssi</th>\n",
       "      <th>time_ux</th>\n",
       "      <th>bs_lat</th>\n",
       "      <th>bs_lng</th>\n",
       "    </tr>\n",
       "  </thead>\n",
       "  <tbody>\n",
       "    <tr>\n",
       "      <th>0</th>\n",
       "      <td>573be2503e952e191262c351</td>\n",
       "      <td>3578</td>\n",
       "      <td>116539.0</td>\n",
       "      <td>2.0</td>\n",
       "      <td>-111.0</td>\n",
       "      <td>1.463542e+12</td>\n",
       "      <td>39.728651</td>\n",
       "      <td>-105.163032</td>\n",
       "    </tr>\n",
       "    <tr>\n",
       "      <th>1</th>\n",
       "      <td>573c05f83e952e1912758013</td>\n",
       "      <td>2617</td>\n",
       "      <td>472504.0</td>\n",
       "      <td>0.0</td>\n",
       "      <td>-136.0</td>\n",
       "      <td>1.463551e+12</td>\n",
       "      <td>39.779908</td>\n",
       "      <td>-105.062479</td>\n",
       "    </tr>\n",
       "    <tr>\n",
       "      <th>2</th>\n",
       "      <td>573c05f83e952e1912758013</td>\n",
       "      <td>3556</td>\n",
       "      <td>472504.0</td>\n",
       "      <td>0.0</td>\n",
       "      <td>-127.0</td>\n",
       "      <td>1.463551e+12</td>\n",
       "      <td>39.780658</td>\n",
       "      <td>-105.053676</td>\n",
       "    </tr>\n",
       "    <tr>\n",
       "      <th>3</th>\n",
       "      <td>573c05f83e952e1912758013</td>\n",
       "      <td>3578</td>\n",
       "      <td>472504.0</td>\n",
       "      <td>0.0</td>\n",
       "      <td>-129.0</td>\n",
       "      <td>1.463551e+12</td>\n",
       "      <td>39.728651</td>\n",
       "      <td>-105.163032</td>\n",
       "    </tr>\n",
       "    <tr>\n",
       "      <th>4</th>\n",
       "      <td>573c05f83e952e1912758013</td>\n",
       "      <td>4058</td>\n",
       "      <td>472504.0</td>\n",
       "      <td>0.0</td>\n",
       "      <td>-105.0</td>\n",
       "      <td>1.463551e+12</td>\n",
       "      <td>39.783211</td>\n",
       "      <td>-105.088747</td>\n",
       "    </tr>\n",
       "  </tbody>\n",
       "</table>\n",
       "</div>"
      ],
      "text/plain": [
       "                     messid  bsid       did  nseq   rssi       time_ux  \\\n",
       "0  573be2503e952e191262c351  3578  116539.0   2.0 -111.0  1.463542e+12   \n",
       "1  573c05f83e952e1912758013  2617  472504.0   0.0 -136.0  1.463551e+12   \n",
       "2  573c05f83e952e1912758013  3556  472504.0   0.0 -127.0  1.463551e+12   \n",
       "3  573c05f83e952e1912758013  3578  472504.0   0.0 -129.0  1.463551e+12   \n",
       "4  573c05f83e952e1912758013  4058  472504.0   0.0 -105.0  1.463551e+12   \n",
       "\n",
       "      bs_lat      bs_lng  \n",
       "0  39.728651 -105.163032  \n",
       "1  39.779908 -105.062479  \n",
       "2  39.780658 -105.053676  \n",
       "3  39.728651 -105.163032  \n",
       "4  39.783211 -105.088747  "
      ]
     },
     "execution_count": 7,
     "metadata": {},
     "output_type": "execute_result"
    }
   ],
   "source": [
    "# Passage des colonnes en valeurs numériques\n",
    "cols = ['bsid', 'did', 'nseq', 'rssi', 'time_ux', 'bs_lat', 'bs_lng']\n",
    "df_mess_test[cols] = df_mess_test[cols].apply(pd.to_numeric)\n",
    "\n",
    "df_mess_test.head()"
   ]
  },
  {
   "cell_type": "markdown",
   "metadata": {},
   "source": [
    "# Data Exploration"
   ]
  },
  {
   "cell_type": "code",
   "execution_count": 8,
   "metadata": {
    "ExecuteTime": {
     "end_time": "2018-12-17T11:38:26.324779Z",
     "start_time": "2018-12-17T11:38:26.296238Z"
    }
   },
   "outputs": [
    {
     "data": {
      "text/html": [
       "<div>\n",
       "<style scoped>\n",
       "    .dataframe tbody tr th:only-of-type {\n",
       "        vertical-align: middle;\n",
       "    }\n",
       "\n",
       "    .dataframe tbody tr th {\n",
       "        vertical-align: top;\n",
       "    }\n",
       "\n",
       "    .dataframe thead th {\n",
       "        text-align: right;\n",
       "    }\n",
       "</style>\n",
       "<table border=\"1\" class=\"dataframe\">\n",
       "  <thead>\n",
       "    <tr style=\"text-align: right;\">\n",
       "      <th></th>\n",
       "      <th>lat</th>\n",
       "      <th>lng</th>\n",
       "      <th>bs_lat</th>\n",
       "      <th>bs_lng</th>\n",
       "    </tr>\n",
       "  </thead>\n",
       "  <tbody>\n",
       "    <tr>\n",
       "      <th>0</th>\n",
       "      <td>39.606690</td>\n",
       "      <td>-104.958490</td>\n",
       "      <td>39.617794</td>\n",
       "      <td>-104.954917</td>\n",
       "    </tr>\n",
       "    <tr>\n",
       "      <th>1</th>\n",
       "      <td>39.606690</td>\n",
       "      <td>-104.958490</td>\n",
       "      <td>39.677251</td>\n",
       "      <td>-104.952721</td>\n",
       "    </tr>\n",
       "    <tr>\n",
       "      <th>2</th>\n",
       "      <td>39.637741</td>\n",
       "      <td>-104.958554</td>\n",
       "      <td>39.612745</td>\n",
       "      <td>-105.008827</td>\n",
       "    </tr>\n",
       "    <tr>\n",
       "      <th>3</th>\n",
       "      <td>39.730417</td>\n",
       "      <td>-104.968940</td>\n",
       "      <td>39.797969</td>\n",
       "      <td>-105.073460</td>\n",
       "    </tr>\n",
       "    <tr>\n",
       "      <th>4</th>\n",
       "      <td>39.730417</td>\n",
       "      <td>-104.968940</td>\n",
       "      <td>39.723151</td>\n",
       "      <td>-104.956216</td>\n",
       "    </tr>\n",
       "  </tbody>\n",
       "</table>\n",
       "</div>"
      ],
      "text/plain": [
       "         lat         lng     bs_lat      bs_lng\n",
       "0  39.606690 -104.958490  39.617794 -104.954917\n",
       "1  39.606690 -104.958490  39.677251 -104.952721\n",
       "2  39.637741 -104.958554  39.612745 -105.008827\n",
       "3  39.730417 -104.968940  39.797969 -105.073460\n",
       "4  39.730417 -104.968940  39.723151 -104.956216"
      ]
     },
     "execution_count": 8,
     "metadata": {},
     "output_type": "execute_result"
    }
   ],
   "source": [
    "df_train = df_mess_train.copy()\n",
    "df_train[['lat', 'lng']] = pos_train\n",
    "\n",
    "#Convert cols to float\n",
    "cols = ['lat', 'lng', 'bs_lat', 'bs_lng']\n",
    "df_train[cols] = df_train[cols].apply(pd.to_numeric)\n",
    "\n",
    "df_train[cols].head()"
   ]
  },
  {
   "cell_type": "code",
   "execution_count": 9,
   "metadata": {
    "ExecuteTime": {
     "end_time": "2018-12-17T11:38:26.692232Z",
     "start_time": "2018-12-17T11:38:26.685449Z"
    }
   },
   "outputs": [
    {
     "data": {
      "text/plain": [
       "array([[  39.61779376, -104.95491706],\n",
       "       [  39.67725103, -104.95272051],\n",
       "       [  39.61274458, -105.00882658],\n",
       "       ...,\n",
       "       [  39.75939551, -105.00141507],\n",
       "       [  39.89887198, -105.15383216],\n",
       "       [  39.92843618, -105.17271869]])"
      ]
     },
     "execution_count": 9,
     "metadata": {},
     "output_type": "execute_result"
    }
   ],
   "source": [
    "df_train[['bs_lat', 'bs_lng']].values"
   ]
  },
  {
   "cell_type": "code",
   "execution_count": 10,
   "metadata": {
    "ExecuteTime": {
     "end_time": "2018-12-17T11:39:08.702686Z",
     "start_time": "2018-12-17T11:38:26.922419Z"
    }
   },
   "outputs": [
    {
     "data": {
      "text/html": [
       "<div>\n",
       "<style scoped>\n",
       "    .dataframe tbody tr th:only-of-type {\n",
       "        vertical-align: middle;\n",
       "    }\n",
       "\n",
       "    .dataframe tbody tr th {\n",
       "        vertical-align: top;\n",
       "    }\n",
       "\n",
       "    .dataframe thead th {\n",
       "        text-align: right;\n",
       "    }\n",
       "</style>\n",
       "<table border=\"1\" class=\"dataframe\">\n",
       "  <thead>\n",
       "    <tr style=\"text-align: right;\">\n",
       "      <th></th>\n",
       "      <th>messid</th>\n",
       "      <th>bsid</th>\n",
       "      <th>did</th>\n",
       "      <th>nseq</th>\n",
       "      <th>rssi</th>\n",
       "      <th>time_ux</th>\n",
       "      <th>bs_lat</th>\n",
       "      <th>bs_lng</th>\n",
       "      <th>lat</th>\n",
       "      <th>lng</th>\n",
       "      <th>dist</th>\n",
       "    </tr>\n",
       "  </thead>\n",
       "  <tbody>\n",
       "    <tr>\n",
       "      <th>0</th>\n",
       "      <td>573bf1d9864fce1a9af8c5c9</td>\n",
       "      <td>2841</td>\n",
       "      <td>473335.0</td>\n",
       "      <td>0.5</td>\n",
       "      <td>-121.5</td>\n",
       "      <td>1.463546e+12</td>\n",
       "      <td>39.617794</td>\n",
       "      <td>-104.954917</td>\n",
       "      <td>39.606690</td>\n",
       "      <td>-104.958490</td>\n",
       "      <td>1.270478</td>\n",
       "    </tr>\n",
       "    <tr>\n",
       "      <th>1</th>\n",
       "      <td>573bf1d9864fce1a9af8c5c9</td>\n",
       "      <td>3526</td>\n",
       "      <td>473335.0</td>\n",
       "      <td>2.0</td>\n",
       "      <td>-125.0</td>\n",
       "      <td>1.463546e+12</td>\n",
       "      <td>39.677251</td>\n",
       "      <td>-104.952721</td>\n",
       "      <td>39.606690</td>\n",
       "      <td>-104.958490</td>\n",
       "      <td>7.849924</td>\n",
       "    </tr>\n",
       "    <tr>\n",
       "      <th>2</th>\n",
       "      <td>573bf3533e952e19126b256a</td>\n",
       "      <td>2605</td>\n",
       "      <td>473335.0</td>\n",
       "      <td>1.0</td>\n",
       "      <td>-134.0</td>\n",
       "      <td>1.463547e+12</td>\n",
       "      <td>39.612745</td>\n",
       "      <td>-105.008827</td>\n",
       "      <td>39.637741</td>\n",
       "      <td>-104.958554</td>\n",
       "      <td>5.131578</td>\n",
       "    </tr>\n",
       "    <tr>\n",
       "      <th>3</th>\n",
       "      <td>573c0cd0f0fe6e735a699b93</td>\n",
       "      <td>2610</td>\n",
       "      <td>473953.0</td>\n",
       "      <td>2.0</td>\n",
       "      <td>-132.0</td>\n",
       "      <td>1.463553e+12</td>\n",
       "      <td>39.797969</td>\n",
       "      <td>-105.073460</td>\n",
       "      <td>39.730417</td>\n",
       "      <td>-104.968940</td>\n",
       "      <td>11.681759</td>\n",
       "    </tr>\n",
       "    <tr>\n",
       "      <th>4</th>\n",
       "      <td>573c0cd0f0fe6e735a699b93</td>\n",
       "      <td>3574</td>\n",
       "      <td>473953.0</td>\n",
       "      <td>1.0</td>\n",
       "      <td>-120.0</td>\n",
       "      <td>1.463553e+12</td>\n",
       "      <td>39.723151</td>\n",
       "      <td>-104.956216</td>\n",
       "      <td>39.730417</td>\n",
       "      <td>-104.968940</td>\n",
       "      <td>1.356862</td>\n",
       "    </tr>\n",
       "  </tbody>\n",
       "</table>\n",
       "</div>"
      ],
      "text/plain": [
       "                     messid  bsid       did  nseq   rssi       time_ux  \\\n",
       "0  573bf1d9864fce1a9af8c5c9  2841  473335.0   0.5 -121.5  1.463546e+12   \n",
       "1  573bf1d9864fce1a9af8c5c9  3526  473335.0   2.0 -125.0  1.463546e+12   \n",
       "2  573bf3533e952e19126b256a  2605  473335.0   1.0 -134.0  1.463547e+12   \n",
       "3  573c0cd0f0fe6e735a699b93  2610  473953.0   2.0 -132.0  1.463553e+12   \n",
       "4  573c0cd0f0fe6e735a699b93  3574  473953.0   1.0 -120.0  1.463553e+12   \n",
       "\n",
       "      bs_lat      bs_lng        lat         lng       dist  \n",
       "0  39.617794 -104.954917  39.606690 -104.958490   1.270478  \n",
       "1  39.677251 -104.952721  39.606690 -104.958490   7.849924  \n",
       "2  39.612745 -105.008827  39.637741 -104.958554   5.131578  \n",
       "3  39.797969 -105.073460  39.730417 -104.968940  11.681759  \n",
       "4  39.723151 -104.956216  39.730417 -104.968940   1.356862  "
      ]
     },
     "execution_count": 10,
     "metadata": {},
     "output_type": "execute_result"
    }
   ],
   "source": [
    "#Add column dist\n",
    "\n",
    "def vinc(row):\n",
    "    return (vincenty(row[['bs_lat', 'bs_lng']], row[['lat', 'lng']])).km\n",
    "\n",
    "df_train['dist'] = df_train.apply (lambda row: vinc(row),axis=1)\n",
    "\n",
    "df_train.head()"
   ]
  },
  {
   "cell_type": "code",
   "execution_count": 11,
   "metadata": {
    "ExecuteTime": {
     "end_time": "2018-12-17T11:39:09.199134Z",
     "start_time": "2018-12-17T11:39:08.776311Z"
    }
   },
   "outputs": [
    {
     "data": {
      "image/png": "[encoded data removed]",
      "text/plain": [
       "<Figure size 432x288 with 1 Axes>"
      ]
     },
     "metadata": {},
     "output_type": "display_data"
    }
   ],
   "source": [
    "df_train.plot.scatter(x = \"dist\", y=\"bsid\")\n",
    "plt.show()"
   ]
  },
  {
   "cell_type": "markdown",
   "metadata": {},
   "source": [
    "<center>Ici, on observe des messages pour lesquels un bsid (une station) a reçu le message à 500km ou à 3500km : <strong>il s'agit de points aberrants.</strong> <br> <br>\n",
    "<strong>Dans la suite, nous essayerons d'analyser les stations en question et determiner si elles sont defectueuses</strong></center>"
   ]
  },
  {
   "cell_type": "code",
   "execution_count": 12,
   "metadata": {
    "ExecuteTime": {
     "end_time": "2018-12-17T11:39:09.346958Z",
     "start_time": "2018-12-17T11:39:09.270705Z"
    }
   },
   "outputs": [],
   "source": [
    "# Curseur de distance max\n",
    "distMax = 50\n",
    "\n",
    "count = df_train.groupby('bsid')['dist'].count()\n",
    "sup = df_train.groupby('bsid')['dist'].apply(lambda x: (x > distMax).sum())"
   ]
  },
  {
   "cell_type": "code",
   "execution_count": 13,
   "metadata": {
    "ExecuteTime": {
     "end_time": "2018-12-17T11:39:09.433900Z",
     "start_time": "2018-12-17T11:39:09.421222Z"
    }
   },
   "outputs": [
    {
     "data": {
      "text/html": [
       "<div>\n",
       "<style scoped>\n",
       "    .dataframe tbody tr th:only-of-type {\n",
       "        vertical-align: middle;\n",
       "    }\n",
       "\n",
       "    .dataframe tbody tr th {\n",
       "        vertical-align: top;\n",
       "    }\n",
       "\n",
       "    .dataframe thead th {\n",
       "        text-align: right;\n",
       "    }\n",
       "</style>\n",
       "<table border=\"1\" class=\"dataframe\">\n",
       "  <thead>\n",
       "    <tr style=\"text-align: right;\">\n",
       "      <th></th>\n",
       "      <th>count</th>\n",
       "      <th>nbSup</th>\n",
       "    </tr>\n",
       "    <tr>\n",
       "      <th>bsid</th>\n",
       "      <th></th>\n",
       "      <th></th>\n",
       "    </tr>\n",
       "  </thead>\n",
       "  <tbody>\n",
       "    <tr>\n",
       "      <th>879</th>\n",
       "      <td>1</td>\n",
       "      <td>0</td>\n",
       "    </tr>\n",
       "    <tr>\n",
       "      <th>911</th>\n",
       "      <td>1</td>\n",
       "      <td>0</td>\n",
       "    </tr>\n",
       "    <tr>\n",
       "      <th>921</th>\n",
       "      <td>1</td>\n",
       "      <td>0</td>\n",
       "    </tr>\n",
       "    <tr>\n",
       "      <th>944</th>\n",
       "      <td>3</td>\n",
       "      <td>1</td>\n",
       "    </tr>\n",
       "    <tr>\n",
       "      <th>980</th>\n",
       "      <td>8</td>\n",
       "      <td>1</td>\n",
       "    </tr>\n",
       "    <tr>\n",
       "      <th>1012</th>\n",
       "      <td>85</td>\n",
       "      <td>0</td>\n",
       "    </tr>\n",
       "    <tr>\n",
       "      <th>1086</th>\n",
       "      <td>67</td>\n",
       "      <td>0</td>\n",
       "    </tr>\n",
       "    <tr>\n",
       "      <th>1092</th>\n",
       "      <td>32</td>\n",
       "      <td>32</td>\n",
       "    </tr>\n",
       "    <tr>\n",
       "      <th>1120</th>\n",
       "      <td>1</td>\n",
       "      <td>0</td>\n",
       "    </tr>\n",
       "    <tr>\n",
       "      <th>1148</th>\n",
       "      <td>2</td>\n",
       "      <td>1</td>\n",
       "    </tr>\n",
       "  </tbody>\n",
       "</table>\n",
       "</div>"
      ],
      "text/plain": [
       "      count  nbSup\n",
       "bsid              \n",
       "879       1      0\n",
       "911       1      0\n",
       "921       1      0\n",
       "944       3      1\n",
       "980       8      1\n",
       "1012     85      0\n",
       "1086     67      0\n",
       "1092     32     32\n",
       "1120      1      0\n",
       "1148      2      1"
      ]
     },
     "execution_count": 13,
     "metadata": {},
     "output_type": "execute_result"
    }
   ],
   "source": [
    "# Comparaison entre le nombre de messages reçus par une station et le nombre de messages dont la distance calculée est aberrente\n",
    "\n",
    "comparaison = pd.DataFrame([count, sup], index = [\"count\", \"nbSup\"]).T\n",
    "comparaison['bsid'] = comparaison.index\n",
    "comparaison[[\"count\", \"nbSup\"]].head(10)"
   ]
  },
  {
   "cell_type": "code",
   "execution_count": 14,
   "metadata": {
    "ExecuteTime": {
     "end_time": "2018-12-17T11:39:09.545038Z",
     "start_time": "2018-12-17T11:39:09.535255Z"
    }
   },
   "outputs": [
    {
     "data": {
      "text/plain": [
       "array([  944,   980,  1092,  1148,  1156,  1187,  1235,  1443,  1447,\n",
       "        1463,  1594,  1661,  1730,  1743,  1772,  1796,  1852,  1854,\n",
       "        1971,  2293,  2611,  2707,  2780,  2800,  2803,  2808,  2849,\n",
       "        2855,  2943,  3501,  3549,  3630,  3646,  3848,  3933,  4013,\n",
       "        4123,  4129,  4156,  4959,  4987,  4993,  7248,  7378,  7508,\n",
       "        7628,  7849,  7857,  7986,  8242,  8355,  8405,  8442,  8449,\n",
       "        8451,  8560,  9784, 10148, 10151, 10162, 10999, 11007, 11951])"
      ]
     },
     "execution_count": 14,
     "metadata": {},
     "output_type": "execute_result"
    }
   ],
   "source": [
    "# Liste des 'bsid' dont le Nbre de distances aberrentes représente + de X% du nbre total de messages reçus\n",
    "#     --> Ces stations sont considérées comme deffectueuses et doives être supprimées\n",
    "\n",
    "ratioMax = 0.1\n",
    "bsidToShift = comparaison[comparaison['nbSup'] >= ratioMax * comparaison['count']]['bsid'].values\n",
    "\n",
    "bsidToShift"
   ]
  },
  {
   "cell_type": "code",
   "execution_count": 15,
   "metadata": {
    "ExecuteTime": {
     "end_time": "2018-12-17T11:39:09.647517Z",
     "start_time": "2018-12-17T11:39:09.642155Z"
    }
   },
   "outputs": [
    {
     "data": {
      "text/plain": [
       "251"
      ]
     },
     "execution_count": 15,
     "metadata": {},
     "output_type": "execute_result"
    }
   ],
   "source": [
    "len(df_train['bsid'].unique())"
   ]
  },
  {
   "cell_type": "markdown",
   "metadata": {},
   "source": [
    "# Data Cleaning"
   ]
  },
  {
   "cell_type": "markdown",
   "metadata": {},
   "source": [
    "## Lorem ipsum"
   ]
  },
  {
   "cell_type": "code",
   "execution_count": 16,
   "metadata": {
    "ExecuteTime": {
     "end_time": "2018-12-17T11:39:09.759834Z",
     "start_time": "2018-12-17T11:39:09.747498Z"
    }
   },
   "outputs": [
    {
     "data": {
      "text/html": [
       "<div>\n",
       "<style scoped>\n",
       "    .dataframe tbody tr th:only-of-type {\n",
       "        vertical-align: middle;\n",
       "    }\n",
       "\n",
       "    .dataframe tbody tr th {\n",
       "        vertical-align: top;\n",
       "    }\n",
       "\n",
       "    .dataframe thead th {\n",
       "        text-align: right;\n",
       "    }\n",
       "</style>\n",
       "<table border=\"1\" class=\"dataframe\">\n",
       "  <thead>\n",
       "    <tr style=\"text-align: right;\">\n",
       "      <th></th>\n",
       "      <th>messid</th>\n",
       "      <th>bsid</th>\n",
       "      <th>did</th>\n",
       "      <th>nseq</th>\n",
       "      <th>rssi</th>\n",
       "      <th>time_ux</th>\n",
       "      <th>bs_lat</th>\n",
       "      <th>bs_lng</th>\n",
       "      <th>lat</th>\n",
       "      <th>lng</th>\n",
       "    </tr>\n",
       "  </thead>\n",
       "  <tbody>\n",
       "    <tr>\n",
       "      <th>0</th>\n",
       "      <td>573bf1d9864fce1a9af8c5c9</td>\n",
       "      <td>2841</td>\n",
       "      <td>473335.0</td>\n",
       "      <td>0.5</td>\n",
       "      <td>-121.5</td>\n",
       "      <td>1.463546e+12</td>\n",
       "      <td>39.617794</td>\n",
       "      <td>-104.954917</td>\n",
       "      <td>39.606690</td>\n",
       "      <td>-104.958490</td>\n",
       "    </tr>\n",
       "    <tr>\n",
       "      <th>1</th>\n",
       "      <td>573bf1d9864fce1a9af8c5c9</td>\n",
       "      <td>3526</td>\n",
       "      <td>473335.0</td>\n",
       "      <td>2.0</td>\n",
       "      <td>-125.0</td>\n",
       "      <td>1.463546e+12</td>\n",
       "      <td>39.677251</td>\n",
       "      <td>-104.952721</td>\n",
       "      <td>39.606690</td>\n",
       "      <td>-104.958490</td>\n",
       "    </tr>\n",
       "    <tr>\n",
       "      <th>2</th>\n",
       "      <td>573bf3533e952e19126b256a</td>\n",
       "      <td>2605</td>\n",
       "      <td>473335.0</td>\n",
       "      <td>1.0</td>\n",
       "      <td>-134.0</td>\n",
       "      <td>1.463547e+12</td>\n",
       "      <td>39.612745</td>\n",
       "      <td>-105.008827</td>\n",
       "      <td>39.637741</td>\n",
       "      <td>-104.958554</td>\n",
       "    </tr>\n",
       "    <tr>\n",
       "      <th>3</th>\n",
       "      <td>573c0cd0f0fe6e735a699b93</td>\n",
       "      <td>2610</td>\n",
       "      <td>473953.0</td>\n",
       "      <td>2.0</td>\n",
       "      <td>-132.0</td>\n",
       "      <td>1.463553e+12</td>\n",
       "      <td>39.797969</td>\n",
       "      <td>-105.073460</td>\n",
       "      <td>39.730417</td>\n",
       "      <td>-104.968940</td>\n",
       "    </tr>\n",
       "    <tr>\n",
       "      <th>4</th>\n",
       "      <td>573c0cd0f0fe6e735a699b93</td>\n",
       "      <td>3574</td>\n",
       "      <td>473953.0</td>\n",
       "      <td>1.0</td>\n",
       "      <td>-120.0</td>\n",
       "      <td>1.463553e+12</td>\n",
       "      <td>39.723151</td>\n",
       "      <td>-104.956216</td>\n",
       "      <td>39.730417</td>\n",
       "      <td>-104.968940</td>\n",
       "    </tr>\n",
       "  </tbody>\n",
       "</table>\n",
       "</div>"
      ],
      "text/plain": [
       "                     messid  bsid       did  nseq   rssi       time_ux  \\\n",
       "0  573bf1d9864fce1a9af8c5c9  2841  473335.0   0.5 -121.5  1.463546e+12   \n",
       "1  573bf1d9864fce1a9af8c5c9  3526  473335.0   2.0 -125.0  1.463546e+12   \n",
       "2  573bf3533e952e19126b256a  2605  473335.0   1.0 -134.0  1.463547e+12   \n",
       "3  573c0cd0f0fe6e735a699b93  2610  473953.0   2.0 -132.0  1.463553e+12   \n",
       "4  573c0cd0f0fe6e735a699b93  3574  473953.0   1.0 -120.0  1.463553e+12   \n",
       "\n",
       "      bs_lat      bs_lng        lat         lng  \n",
       "0  39.617794 -104.954917  39.606690 -104.958490  \n",
       "1  39.677251 -104.952721  39.606690 -104.958490  \n",
       "2  39.612745 -105.008827  39.637741 -104.958554  \n",
       "3  39.797969 -105.073460  39.730417 -104.968940  \n",
       "4  39.723151 -104.956216  39.730417 -104.968940  "
      ]
     },
     "execution_count": 16,
     "metadata": {},
     "output_type": "execute_result"
    }
   ],
   "source": [
    "df = df_mess_train.copy()\n",
    "df[['lat', 'lng']] = pos_train\n",
    "\n",
    "df.head()"
   ]
  },
  {
   "cell_type": "code",
   "execution_count": 17,
   "metadata": {
    "ExecuteTime": {
     "end_time": "2018-12-17T11:39:09.881444Z",
     "start_time": "2018-12-17T11:39:09.868669Z"
    }
   },
   "outputs": [
    {
     "data": {
      "text/html": [
       "<div>\n",
       "<style scoped>\n",
       "    .dataframe tbody tr th:only-of-type {\n",
       "        vertical-align: middle;\n",
       "    }\n",
       "\n",
       "    .dataframe tbody tr th {\n",
       "        vertical-align: top;\n",
       "    }\n",
       "\n",
       "    .dataframe thead th {\n",
       "        text-align: right;\n",
       "    }\n",
       "</style>\n",
       "<table border=\"1\" class=\"dataframe\">\n",
       "  <thead>\n",
       "    <tr style=\"text-align: right;\">\n",
       "      <th></th>\n",
       "      <th>messid</th>\n",
       "      <th>bsid</th>\n",
       "      <th>did</th>\n",
       "      <th>nseq</th>\n",
       "      <th>rssi</th>\n",
       "      <th>time_ux</th>\n",
       "      <th>bs_lat</th>\n",
       "      <th>bs_lng</th>\n",
       "      <th>lat</th>\n",
       "      <th>lng</th>\n",
       "    </tr>\n",
       "  </thead>\n",
       "  <tbody>\n",
       "    <tr>\n",
       "      <th>5106</th>\n",
       "      <td>57617e1ef0fe6e0c9fd6eb06</td>\n",
       "      <td>8355</td>\n",
       "      <td>476606.0</td>\n",
       "      <td>1.5</td>\n",
       "      <td>-106.5</td>\n",
       "      <td>1.466007e+12</td>\n",
       "      <td>64.3</td>\n",
       "      <td>-68.5</td>\n",
       "      <td>39.778694</td>\n",
       "      <td>-104.977050</td>\n",
       "    </tr>\n",
       "    <tr>\n",
       "      <th>5118</th>\n",
       "      <td>576180cf3e952e04b3b41e5c</td>\n",
       "      <td>8355</td>\n",
       "      <td>476512.0</td>\n",
       "      <td>0.5</td>\n",
       "      <td>-111.5</td>\n",
       "      <td>1.466008e+12</td>\n",
       "      <td>64.3</td>\n",
       "      <td>-68.5</td>\n",
       "      <td>39.783396</td>\n",
       "      <td>-104.999821</td>\n",
       "    </tr>\n",
       "    <tr>\n",
       "      <th>5179</th>\n",
       "      <td>5761a161f0fe6e0c9fec42b9</td>\n",
       "      <td>8355</td>\n",
       "      <td>473683.0</td>\n",
       "      <td>0.0</td>\n",
       "      <td>-126.0</td>\n",
       "      <td>1.466016e+12</td>\n",
       "      <td>64.3</td>\n",
       "      <td>-68.5</td>\n",
       "      <td>39.803407</td>\n",
       "      <td>-105.019300</td>\n",
       "    </tr>\n",
       "    <tr>\n",
       "      <th>5216</th>\n",
       "      <td>57623817864fce5689ec33af</td>\n",
       "      <td>8355</td>\n",
       "      <td>473683.0</td>\n",
       "      <td>0.5</td>\n",
       "      <td>-127.0</td>\n",
       "      <td>1.466055e+12</td>\n",
       "      <td>64.3</td>\n",
       "      <td>-68.5</td>\n",
       "      <td>39.803738</td>\n",
       "      <td>-105.018997</td>\n",
       "    </tr>\n",
       "    <tr>\n",
       "      <th>5416</th>\n",
       "      <td>5763734c864fce5689a422f3</td>\n",
       "      <td>8355</td>\n",
       "      <td>476600.0</td>\n",
       "      <td>1.5</td>\n",
       "      <td>-123.0</td>\n",
       "      <td>1.466135e+12</td>\n",
       "      <td>64.3</td>\n",
       "      <td>-68.5</td>\n",
       "      <td>39.803101</td>\n",
       "      <td>-105.023292</td>\n",
       "    </tr>\n",
       "  </tbody>\n",
       "</table>\n",
       "</div>"
      ],
      "text/plain": [
       "                        messid  bsid       did  nseq   rssi       time_ux  \\\n",
       "5106  57617e1ef0fe6e0c9fd6eb06  8355  476606.0   1.5 -106.5  1.466007e+12   \n",
       "5118  576180cf3e952e04b3b41e5c  8355  476512.0   0.5 -111.5  1.466008e+12   \n",
       "5179  5761a161f0fe6e0c9fec42b9  8355  473683.0   0.0 -126.0  1.466016e+12   \n",
       "5216  57623817864fce5689ec33af  8355  473683.0   0.5 -127.0  1.466055e+12   \n",
       "5416  5763734c864fce5689a422f3  8355  476600.0   1.5 -123.0  1.466135e+12   \n",
       "\n",
       "      bs_lat  bs_lng        lat         lng  \n",
       "5106    64.3   -68.5  39.778694 -104.977050  \n",
       "5118    64.3   -68.5  39.783396 -104.999821  \n",
       "5179    64.3   -68.5  39.803407 -105.019300  \n",
       "5216    64.3   -68.5  39.803738 -105.018997  \n",
       "5416    64.3   -68.5  39.803101 -105.023292  "
      ]
     },
     "execution_count": 17,
     "metadata": {},
     "output_type": "execute_result"
    }
   ],
   "source": [
    "# Get indexes to delete\n",
    "df_toShift = df[df['bsid'].isin(bsidToShift)]\n",
    "df_toShift.head()"
   ]
  },
  {
   "cell_type": "code",
   "execution_count": 18,
   "metadata": {
    "ExecuteTime": {
     "end_time": "2018-12-17T11:39:10.033790Z",
     "start_time": "2018-12-17T11:39:10.031777Z"
    }
   },
   "outputs": [],
   "source": [
    "df_toShift_grouped = df_toShift.groupby('bsid')"
   ]
  },
  {
   "cell_type": "code",
   "execution_count": 19,
   "metadata": {
    "ExecuteTime": {
     "end_time": "2018-12-17T11:39:10.221108Z",
     "start_time": "2018-12-17T11:39:10.204205Z"
    }
   },
   "outputs": [],
   "source": [
    "newCoord_lat = {}\n",
    "newCoord_lng = {}\n",
    "\n",
    "for key, elmt in df_toShift_grouped:\n",
    "    newCoord_lat[key] = elmt['lat'].values.mean()\n",
    "    newCoord_lng[key] = elmt['lng'].values.mean()"
   ]
  },
  {
   "cell_type": "code",
   "execution_count": 20,
   "metadata": {
    "ExecuteTime": {
     "end_time": "2018-12-17T11:39:10.358224Z",
     "start_time": "2018-12-17T11:39:10.356415Z"
    }
   },
   "outputs": [],
   "source": [
    "#newCoord_lng"
   ]
  },
  {
   "cell_type": "code",
   "execution_count": 21,
   "metadata": {
    "ExecuteTime": {
     "end_time": "2018-12-17T11:39:15.641049Z",
     "start_time": "2018-12-17T11:39:10.492688Z"
    }
   },
   "outputs": [],
   "source": [
    "def process_row(row):\n",
    "    row_copy = row.copy()\n",
    "    if row['bsid'] in bsidToShift :\n",
    "        row_copy['bs_lat'] = newCoord_lat[row['bsid']]\n",
    "        row_copy['bs_lng'] = newCoord_lng[row['bsid']]\n",
    "    return row_copy\n",
    "\n",
    "df = df.apply(process_row, axis=1)"
   ]
  },
  {
   "cell_type": "code",
   "execution_count": 22,
   "metadata": {
    "ExecuteTime": {
     "end_time": "2018-12-17T11:39:15.831325Z",
     "start_time": "2018-12-17T11:39:15.814278Z"
    }
   },
   "outputs": [
    {
     "data": {
      "text/html": [
       "<div>\n",
       "<style scoped>\n",
       "    .dataframe tbody tr th:only-of-type {\n",
       "        vertical-align: middle;\n",
       "    }\n",
       "\n",
       "    .dataframe tbody tr th {\n",
       "        vertical-align: top;\n",
       "    }\n",
       "\n",
       "    .dataframe thead th {\n",
       "        text-align: right;\n",
       "    }\n",
       "</style>\n",
       "<table border=\"1\" class=\"dataframe\">\n",
       "  <thead>\n",
       "    <tr style=\"text-align: right;\">\n",
       "      <th></th>\n",
       "      <th>messid</th>\n",
       "      <th>bsid</th>\n",
       "      <th>did</th>\n",
       "      <th>nseq</th>\n",
       "      <th>rssi</th>\n",
       "      <th>time_ux</th>\n",
       "      <th>bs_lat</th>\n",
       "      <th>bs_lng</th>\n",
       "      <th>lat</th>\n",
       "      <th>lng</th>\n",
       "    </tr>\n",
       "  </thead>\n",
       "  <tbody>\n",
       "    <tr>\n",
       "      <th>5106</th>\n",
       "      <td>57617e1ef0fe6e0c9fd6eb06</td>\n",
       "      <td>8355</td>\n",
       "      <td>476606.0</td>\n",
       "      <td>1.5</td>\n",
       "      <td>-106.5</td>\n",
       "      <td>1.466007e+12</td>\n",
       "      <td>39.751051</td>\n",
       "      <td>-105.013546</td>\n",
       "      <td>39.778694</td>\n",
       "      <td>-104.977050</td>\n",
       "    </tr>\n",
       "    <tr>\n",
       "      <th>5118</th>\n",
       "      <td>576180cf3e952e04b3b41e5c</td>\n",
       "      <td>8355</td>\n",
       "      <td>476512.0</td>\n",
       "      <td>0.5</td>\n",
       "      <td>-111.5</td>\n",
       "      <td>1.466008e+12</td>\n",
       "      <td>39.751051</td>\n",
       "      <td>-105.013546</td>\n",
       "      <td>39.783396</td>\n",
       "      <td>-104.999821</td>\n",
       "    </tr>\n",
       "    <tr>\n",
       "      <th>5179</th>\n",
       "      <td>5761a161f0fe6e0c9fec42b9</td>\n",
       "      <td>8355</td>\n",
       "      <td>473683.0</td>\n",
       "      <td>0.0</td>\n",
       "      <td>-126.0</td>\n",
       "      <td>1.466016e+12</td>\n",
       "      <td>39.751051</td>\n",
       "      <td>-105.013546</td>\n",
       "      <td>39.803407</td>\n",
       "      <td>-105.019300</td>\n",
       "    </tr>\n",
       "    <tr>\n",
       "      <th>5216</th>\n",
       "      <td>57623817864fce5689ec33af</td>\n",
       "      <td>8355</td>\n",
       "      <td>473683.0</td>\n",
       "      <td>0.5</td>\n",
       "      <td>-127.0</td>\n",
       "      <td>1.466055e+12</td>\n",
       "      <td>39.751051</td>\n",
       "      <td>-105.013546</td>\n",
       "      <td>39.803738</td>\n",
       "      <td>-105.018997</td>\n",
       "    </tr>\n",
       "    <tr>\n",
       "      <th>5416</th>\n",
       "      <td>5763734c864fce5689a422f3</td>\n",
       "      <td>8355</td>\n",
       "      <td>476600.0</td>\n",
       "      <td>1.5</td>\n",
       "      <td>-123.0</td>\n",
       "      <td>1.466135e+12</td>\n",
       "      <td>39.751051</td>\n",
       "      <td>-105.013546</td>\n",
       "      <td>39.803101</td>\n",
       "      <td>-105.023292</td>\n",
       "    </tr>\n",
       "  </tbody>\n",
       "</table>\n",
       "</div>"
      ],
      "text/plain": [
       "                        messid  bsid       did  nseq   rssi       time_ux  \\\n",
       "5106  57617e1ef0fe6e0c9fd6eb06  8355  476606.0   1.5 -106.5  1.466007e+12   \n",
       "5118  576180cf3e952e04b3b41e5c  8355  476512.0   0.5 -111.5  1.466008e+12   \n",
       "5179  5761a161f0fe6e0c9fec42b9  8355  473683.0   0.0 -126.0  1.466016e+12   \n",
       "5216  57623817864fce5689ec33af  8355  473683.0   0.5 -127.0  1.466055e+12   \n",
       "5416  5763734c864fce5689a422f3  8355  476600.0   1.5 -123.0  1.466135e+12   \n",
       "\n",
       "         bs_lat      bs_lng        lat         lng  \n",
       "5106  39.751051 -105.013546  39.778694 -104.977050  \n",
       "5118  39.751051 -105.013546  39.783396 -104.999821  \n",
       "5179  39.751051 -105.013546  39.803407 -105.019300  \n",
       "5216  39.751051 -105.013546  39.803738 -105.018997  \n",
       "5416  39.751051 -105.013546  39.803101 -105.023292  "
      ]
     },
     "execution_count": 22,
     "metadata": {},
     "output_type": "execute_result"
    }
   ],
   "source": [
    "df[df['bsid'].isin(bsidToShift)].head()"
   ]
  },
  {
   "cell_type": "code",
   "execution_count": 23,
   "metadata": {
    "ExecuteTime": {
     "end_time": "2018-12-17T11:39:16.013175Z",
     "start_time": "2018-12-17T11:39:16.008288Z"
    }
   },
   "outputs": [],
   "source": [
    "df = df.drop(['lat', 'lng'], axis = 1)"
   ]
  },
  {
   "cell_type": "code",
   "execution_count": 24,
   "metadata": {
    "ExecuteTime": {
     "end_time": "2018-12-17T11:39:16.187191Z",
     "start_time": "2018-12-17T11:39:16.176855Z"
    }
   },
   "outputs": [
    {
     "data": {
      "text/html": [
       "<div>\n",
       "<style scoped>\n",
       "    .dataframe tbody tr th:only-of-type {\n",
       "        vertical-align: middle;\n",
       "    }\n",
       "\n",
       "    .dataframe tbody tr th {\n",
       "        vertical-align: top;\n",
       "    }\n",
       "\n",
       "    .dataframe thead th {\n",
       "        text-align: right;\n",
       "    }\n",
       "</style>\n",
       "<table border=\"1\" class=\"dataframe\">\n",
       "  <thead>\n",
       "    <tr style=\"text-align: right;\">\n",
       "      <th></th>\n",
       "      <th>messid</th>\n",
       "      <th>bsid</th>\n",
       "      <th>did</th>\n",
       "      <th>nseq</th>\n",
       "      <th>rssi</th>\n",
       "      <th>time_ux</th>\n",
       "      <th>bs_lat</th>\n",
       "      <th>bs_lng</th>\n",
       "    </tr>\n",
       "  </thead>\n",
       "  <tbody>\n",
       "    <tr>\n",
       "      <th>0</th>\n",
       "      <td>573bf1d9864fce1a9af8c5c9</td>\n",
       "      <td>2841</td>\n",
       "      <td>473335.0</td>\n",
       "      <td>0.5</td>\n",
       "      <td>-121.5</td>\n",
       "      <td>1.463546e+12</td>\n",
       "      <td>39.617794</td>\n",
       "      <td>-104.954917</td>\n",
       "    </tr>\n",
       "    <tr>\n",
       "      <th>1</th>\n",
       "      <td>573bf1d9864fce1a9af8c5c9</td>\n",
       "      <td>3526</td>\n",
       "      <td>473335.0</td>\n",
       "      <td>2.0</td>\n",
       "      <td>-125.0</td>\n",
       "      <td>1.463546e+12</td>\n",
       "      <td>39.677251</td>\n",
       "      <td>-104.952721</td>\n",
       "    </tr>\n",
       "    <tr>\n",
       "      <th>2</th>\n",
       "      <td>573bf3533e952e19126b256a</td>\n",
       "      <td>2605</td>\n",
       "      <td>473335.0</td>\n",
       "      <td>1.0</td>\n",
       "      <td>-134.0</td>\n",
       "      <td>1.463547e+12</td>\n",
       "      <td>39.612745</td>\n",
       "      <td>-105.008827</td>\n",
       "    </tr>\n",
       "    <tr>\n",
       "      <th>3</th>\n",
       "      <td>573c0cd0f0fe6e735a699b93</td>\n",
       "      <td>2610</td>\n",
       "      <td>473953.0</td>\n",
       "      <td>2.0</td>\n",
       "      <td>-132.0</td>\n",
       "      <td>1.463553e+12</td>\n",
       "      <td>39.797969</td>\n",
       "      <td>-105.073460</td>\n",
       "    </tr>\n",
       "    <tr>\n",
       "      <th>4</th>\n",
       "      <td>573c0cd0f0fe6e735a699b93</td>\n",
       "      <td>3574</td>\n",
       "      <td>473953.0</td>\n",
       "      <td>1.0</td>\n",
       "      <td>-120.0</td>\n",
       "      <td>1.463553e+12</td>\n",
       "      <td>39.723151</td>\n",
       "      <td>-104.956216</td>\n",
       "    </tr>\n",
       "  </tbody>\n",
       "</table>\n",
       "</div>"
      ],
      "text/plain": [
       "                     messid  bsid       did  nseq   rssi       time_ux  \\\n",
       "0  573bf1d9864fce1a9af8c5c9  2841  473335.0   0.5 -121.5  1.463546e+12   \n",
       "1  573bf1d9864fce1a9af8c5c9  3526  473335.0   2.0 -125.0  1.463546e+12   \n",
       "2  573bf3533e952e19126b256a  2605  473335.0   1.0 -134.0  1.463547e+12   \n",
       "3  573c0cd0f0fe6e735a699b93  2610  473953.0   2.0 -132.0  1.463553e+12   \n",
       "4  573c0cd0f0fe6e735a699b93  3574  473953.0   1.0 -120.0  1.463553e+12   \n",
       "\n",
       "      bs_lat      bs_lng  \n",
       "0  39.617794 -104.954917  \n",
       "1  39.677251 -104.952721  \n",
       "2  39.612745 -105.008827  \n",
       "3  39.797969 -105.073460  \n",
       "4  39.723151 -104.956216  "
      ]
     },
     "execution_count": 24,
     "metadata": {},
     "output_type": "execute_result"
    }
   ],
   "source": [
    "df.head()"
   ]
  },
  {
   "cell_type": "code",
   "execution_count": 25,
   "metadata": {
    "ExecuteTime": {
     "end_time": "2018-12-17T11:39:16.357079Z",
     "start_time": "2018-12-17T11:39:16.352410Z"
    }
   },
   "outputs": [
    {
     "data": {
      "text/plain": [
       "(39250, 8)"
      ]
     },
     "execution_count": 25,
     "metadata": {},
     "output_type": "execute_result"
    }
   ],
   "source": [
    "df_mess_train = df.copy()\n",
    "df_mess_train.shape"
   ]
  },
  {
   "cell_type": "code",
   "execution_count": 26,
   "metadata": {
    "ExecuteTime": {
     "end_time": "2018-12-17T11:39:16.540610Z",
     "start_time": "2018-12-17T11:39:16.526427Z"
    }
   },
   "outputs": [
    {
     "data": {
      "text/html": [
       "<div>\n",
       "<style scoped>\n",
       "    .dataframe tbody tr th:only-of-type {\n",
       "        vertical-align: middle;\n",
       "    }\n",
       "\n",
       "    .dataframe tbody tr th {\n",
       "        vertical-align: top;\n",
       "    }\n",
       "\n",
       "    .dataframe thead th {\n",
       "        text-align: right;\n",
       "    }\n",
       "</style>\n",
       "<table border=\"1\" class=\"dataframe\">\n",
       "  <thead>\n",
       "    <tr style=\"text-align: right;\">\n",
       "      <th></th>\n",
       "      <th>messid</th>\n",
       "      <th>bsid</th>\n",
       "      <th>did</th>\n",
       "      <th>nseq</th>\n",
       "      <th>rssi</th>\n",
       "      <th>time_ux</th>\n",
       "      <th>bs_lat</th>\n",
       "      <th>bs_lng</th>\n",
       "    </tr>\n",
       "  </thead>\n",
       "  <tbody>\n",
       "    <tr>\n",
       "      <th>5106</th>\n",
       "      <td>57617e1ef0fe6e0c9fd6eb06</td>\n",
       "      <td>8355</td>\n",
       "      <td>476606.0</td>\n",
       "      <td>1.5</td>\n",
       "      <td>-106.5</td>\n",
       "      <td>1.466007e+12</td>\n",
       "      <td>39.751051</td>\n",
       "      <td>-105.013546</td>\n",
       "    </tr>\n",
       "    <tr>\n",
       "      <th>5118</th>\n",
       "      <td>576180cf3e952e04b3b41e5c</td>\n",
       "      <td>8355</td>\n",
       "      <td>476512.0</td>\n",
       "      <td>0.5</td>\n",
       "      <td>-111.5</td>\n",
       "      <td>1.466008e+12</td>\n",
       "      <td>39.751051</td>\n",
       "      <td>-105.013546</td>\n",
       "    </tr>\n",
       "    <tr>\n",
       "      <th>5179</th>\n",
       "      <td>5761a161f0fe6e0c9fec42b9</td>\n",
       "      <td>8355</td>\n",
       "      <td>473683.0</td>\n",
       "      <td>0.0</td>\n",
       "      <td>-126.0</td>\n",
       "      <td>1.466016e+12</td>\n",
       "      <td>39.751051</td>\n",
       "      <td>-105.013546</td>\n",
       "    </tr>\n",
       "    <tr>\n",
       "      <th>5216</th>\n",
       "      <td>57623817864fce5689ec33af</td>\n",
       "      <td>8355</td>\n",
       "      <td>473683.0</td>\n",
       "      <td>0.5</td>\n",
       "      <td>-127.0</td>\n",
       "      <td>1.466055e+12</td>\n",
       "      <td>39.751051</td>\n",
       "      <td>-105.013546</td>\n",
       "    </tr>\n",
       "    <tr>\n",
       "      <th>5416</th>\n",
       "      <td>5763734c864fce5689a422f3</td>\n",
       "      <td>8355</td>\n",
       "      <td>476600.0</td>\n",
       "      <td>1.5</td>\n",
       "      <td>-123.0</td>\n",
       "      <td>1.466135e+12</td>\n",
       "      <td>39.751051</td>\n",
       "      <td>-105.013546</td>\n",
       "    </tr>\n",
       "  </tbody>\n",
       "</table>\n",
       "</div>"
      ],
      "text/plain": [
       "                        messid  bsid       did  nseq   rssi       time_ux  \\\n",
       "5106  57617e1ef0fe6e0c9fd6eb06  8355  476606.0   1.5 -106.5  1.466007e+12   \n",
       "5118  576180cf3e952e04b3b41e5c  8355  476512.0   0.5 -111.5  1.466008e+12   \n",
       "5179  5761a161f0fe6e0c9fec42b9  8355  473683.0   0.0 -126.0  1.466016e+12   \n",
       "5216  57623817864fce5689ec33af  8355  473683.0   0.5 -127.0  1.466055e+12   \n",
       "5416  5763734c864fce5689a422f3  8355  476600.0   1.5 -123.0  1.466135e+12   \n",
       "\n",
       "         bs_lat      bs_lng  \n",
       "5106  39.751051 -105.013546  \n",
       "5118  39.751051 -105.013546  \n",
       "5179  39.751051 -105.013546  \n",
       "5216  39.751051 -105.013546  \n",
       "5416  39.751051 -105.013546  "
      ]
     },
     "execution_count": 26,
     "metadata": {},
     "output_type": "execute_result"
    }
   ],
   "source": [
    "df_mess_train[df_mess_train['bsid'].isin(bsidToShift)].head()"
   ]
  },
  {
   "cell_type": "markdown",
   "metadata": {},
   "source": [
    "# Feature Engineering "
   ]
  },
  {
   "cell_type": "markdown",
   "metadata": {
    "heading_collapsed": true
   },
   "source": [
    "## Fonctions "
   ]
  },
  {
   "cell_type": "markdown",
   "metadata": {
    "hidden": true
   },
   "source": [
    "### 0 ou lat"
   ]
  },
  {
   "cell_type": "code",
   "execution_count": 27,
   "metadata": {
    "ExecuteTime": {
     "end_time": "2018-12-17T11:24:21.124109Z",
     "start_time": "2018-12-17T11:24:21.119534Z"
    },
    "hidden": true
   },
   "outputs": [],
   "source": [
    "# Maxtrice de 0 ou lat (mess recu par la bsid )\n",
    "\n",
    "def lat_mat_const(df_mess_train, listOfBs):\n",
    "    df_mess_bs_group = df_mess_train.groupby(['messid'], as_index=False) # group data by message (messid)\n",
    "    nb_mess = len(np.unique(df_mess_train['messid']))\n",
    "    df_feat = pd.DataFrame(np.zeros((nb_mess,len(listOfBs))), columns = listOfBs) # feature matrix\n",
    "    idx = 0\n",
    "    id_list = [0] * nb_mess\n",
    "    indexes = []\n",
    "\n",
    "    for key, elmt in df_mess_bs_group:\n",
    "        indexes.append(key)\n",
    "        df_feat.loc[idx,elmt['bsid']] = elmt[\"bs_lat\"].values\n",
    "        id_list[idx] = key\n",
    "        idx = idx + 1\n",
    "    \n",
    "    return df_feat, indexes # add id value of each message for the correspondance to message  "
   ]
  },
  {
   "cell_type": "markdown",
   "metadata": {
    "hidden": true
   },
   "source": [
    "### 0 ou lng"
   ]
  },
  {
   "cell_type": "code",
   "execution_count": 28,
   "metadata": {
    "ExecuteTime": {
     "end_time": "2018-12-17T11:24:23.357445Z",
     "start_time": "2018-12-17T11:24:23.353038Z"
    },
    "hidden": true
   },
   "outputs": [],
   "source": [
    "# Maxtrice de 0 ou lng (mess recu par la bsid )\n",
    "\n",
    "def lng_mat_const(df_mess_train, listOfBs):\n",
    "    df_mess_bs_group = df_mess_train.groupby(['messid'], as_index=False) # group data by message (messid)\n",
    "    nb_mess = len(np.unique(df_mess_train['messid']))\n",
    "    df_feat = pd.DataFrame(np.zeros((nb_mess,len(listOfBs))), columns = listOfBs) # feature matrix\n",
    "    idx = 0\n",
    "    id_list = [0] * nb_mess\n",
    "\n",
    "    for key, elmt in df_mess_bs_group:\n",
    "        df_feat.loc[idx,elmt['bsid']] = elmt[\"bs_lng\"].values\n",
    "        id_list[idx] = key\n",
    "        idx = idx + 1\n",
    "    \n",
    "    return df_feat, id_list # add id value of each message for the correspondance to message  "
   ]
  },
  {
   "cell_type": "markdown",
   "metadata": {
    "hidden": true
   },
   "source": [
    "### rssi"
   ]
  },
  {
   "cell_type": "code",
   "execution_count": 29,
   "metadata": {
    "ExecuteTime": {
     "end_time": "2018-12-17T11:24:23.964122Z",
     "start_time": "2018-12-17T11:24:23.960140Z"
    },
    "hidden": true
   },
   "outputs": [],
   "source": [
    "# Maxtrice de 0 ou rssi (mess recu par la bsid )\n",
    "\n",
    "def rssi_mat_const(df_mess_train, listOfBs):\n",
    "    df_mess_bs_group = df_mess_train.groupby(['messid'], as_index=False) # group data by message (messid)\n",
    "    nb_mess = len(np.unique(df_mess_train['messid']))\n",
    "    df_feat = pd.DataFrame(np.zeros((nb_mess,len(listOfBs))), columns = listOfBs) # feature matrix\n",
    "    idx = 0\n",
    "    id_list = [0] * nb_mess\n",
    "\n",
    "    for key, elmt in df_mess_bs_group:\n",
    "        df_feat.loc[idx,elmt['bsid']] = - elmt['rssi'].values\n",
    "        id_list[idx] = key\n",
    "        idx = idx + 1\n",
    "    \n",
    "    return df_feat, id_list # add id value of each message for the correspondance to message  "
   ]
  },
  {
   "cell_type": "markdown",
   "metadata": {
    "hidden": true
   },
   "source": [
    "### nseq"
   ]
  },
  {
   "cell_type": "code",
   "execution_count": 33,
   "metadata": {
    "ExecuteTime": {
     "end_time": "2018-12-17T11:25:01.131929Z",
     "start_time": "2018-12-17T11:25:01.124946Z"
    },
    "hidden": true
   },
   "outputs": [],
   "source": [
    "def nseq_mat_const(df_mess_train, listOfBs):\n",
    "    df_mess_bs_group = df_mess_train.groupby(['messid'], as_index=False) # group data by message (messid)\n",
    "    nb_mess = len(np.unique(df_mess_train['messid']))\n",
    "    df_feat = pd.DataFrame(np.zeros((nb_mess,len(listOfBs))), columns = listOfBs) # feature matrix\n",
    "    idx = 0\n",
    "    id_list = [0] * nb_mess\n",
    "\n",
    "    for key, elmt in df_mess_bs_group:\n",
    "        df_feat.loc[idx,elmt['bsid']] = elmt['nseq'].values\n",
    "        id_list[idx] = key\n",
    "        idx = idx + 1\n",
    "    \n",
    "    return df_feat, id_list # add id value of each message for the correspondance to message  "
   ]
  },
  {
   "cell_type": "markdown",
   "metadata": {
    "hidden": true
   },
   "source": [
    "### device id "
   ]
  },
  {
   "cell_type": "code",
   "execution_count": 34,
   "metadata": {
    "ExecuteTime": {
     "end_time": "2018-12-17T11:25:01.842314Z",
     "start_time": "2018-12-17T11:25:01.839086Z"
    },
    "hidden": true
   },
   "outputs": [],
   "source": [
    "# Maxtrice de 0 ou 1 (mess recu par la bsid )\n",
    "\n",
    "def did_mat_const(df_mess_train, listOfBs):\n",
    "    df_mess_bs_group = df_mess_train.groupby(['messid'], as_index=False) # group data by message (messid)\n",
    "    nb_mess = len(np.unique(df_mess_train['messid']))\n",
    "    df_feat = pd.DataFrame(np.zeros((nb_mess,1)), columns = ['did']) # feature matrix\n",
    "    idx = 0\n",
    "    id_list = [0] * nb_mess\n",
    "\n",
    "    for key, elmt in df_mess_bs_group:\n",
    "        df_feat.loc[idx,'did'] = elmt['did'].mean()\n",
    "        id_list[idx] = key\n",
    "        idx = idx + 1\n",
    "    \n",
    "    return df_feat, id_list # add id value of each message for the correspondance to message  "
   ]
  },
  {
   "cell_type": "code",
   "execution_count": 27,
   "metadata": {
    "ExecuteTime": {
     "end_time": "2018-12-17T11:40:27.631479Z",
     "start_time": "2018-12-17T11:40:27.628758Z"
    },
    "hidden": true
   },
   "outputs": [],
   "source": [
    "#df_feat_lat, id_list = lat_mat_const(df_mess_train, listOfBs)\n",
    "#indexes = df_feat_lat.columns.values"
   ]
  },
  {
   "cell_type": "code",
   "execution_count": 28,
   "metadata": {
    "ExecuteTime": {
     "end_time": "2018-12-17T11:40:32.414706Z",
     "start_time": "2018-12-17T11:40:32.411992Z"
    },
    "hidden": true
   },
   "outputs": [],
   "source": [
    "#df_feat_lng, id_list = lng_mat_const(df_mess_train, listOfBs)"
   ]
  },
  {
   "cell_type": "code",
   "execution_count": 29,
   "metadata": {
    "ExecuteTime": {
     "end_time": "2018-12-17T11:40:34.620380Z",
     "start_time": "2018-12-17T11:40:34.617545Z"
    },
    "hidden": true
   },
   "outputs": [],
   "source": [
    "#df_rssi, id_list = rssi_mat_const(df_mess_train, listOfBs)"
   ]
  },
  {
   "cell_type": "code",
   "execution_count": 30,
   "metadata": {
    "ExecuteTime": {
     "end_time": "2018-12-17T11:40:36.868421Z",
     "start_time": "2018-12-17T11:40:36.866074Z"
    },
    "hidden": true
   },
   "outputs": [],
   "source": [
    "#df_nseq, id_list = nseq_mat_const(df_mess_train, listOfBs)"
   ]
  },
  {
   "cell_type": "code",
   "execution_count": 31,
   "metadata": {
    "ExecuteTime": {
     "end_time": "2018-12-17T11:40:39.058304Z",
     "start_time": "2018-12-17T11:40:39.051137Z"
    },
    "hidden": true
   },
   "outputs": [],
   "source": [
    "#df_did, id_list = did_mat_const(df_mess_train, listOfBs)"
   ]
  },
  {
   "cell_type": "markdown",
   "metadata": {
    "ExecuteTime": {
     "end_time": "2018-12-13T15:16:43.289356Z",
     "start_time": "2018-12-13T15:16:43.277424Z"
    }
   },
   "source": [
    "## New Features Engineering"
   ]
  },
  {
   "cell_type": "code",
   "execution_count": null,
   "metadata": {},
   "outputs": [],
   "source": [
    "# Maxtrice de 0 ou lat (mess recu par la bsid )\n",
    "\n",
    "def features_lat_V2(df_mess_train, listOfBs):\n",
    "    df_mess_bs_group = df_mess_train.groupby(['messid'], as_index=False) # group data by message (messid)\n",
    "    nb_mess = len(np.unique(df_mess_train['messid']))\n",
    "    df_feat = pd.DataFrame(np.zeros((nb_mess,len(listOfBs))), columns = listOfBs) # feature matrix\n",
    "    idx = 0\n",
    "    id_list = [0] * nb_mess\n",
    "    indexes = []\n",
    "\n",
    "    for key, elmt in df_mess_bs_group:\n",
    "        indexes.append(key)\n",
    "        df_feat.loc[idx,elmt['bsid']] = elmt[\"bs_lat\"].values\n",
    "        id_list[idx] = key\n",
    "        idx = idx + 1\n",
    "    \n",
    "    return df_feat, indexes # add id value of each message for the correspondance to message  "
   ]
  },
  {
   "cell_type": "code",
   "execution_count": null,
   "metadata": {},
   "outputs": [],
   "source": []
  },
  {
   "cell_type": "markdown",
   "metadata": {},
   "source": [
    "## Création de la matrice des features "
   ]
  },
  {
   "cell_type": "code",
   "execution_count": 48,
   "metadata": {
    "ExecuteTime": {
     "end_time": "2018-12-17T11:27:11.713315Z",
     "start_time": "2018-12-17T11:27:11.707394Z"
    }
   },
   "outputs": [],
   "source": [
    "def features_lat(df_feat_lat, df_rssi, df_nseq, df_did, indexes):\n",
    "    df = df_feat_lat.copy()\n",
    "    \n",
    "    indx = indexes\n",
    "    for i in range(len(indx)) :\n",
    "        df['rssi'+str(indx[i])] = df_rssi[indx[i]]\n",
    "        df['nseq'+str(indx[i])] = df_nseq[indx[i]]\n",
    "        \n",
    "    df['did'] = df_did['did']\n",
    "    \n",
    "    return df, indexes"
   ]
  },
  {
   "cell_type": "code",
   "execution_count": 49,
   "metadata": {
    "ExecuteTime": {
     "end_time": "2018-12-17T11:27:15.601299Z",
     "start_time": "2018-12-17T11:27:15.590228Z"
    }
   },
   "outputs": [],
   "source": [
    "def features_lng(df_feat_lng, df_rssi, df_nseq, df_did, indexes):\n",
    "    df = df_feat_lng.copy()\n",
    "    \n",
    "    indx = indexes\n",
    "    for i in range(len(indx)) :\n",
    "        df['rssi'+str(indx[i])] = df_rssi[indx[i]]\n",
    "        df['nseq'+str(indx[i])] = df_nseq[indx[i]]\n",
    "        \n",
    "    df['did'] = df_did['did']\n",
    "    \n",
    "    return df, indexes"
   ]
  },
  {
   "cell_type": "markdown",
   "metadata": {},
   "source": [
    "### Train Data "
   ]
  },
  {
   "cell_type": "code",
   "execution_count": 50,
   "metadata": {
    "ExecuteTime": {
     "end_time": "2018-12-17T11:27:16.797330Z",
     "start_time": "2018-12-17T11:27:16.539836Z"
    }
   },
   "outputs": [
    {
     "data": {
      "text/html": [
       "<div>\n",
       "<style scoped>\n",
       "    .dataframe tbody tr th:only-of-type {\n",
       "        vertical-align: middle;\n",
       "    }\n",
       "\n",
       "    .dataframe tbody tr th {\n",
       "        vertical-align: top;\n",
       "    }\n",
       "\n",
       "    .dataframe thead th {\n",
       "        text-align: right;\n",
       "    }\n",
       "</style>\n",
       "<table border=\"1\" class=\"dataframe\">\n",
       "  <thead>\n",
       "    <tr style=\"text-align: right;\">\n",
       "      <th></th>\n",
       "      <th>879</th>\n",
       "      <th>911</th>\n",
       "      <th>921</th>\n",
       "      <th>944</th>\n",
       "      <th>980</th>\n",
       "      <th>1012</th>\n",
       "      <th>1086</th>\n",
       "      <th>1092</th>\n",
       "      <th>1120</th>\n",
       "      <th>1131</th>\n",
       "      <th>...</th>\n",
       "      <th>nseq10151</th>\n",
       "      <th>rssi10162</th>\n",
       "      <th>nseq10162</th>\n",
       "      <th>rssi10999</th>\n",
       "      <th>nseq10999</th>\n",
       "      <th>rssi11007</th>\n",
       "      <th>nseq11007</th>\n",
       "      <th>rssi11951</th>\n",
       "      <th>nseq11951</th>\n",
       "      <th>did</th>\n",
       "    </tr>\n",
       "  </thead>\n",
       "  <tbody>\n",
       "    <tr>\n",
       "      <th>0</th>\n",
       "      <td>0.0</td>\n",
       "      <td>0.0</td>\n",
       "      <td>0.0</td>\n",
       "      <td>0.0</td>\n",
       "      <td>0.0</td>\n",
       "      <td>0.0</td>\n",
       "      <td>0.000000</td>\n",
       "      <td>0.0</td>\n",
       "      <td>0.0</td>\n",
       "      <td>0.0</td>\n",
       "      <td>...</td>\n",
       "      <td>0.0</td>\n",
       "      <td>0.0</td>\n",
       "      <td>0.0</td>\n",
       "      <td>0.0</td>\n",
       "      <td>0.0</td>\n",
       "      <td>0.0</td>\n",
       "      <td>0.0</td>\n",
       "      <td>0.0</td>\n",
       "      <td>0.0</td>\n",
       "      <td>473335.0</td>\n",
       "    </tr>\n",
       "    <tr>\n",
       "      <th>1</th>\n",
       "      <td>0.0</td>\n",
       "      <td>0.0</td>\n",
       "      <td>0.0</td>\n",
       "      <td>0.0</td>\n",
       "      <td>0.0</td>\n",
       "      <td>0.0</td>\n",
       "      <td>0.000000</td>\n",
       "      <td>0.0</td>\n",
       "      <td>0.0</td>\n",
       "      <td>0.0</td>\n",
       "      <td>...</td>\n",
       "      <td>0.0</td>\n",
       "      <td>0.0</td>\n",
       "      <td>0.0</td>\n",
       "      <td>0.0</td>\n",
       "      <td>0.0</td>\n",
       "      <td>0.0</td>\n",
       "      <td>0.0</td>\n",
       "      <td>0.0</td>\n",
       "      <td>0.0</td>\n",
       "      <td>473335.0</td>\n",
       "    </tr>\n",
       "    <tr>\n",
       "      <th>2</th>\n",
       "      <td>0.0</td>\n",
       "      <td>0.0</td>\n",
       "      <td>0.0</td>\n",
       "      <td>0.0</td>\n",
       "      <td>0.0</td>\n",
       "      <td>0.0</td>\n",
       "      <td>0.000000</td>\n",
       "      <td>0.0</td>\n",
       "      <td>0.0</td>\n",
       "      <td>0.0</td>\n",
       "      <td>...</td>\n",
       "      <td>0.0</td>\n",
       "      <td>0.0</td>\n",
       "      <td>0.0</td>\n",
       "      <td>0.0</td>\n",
       "      <td>0.0</td>\n",
       "      <td>0.0</td>\n",
       "      <td>0.0</td>\n",
       "      <td>0.0</td>\n",
       "      <td>0.0</td>\n",
       "      <td>473953.0</td>\n",
       "    </tr>\n",
       "    <tr>\n",
       "      <th>3</th>\n",
       "      <td>0.0</td>\n",
       "      <td>0.0</td>\n",
       "      <td>0.0</td>\n",
       "      <td>0.0</td>\n",
       "      <td>0.0</td>\n",
       "      <td>0.0</td>\n",
       "      <td>0.000000</td>\n",
       "      <td>0.0</td>\n",
       "      <td>0.0</td>\n",
       "      <td>0.0</td>\n",
       "      <td>...</td>\n",
       "      <td>0.0</td>\n",
       "      <td>0.0</td>\n",
       "      <td>0.0</td>\n",
       "      <td>0.0</td>\n",
       "      <td>0.0</td>\n",
       "      <td>0.0</td>\n",
       "      <td>0.0</td>\n",
       "      <td>0.0</td>\n",
       "      <td>0.0</td>\n",
       "      <td>476512.0</td>\n",
       "    </tr>\n",
       "    <tr>\n",
       "      <th>4</th>\n",
       "      <td>0.0</td>\n",
       "      <td>0.0</td>\n",
       "      <td>0.0</td>\n",
       "      <td>0.0</td>\n",
       "      <td>0.0</td>\n",
       "      <td>0.0</td>\n",
       "      <td>39.973995</td>\n",
       "      <td>0.0</td>\n",
       "      <td>0.0</td>\n",
       "      <td>0.0</td>\n",
       "      <td>...</td>\n",
       "      <td>0.0</td>\n",
       "      <td>0.0</td>\n",
       "      <td>0.0</td>\n",
       "      <td>0.0</td>\n",
       "      <td>0.0</td>\n",
       "      <td>0.0</td>\n",
       "      <td>0.0</td>\n",
       "      <td>0.0</td>\n",
       "      <td>0.0</td>\n",
       "      <td>476286.0</td>\n",
       "    </tr>\n",
       "  </tbody>\n",
       "</table>\n",
       "<p>5 rows × 778 columns</p>\n",
       "</div>"
      ],
      "text/plain": [
       "   879  911  921  944  980  1012       1086  1092  1120  1131    ...     \\\n",
       "0  0.0  0.0  0.0  0.0  0.0   0.0   0.000000   0.0   0.0   0.0    ...      \n",
       "1  0.0  0.0  0.0  0.0  0.0   0.0   0.000000   0.0   0.0   0.0    ...      \n",
       "2  0.0  0.0  0.0  0.0  0.0   0.0   0.000000   0.0   0.0   0.0    ...      \n",
       "3  0.0  0.0  0.0  0.0  0.0   0.0   0.000000   0.0   0.0   0.0    ...      \n",
       "4  0.0  0.0  0.0  0.0  0.0   0.0  39.973995   0.0   0.0   0.0    ...      \n",
       "\n",
       "   nseq10151  rssi10162  nseq10162  rssi10999  nseq10999  rssi11007  \\\n",
       "0        0.0        0.0        0.0        0.0        0.0        0.0   \n",
       "1        0.0        0.0        0.0        0.0        0.0        0.0   \n",
       "2        0.0        0.0        0.0        0.0        0.0        0.0   \n",
       "3        0.0        0.0        0.0        0.0        0.0        0.0   \n",
       "4        0.0        0.0        0.0        0.0        0.0        0.0   \n",
       "\n",
       "   nseq11007  rssi11951  nseq11951       did  \n",
       "0        0.0        0.0        0.0  473335.0  \n",
       "1        0.0        0.0        0.0  473335.0  \n",
       "2        0.0        0.0        0.0  473953.0  \n",
       "3        0.0        0.0        0.0  476512.0  \n",
       "4        0.0        0.0        0.0  476286.0  \n",
       "\n",
       "[5 rows x 778 columns]"
      ]
     },
     "execution_count": 50,
     "metadata": {},
     "output_type": "execute_result"
    }
   ],
   "source": [
    "# LAT\n",
    "\n",
    "df_feat_lat, id_list_train = features_lat(df_feat_lat, df_rssi, df_nseq, df_did, indexes)\n",
    "df_feat_lat.head()"
   ]
  },
  {
   "cell_type": "code",
   "execution_count": 51,
   "metadata": {
    "ExecuteTime": {
     "end_time": "2018-12-17T11:27:19.414181Z",
     "start_time": "2018-12-17T11:27:19.349739Z"
    }
   },
   "outputs": [
    {
     "data": {
      "text/html": [
       "<div>\n",
       "<style scoped>\n",
       "    .dataframe tbody tr th:only-of-type {\n",
       "        vertical-align: middle;\n",
       "    }\n",
       "\n",
       "    .dataframe tbody tr th {\n",
       "        vertical-align: top;\n",
       "    }\n",
       "\n",
       "    .dataframe thead th {\n",
       "        text-align: right;\n",
       "    }\n",
       "</style>\n",
       "<table border=\"1\" class=\"dataframe\">\n",
       "  <thead>\n",
       "    <tr style=\"text-align: right;\">\n",
       "      <th></th>\n",
       "      <th>879</th>\n",
       "      <th>911</th>\n",
       "      <th>921</th>\n",
       "      <th>944</th>\n",
       "      <th>980</th>\n",
       "      <th>1012</th>\n",
       "      <th>1086</th>\n",
       "      <th>1092</th>\n",
       "      <th>1120</th>\n",
       "      <th>1131</th>\n",
       "      <th>...</th>\n",
       "      <th>nseq10151</th>\n",
       "      <th>rssi10162</th>\n",
       "      <th>nseq10162</th>\n",
       "      <th>rssi10999</th>\n",
       "      <th>nseq10999</th>\n",
       "      <th>rssi11007</th>\n",
       "      <th>nseq11007</th>\n",
       "      <th>rssi11951</th>\n",
       "      <th>nseq11951</th>\n",
       "      <th>did</th>\n",
       "    </tr>\n",
       "  </thead>\n",
       "  <tbody>\n",
       "    <tr>\n",
       "      <th>0</th>\n",
       "      <td>0.0</td>\n",
       "      <td>0.0</td>\n",
       "      <td>0.0</td>\n",
       "      <td>0.0</td>\n",
       "      <td>0.0</td>\n",
       "      <td>0.0</td>\n",
       "      <td>0.000000</td>\n",
       "      <td>0.0</td>\n",
       "      <td>0.0</td>\n",
       "      <td>0.0</td>\n",
       "      <td>...</td>\n",
       "      <td>0.0</td>\n",
       "      <td>0.0</td>\n",
       "      <td>0.0</td>\n",
       "      <td>0.0</td>\n",
       "      <td>0.0</td>\n",
       "      <td>0.0</td>\n",
       "      <td>0.0</td>\n",
       "      <td>0.0</td>\n",
       "      <td>0.0</td>\n",
       "      <td>473335.0</td>\n",
       "    </tr>\n",
       "    <tr>\n",
       "      <th>1</th>\n",
       "      <td>0.0</td>\n",
       "      <td>0.0</td>\n",
       "      <td>0.0</td>\n",
       "      <td>0.0</td>\n",
       "      <td>0.0</td>\n",
       "      <td>0.0</td>\n",
       "      <td>0.000000</td>\n",
       "      <td>0.0</td>\n",
       "      <td>0.0</td>\n",
       "      <td>0.0</td>\n",
       "      <td>...</td>\n",
       "      <td>0.0</td>\n",
       "      <td>0.0</td>\n",
       "      <td>0.0</td>\n",
       "      <td>0.0</td>\n",
       "      <td>0.0</td>\n",
       "      <td>0.0</td>\n",
       "      <td>0.0</td>\n",
       "      <td>0.0</td>\n",
       "      <td>0.0</td>\n",
       "      <td>473335.0</td>\n",
       "    </tr>\n",
       "    <tr>\n",
       "      <th>2</th>\n",
       "      <td>0.0</td>\n",
       "      <td>0.0</td>\n",
       "      <td>0.0</td>\n",
       "      <td>0.0</td>\n",
       "      <td>0.0</td>\n",
       "      <td>0.0</td>\n",
       "      <td>0.000000</td>\n",
       "      <td>0.0</td>\n",
       "      <td>0.0</td>\n",
       "      <td>0.0</td>\n",
       "      <td>...</td>\n",
       "      <td>0.0</td>\n",
       "      <td>0.0</td>\n",
       "      <td>0.0</td>\n",
       "      <td>0.0</td>\n",
       "      <td>0.0</td>\n",
       "      <td>0.0</td>\n",
       "      <td>0.0</td>\n",
       "      <td>0.0</td>\n",
       "      <td>0.0</td>\n",
       "      <td>473953.0</td>\n",
       "    </tr>\n",
       "    <tr>\n",
       "      <th>3</th>\n",
       "      <td>0.0</td>\n",
       "      <td>0.0</td>\n",
       "      <td>0.0</td>\n",
       "      <td>0.0</td>\n",
       "      <td>0.0</td>\n",
       "      <td>0.0</td>\n",
       "      <td>0.000000</td>\n",
       "      <td>0.0</td>\n",
       "      <td>0.0</td>\n",
       "      <td>0.0</td>\n",
       "      <td>...</td>\n",
       "      <td>0.0</td>\n",
       "      <td>0.0</td>\n",
       "      <td>0.0</td>\n",
       "      <td>0.0</td>\n",
       "      <td>0.0</td>\n",
       "      <td>0.0</td>\n",
       "      <td>0.0</td>\n",
       "      <td>0.0</td>\n",
       "      <td>0.0</td>\n",
       "      <td>476512.0</td>\n",
       "    </tr>\n",
       "    <tr>\n",
       "      <th>4</th>\n",
       "      <td>0.0</td>\n",
       "      <td>0.0</td>\n",
       "      <td>0.0</td>\n",
       "      <td>0.0</td>\n",
       "      <td>0.0</td>\n",
       "      <td>0.0</td>\n",
       "      <td>39.973995</td>\n",
       "      <td>0.0</td>\n",
       "      <td>0.0</td>\n",
       "      <td>0.0</td>\n",
       "      <td>...</td>\n",
       "      <td>0.0</td>\n",
       "      <td>0.0</td>\n",
       "      <td>0.0</td>\n",
       "      <td>0.0</td>\n",
       "      <td>0.0</td>\n",
       "      <td>0.0</td>\n",
       "      <td>0.0</td>\n",
       "      <td>0.0</td>\n",
       "      <td>0.0</td>\n",
       "      <td>476286.0</td>\n",
       "    </tr>\n",
       "  </tbody>\n",
       "</table>\n",
       "<p>5 rows × 778 columns</p>\n",
       "</div>"
      ],
      "text/plain": [
       "   879  911  921  944  980  1012       1086  1092  1120  1131    ...     \\\n",
       "0  0.0  0.0  0.0  0.0  0.0   0.0   0.000000   0.0   0.0   0.0    ...      \n",
       "1  0.0  0.0  0.0  0.0  0.0   0.0   0.000000   0.0   0.0   0.0    ...      \n",
       "2  0.0  0.0  0.0  0.0  0.0   0.0   0.000000   0.0   0.0   0.0    ...      \n",
       "3  0.0  0.0  0.0  0.0  0.0   0.0   0.000000   0.0   0.0   0.0    ...      \n",
       "4  0.0  0.0  0.0  0.0  0.0   0.0  39.973995   0.0   0.0   0.0    ...      \n",
       "\n",
       "   nseq10151  rssi10162  nseq10162  rssi10999  nseq10999  rssi11007  \\\n",
       "0        0.0        0.0        0.0        0.0        0.0        0.0   \n",
       "1        0.0        0.0        0.0        0.0        0.0        0.0   \n",
       "2        0.0        0.0        0.0        0.0        0.0        0.0   \n",
       "3        0.0        0.0        0.0        0.0        0.0        0.0   \n",
       "4        0.0        0.0        0.0        0.0        0.0        0.0   \n",
       "\n",
       "   nseq11007  rssi11951  nseq11951       did  \n",
       "0        0.0        0.0        0.0  473335.0  \n",
       "1        0.0        0.0        0.0  473335.0  \n",
       "2        0.0        0.0        0.0  473953.0  \n",
       "3        0.0        0.0        0.0  476512.0  \n",
       "4        0.0        0.0        0.0  476286.0  \n",
       "\n",
       "[5 rows x 778 columns]"
      ]
     },
     "execution_count": 51,
     "metadata": {},
     "output_type": "execute_result"
    }
   ],
   "source": [
    "df_feat_lat.reset_index()\n",
    "df_feat_lat.head()"
   ]
  },
  {
   "cell_type": "code",
   "execution_count": 52,
   "metadata": {
    "ExecuteTime": {
     "end_time": "2018-12-17T11:27:20.163596Z",
     "start_time": "2018-12-17T11:27:19.915675Z"
    }
   },
   "outputs": [
    {
     "data": {
      "text/plain": [
       "(6068, 778)"
      ]
     },
     "execution_count": 52,
     "metadata": {},
     "output_type": "execute_result"
    }
   ],
   "source": [
    "# LNG\n",
    "\n",
    "df_feat_lng, id_list_train = features_lng(df_feat_lng, df_rssi, df_nseq, df_did, indexes)\n",
    "df_feat_lng.shape"
   ]
  },
  {
   "cell_type": "code",
   "execution_count": 53,
   "metadata": {
    "ExecuteTime": {
     "end_time": "2018-12-17T11:27:20.561478Z",
     "start_time": "2018-12-17T11:27:20.501585Z"
    }
   },
   "outputs": [
    {
     "data": {
      "text/html": [
       "<div>\n",
       "<style scoped>\n",
       "    .dataframe tbody tr th:only-of-type {\n",
       "        vertical-align: middle;\n",
       "    }\n",
       "\n",
       "    .dataframe tbody tr th {\n",
       "        vertical-align: top;\n",
       "    }\n",
       "\n",
       "    .dataframe thead th {\n",
       "        text-align: right;\n",
       "    }\n",
       "</style>\n",
       "<table border=\"1\" class=\"dataframe\">\n",
       "  <thead>\n",
       "    <tr style=\"text-align: right;\">\n",
       "      <th></th>\n",
       "      <th>879</th>\n",
       "      <th>911</th>\n",
       "      <th>921</th>\n",
       "      <th>944</th>\n",
       "      <th>980</th>\n",
       "      <th>1012</th>\n",
       "      <th>1086</th>\n",
       "      <th>1092</th>\n",
       "      <th>1120</th>\n",
       "      <th>1131</th>\n",
       "      <th>...</th>\n",
       "      <th>nseq10151</th>\n",
       "      <th>rssi10162</th>\n",
       "      <th>nseq10162</th>\n",
       "      <th>rssi10999</th>\n",
       "      <th>nseq10999</th>\n",
       "      <th>rssi11007</th>\n",
       "      <th>nseq11007</th>\n",
       "      <th>rssi11951</th>\n",
       "      <th>nseq11951</th>\n",
       "      <th>did</th>\n",
       "    </tr>\n",
       "  </thead>\n",
       "  <tbody>\n",
       "    <tr>\n",
       "      <th>0</th>\n",
       "      <td>0.0</td>\n",
       "      <td>0.0</td>\n",
       "      <td>0.0</td>\n",
       "      <td>0.0</td>\n",
       "      <td>0.0</td>\n",
       "      <td>0.0</td>\n",
       "      <td>0.000000</td>\n",
       "      <td>0.0</td>\n",
       "      <td>0.0</td>\n",
       "      <td>0.0</td>\n",
       "      <td>...</td>\n",
       "      <td>0.0</td>\n",
       "      <td>0.0</td>\n",
       "      <td>0.0</td>\n",
       "      <td>0.0</td>\n",
       "      <td>0.0</td>\n",
       "      <td>0.0</td>\n",
       "      <td>0.0</td>\n",
       "      <td>0.0</td>\n",
       "      <td>0.0</td>\n",
       "      <td>473335.0</td>\n",
       "    </tr>\n",
       "    <tr>\n",
       "      <th>1</th>\n",
       "      <td>0.0</td>\n",
       "      <td>0.0</td>\n",
       "      <td>0.0</td>\n",
       "      <td>0.0</td>\n",
       "      <td>0.0</td>\n",
       "      <td>0.0</td>\n",
       "      <td>0.000000</td>\n",
       "      <td>0.0</td>\n",
       "      <td>0.0</td>\n",
       "      <td>0.0</td>\n",
       "      <td>...</td>\n",
       "      <td>0.0</td>\n",
       "      <td>0.0</td>\n",
       "      <td>0.0</td>\n",
       "      <td>0.0</td>\n",
       "      <td>0.0</td>\n",
       "      <td>0.0</td>\n",
       "      <td>0.0</td>\n",
       "      <td>0.0</td>\n",
       "      <td>0.0</td>\n",
       "      <td>473335.0</td>\n",
       "    </tr>\n",
       "    <tr>\n",
       "      <th>2</th>\n",
       "      <td>0.0</td>\n",
       "      <td>0.0</td>\n",
       "      <td>0.0</td>\n",
       "      <td>0.0</td>\n",
       "      <td>0.0</td>\n",
       "      <td>0.0</td>\n",
       "      <td>0.000000</td>\n",
       "      <td>0.0</td>\n",
       "      <td>0.0</td>\n",
       "      <td>0.0</td>\n",
       "      <td>...</td>\n",
       "      <td>0.0</td>\n",
       "      <td>0.0</td>\n",
       "      <td>0.0</td>\n",
       "      <td>0.0</td>\n",
       "      <td>0.0</td>\n",
       "      <td>0.0</td>\n",
       "      <td>0.0</td>\n",
       "      <td>0.0</td>\n",
       "      <td>0.0</td>\n",
       "      <td>473953.0</td>\n",
       "    </tr>\n",
       "    <tr>\n",
       "      <th>3</th>\n",
       "      <td>0.0</td>\n",
       "      <td>0.0</td>\n",
       "      <td>0.0</td>\n",
       "      <td>0.0</td>\n",
       "      <td>0.0</td>\n",
       "      <td>0.0</td>\n",
       "      <td>0.000000</td>\n",
       "      <td>0.0</td>\n",
       "      <td>0.0</td>\n",
       "      <td>0.0</td>\n",
       "      <td>...</td>\n",
       "      <td>0.0</td>\n",
       "      <td>0.0</td>\n",
       "      <td>0.0</td>\n",
       "      <td>0.0</td>\n",
       "      <td>0.0</td>\n",
       "      <td>0.0</td>\n",
       "      <td>0.0</td>\n",
       "      <td>0.0</td>\n",
       "      <td>0.0</td>\n",
       "      <td>476512.0</td>\n",
       "    </tr>\n",
       "    <tr>\n",
       "      <th>4</th>\n",
       "      <td>0.0</td>\n",
       "      <td>0.0</td>\n",
       "      <td>0.0</td>\n",
       "      <td>0.0</td>\n",
       "      <td>0.0</td>\n",
       "      <td>0.0</td>\n",
       "      <td>-104.891717</td>\n",
       "      <td>0.0</td>\n",
       "      <td>0.0</td>\n",
       "      <td>0.0</td>\n",
       "      <td>...</td>\n",
       "      <td>0.0</td>\n",
       "      <td>0.0</td>\n",
       "      <td>0.0</td>\n",
       "      <td>0.0</td>\n",
       "      <td>0.0</td>\n",
       "      <td>0.0</td>\n",
       "      <td>0.0</td>\n",
       "      <td>0.0</td>\n",
       "      <td>0.0</td>\n",
       "      <td>476286.0</td>\n",
       "    </tr>\n",
       "  </tbody>\n",
       "</table>\n",
       "<p>5 rows × 778 columns</p>\n",
       "</div>"
      ],
      "text/plain": [
       "   879  911  921  944  980  1012        1086  1092  1120  1131    ...     \\\n",
       "0  0.0  0.0  0.0  0.0  0.0   0.0    0.000000   0.0   0.0   0.0    ...      \n",
       "1  0.0  0.0  0.0  0.0  0.0   0.0    0.000000   0.0   0.0   0.0    ...      \n",
       "2  0.0  0.0  0.0  0.0  0.0   0.0    0.000000   0.0   0.0   0.0    ...      \n",
       "3  0.0  0.0  0.0  0.0  0.0   0.0    0.000000   0.0   0.0   0.0    ...      \n",
       "4  0.0  0.0  0.0  0.0  0.0   0.0 -104.891717   0.0   0.0   0.0    ...      \n",
       "\n",
       "   nseq10151  rssi10162  nseq10162  rssi10999  nseq10999  rssi11007  \\\n",
       "0        0.0        0.0        0.0        0.0        0.0        0.0   \n",
       "1        0.0        0.0        0.0        0.0        0.0        0.0   \n",
       "2        0.0        0.0        0.0        0.0        0.0        0.0   \n",
       "3        0.0        0.0        0.0        0.0        0.0        0.0   \n",
       "4        0.0        0.0        0.0        0.0        0.0        0.0   \n",
       "\n",
       "   nseq11007  rssi11951  nseq11951       did  \n",
       "0        0.0        0.0        0.0  473335.0  \n",
       "1        0.0        0.0        0.0  473335.0  \n",
       "2        0.0        0.0        0.0  473953.0  \n",
       "3        0.0        0.0        0.0  476512.0  \n",
       "4        0.0        0.0        0.0  476286.0  \n",
       "\n",
       "[5 rows x 778 columns]"
      ]
     },
     "execution_count": 53,
     "metadata": {},
     "output_type": "execute_result"
    }
   ],
   "source": [
    "df_feat_lng.reset_index()\n",
    "df_feat_lng.head()"
   ]
  },
  {
   "cell_type": "markdown",
   "metadata": {},
   "source": [
    "### Validation Data"
   ]
  },
  {
   "cell_type": "code",
   "execution_count": 54,
   "metadata": {
    "ExecuteTime": {
     "end_time": "2018-12-17T11:27:21.264907Z",
     "start_time": "2018-12-17T11:27:21.172204Z"
    }
   },
   "outputs": [
    {
     "data": {
      "text/plain": [
       "(6068, 778)"
      ]
     },
     "execution_count": 54,
     "metadata": {},
     "output_type": "execute_result"
    }
   ],
   "source": [
    "# LAT\n",
    "\n",
    "df_validation_lat, id_list_test = features_lat(df_feat_lat, df_rssi, df_nseq, df_did, indexes)\n",
    "df_validation_lat.shape"
   ]
  },
  {
   "cell_type": "code",
   "execution_count": 55,
   "metadata": {
    "ExecuteTime": {
     "end_time": "2018-12-17T11:27:21.687385Z",
     "start_time": "2018-12-17T11:27:21.658959Z"
    }
   },
   "outputs": [
    {
     "data": {
      "text/html": [
       "<div>\n",
       "<style scoped>\n",
       "    .dataframe tbody tr th:only-of-type {\n",
       "        vertical-align: middle;\n",
       "    }\n",
       "\n",
       "    .dataframe tbody tr th {\n",
       "        vertical-align: top;\n",
       "    }\n",
       "\n",
       "    .dataframe thead th {\n",
       "        text-align: right;\n",
       "    }\n",
       "</style>\n",
       "<table border=\"1\" class=\"dataframe\">\n",
       "  <thead>\n",
       "    <tr style=\"text-align: right;\">\n",
       "      <th></th>\n",
       "      <th>879</th>\n",
       "      <th>911</th>\n",
       "      <th>921</th>\n",
       "      <th>944</th>\n",
       "      <th>980</th>\n",
       "      <th>1012</th>\n",
       "      <th>1086</th>\n",
       "      <th>1092</th>\n",
       "      <th>1120</th>\n",
       "      <th>1131</th>\n",
       "      <th>...</th>\n",
       "      <th>nseq10151</th>\n",
       "      <th>rssi10162</th>\n",
       "      <th>nseq10162</th>\n",
       "      <th>rssi10999</th>\n",
       "      <th>nseq10999</th>\n",
       "      <th>rssi11007</th>\n",
       "      <th>nseq11007</th>\n",
       "      <th>rssi11951</th>\n",
       "      <th>nseq11951</th>\n",
       "      <th>did</th>\n",
       "    </tr>\n",
       "  </thead>\n",
       "  <tbody>\n",
       "    <tr>\n",
       "      <th>0</th>\n",
       "      <td>0.0</td>\n",
       "      <td>0.0</td>\n",
       "      <td>0.0</td>\n",
       "      <td>0.0</td>\n",
       "      <td>0.0</td>\n",
       "      <td>0.0</td>\n",
       "      <td>0.000000</td>\n",
       "      <td>0.0</td>\n",
       "      <td>0.0</td>\n",
       "      <td>0.0</td>\n",
       "      <td>...</td>\n",
       "      <td>0.0</td>\n",
       "      <td>0.0</td>\n",
       "      <td>0.0</td>\n",
       "      <td>0.0</td>\n",
       "      <td>0.0</td>\n",
       "      <td>0.0</td>\n",
       "      <td>0.0</td>\n",
       "      <td>0.0</td>\n",
       "      <td>0.0</td>\n",
       "      <td>473335.0</td>\n",
       "    </tr>\n",
       "    <tr>\n",
       "      <th>1</th>\n",
       "      <td>0.0</td>\n",
       "      <td>0.0</td>\n",
       "      <td>0.0</td>\n",
       "      <td>0.0</td>\n",
       "      <td>0.0</td>\n",
       "      <td>0.0</td>\n",
       "      <td>0.000000</td>\n",
       "      <td>0.0</td>\n",
       "      <td>0.0</td>\n",
       "      <td>0.0</td>\n",
       "      <td>...</td>\n",
       "      <td>0.0</td>\n",
       "      <td>0.0</td>\n",
       "      <td>0.0</td>\n",
       "      <td>0.0</td>\n",
       "      <td>0.0</td>\n",
       "      <td>0.0</td>\n",
       "      <td>0.0</td>\n",
       "      <td>0.0</td>\n",
       "      <td>0.0</td>\n",
       "      <td>473335.0</td>\n",
       "    </tr>\n",
       "    <tr>\n",
       "      <th>2</th>\n",
       "      <td>0.0</td>\n",
       "      <td>0.0</td>\n",
       "      <td>0.0</td>\n",
       "      <td>0.0</td>\n",
       "      <td>0.0</td>\n",
       "      <td>0.0</td>\n",
       "      <td>0.000000</td>\n",
       "      <td>0.0</td>\n",
       "      <td>0.0</td>\n",
       "      <td>0.0</td>\n",
       "      <td>...</td>\n",
       "      <td>0.0</td>\n",
       "      <td>0.0</td>\n",
       "      <td>0.0</td>\n",
       "      <td>0.0</td>\n",
       "      <td>0.0</td>\n",
       "      <td>0.0</td>\n",
       "      <td>0.0</td>\n",
       "      <td>0.0</td>\n",
       "      <td>0.0</td>\n",
       "      <td>473953.0</td>\n",
       "    </tr>\n",
       "    <tr>\n",
       "      <th>3</th>\n",
       "      <td>0.0</td>\n",
       "      <td>0.0</td>\n",
       "      <td>0.0</td>\n",
       "      <td>0.0</td>\n",
       "      <td>0.0</td>\n",
       "      <td>0.0</td>\n",
       "      <td>0.000000</td>\n",
       "      <td>0.0</td>\n",
       "      <td>0.0</td>\n",
       "      <td>0.0</td>\n",
       "      <td>...</td>\n",
       "      <td>0.0</td>\n",
       "      <td>0.0</td>\n",
       "      <td>0.0</td>\n",
       "      <td>0.0</td>\n",
       "      <td>0.0</td>\n",
       "      <td>0.0</td>\n",
       "      <td>0.0</td>\n",
       "      <td>0.0</td>\n",
       "      <td>0.0</td>\n",
       "      <td>476512.0</td>\n",
       "    </tr>\n",
       "    <tr>\n",
       "      <th>4</th>\n",
       "      <td>0.0</td>\n",
       "      <td>0.0</td>\n",
       "      <td>0.0</td>\n",
       "      <td>0.0</td>\n",
       "      <td>0.0</td>\n",
       "      <td>0.0</td>\n",
       "      <td>39.973995</td>\n",
       "      <td>0.0</td>\n",
       "      <td>0.0</td>\n",
       "      <td>0.0</td>\n",
       "      <td>...</td>\n",
       "      <td>0.0</td>\n",
       "      <td>0.0</td>\n",
       "      <td>0.0</td>\n",
       "      <td>0.0</td>\n",
       "      <td>0.0</td>\n",
       "      <td>0.0</td>\n",
       "      <td>0.0</td>\n",
       "      <td>0.0</td>\n",
       "      <td>0.0</td>\n",
       "      <td>476286.0</td>\n",
       "    </tr>\n",
       "  </tbody>\n",
       "</table>\n",
       "<p>5 rows × 778 columns</p>\n",
       "</div>"
      ],
      "text/plain": [
       "   879  911  921  944  980  1012       1086  1092  1120  1131    ...     \\\n",
       "0  0.0  0.0  0.0  0.0  0.0   0.0   0.000000   0.0   0.0   0.0    ...      \n",
       "1  0.0  0.0  0.0  0.0  0.0   0.0   0.000000   0.0   0.0   0.0    ...      \n",
       "2  0.0  0.0  0.0  0.0  0.0   0.0   0.000000   0.0   0.0   0.0    ...      \n",
       "3  0.0  0.0  0.0  0.0  0.0   0.0   0.000000   0.0   0.0   0.0    ...      \n",
       "4  0.0  0.0  0.0  0.0  0.0   0.0  39.973995   0.0   0.0   0.0    ...      \n",
       "\n",
       "   nseq10151  rssi10162  nseq10162  rssi10999  nseq10999  rssi11007  \\\n",
       "0        0.0        0.0        0.0        0.0        0.0        0.0   \n",
       "1        0.0        0.0        0.0        0.0        0.0        0.0   \n",
       "2        0.0        0.0        0.0        0.0        0.0        0.0   \n",
       "3        0.0        0.0        0.0        0.0        0.0        0.0   \n",
       "4        0.0        0.0        0.0        0.0        0.0        0.0   \n",
       "\n",
       "   nseq11007  rssi11951  nseq11951       did  \n",
       "0        0.0        0.0        0.0  473335.0  \n",
       "1        0.0        0.0        0.0  473335.0  \n",
       "2        0.0        0.0        0.0  473953.0  \n",
       "3        0.0        0.0        0.0  476512.0  \n",
       "4        0.0        0.0        0.0  476286.0  \n",
       "\n",
       "[5 rows x 778 columns]"
      ]
     },
     "execution_count": 55,
     "metadata": {},
     "output_type": "execute_result"
    }
   ],
   "source": [
    "df_validation_lat.reset_index()\n",
    "df_validation_lat.head()"
   ]
  },
  {
   "cell_type": "code",
   "execution_count": 56,
   "metadata": {
    "ExecuteTime": {
     "end_time": "2018-12-17T11:27:22.169676Z",
     "start_time": "2018-12-17T11:27:22.092682Z"
    }
   },
   "outputs": [
    {
     "data": {
      "text/plain": [
       "(6068, 778)"
      ]
     },
     "execution_count": 56,
     "metadata": {},
     "output_type": "execute_result"
    }
   ],
   "source": [
    "# LNG\n",
    "\n",
    "df_validation_lng, id_list_test = features_lng(df_feat_lng, df_rssi, df_nseq, df_did, indexes)\n",
    "df_validation_lng.shape"
   ]
  },
  {
   "cell_type": "code",
   "execution_count": 57,
   "metadata": {
    "ExecuteTime": {
     "end_time": "2018-12-17T11:27:22.712241Z",
     "start_time": "2018-12-17T11:27:22.685991Z"
    }
   },
   "outputs": [
    {
     "data": {
      "text/html": [
       "<div>\n",
       "<style scoped>\n",
       "    .dataframe tbody tr th:only-of-type {\n",
       "        vertical-align: middle;\n",
       "    }\n",
       "\n",
       "    .dataframe tbody tr th {\n",
       "        vertical-align: top;\n",
       "    }\n",
       "\n",
       "    .dataframe thead th {\n",
       "        text-align: right;\n",
       "    }\n",
       "</style>\n",
       "<table border=\"1\" class=\"dataframe\">\n",
       "  <thead>\n",
       "    <tr style=\"text-align: right;\">\n",
       "      <th></th>\n",
       "      <th>879</th>\n",
       "      <th>911</th>\n",
       "      <th>921</th>\n",
       "      <th>944</th>\n",
       "      <th>980</th>\n",
       "      <th>1012</th>\n",
       "      <th>1086</th>\n",
       "      <th>1092</th>\n",
       "      <th>1120</th>\n",
       "      <th>1131</th>\n",
       "      <th>...</th>\n",
       "      <th>nseq10151</th>\n",
       "      <th>rssi10162</th>\n",
       "      <th>nseq10162</th>\n",
       "      <th>rssi10999</th>\n",
       "      <th>nseq10999</th>\n",
       "      <th>rssi11007</th>\n",
       "      <th>nseq11007</th>\n",
       "      <th>rssi11951</th>\n",
       "      <th>nseq11951</th>\n",
       "      <th>did</th>\n",
       "    </tr>\n",
       "  </thead>\n",
       "  <tbody>\n",
       "    <tr>\n",
       "      <th>0</th>\n",
       "      <td>0.0</td>\n",
       "      <td>0.0</td>\n",
       "      <td>0.0</td>\n",
       "      <td>0.0</td>\n",
       "      <td>0.0</td>\n",
       "      <td>0.0</td>\n",
       "      <td>0.000000</td>\n",
       "      <td>0.0</td>\n",
       "      <td>0.0</td>\n",
       "      <td>0.0</td>\n",
       "      <td>...</td>\n",
       "      <td>0.0</td>\n",
       "      <td>0.0</td>\n",
       "      <td>0.0</td>\n",
       "      <td>0.0</td>\n",
       "      <td>0.0</td>\n",
       "      <td>0.0</td>\n",
       "      <td>0.0</td>\n",
       "      <td>0.0</td>\n",
       "      <td>0.0</td>\n",
       "      <td>473335.0</td>\n",
       "    </tr>\n",
       "    <tr>\n",
       "      <th>1</th>\n",
       "      <td>0.0</td>\n",
       "      <td>0.0</td>\n",
       "      <td>0.0</td>\n",
       "      <td>0.0</td>\n",
       "      <td>0.0</td>\n",
       "      <td>0.0</td>\n",
       "      <td>0.000000</td>\n",
       "      <td>0.0</td>\n",
       "      <td>0.0</td>\n",
       "      <td>0.0</td>\n",
       "      <td>...</td>\n",
       "      <td>0.0</td>\n",
       "      <td>0.0</td>\n",
       "      <td>0.0</td>\n",
       "      <td>0.0</td>\n",
       "      <td>0.0</td>\n",
       "      <td>0.0</td>\n",
       "      <td>0.0</td>\n",
       "      <td>0.0</td>\n",
       "      <td>0.0</td>\n",
       "      <td>473335.0</td>\n",
       "    </tr>\n",
       "    <tr>\n",
       "      <th>2</th>\n",
       "      <td>0.0</td>\n",
       "      <td>0.0</td>\n",
       "      <td>0.0</td>\n",
       "      <td>0.0</td>\n",
       "      <td>0.0</td>\n",
       "      <td>0.0</td>\n",
       "      <td>0.000000</td>\n",
       "      <td>0.0</td>\n",
       "      <td>0.0</td>\n",
       "      <td>0.0</td>\n",
       "      <td>...</td>\n",
       "      <td>0.0</td>\n",
       "      <td>0.0</td>\n",
       "      <td>0.0</td>\n",
       "      <td>0.0</td>\n",
       "      <td>0.0</td>\n",
       "      <td>0.0</td>\n",
       "      <td>0.0</td>\n",
       "      <td>0.0</td>\n",
       "      <td>0.0</td>\n",
       "      <td>473953.0</td>\n",
       "    </tr>\n",
       "    <tr>\n",
       "      <th>3</th>\n",
       "      <td>0.0</td>\n",
       "      <td>0.0</td>\n",
       "      <td>0.0</td>\n",
       "      <td>0.0</td>\n",
       "      <td>0.0</td>\n",
       "      <td>0.0</td>\n",
       "      <td>0.000000</td>\n",
       "      <td>0.0</td>\n",
       "      <td>0.0</td>\n",
       "      <td>0.0</td>\n",
       "      <td>...</td>\n",
       "      <td>0.0</td>\n",
       "      <td>0.0</td>\n",
       "      <td>0.0</td>\n",
       "      <td>0.0</td>\n",
       "      <td>0.0</td>\n",
       "      <td>0.0</td>\n",
       "      <td>0.0</td>\n",
       "      <td>0.0</td>\n",
       "      <td>0.0</td>\n",
       "      <td>476512.0</td>\n",
       "    </tr>\n",
       "    <tr>\n",
       "      <th>4</th>\n",
       "      <td>0.0</td>\n",
       "      <td>0.0</td>\n",
       "      <td>0.0</td>\n",
       "      <td>0.0</td>\n",
       "      <td>0.0</td>\n",
       "      <td>0.0</td>\n",
       "      <td>-104.891717</td>\n",
       "      <td>0.0</td>\n",
       "      <td>0.0</td>\n",
       "      <td>0.0</td>\n",
       "      <td>...</td>\n",
       "      <td>0.0</td>\n",
       "      <td>0.0</td>\n",
       "      <td>0.0</td>\n",
       "      <td>0.0</td>\n",
       "      <td>0.0</td>\n",
       "      <td>0.0</td>\n",
       "      <td>0.0</td>\n",
       "      <td>0.0</td>\n",
       "      <td>0.0</td>\n",
       "      <td>476286.0</td>\n",
       "    </tr>\n",
       "  </tbody>\n",
       "</table>\n",
       "<p>5 rows × 778 columns</p>\n",
       "</div>"
      ],
      "text/plain": [
       "   879  911  921  944  980  1012        1086  1092  1120  1131    ...     \\\n",
       "0  0.0  0.0  0.0  0.0  0.0   0.0    0.000000   0.0   0.0   0.0    ...      \n",
       "1  0.0  0.0  0.0  0.0  0.0   0.0    0.000000   0.0   0.0   0.0    ...      \n",
       "2  0.0  0.0  0.0  0.0  0.0   0.0    0.000000   0.0   0.0   0.0    ...      \n",
       "3  0.0  0.0  0.0  0.0  0.0   0.0    0.000000   0.0   0.0   0.0    ...      \n",
       "4  0.0  0.0  0.0  0.0  0.0   0.0 -104.891717   0.0   0.0   0.0    ...      \n",
       "\n",
       "   nseq10151  rssi10162  nseq10162  rssi10999  nseq10999  rssi11007  \\\n",
       "0        0.0        0.0        0.0        0.0        0.0        0.0   \n",
       "1        0.0        0.0        0.0        0.0        0.0        0.0   \n",
       "2        0.0        0.0        0.0        0.0        0.0        0.0   \n",
       "3        0.0        0.0        0.0        0.0        0.0        0.0   \n",
       "4        0.0        0.0        0.0        0.0        0.0        0.0   \n",
       "\n",
       "   nseq11007  rssi11951  nseq11951       did  \n",
       "0        0.0        0.0        0.0  473335.0  \n",
       "1        0.0        0.0        0.0  473335.0  \n",
       "2        0.0        0.0        0.0  473953.0  \n",
       "3        0.0        0.0        0.0  476512.0  \n",
       "4        0.0        0.0        0.0  476286.0  \n",
       "\n",
       "[5 rows x 778 columns]"
      ]
     },
     "execution_count": 57,
     "metadata": {},
     "output_type": "execute_result"
    }
   ],
   "source": [
    "df_validation_lng.reset_index()\n",
    "df_validation_lng.head(5)"
   ]
  },
  {
   "cell_type": "markdown",
   "metadata": {},
   "source": [
    "## Création Matrice des Y (ground_truth) "
   ]
  },
  {
   "cell_type": "code",
   "execution_count": 58,
   "metadata": {
    "ExecuteTime": {
     "end_time": "2018-12-17T11:27:23.622752Z",
     "start_time": "2018-12-17T11:27:23.619251Z"
    }
   },
   "outputs": [],
   "source": [
    "# ground truth construction\n",
    "def ground_truth_train(df_mess_train, pos_train):\n",
    "\n",
    "    df_mess_pos = df_mess_train.copy()\n",
    "    df_mess_pos[['lat', 'lng']] = pos_train\n",
    "\n",
    "    ground_truth_lat = np.array(df_mess_pos.groupby(['messid']).mean()['lat'])\n",
    "    ground_truth_lng = np.array(df_mess_pos.groupby(['messid']).mean()['lng'])\n",
    "    \n",
    "    return ground_truth_lat, ground_truth_lng"
   ]
  },
  {
   "cell_type": "code",
   "execution_count": 59,
   "metadata": {
    "ExecuteTime": {
     "end_time": "2018-12-17T11:27:24.618057Z",
     "start_time": "2018-12-17T11:27:24.589126Z"
    }
   },
   "outputs": [
    {
     "data": {
      "text/plain": [
       "(6068,)"
      ]
     },
     "execution_count": 59,
     "metadata": {},
     "output_type": "execute_result"
    }
   ],
   "source": [
    "ground_truth_lat, ground_truth_lng = ground_truth_train(df_mess_train, pos_train)\n",
    "ground_truth_lat.shape"
   ]
  },
  {
   "cell_type": "markdown",
   "metadata": {},
   "source": [
    "# Train / Test split"
   ]
  },
  {
   "cell_type": "code",
   "execution_count": 288,
   "metadata": {
    "ExecuteTime": {
     "end_time": "2018-12-13T22:32:36.650038Z",
     "start_time": "2018-12-13T22:32:36.646826Z"
    }
   },
   "outputs": [],
   "source": [
    "#from sklearn.model_selection import train_test_split\n",
    "\n",
    "#X_train_lat, X_test_lat, y_train_lat, y_test_lat = train_test_split(df_feat_lat, ground_truth_lat, \\\n",
    "#                                                                    test_size=0.1, random_state=42)\n",
    "#X_train_lng, X_test_lng, y_train_lng, y_test_lng = train_test_split(df_feat_lng, ground_truth_lng, \\\n",
    "#                                                                    test_size=0.1, random_state=42)"
   ]
  },
  {
   "cell_type": "code",
   "execution_count": 60,
   "metadata": {
    "ExecuteTime": {
     "end_time": "2018-12-17T11:29:02.288598Z",
     "start_time": "2018-12-17T11:29:02.098154Z"
    }
   },
   "outputs": [],
   "source": [
    "from sklearn.model_selection import train_test_split\n",
    "\n",
    "def trainTestSplit(X, Y, testSize, seed):\n",
    "    \n",
    "    df = X.copy()\n",
    "    df['Y'] = Y\n",
    "    \n",
    "    did = df['did'].unique()\n",
    "    did_train, did_test = train_test_split(did, test_size = testSize, random_state = seed)\n",
    "    \n",
    "    Y_train, Y_test = df[df['did'].isin(did_train)]['Y'], df[df['did'].isin(did_test)]['Y']\n",
    "    df = df.drop('Y', axis = 1)\n",
    "    \n",
    "    X_train, X_test = df[df['did'].isin(did_train)], df[df['did'].isin(did_test)]\n",
    "    X_train, X_test = X_train.drop('did', axis = 1), X_test.drop('did', axis = 1)\n",
    "    \n",
    "    return X_train, X_test, Y_train, Y_test"
   ]
  },
  {
   "cell_type": "code",
   "execution_count": 174,
   "metadata": {
    "ExecuteTime": {
     "end_time": "2018-12-13T22:24:22.127566Z",
     "start_time": "2018-12-13T22:24:22.065659Z"
    }
   },
   "outputs": [],
   "source": [
    "X_train_lat, X_test_lat, y_train_lat, y_test_lat = trainTestSplit(df_feat_lat, ground_truth_lat, \\\n",
    "                                                         testSize = 0.1, seed = 42)\n",
    "X_train_lng, X_test_lng, y_train_lng, y_test_lng = trainTestSplit(df_feat_lng, ground_truth_lng, \\\n",
    "                                                         testSize = 0.1, seed = 42)"
   ]
  },
  {
   "cell_type": "code",
   "execution_count": 61,
   "metadata": {
    "ExecuteTime": {
     "end_time": "2018-12-17T11:29:04.099308Z",
     "start_time": "2018-12-17T11:29:04.090248Z"
    }
   },
   "outputs": [],
   "source": [
    "from sklearn.preprocessing import StandardScaler\n",
    "\n",
    "def split(X, Y, nbOfSplit, seed):\n",
    "    scaler = StandardScaler()\n",
    "    np.random.seed(seed)\n",
    "    \n",
    "    df = X.copy()\n",
    "    df['Y'] = Y\n",
    "    \n",
    "    \n",
    "    did = df['did'].unique()\n",
    "    np.random.shuffle(did)\n",
    "    did_splits= np.array_split(did, nbOfSplit)\n",
    "    \n",
    "    df.reset_index(drop=True, inplace = True)\n",
    "\n",
    "    splits = []\n",
    "    for split in did_splits:\n",
    "        Y = df[df['did'].isin(split)]['Y']\n",
    "\n",
    "        X = df[df['did'].isin(split)]\n",
    "        X = X.drop(['did', 'Y'], axis = 1)\n",
    "        \n",
    "        indexToLeave = X.index.values\n",
    "        others = np.array( list(set(df.index.values) - set(indexToLeave)) )\n",
    "        \n",
    "        splits.append((others, indexToLeave))\n",
    "        \n",
    "    Y = df['Y']\n",
    "    X = df.drop(['Y','did'], axis = 1)\n",
    "    \n",
    "    X = pd.DataFrame(scaler.fit_transform(X,Y))\n",
    "    \n",
    "    return X, Y, splits"
   ]
  },
  {
   "cell_type": "markdown",
   "metadata": {},
   "source": [
    "# Modelisation"
   ]
  },
  {
   "cell_type": "code",
   "execution_count": 62,
   "metadata": {
    "ExecuteTime": {
     "end_time": "2018-12-17T11:29:05.303657Z",
     "start_time": "2018-12-17T11:29:05.299419Z"
    }
   },
   "outputs": [],
   "source": [
    "def regressor_and_predict(X_train_lat, X_test_lat, y_train_lat, X_train_lng, X_test_lng, y_train_lng):\n",
    "    \n",
    "    # train regressor and make prediction in the train set\n",
    "    # Input: df_feat, ground_truth_lat, ground_truth_lng, df_test\n",
    "    # Output: y_pred_lat, y_pred_lng\n",
    "\n",
    "    from sklearn import linear_model\n",
    "    # lat\n",
    "    reg_lat = linear_model.LinearRegression()\n",
    "\n",
    "    reg_lat.fit(X_train_lat, y_train_lat)\n",
    "    y_pred_lat = reg_lat.predict(X_test_lat) \n",
    "    \n",
    "    #lng\n",
    "    reg_lng = linear_model.LinearRegression()\n",
    "\n",
    "    reg_lng.fit(X_train_lng, y_train_lng)\n",
    "    y_pred_lng = reg_lng.predict(X_test_lng) \n",
    "    \n",
    "    return y_pred_lat, y_pred_lng\n"
   ]
  },
  {
   "cell_type": "code",
   "execution_count": 63,
   "metadata": {
    "ExecuteTime": {
     "end_time": "2018-12-17T11:29:05.841439Z",
     "start_time": "2018-12-17T11:29:05.838124Z"
    }
   },
   "outputs": [],
   "source": [
    "def rf_and_predict(X_train_lat, X_test_lat, y_train_lat, X_train_lng, X_test_lng, y_train_lng):\n",
    "    \n",
    "    # train regressor and make prediction in the train set\n",
    "    # Input: df_feat, ground_truth_lat, ground_truth_lng, df_test\n",
    "    # Output: y_pred_lat, y_pred_lng\n",
    "\n",
    "    from sklearn.ensemble import RandomForestRegressor\n",
    "    # lat\n",
    "    rf_lat = RandomForestRegressor(n_estimators = 100, random_state = 1)\n",
    "\n",
    "    rf_lat.fit(X_train_lat, y_train_lat)\n",
    "    y_pred_lat = rf_lat.predict(X_test_lat)\n",
    "    \n",
    "    #lng\n",
    "    rf_lng = RandomForestRegressor(n_estimators = 100, random_state = 1)\n",
    "\n",
    "    rf_lng.fit(X_train_lng, y_train_lng)\n",
    "    y_pred_lng = rf_lng.predict(X_test_lng)\n",
    "    \n",
    "    return y_pred_lat, y_pred_lng"
   ]
  },
  {
   "cell_type": "markdown",
   "metadata": {},
   "source": [
    "## Predictions "
   ]
  },
  {
   "cell_type": "code",
   "execution_count": 64,
   "metadata": {
    "ExecuteTime": {
     "end_time": "2018-12-17T11:29:08.281137Z",
     "start_time": "2018-12-17T11:29:08.227653Z"
    },
    "scrolled": true
   },
   "outputs": [
    {
     "ename": "NameError",
     "evalue": "name 'X_train_lat' is not defined",
     "output_type": "error",
     "traceback": [
      "\u001b[0;31m---------------------------------------------------------------------------\u001b[0m",
      "\u001b[0;31mNameError\u001b[0m                                 Traceback (most recent call last)",
      "\u001b[0;32m<ipython-input-64-957290ea42f7>\u001b[0m in \u001b[0;36m<module>\u001b[0;34m()\u001b[0m\n\u001b[1;32m      1\u001b[0m \u001b[0;31m# Make regressor and prediction using the train set\u001b[0m\u001b[0;34m\u001b[0m\u001b[0;34m\u001b[0m\u001b[0m\n\u001b[1;32m      2\u001b[0m \u001b[0;34m\u001b[0m\u001b[0m\n\u001b[0;32m----> 3\u001b[0;31m \u001b[0my_pred_lat\u001b[0m\u001b[0;34m,\u001b[0m \u001b[0my_pred_lng\u001b[0m \u001b[0;34m=\u001b[0m \u001b[0mrf_and_predict\u001b[0m\u001b[0;34m(\u001b[0m\u001b[0mX_train_lat\u001b[0m\u001b[0;34m,\u001b[0m \u001b[0mX_test_lat\u001b[0m\u001b[0;34m,\u001b[0m \u001b[0my_train_lat\u001b[0m\u001b[0;34m,\u001b[0m                                         \u001b[0mX_train_lng\u001b[0m\u001b[0;34m,\u001b[0m \u001b[0mX_test_lng\u001b[0m\u001b[0;34m,\u001b[0m \u001b[0my_train_lng\u001b[0m\u001b[0;34m)\u001b[0m\u001b[0;34m\u001b[0m\u001b[0m\n\u001b[0m",
      "\u001b[0;31mNameError\u001b[0m: name 'X_train_lat' is not defined"
     ]
    }
   ],
   "source": [
    "# Make regressor and prediction using the train set\n",
    "\n",
    "y_pred_lat, y_pred_lng = rf_and_predict(X_train_lat, X_test_lat, y_train_lat, \\\n",
    "                                        X_train_lng, X_test_lng, y_train_lng)"
   ]
  },
  {
   "cell_type": "code",
   "execution_count": 485,
   "metadata": {
    "ExecuteTime": {
     "end_time": "2018-12-13T15:35:33.516921Z",
     "start_time": "2018-12-13T15:35:33.514722Z"
    }
   },
   "outputs": [],
   "source": [
    "#y_pred_lat"
   ]
  },
  {
   "cell_type": "code",
   "execution_count": 486,
   "metadata": {
    "ExecuteTime": {
     "end_time": "2018-12-13T15:35:35.161652Z",
     "start_time": "2018-12-13T15:35:35.031515Z"
    }
   },
   "outputs": [
    {
     "data": {
      "text/plain": [
       "[<matplotlib.lines.Line2D at 0x7fef3ca800b8>]"
      ]
     },
     "execution_count": 486,
     "metadata": {},
     "output_type": "execute_result"
    },
    {
     "data": {
      "image/png": "[encoded data removed]",
      "text/plain": [
       "<Figure size 432x288 with 1 Axes>"
      ]
     },
     "metadata": {},
     "output_type": "display_data"
    }
   ],
   "source": [
    "y_pred_lat[np.where(y_pred_lat>90)[0]]= y_pred_lat.mean()\n",
    "y_pred_lat[np.where(y_pred_lat<-90)[0]]= y_pred_lat.mean()\n",
    "\n",
    "plt.plot(y_pred_lat)"
   ]
  },
  {
   "cell_type": "code",
   "execution_count": 487,
   "metadata": {
    "ExecuteTime": {
     "end_time": "2018-12-13T15:35:36.672324Z",
     "start_time": "2018-12-13T15:35:36.525917Z"
    }
   },
   "outputs": [
    {
     "data": {
      "text/plain": [
       "[<matplotlib.lines.Line2D at 0x7fef3cedd5f8>]"
      ]
     },
     "execution_count": 487,
     "metadata": {},
     "output_type": "execute_result"
    },
    {
     "data": {
      "image/png": "[encoded data removed]",
      "text/plain": [
       "<Figure size 432x288 with 1 Axes>"
      ]
     },
     "metadata": {},
     "output_type": "display_data"
    }
   ],
   "source": [
    "plt.plot(y_pred_lng)"
   ]
  },
  {
   "cell_type": "markdown",
   "metadata": {},
   "source": [
    "## Cross validation"
   ]
  },
  {
   "cell_type": "code",
   "execution_count": 65,
   "metadata": {
    "ExecuteTime": {
     "end_time": "2018-12-17T11:29:14.956228Z",
     "start_time": "2018-12-17T11:29:14.953094Z"
    }
   },
   "outputs": [],
   "source": [
    "from sklearn.model_selection import cross_val_predict"
   ]
  },
  {
   "cell_type": "code",
   "execution_count": null,
   "metadata": {},
   "outputs": [],
   "source": []
  },
  {
   "cell_type": "code",
   "execution_count": 66,
   "metadata": {
    "ExecuteTime": {
     "end_time": "2018-12-17T11:29:16.201139Z",
     "start_time": "2018-12-17T11:29:16.195768Z"
    }
   },
   "outputs": [],
   "source": [
    "def CrossValPredict_RF(X_lat, Y_lat, X_lng, Y_lng, splits_lat, splits_lng):\n",
    "    from sklearn.ensemble import RandomForestRegressor\n",
    "\n",
    "    rf_lat = RandomForestRegressor(n_estimators = 100, random_state = 1)\n",
    "    y_pred_lat = cross_val_predict(rf_lat, X_lat, Y_lat, cv = splits_lat, n_jobs = -1)\n",
    "\n",
    "\n",
    "    rf_lng = RandomForestRegressor(n_estimators = 100, random_state = 1)\n",
    "    y_pred_lng = cross_val_predict(rf_lng, X_lng, Y_lng, cv = splits_lng, n_jobs = -1)\n",
    "    \n",
    "    return y_pred_lat, y_pred_lng"
   ]
  },
  {
   "cell_type": "code",
   "execution_count": 67,
   "metadata": {
    "ExecuteTime": {
     "end_time": "2018-12-17T11:29:16.714196Z",
     "start_time": "2018-12-17T11:29:16.710166Z"
    }
   },
   "outputs": [],
   "source": [
    "def CrossValPredict_ET(X_lat, Y_lat, X_lng, Y_lng, splits_lat, splits_lng) :    \n",
    "    from sklearn.ensemble import ExtraTreesRegressor\n",
    "\n",
    "    rf_lat = ExtraTreesRegressor(n_estimators = 100, random_state = 1)\n",
    "    y_pred_lat = cross_val_predict(rf_lat, X_lat, Y_lat, cv = splits_lat, n_jobs = -1)\n",
    "\n",
    "\n",
    "    rf_lng = ExtraTreesRegressor(n_estimators = 100, random_state = 1)\n",
    "    y_pred_lng = cross_val_predict(rf_lng, X_lng, Y_lng, cv = splits_lng, n_jobs = -1)\n",
    "    \n",
    "    return y_pred_lat, y_pred_lng"
   ]
  },
  {
   "cell_type": "code",
   "execution_count": 68,
   "metadata": {
    "ExecuteTime": {
     "end_time": "2018-12-17T11:29:17.921611Z",
     "start_time": "2018-12-17T11:29:17.917809Z"
    }
   },
   "outputs": [],
   "source": [
    "def CrossValPredict_GB(X_lat, Y_lat, X_lng, Y_lng, splits_lat, splits_lng):\n",
    "    from sklearn.ensemble import GradientBoostingRegressor\n",
    "\n",
    "    rf_lat = GradientBoostingRegressor(n_estimators = 500, random_state = 1)\n",
    "    y_pred_lat = cross_val_predict(rf_lat, X_lat, Y_lat, cv = splits_lat, n_jobs = -1)\n",
    "\n",
    "\n",
    "    rf_lng = GradientBoostingRegressor(n_estimators = 500, random_state = 1)\n",
    "    y_pred_lng = cross_val_predict(rf_lng, X_lng, Y_lng, cv = splits_lng, n_jobs = -1)\n",
    "    \n",
    "    return y_pred_lat, y_pred_lng"
   ]
  },
  {
   "cell_type": "markdown",
   "metadata": {},
   "source": [
    "# Evaluation des Résultats"
   ]
  },
  {
   "cell_type": "code",
   "execution_count": 69,
   "metadata": {
    "ExecuteTime": {
     "end_time": "2018-12-17T11:29:20.505510Z",
     "start_time": "2018-12-17T11:29:20.501952Z"
    }
   },
   "outputs": [],
   "source": [
    "def vincenty_vec(vec_coord):\n",
    "    vin_vec_dist = np.zeros(vec_coord.shape[0])\n",
    "    if vec_coord.shape[1] !=  4:\n",
    "        print('ERROR: Bad number of columns (shall be = 4)')\n",
    "    else:\n",
    "        vin_vec_dist = [vincenty(vec_coord[m,0:2],vec_coord[m,2:]).meters for m in range(vec_coord.shape[0])]\n",
    "    return vin_vec_dist"
   ]
  },
  {
   "cell_type": "code",
   "execution_count": 70,
   "metadata": {
    "ExecuteTime": {
     "end_time": "2018-12-17T11:29:20.984253Z",
     "start_time": "2018-12-17T11:29:20.981933Z"
    }
   },
   "outputs": [],
   "source": [
    "# evaluate distance error for each predicted point\n",
    "def Eval_geoloc(y_train_lat , y_train_lng, y_pred_lat, y_pred_lng):\n",
    "    vec_coord = np.array([y_train_lat , y_train_lng, y_pred_lat, y_pred_lng])\n",
    "    err_vec = vincenty_vec(np.transpose(vec_coord))\n",
    "    \n",
    "    return err_vec"
   ]
  },
  {
   "cell_type": "markdown",
   "metadata": {},
   "source": [
    "## Train Test"
   ]
  },
  {
   "cell_type": "code",
   "execution_count": 494,
   "metadata": {
    "ExecuteTime": {
     "end_time": "2018-12-13T15:35:46.227842Z",
     "start_time": "2018-12-13T15:35:46.224894Z"
    }
   },
   "outputs": [
    {
     "name": "stdout",
     "output_type": "stream",
     "text": [
      "(781,)\n",
      "(781,)\n",
      "(781,)\n",
      "(781,)\n"
     ]
    }
   ],
   "source": [
    "print(y_test_lat.shape)\n",
    "print(y_test_lng.shape)\n",
    "print(y_pred_lat.shape)\n",
    "print(y_pred_lng.shape)"
   ]
  },
  {
   "cell_type": "code",
   "execution_count": 497,
   "metadata": {
    "ExecuteTime": {
     "end_time": "2018-12-13T15:36:29.698474Z",
     "start_time": "2018-12-13T15:36:29.660386Z"
    }
   },
   "outputs": [],
   "source": [
    "err_vec = Eval_geoloc(y_test_lat, y_test_lng, y_pred_lat, y_pred_lng)"
   ]
  },
  {
   "cell_type": "markdown",
   "metadata": {},
   "source": [
    "## Crossval"
   ]
  },
  {
   "cell_type": "code",
   "execution_count": 71,
   "metadata": {
    "ExecuteTime": {
     "end_time": "2018-12-17T11:29:25.053991Z",
     "start_time": "2018-12-17T11:29:24.717035Z"
    }
   },
   "outputs": [],
   "source": [
    "X_lat, Y_lat, splits_lat = split(df_feat_lat, ground_truth_lat, nbOfSplit=10, seed = 1)\n",
    "X_lng, Y_lng, splits_lng = split(df_feat_lng, ground_truth_lng, nbOfSplit=10, seed = 1)"
   ]
  },
  {
   "cell_type": "code",
   "execution_count": 72,
   "metadata": {
    "ExecuteTime": {
     "end_time": "2018-12-17T11:29:25.613714Z",
     "start_time": "2018-12-17T11:29:25.598317Z"
    }
   },
   "outputs": [
    {
     "data": {
      "text/html": [
       "<div>\n",
       "<style scoped>\n",
       "    .dataframe tbody tr th:only-of-type {\n",
       "        vertical-align: middle;\n",
       "    }\n",
       "\n",
       "    .dataframe tbody tr th {\n",
       "        vertical-align: top;\n",
       "    }\n",
       "\n",
       "    .dataframe thead th {\n",
       "        text-align: right;\n",
       "    }\n",
       "</style>\n",
       "<table border=\"1\" class=\"dataframe\">\n",
       "  <thead>\n",
       "    <tr style=\"text-align: right;\">\n",
       "      <th></th>\n",
       "      <th>0</th>\n",
       "      <th>1</th>\n",
       "      <th>2</th>\n",
       "      <th>3</th>\n",
       "      <th>4</th>\n",
       "      <th>5</th>\n",
       "      <th>6</th>\n",
       "      <th>7</th>\n",
       "      <th>8</th>\n",
       "      <th>9</th>\n",
       "      <th>...</th>\n",
       "      <th>767</th>\n",
       "      <th>768</th>\n",
       "      <th>769</th>\n",
       "      <th>770</th>\n",
       "      <th>771</th>\n",
       "      <th>772</th>\n",
       "      <th>773</th>\n",
       "      <th>774</th>\n",
       "      <th>775</th>\n",
       "      <th>776</th>\n",
       "    </tr>\n",
       "  </thead>\n",
       "  <tbody>\n",
       "    <tr>\n",
       "      <th>0</th>\n",
       "      <td>-0.012838</td>\n",
       "      <td>-0.012838</td>\n",
       "      <td>-0.012838</td>\n",
       "      <td>-0.022241</td>\n",
       "      <td>-0.036334</td>\n",
       "      <td>-0.119193</td>\n",
       "      <td>-0.105664</td>\n",
       "      <td>-0.072812</td>\n",
       "      <td>-0.012838</td>\n",
       "      <td>0.0</td>\n",
       "      <td>...</td>\n",
       "      <td>-0.240411</td>\n",
       "      <td>-0.204977</td>\n",
       "      <td>-0.329621</td>\n",
       "      <td>-0.283139</td>\n",
       "      <td>-0.012838</td>\n",
       "      <td>-0.012838</td>\n",
       "      <td>-0.217278</td>\n",
       "      <td>-0.187936</td>\n",
       "      <td>-0.012838</td>\n",
       "      <td>-0.012838</td>\n",
       "    </tr>\n",
       "    <tr>\n",
       "      <th>1</th>\n",
       "      <td>-0.012838</td>\n",
       "      <td>-0.012838</td>\n",
       "      <td>-0.012838</td>\n",
       "      <td>-0.022241</td>\n",
       "      <td>-0.036334</td>\n",
       "      <td>-0.119193</td>\n",
       "      <td>-0.105664</td>\n",
       "      <td>-0.072812</td>\n",
       "      <td>-0.012838</td>\n",
       "      <td>0.0</td>\n",
       "      <td>...</td>\n",
       "      <td>-0.240411</td>\n",
       "      <td>-0.204977</td>\n",
       "      <td>-0.329621</td>\n",
       "      <td>-0.283139</td>\n",
       "      <td>-0.012838</td>\n",
       "      <td>-0.012838</td>\n",
       "      <td>-0.217278</td>\n",
       "      <td>-0.187936</td>\n",
       "      <td>-0.012838</td>\n",
       "      <td>-0.012838</td>\n",
       "    </tr>\n",
       "    <tr>\n",
       "      <th>2</th>\n",
       "      <td>-0.012838</td>\n",
       "      <td>-0.012838</td>\n",
       "      <td>-0.012838</td>\n",
       "      <td>-0.022241</td>\n",
       "      <td>-0.036334</td>\n",
       "      <td>-0.119193</td>\n",
       "      <td>-0.105664</td>\n",
       "      <td>-0.072812</td>\n",
       "      <td>-0.012838</td>\n",
       "      <td>0.0</td>\n",
       "      <td>...</td>\n",
       "      <td>-0.240411</td>\n",
       "      <td>-0.204977</td>\n",
       "      <td>-0.329621</td>\n",
       "      <td>-0.283139</td>\n",
       "      <td>-0.012838</td>\n",
       "      <td>-0.012838</td>\n",
       "      <td>-0.217278</td>\n",
       "      <td>-0.187936</td>\n",
       "      <td>-0.012838</td>\n",
       "      <td>-0.012838</td>\n",
       "    </tr>\n",
       "    <tr>\n",
       "      <th>3</th>\n",
       "      <td>-0.012838</td>\n",
       "      <td>-0.012838</td>\n",
       "      <td>-0.012838</td>\n",
       "      <td>-0.022241</td>\n",
       "      <td>-0.036334</td>\n",
       "      <td>-0.119193</td>\n",
       "      <td>-0.105664</td>\n",
       "      <td>-0.072812</td>\n",
       "      <td>-0.012838</td>\n",
       "      <td>0.0</td>\n",
       "      <td>...</td>\n",
       "      <td>-0.240411</td>\n",
       "      <td>-0.204977</td>\n",
       "      <td>-0.329621</td>\n",
       "      <td>-0.283139</td>\n",
       "      <td>-0.012838</td>\n",
       "      <td>-0.012838</td>\n",
       "      <td>-0.217278</td>\n",
       "      <td>-0.187936</td>\n",
       "      <td>-0.012838</td>\n",
       "      <td>-0.012838</td>\n",
       "    </tr>\n",
       "    <tr>\n",
       "      <th>4</th>\n",
       "      <td>-0.012838</td>\n",
       "      <td>-0.012838</td>\n",
       "      <td>-0.012838</td>\n",
       "      <td>-0.022241</td>\n",
       "      <td>-0.036334</td>\n",
       "      <td>-0.119193</td>\n",
       "      <td>9.463993</td>\n",
       "      <td>-0.072812</td>\n",
       "      <td>-0.012838</td>\n",
       "      <td>0.0</td>\n",
       "      <td>...</td>\n",
       "      <td>-0.240411</td>\n",
       "      <td>-0.204977</td>\n",
       "      <td>-0.329621</td>\n",
       "      <td>-0.283139</td>\n",
       "      <td>-0.012838</td>\n",
       "      <td>-0.012838</td>\n",
       "      <td>-0.217278</td>\n",
       "      <td>-0.187936</td>\n",
       "      <td>-0.012838</td>\n",
       "      <td>-0.012838</td>\n",
       "    </tr>\n",
       "  </tbody>\n",
       "</table>\n",
       "<p>5 rows × 777 columns</p>\n",
       "</div>"
      ],
      "text/plain": [
       "        0         1         2         3         4         5         6    \\\n",
       "0 -0.012838 -0.012838 -0.012838 -0.022241 -0.036334 -0.119193 -0.105664   \n",
       "1 -0.012838 -0.012838 -0.012838 -0.022241 -0.036334 -0.119193 -0.105664   \n",
       "2 -0.012838 -0.012838 -0.012838 -0.022241 -0.036334 -0.119193 -0.105664   \n",
       "3 -0.012838 -0.012838 -0.012838 -0.022241 -0.036334 -0.119193 -0.105664   \n",
       "4 -0.012838 -0.012838 -0.012838 -0.022241 -0.036334 -0.119193  9.463993   \n",
       "\n",
       "        7         8    9      ...          767       768       769       770  \\\n",
       "0 -0.072812 -0.012838  0.0    ...    -0.240411 -0.204977 -0.329621 -0.283139   \n",
       "1 -0.072812 -0.012838  0.0    ...    -0.240411 -0.204977 -0.329621 -0.283139   \n",
       "2 -0.072812 -0.012838  0.0    ...    -0.240411 -0.204977 -0.329621 -0.283139   \n",
       "3 -0.072812 -0.012838  0.0    ...    -0.240411 -0.204977 -0.329621 -0.283139   \n",
       "4 -0.072812 -0.012838  0.0    ...    -0.240411 -0.204977 -0.329621 -0.283139   \n",
       "\n",
       "        771       772       773       774       775       776  \n",
       "0 -0.012838 -0.012838 -0.217278 -0.187936 -0.012838 -0.012838  \n",
       "1 -0.012838 -0.012838 -0.217278 -0.187936 -0.012838 -0.012838  \n",
       "2 -0.012838 -0.012838 -0.217278 -0.187936 -0.012838 -0.012838  \n",
       "3 -0.012838 -0.012838 -0.217278 -0.187936 -0.012838 -0.012838  \n",
       "4 -0.012838 -0.012838 -0.217278 -0.187936 -0.012838 -0.012838  \n",
       "\n",
       "[5 rows x 777 columns]"
      ]
     },
     "execution_count": 72,
     "metadata": {},
     "output_type": "execute_result"
    }
   ],
   "source": [
    "X_lat.head()"
   ]
  },
  {
   "cell_type": "code",
   "execution_count": 73,
   "metadata": {
    "ExecuteTime": {
     "end_time": "2018-12-17T11:29:26.672253Z",
     "start_time": "2018-12-17T11:29:26.648738Z"
    }
   },
   "outputs": [
    {
     "data": {
      "text/html": [
       "<div>\n",
       "<style scoped>\n",
       "    .dataframe tbody tr th:only-of-type {\n",
       "        vertical-align: middle;\n",
       "    }\n",
       "\n",
       "    .dataframe tbody tr th {\n",
       "        vertical-align: top;\n",
       "    }\n",
       "\n",
       "    .dataframe thead th {\n",
       "        text-align: right;\n",
       "    }\n",
       "</style>\n",
       "<table border=\"1\" class=\"dataframe\">\n",
       "  <thead>\n",
       "    <tr style=\"text-align: right;\">\n",
       "      <th></th>\n",
       "      <th>0</th>\n",
       "      <th>1</th>\n",
       "      <th>2</th>\n",
       "      <th>3</th>\n",
       "      <th>4</th>\n",
       "      <th>5</th>\n",
       "      <th>6</th>\n",
       "      <th>7</th>\n",
       "      <th>8</th>\n",
       "      <th>9</th>\n",
       "      <th>...</th>\n",
       "      <th>767</th>\n",
       "      <th>768</th>\n",
       "      <th>769</th>\n",
       "      <th>770</th>\n",
       "      <th>771</th>\n",
       "      <th>772</th>\n",
       "      <th>773</th>\n",
       "      <th>774</th>\n",
       "      <th>775</th>\n",
       "      <th>776</th>\n",
       "    </tr>\n",
       "  </thead>\n",
       "  <tbody>\n",
       "    <tr>\n",
       "      <th>0</th>\n",
       "      <td>0.012838</td>\n",
       "      <td>0.012838</td>\n",
       "      <td>0.012838</td>\n",
       "      <td>0.022241</td>\n",
       "      <td>0.036334</td>\n",
       "      <td>0.119193</td>\n",
       "      <td>0.105664</td>\n",
       "      <td>0.072812</td>\n",
       "      <td>0.012838</td>\n",
       "      <td>0.0</td>\n",
       "      <td>...</td>\n",
       "      <td>-0.240411</td>\n",
       "      <td>-0.204977</td>\n",
       "      <td>-0.329621</td>\n",
       "      <td>-0.283139</td>\n",
       "      <td>-0.012838</td>\n",
       "      <td>-0.012838</td>\n",
       "      <td>-0.217278</td>\n",
       "      <td>-0.187936</td>\n",
       "      <td>-0.012838</td>\n",
       "      <td>-0.012838</td>\n",
       "    </tr>\n",
       "    <tr>\n",
       "      <th>1</th>\n",
       "      <td>0.012838</td>\n",
       "      <td>0.012838</td>\n",
       "      <td>0.012838</td>\n",
       "      <td>0.022241</td>\n",
       "      <td>0.036334</td>\n",
       "      <td>0.119193</td>\n",
       "      <td>0.105664</td>\n",
       "      <td>0.072812</td>\n",
       "      <td>0.012838</td>\n",
       "      <td>0.0</td>\n",
       "      <td>...</td>\n",
       "      <td>-0.240411</td>\n",
       "      <td>-0.204977</td>\n",
       "      <td>-0.329621</td>\n",
       "      <td>-0.283139</td>\n",
       "      <td>-0.012838</td>\n",
       "      <td>-0.012838</td>\n",
       "      <td>-0.217278</td>\n",
       "      <td>-0.187936</td>\n",
       "      <td>-0.012838</td>\n",
       "      <td>-0.012838</td>\n",
       "    </tr>\n",
       "    <tr>\n",
       "      <th>2</th>\n",
       "      <td>0.012838</td>\n",
       "      <td>0.012838</td>\n",
       "      <td>0.012838</td>\n",
       "      <td>0.022241</td>\n",
       "      <td>0.036334</td>\n",
       "      <td>0.119193</td>\n",
       "      <td>0.105664</td>\n",
       "      <td>0.072812</td>\n",
       "      <td>0.012838</td>\n",
       "      <td>0.0</td>\n",
       "      <td>...</td>\n",
       "      <td>-0.240411</td>\n",
       "      <td>-0.204977</td>\n",
       "      <td>-0.329621</td>\n",
       "      <td>-0.283139</td>\n",
       "      <td>-0.012838</td>\n",
       "      <td>-0.012838</td>\n",
       "      <td>-0.217278</td>\n",
       "      <td>-0.187936</td>\n",
       "      <td>-0.012838</td>\n",
       "      <td>-0.012838</td>\n",
       "    </tr>\n",
       "    <tr>\n",
       "      <th>3</th>\n",
       "      <td>0.012838</td>\n",
       "      <td>0.012838</td>\n",
       "      <td>0.012838</td>\n",
       "      <td>0.022241</td>\n",
       "      <td>0.036334</td>\n",
       "      <td>0.119193</td>\n",
       "      <td>0.105664</td>\n",
       "      <td>0.072812</td>\n",
       "      <td>0.012838</td>\n",
       "      <td>0.0</td>\n",
       "      <td>...</td>\n",
       "      <td>-0.240411</td>\n",
       "      <td>-0.204977</td>\n",
       "      <td>-0.329621</td>\n",
       "      <td>-0.283139</td>\n",
       "      <td>-0.012838</td>\n",
       "      <td>-0.012838</td>\n",
       "      <td>-0.217278</td>\n",
       "      <td>-0.187936</td>\n",
       "      <td>-0.012838</td>\n",
       "      <td>-0.012838</td>\n",
       "    </tr>\n",
       "    <tr>\n",
       "      <th>4</th>\n",
       "      <td>0.012838</td>\n",
       "      <td>0.012838</td>\n",
       "      <td>0.012838</td>\n",
       "      <td>0.022241</td>\n",
       "      <td>0.036334</td>\n",
       "      <td>0.119193</td>\n",
       "      <td>-9.463993</td>\n",
       "      <td>0.072812</td>\n",
       "      <td>0.012838</td>\n",
       "      <td>0.0</td>\n",
       "      <td>...</td>\n",
       "      <td>-0.240411</td>\n",
       "      <td>-0.204977</td>\n",
       "      <td>-0.329621</td>\n",
       "      <td>-0.283139</td>\n",
       "      <td>-0.012838</td>\n",
       "      <td>-0.012838</td>\n",
       "      <td>-0.217278</td>\n",
       "      <td>-0.187936</td>\n",
       "      <td>-0.012838</td>\n",
       "      <td>-0.012838</td>\n",
       "    </tr>\n",
       "  </tbody>\n",
       "</table>\n",
       "<p>5 rows × 777 columns</p>\n",
       "</div>"
      ],
      "text/plain": [
       "        0         1         2         3         4         5         6    \\\n",
       "0  0.012838  0.012838  0.012838  0.022241  0.036334  0.119193  0.105664   \n",
       "1  0.012838  0.012838  0.012838  0.022241  0.036334  0.119193  0.105664   \n",
       "2  0.012838  0.012838  0.012838  0.022241  0.036334  0.119193  0.105664   \n",
       "3  0.012838  0.012838  0.012838  0.022241  0.036334  0.119193  0.105664   \n",
       "4  0.012838  0.012838  0.012838  0.022241  0.036334  0.119193 -9.463993   \n",
       "\n",
       "        7         8    9      ...          767       768       769       770  \\\n",
       "0  0.072812  0.012838  0.0    ...    -0.240411 -0.204977 -0.329621 -0.283139   \n",
       "1  0.072812  0.012838  0.0    ...    -0.240411 -0.204977 -0.329621 -0.283139   \n",
       "2  0.072812  0.012838  0.0    ...    -0.240411 -0.204977 -0.329621 -0.283139   \n",
       "3  0.072812  0.012838  0.0    ...    -0.240411 -0.204977 -0.329621 -0.283139   \n",
       "4  0.072812  0.012838  0.0    ...    -0.240411 -0.204977 -0.329621 -0.283139   \n",
       "\n",
       "        771       772       773       774       775       776  \n",
       "0 -0.012838 -0.012838 -0.217278 -0.187936 -0.012838 -0.012838  \n",
       "1 -0.012838 -0.012838 -0.217278 -0.187936 -0.012838 -0.012838  \n",
       "2 -0.012838 -0.012838 -0.217278 -0.187936 -0.012838 -0.012838  \n",
       "3 -0.012838 -0.012838 -0.217278 -0.187936 -0.012838 -0.012838  \n",
       "4 -0.012838 -0.012838 -0.217278 -0.187936 -0.012838 -0.012838  \n",
       "\n",
       "[5 rows x 777 columns]"
      ]
     },
     "execution_count": 73,
     "metadata": {},
     "output_type": "execute_result"
    }
   ],
   "source": [
    "X_lng.head()"
   ]
  },
  {
   "cell_type": "code",
   "execution_count": 74,
   "metadata": {
    "ExecuteTime": {
     "end_time": "2018-12-17T11:33:36.526861Z",
     "start_time": "2018-12-17T11:29:28.249558Z"
    }
   },
   "outputs": [],
   "source": [
    "###############################################################################\n",
    "############ VALENTIN C'EST ICI QUE TU METS TON CODE <3 #######################\n",
    "###############################################################################\n",
    "\n",
    "\n",
    "# - - - - Exemple - - - - - -\n",
    "y_pred_lat, y_pred_lng = CrossValPredict_RF(X_lat, Y_lat, X_lng, Y_lng, splits_lat, splits_lat)"
   ]
  },
  {
   "cell_type": "code",
   "execution_count": 75,
   "metadata": {
    "ExecuteTime": {
     "end_time": "2018-12-17T11:33:37.081579Z",
     "start_time": "2018-12-17T11:33:37.077571Z"
    }
   },
   "outputs": [
    {
     "name": "stdout",
     "output_type": "stream",
     "text": [
      "(6068,)\n",
      "(6068,)\n",
      "(6068,)\n",
      "(6068,)\n"
     ]
    }
   ],
   "source": [
    "print(ground_truth_lat.shape)\n",
    "print(ground_truth_lng.shape)\n",
    "print(y_pred_lat.shape)\n",
    "print(y_pred_lng.shape)"
   ]
  },
  {
   "cell_type": "code",
   "execution_count": 76,
   "metadata": {
    "ExecuteTime": {
     "end_time": "2018-12-17T11:33:37.783359Z",
     "start_time": "2018-12-17T11:33:37.582440Z"
    }
   },
   "outputs": [],
   "source": [
    "err_vec = Eval_geoloc(ground_truth_lat, ground_truth_lng, y_pred_lat, y_pred_lng)"
   ]
  },
  {
   "cell_type": "code",
   "execution_count": null,
   "metadata": {
    "ExecuteTime": {
     "end_time": "2018-12-13T21:35:55.692281Z",
     "start_time": "2018-12-13T21:35:55.683797Z"
    }
   },
   "outputs": [],
   "source": []
  },
  {
   "cell_type": "code",
   "execution_count": 105,
   "metadata": {
    "ExecuteTime": {
     "end_time": "2018-12-13T21:57:40.619483Z",
     "start_time": "2018-12-13T21:57:40.616743Z"
    }
   },
   "outputs": [],
   "source": [
    "#Xtrain_lat = X_lat.loc[splits_lat[5][0],:]\n",
    "#Ytrain_lat = Y_lat[splits_lat[5][0]]\n",
    "\n",
    "#Xtest_lat = X_lat.loc[splits_lat[5][1],:]\n",
    "#Ytest_lat = Y_lat[splits_lat[5][1]]"
   ]
  },
  {
   "cell_type": "code",
   "execution_count": 106,
   "metadata": {
    "ExecuteTime": {
     "end_time": "2018-12-13T21:57:54.465492Z",
     "start_time": "2018-12-13T21:57:54.462743Z"
    }
   },
   "outputs": [],
   "source": [
    "#Xtrain_lng = X_lng.loc[splits_lng[5][0],:]\n",
    "#Ytrain_lng = Y_lng[splits_lng[5][0]]\n",
    "\n",
    "#Xtest_lng = X_lng.loc[splits_lng[5][1],:]\n",
    "#Ytest_lng = Y_lng[splits_lng[5][1]]"
   ]
  },
  {
   "cell_type": "code",
   "execution_count": 107,
   "metadata": {
    "ExecuteTime": {
     "end_time": "2018-12-13T21:57:59.111594Z",
     "start_time": "2018-12-13T21:57:59.108726Z"
    }
   },
   "outputs": [],
   "source": [
    "#y_pred_lat, y_pred_lng = rf_and_predict(Xtrain_lat, Xtest_lat, Ytrain_lat, \\\n",
    "#                                        Xtrain_lng, Xtest_lng, Ytrain_lng)"
   ]
  },
  {
   "cell_type": "code",
   "execution_count": 108,
   "metadata": {
    "ExecuteTime": {
     "end_time": "2018-12-13T21:58:01.406475Z",
     "start_time": "2018-12-13T21:58:01.402766Z"
    }
   },
   "outputs": [],
   "source": [
    "#err_vec = Eval_geoloc(Ytest_lat, Ytest_lng, y_pred_lat, y_pred_lng)"
   ]
  },
  {
   "cell_type": "markdown",
   "metadata": {
    "ExecuteTime": {
     "end_time": "2018-12-13T13:41:15.035793Z",
     "start_time": "2018-12-13T13:41:12.359Z"
    }
   },
   "source": [
    "## Plot error distribution"
   ]
  },
  {
   "cell_type": "code",
   "execution_count": 77,
   "metadata": {
    "ExecuteTime": {
     "end_time": "2018-12-17T11:34:26.353660Z",
     "start_time": "2018-12-17T11:34:26.179298Z"
    }
   },
   "outputs": [
    {
     "data": {
      "image/png": "[encoded data removed]",
      "text/plain": [
       "<Figure size 432x288 with 1 Axes>"
      ]
     },
     "metadata": {},
     "output_type": "display_data"
    }
   ],
   "source": [
    "values, base = np.histogram(err_vec, bins=50000)\n",
    "cumulative = np.cumsum(values) \n",
    "plt.figure();\n",
    "plt.plot(base[:-1]/1000, cumulative / np.float(np.sum(values))  * 100.0, c='blue')\n",
    "plt.grid(); plt.xlabel('Distance Error (km)'); plt.ylabel('Cum proba (%)'); plt.axis([0, 30, 0, 100]); \n",
    "plt.title('Error Cumulative Probability'); plt.legend( [\"Opt LLR\", \"LLR 95\", \"LLR 99\"])\n",
    "plt.show()"
   ]
  },
  {
   "cell_type": "code",
   "execution_count": 81,
   "metadata": {
    "ExecuteTime": {
     "end_time": "2018-12-17T11:35:31.567149Z",
     "start_time": "2018-12-17T11:35:30.428049Z"
    }
   },
   "outputs": [
    {
     "data": {
      "text/html": [
       "<div>\n",
       "<style scoped>\n",
       "    .dataframe tbody tr th:only-of-type {\n",
       "        vertical-align: middle;\n",
       "    }\n",
       "\n",
       "    .dataframe tbody tr th {\n",
       "        vertical-align: top;\n",
       "    }\n",
       "\n",
       "    .dataframe thead th {\n",
       "        text-align: right;\n",
       "    }\n",
       "</style>\n",
       "<table border=\"1\" class=\"dataframe\">\n",
       "  <thead>\n",
       "    <tr style=\"text-align: right;\">\n",
       "      <th></th>\n",
       "      <th>0</th>\n",
       "      <th>1</th>\n",
       "      <th>2</th>\n",
       "      <th>3</th>\n",
       "      <th>4</th>\n",
       "      <th>5</th>\n",
       "      <th>6</th>\n",
       "      <th>7</th>\n",
       "      <th>8</th>\n",
       "      <th>9</th>\n",
       "      <th>...</th>\n",
       "      <th>767</th>\n",
       "      <th>768</th>\n",
       "      <th>769</th>\n",
       "      <th>770</th>\n",
       "      <th>771</th>\n",
       "      <th>772</th>\n",
       "      <th>773</th>\n",
       "      <th>774</th>\n",
       "      <th>775</th>\n",
       "      <th>776</th>\n",
       "    </tr>\n",
       "  </thead>\n",
       "  <tbody>\n",
       "    <tr>\n",
       "      <th>count</th>\n",
       "      <td>6.068000e+03</td>\n",
       "      <td>6.068000e+03</td>\n",
       "      <td>6.068000e+03</td>\n",
       "      <td>6.068000e+03</td>\n",
       "      <td>6.068000e+03</td>\n",
       "      <td>6.068000e+03</td>\n",
       "      <td>6.068000e+03</td>\n",
       "      <td>6.068000e+03</td>\n",
       "      <td>6.068000e+03</td>\n",
       "      <td>6068.0</td>\n",
       "      <td>...</td>\n",
       "      <td>6.068000e+03</td>\n",
       "      <td>6.068000e+03</td>\n",
       "      <td>6.068000e+03</td>\n",
       "      <td>6.068000e+03</td>\n",
       "      <td>6.068000e+03</td>\n",
       "      <td>6.068000e+03</td>\n",
       "      <td>6.068000e+03</td>\n",
       "      <td>6.068000e+03</td>\n",
       "      <td>6.068000e+03</td>\n",
       "      <td>6.068000e+03</td>\n",
       "    </tr>\n",
       "    <tr>\n",
       "      <th>mean</th>\n",
       "      <td>-1.064414e-15</td>\n",
       "      <td>-1.072025e-15</td>\n",
       "      <td>-1.074363e-15</td>\n",
       "      <td>-1.244964e-16</td>\n",
       "      <td>-1.351012e-15</td>\n",
       "      <td>7.017705e-15</td>\n",
       "      <td>-2.749851e-16</td>\n",
       "      <td>8.134849e-15</td>\n",
       "      <td>-3.173378e-16</td>\n",
       "      <td>0.0</td>\n",
       "      <td>...</td>\n",
       "      <td>5.269150e-15</td>\n",
       "      <td>-2.961357e-16</td>\n",
       "      <td>-2.520525e-15</td>\n",
       "      <td>1.993644e-15</td>\n",
       "      <td>-4.555239e-16</td>\n",
       "      <td>-4.578498e-16</td>\n",
       "      <td>-3.056892e-15</td>\n",
       "      <td>3.648184e-15</td>\n",
       "      <td>-1.069696e-15</td>\n",
       "      <td>-1.072022e-15</td>\n",
       "    </tr>\n",
       "    <tr>\n",
       "      <th>std</th>\n",
       "      <td>1.000082e+00</td>\n",
       "      <td>1.000082e+00</td>\n",
       "      <td>1.000082e+00</td>\n",
       "      <td>1.000082e+00</td>\n",
       "      <td>1.000082e+00</td>\n",
       "      <td>1.000082e+00</td>\n",
       "      <td>1.000082e+00</td>\n",
       "      <td>1.000082e+00</td>\n",
       "      <td>1.000082e+00</td>\n",
       "      <td>0.0</td>\n",
       "      <td>...</td>\n",
       "      <td>1.000082e+00</td>\n",
       "      <td>1.000082e+00</td>\n",
       "      <td>1.000082e+00</td>\n",
       "      <td>1.000082e+00</td>\n",
       "      <td>1.000082e+00</td>\n",
       "      <td>1.000082e+00</td>\n",
       "      <td>1.000082e+00</td>\n",
       "      <td>1.000082e+00</td>\n",
       "      <td>1.000082e+00</td>\n",
       "      <td>1.000082e+00</td>\n",
       "    </tr>\n",
       "    <tr>\n",
       "      <th>min</th>\n",
       "      <td>-1.283846e-02</td>\n",
       "      <td>-1.283846e-02</td>\n",
       "      <td>-1.283846e-02</td>\n",
       "      <td>-2.224053e-02</td>\n",
       "      <td>-3.633362e-02</td>\n",
       "      <td>-1.191928e-01</td>\n",
       "      <td>-1.056636e-01</td>\n",
       "      <td>-7.281157e-02</td>\n",
       "      <td>-1.283846e-02</td>\n",
       "      <td>0.0</td>\n",
       "      <td>...</td>\n",
       "      <td>-2.404112e-01</td>\n",
       "      <td>-2.049769e-01</td>\n",
       "      <td>-3.296207e-01</td>\n",
       "      <td>-2.831386e-01</td>\n",
       "      <td>-1.283846e-02</td>\n",
       "      <td>-1.283846e-02</td>\n",
       "      <td>-2.172777e-01</td>\n",
       "      <td>-1.879362e-01</td>\n",
       "      <td>-1.283846e-02</td>\n",
       "      <td>-1.283846e-02</td>\n",
       "    </tr>\n",
       "    <tr>\n",
       "      <th>25%</th>\n",
       "      <td>-1.283846e-02</td>\n",
       "      <td>-1.283846e-02</td>\n",
       "      <td>-1.283846e-02</td>\n",
       "      <td>-2.224053e-02</td>\n",
       "      <td>-3.633362e-02</td>\n",
       "      <td>-1.191928e-01</td>\n",
       "      <td>-1.056636e-01</td>\n",
       "      <td>-7.281157e-02</td>\n",
       "      <td>-1.283846e-02</td>\n",
       "      <td>0.0</td>\n",
       "      <td>...</td>\n",
       "      <td>-2.404112e-01</td>\n",
       "      <td>-2.049769e-01</td>\n",
       "      <td>-3.296207e-01</td>\n",
       "      <td>-2.831386e-01</td>\n",
       "      <td>-1.283846e-02</td>\n",
       "      <td>-1.283846e-02</td>\n",
       "      <td>-2.172777e-01</td>\n",
       "      <td>-1.879362e-01</td>\n",
       "      <td>-1.283846e-02</td>\n",
       "      <td>-1.283846e-02</td>\n",
       "    </tr>\n",
       "    <tr>\n",
       "      <th>50%</th>\n",
       "      <td>-1.283846e-02</td>\n",
       "      <td>-1.283846e-02</td>\n",
       "      <td>-1.283846e-02</td>\n",
       "      <td>-2.224053e-02</td>\n",
       "      <td>-3.633362e-02</td>\n",
       "      <td>-1.191928e-01</td>\n",
       "      <td>-1.056636e-01</td>\n",
       "      <td>-7.281157e-02</td>\n",
       "      <td>-1.283846e-02</td>\n",
       "      <td>0.0</td>\n",
       "      <td>...</td>\n",
       "      <td>-2.404112e-01</td>\n",
       "      <td>-2.049769e-01</td>\n",
       "      <td>-3.296207e-01</td>\n",
       "      <td>-2.831386e-01</td>\n",
       "      <td>-1.283846e-02</td>\n",
       "      <td>-1.283846e-02</td>\n",
       "      <td>-2.172777e-01</td>\n",
       "      <td>-1.879362e-01</td>\n",
       "      <td>-1.283846e-02</td>\n",
       "      <td>-1.283846e-02</td>\n",
       "    </tr>\n",
       "    <tr>\n",
       "      <th>75%</th>\n",
       "      <td>-1.283846e-02</td>\n",
       "      <td>-1.283846e-02</td>\n",
       "      <td>-1.283846e-02</td>\n",
       "      <td>-2.224053e-02</td>\n",
       "      <td>-3.633362e-02</td>\n",
       "      <td>-1.191928e-01</td>\n",
       "      <td>-1.056636e-01</td>\n",
       "      <td>-7.281157e-02</td>\n",
       "      <td>-1.283846e-02</td>\n",
       "      <td>0.0</td>\n",
       "      <td>...</td>\n",
       "      <td>-2.404112e-01</td>\n",
       "      <td>-2.049769e-01</td>\n",
       "      <td>-3.296207e-01</td>\n",
       "      <td>-2.831386e-01</td>\n",
       "      <td>-1.283846e-02</td>\n",
       "      <td>-1.283846e-02</td>\n",
       "      <td>-2.172777e-01</td>\n",
       "      <td>-1.879362e-01</td>\n",
       "      <td>-1.283846e-02</td>\n",
       "      <td>-1.283846e-02</td>\n",
       "    </tr>\n",
       "    <tr>\n",
       "      <th>max</th>\n",
       "      <td>7.789095e+01</td>\n",
       "      <td>7.789095e+01</td>\n",
       "      <td>7.789095e+01</td>\n",
       "      <td>4.496295e+01</td>\n",
       "      <td>2.752272e+01</td>\n",
       "      <td>8.389770e+00</td>\n",
       "      <td>9.463993e+00</td>\n",
       "      <td>1.373408e+01</td>\n",
       "      <td>7.789095e+01</td>\n",
       "      <td>0.0</td>\n",
       "      <td>...</td>\n",
       "      <td>4.583408e+00</td>\n",
       "      <td>7.036944e+00</td>\n",
       "      <td>3.375891e+00</td>\n",
       "      <td>5.317791e+00</td>\n",
       "      <td>7.789095e+01</td>\n",
       "      <td>7.789095e+01</td>\n",
       "      <td>5.099070e+00</td>\n",
       "      <td>7.800832e+00</td>\n",
       "      <td>7.789095e+01</td>\n",
       "      <td>7.789095e+01</td>\n",
       "    </tr>\n",
       "  </tbody>\n",
       "</table>\n",
       "<p>8 rows × 777 columns</p>\n",
       "</div>"
      ],
      "text/plain": [
       "                0             1             2             3             4    \\\n",
       "count  6.068000e+03  6.068000e+03  6.068000e+03  6.068000e+03  6.068000e+03   \n",
       "mean  -1.064414e-15 -1.072025e-15 -1.074363e-15 -1.244964e-16 -1.351012e-15   \n",
       "std    1.000082e+00  1.000082e+00  1.000082e+00  1.000082e+00  1.000082e+00   \n",
       "min   -1.283846e-02 -1.283846e-02 -1.283846e-02 -2.224053e-02 -3.633362e-02   \n",
       "25%   -1.283846e-02 -1.283846e-02 -1.283846e-02 -2.224053e-02 -3.633362e-02   \n",
       "50%   -1.283846e-02 -1.283846e-02 -1.283846e-02 -2.224053e-02 -3.633362e-02   \n",
       "75%   -1.283846e-02 -1.283846e-02 -1.283846e-02 -2.224053e-02 -3.633362e-02   \n",
       "max    7.789095e+01  7.789095e+01  7.789095e+01  4.496295e+01  2.752272e+01   \n",
       "\n",
       "                5             6             7             8       9    \\\n",
       "count  6.068000e+03  6.068000e+03  6.068000e+03  6.068000e+03  6068.0   \n",
       "mean   7.017705e-15 -2.749851e-16  8.134849e-15 -3.173378e-16     0.0   \n",
       "std    1.000082e+00  1.000082e+00  1.000082e+00  1.000082e+00     0.0   \n",
       "min   -1.191928e-01 -1.056636e-01 -7.281157e-02 -1.283846e-02     0.0   \n",
       "25%   -1.191928e-01 -1.056636e-01 -7.281157e-02 -1.283846e-02     0.0   \n",
       "50%   -1.191928e-01 -1.056636e-01 -7.281157e-02 -1.283846e-02     0.0   \n",
       "75%   -1.191928e-01 -1.056636e-01 -7.281157e-02 -1.283846e-02     0.0   \n",
       "max    8.389770e+00  9.463993e+00  1.373408e+01  7.789095e+01     0.0   \n",
       "\n",
       "           ...                767           768           769           770  \\\n",
       "count      ...       6.068000e+03  6.068000e+03  6.068000e+03  6.068000e+03   \n",
       "mean       ...       5.269150e-15 -2.961357e-16 -2.520525e-15  1.993644e-15   \n",
       "std        ...       1.000082e+00  1.000082e+00  1.000082e+00  1.000082e+00   \n",
       "min        ...      -2.404112e-01 -2.049769e-01 -3.296207e-01 -2.831386e-01   \n",
       "25%        ...      -2.404112e-01 -2.049769e-01 -3.296207e-01 -2.831386e-01   \n",
       "50%        ...      -2.404112e-01 -2.049769e-01 -3.296207e-01 -2.831386e-01   \n",
       "75%        ...      -2.404112e-01 -2.049769e-01 -3.296207e-01 -2.831386e-01   \n",
       "max        ...       4.583408e+00  7.036944e+00  3.375891e+00  5.317791e+00   \n",
       "\n",
       "                771           772           773           774           775  \\\n",
       "count  6.068000e+03  6.068000e+03  6.068000e+03  6.068000e+03  6.068000e+03   \n",
       "mean  -4.555239e-16 -4.578498e-16 -3.056892e-15  3.648184e-15 -1.069696e-15   \n",
       "std    1.000082e+00  1.000082e+00  1.000082e+00  1.000082e+00  1.000082e+00   \n",
       "min   -1.283846e-02 -1.283846e-02 -2.172777e-01 -1.879362e-01 -1.283846e-02   \n",
       "25%   -1.283846e-02 -1.283846e-02 -2.172777e-01 -1.879362e-01 -1.283846e-02   \n",
       "50%   -1.283846e-02 -1.283846e-02 -2.172777e-01 -1.879362e-01 -1.283846e-02   \n",
       "75%   -1.283846e-02 -1.283846e-02 -2.172777e-01 -1.879362e-01 -1.283846e-02   \n",
       "max    7.789095e+01  7.789095e+01  5.099070e+00  7.800832e+00  7.789095e+01   \n",
       "\n",
       "                776  \n",
       "count  6.068000e+03  \n",
       "mean  -1.072022e-15  \n",
       "std    1.000082e+00  \n",
       "min   -1.283846e-02  \n",
       "25%   -1.283846e-02  \n",
       "50%   -1.283846e-02  \n",
       "75%   -1.283846e-02  \n",
       "max    7.789095e+01  \n",
       "\n",
       "[8 rows x 777 columns]"
      ]
     },
     "execution_count": 81,
     "metadata": {},
     "output_type": "execute_result"
    }
   ],
   "source": [
    "X_lat.describe()"
   ]
  },
  {
   "cell_type": "code",
   "execution_count": 78,
   "metadata": {
    "ExecuteTime": {
     "end_time": "2018-12-17T11:34:27.851481Z",
     "start_time": "2018-12-17T11:34:27.845853Z"
    }
   },
   "outputs": [
    {
     "data": {
      "text/plain": [
       "6446.68393110744"
      ]
     },
     "execution_count": 78,
     "metadata": {},
     "output_type": "execute_result"
    }
   ],
   "source": [
    "# Error criterion\n",
    "\n",
    "np.percentile(err_vec, 80)"
   ]
  },
  {
   "cell_type": "code",
   "execution_count": 506,
   "metadata": {
    "ExecuteTime": {
     "end_time": "2018-12-13T15:42:16.709222Z",
     "start_time": "2018-12-13T15:42:16.694133Z"
    }
   },
   "outputs": [
    {
     "ename": "ValueError",
     "evalue": "Length of values does not match length of index",
     "output_type": "error",
     "traceback": [
      "\u001b[0;31m---------------------------------------------------------------------------\u001b[0m",
      "\u001b[0;31mValueError\u001b[0m                                Traceback (most recent call last)",
      "\u001b[0;32m<ipython-input-506-5f1f691afe06>\u001b[0m in \u001b[0;36m<module>\u001b[0;34m()\u001b[0m\n\u001b[1;32m      3\u001b[0m \u001b[0mdf\u001b[0m\u001b[0;34m[\u001b[0m\u001b[0;34m'lng'\u001b[0m\u001b[0;34m]\u001b[0m \u001b[0;34m=\u001b[0m \u001b[0mground_truth_lng\u001b[0m\u001b[0;34m\u001b[0m\u001b[0m\n\u001b[1;32m      4\u001b[0m \u001b[0mdf\u001b[0m\u001b[0;34m[\u001b[0m\u001b[0;34m'pred_lng'\u001b[0m\u001b[0;34m]\u001b[0m \u001b[0;34m=\u001b[0m \u001b[0my_pred_lng\u001b[0m\u001b[0;34m\u001b[0m\u001b[0m\n\u001b[0;32m----> 5\u001b[0;31m \u001b[0mdf\u001b[0m\u001b[0;34m[\u001b[0m\u001b[0;34m'messid'\u001b[0m\u001b[0;34m]\u001b[0m \u001b[0;34m=\u001b[0m \u001b[0mid_list_train\u001b[0m\u001b[0;34m\u001b[0m\u001b[0m\n\u001b[0m",
      "\u001b[0;32m~/anaconda3/lib/python3.6/site-packages/pandas/core/frame.py\u001b[0m in \u001b[0;36m__setitem__\u001b[0;34m(self, key, value)\u001b[0m\n\u001b[1;32m   3114\u001b[0m         \u001b[0;32melse\u001b[0m\u001b[0;34m:\u001b[0m\u001b[0;34m\u001b[0m\u001b[0m\n\u001b[1;32m   3115\u001b[0m             \u001b[0;31m# set column\u001b[0m\u001b[0;34m\u001b[0m\u001b[0;34m\u001b[0m\u001b[0m\n\u001b[0;32m-> 3116\u001b[0;31m             \u001b[0mself\u001b[0m\u001b[0;34m.\u001b[0m\u001b[0m_set_item\u001b[0m\u001b[0;34m(\u001b[0m\u001b[0mkey\u001b[0m\u001b[0;34m,\u001b[0m \u001b[0mvalue\u001b[0m\u001b[0;34m)\u001b[0m\u001b[0;34m\u001b[0m\u001b[0m\n\u001b[0m\u001b[1;32m   3117\u001b[0m \u001b[0;34m\u001b[0m\u001b[0m\n\u001b[1;32m   3118\u001b[0m     \u001b[0;32mdef\u001b[0m \u001b[0m_setitem_slice\u001b[0m\u001b[0;34m(\u001b[0m\u001b[0mself\u001b[0m\u001b[0;34m,\u001b[0m \u001b[0mkey\u001b[0m\u001b[0;34m,\u001b[0m \u001b[0mvalue\u001b[0m\u001b[0;34m)\u001b[0m\u001b[0;34m:\u001b[0m\u001b[0;34m\u001b[0m\u001b[0m\n",
      "\u001b[0;32m~/anaconda3/lib/python3.6/site-packages/pandas/core/frame.py\u001b[0m in \u001b[0;36m_set_item\u001b[0;34m(self, key, value)\u001b[0m\n\u001b[1;32m   3189\u001b[0m \u001b[0;34m\u001b[0m\u001b[0m\n\u001b[1;32m   3190\u001b[0m         \u001b[0mself\u001b[0m\u001b[0;34m.\u001b[0m\u001b[0m_ensure_valid_index\u001b[0m\u001b[0;34m(\u001b[0m\u001b[0mvalue\u001b[0m\u001b[0;34m)\u001b[0m\u001b[0;34m\u001b[0m\u001b[0m\n\u001b[0;32m-> 3191\u001b[0;31m         \u001b[0mvalue\u001b[0m \u001b[0;34m=\u001b[0m \u001b[0mself\u001b[0m\u001b[0;34m.\u001b[0m\u001b[0m_sanitize_column\u001b[0m\u001b[0;34m(\u001b[0m\u001b[0mkey\u001b[0m\u001b[0;34m,\u001b[0m \u001b[0mvalue\u001b[0m\u001b[0;34m)\u001b[0m\u001b[0;34m\u001b[0m\u001b[0m\n\u001b[0m\u001b[1;32m   3192\u001b[0m         \u001b[0mNDFrame\u001b[0m\u001b[0;34m.\u001b[0m\u001b[0m_set_item\u001b[0m\u001b[0;34m(\u001b[0m\u001b[0mself\u001b[0m\u001b[0;34m,\u001b[0m \u001b[0mkey\u001b[0m\u001b[0;34m,\u001b[0m \u001b[0mvalue\u001b[0m\u001b[0;34m)\u001b[0m\u001b[0;34m\u001b[0m\u001b[0m\n\u001b[1;32m   3193\u001b[0m \u001b[0;34m\u001b[0m\u001b[0m\n",
      "\u001b[0;32m~/anaconda3/lib/python3.6/site-packages/pandas/core/frame.py\u001b[0m in \u001b[0;36m_sanitize_column\u001b[0;34m(self, key, value, broadcast)\u001b[0m\n\u001b[1;32m   3386\u001b[0m \u001b[0;34m\u001b[0m\u001b[0m\n\u001b[1;32m   3387\u001b[0m             \u001b[0;31m# turn me into an ndarray\u001b[0m\u001b[0;34m\u001b[0m\u001b[0;34m\u001b[0m\u001b[0m\n\u001b[0;32m-> 3388\u001b[0;31m             \u001b[0mvalue\u001b[0m \u001b[0;34m=\u001b[0m \u001b[0m_sanitize_index\u001b[0m\u001b[0;34m(\u001b[0m\u001b[0mvalue\u001b[0m\u001b[0;34m,\u001b[0m \u001b[0mself\u001b[0m\u001b[0;34m.\u001b[0m\u001b[0mindex\u001b[0m\u001b[0;34m,\u001b[0m \u001b[0mcopy\u001b[0m\u001b[0;34m=\u001b[0m\u001b[0;32mFalse\u001b[0m\u001b[0;34m)\u001b[0m\u001b[0;34m\u001b[0m\u001b[0m\n\u001b[0m\u001b[1;32m   3389\u001b[0m             \u001b[0;32mif\u001b[0m \u001b[0;32mnot\u001b[0m \u001b[0misinstance\u001b[0m\u001b[0;34m(\u001b[0m\u001b[0mvalue\u001b[0m\u001b[0;34m,\u001b[0m \u001b[0;34m(\u001b[0m\u001b[0mnp\u001b[0m\u001b[0;34m.\u001b[0m\u001b[0mndarray\u001b[0m\u001b[0;34m,\u001b[0m \u001b[0mIndex\u001b[0m\u001b[0;34m)\u001b[0m\u001b[0;34m)\u001b[0m\u001b[0;34m:\u001b[0m\u001b[0;34m\u001b[0m\u001b[0m\n\u001b[1;32m   3390\u001b[0m                 \u001b[0;32mif\u001b[0m \u001b[0misinstance\u001b[0m\u001b[0;34m(\u001b[0m\u001b[0mvalue\u001b[0m\u001b[0;34m,\u001b[0m \u001b[0mlist\u001b[0m\u001b[0;34m)\u001b[0m \u001b[0;32mand\u001b[0m \u001b[0mlen\u001b[0m\u001b[0;34m(\u001b[0m\u001b[0mvalue\u001b[0m\u001b[0;34m)\u001b[0m \u001b[0;34m>\u001b[0m \u001b[0;36m0\u001b[0m\u001b[0;34m:\u001b[0m\u001b[0;34m\u001b[0m\u001b[0m\n",
      "\u001b[0;32m~/anaconda3/lib/python3.6/site-packages/pandas/core/series.py\u001b[0m in \u001b[0;36m_sanitize_index\u001b[0;34m(data, index, copy)\u001b[0m\n\u001b[1;32m   3996\u001b[0m \u001b[0;34m\u001b[0m\u001b[0m\n\u001b[1;32m   3997\u001b[0m     \u001b[0;32mif\u001b[0m \u001b[0mlen\u001b[0m\u001b[0;34m(\u001b[0m\u001b[0mdata\u001b[0m\u001b[0;34m)\u001b[0m \u001b[0;34m!=\u001b[0m \u001b[0mlen\u001b[0m\u001b[0;34m(\u001b[0m\u001b[0mindex\u001b[0m\u001b[0;34m)\u001b[0m\u001b[0;34m:\u001b[0m\u001b[0;34m\u001b[0m\u001b[0m\n\u001b[0;32m-> 3998\u001b[0;31m         \u001b[0;32mraise\u001b[0m \u001b[0mValueError\u001b[0m\u001b[0;34m(\u001b[0m\u001b[0;34m'Length of values does not match length of '\u001b[0m \u001b[0;34m'index'\u001b[0m\u001b[0;34m)\u001b[0m\u001b[0;34m\u001b[0m\u001b[0m\n\u001b[0m\u001b[1;32m   3999\u001b[0m \u001b[0;34m\u001b[0m\u001b[0m\n\u001b[1;32m   4000\u001b[0m     \u001b[0;32mif\u001b[0m \u001b[0misinstance\u001b[0m\u001b[0;34m(\u001b[0m\u001b[0mdata\u001b[0m\u001b[0;34m,\u001b[0m \u001b[0mABCIndexClass\u001b[0m\u001b[0;34m)\u001b[0m \u001b[0;32mand\u001b[0m \u001b[0;32mnot\u001b[0m \u001b[0mcopy\u001b[0m\u001b[0;34m:\u001b[0m\u001b[0;34m\u001b[0m\u001b[0m\n",
      "\u001b[0;31mValueError\u001b[0m: Length of values does not match length of index"
     ]
    }
   ],
   "source": [
    "df = pd.DataFrame(ground_truth_lat, columns = ['lat'])\n",
    "df['pred_lat'] = y_pred_lat\n",
    "df['lng'] = ground_truth_lng\n",
    "df['pred_lng'] = y_pred_lng\n",
    "df['messid'] = id_list_train"
   ]
  },
  {
   "cell_type": "code",
   "execution_count": 247,
   "metadata": {
    "ExecuteTime": {
     "end_time": "2018-12-13T13:55:20.963847Z",
     "start_time": "2018-12-13T13:55:15.141965Z"
    }
   },
   "outputs": [],
   "source": [
    "def vinc2(row):\n",
    "    return (vincenty(row[['pred_lat', 'pred_lng']], row[['lat', 'lng']])).km\n",
    "\n",
    "df['dist'] = df.apply (lambda row: vinc2(row),axis=1)"
   ]
  },
  {
   "cell_type": "code",
   "execution_count": 250,
   "metadata": {
    "ExecuteTime": {
     "end_time": "2018-12-13T13:57:24.138459Z",
     "start_time": "2018-12-13T13:57:24.109606Z"
    }
   },
   "outputs": [
    {
     "data": {
      "text/html": [
       "<div>\n",
       "<style scoped>\n",
       "    .dataframe tbody tr th:only-of-type {\n",
       "        vertical-align: middle;\n",
       "    }\n",
       "\n",
       "    .dataframe tbody tr th {\n",
       "        vertical-align: top;\n",
       "    }\n",
       "\n",
       "    .dataframe thead th {\n",
       "        text-align: right;\n",
       "    }\n",
       "</style>\n",
       "<table border=\"1\" class=\"dataframe\">\n",
       "  <thead>\n",
       "    <tr style=\"text-align: right;\">\n",
       "      <th></th>\n",
       "      <th>lat</th>\n",
       "      <th>pred_lat</th>\n",
       "      <th>lng</th>\n",
       "      <th>pred_lng</th>\n",
       "      <th>dist</th>\n",
       "    </tr>\n",
       "  </thead>\n",
       "  <tbody>\n",
       "    <tr>\n",
       "      <th>count</th>\n",
       "      <td>6068.000000</td>\n",
       "      <td>6068.000000</td>\n",
       "      <td>6068.000000</td>\n",
       "      <td>6068.000000</td>\n",
       "      <td>6068.000000</td>\n",
       "    </tr>\n",
       "    <tr>\n",
       "      <th>mean</th>\n",
       "      <td>39.803912</td>\n",
       "      <td>39.818242</td>\n",
       "      <td>-105.073649</td>\n",
       "      <td>-105.080117</td>\n",
       "      <td>6.829020</td>\n",
       "    </tr>\n",
       "    <tr>\n",
       "      <th>std</th>\n",
       "      <td>0.372732</td>\n",
       "      <td>0.290673</td>\n",
       "      <td>0.288549</td>\n",
       "      <td>0.223599</td>\n",
       "      <td>26.836297</td>\n",
       "    </tr>\n",
       "    <tr>\n",
       "      <th>min</th>\n",
       "      <td>35.770683</td>\n",
       "      <td>36.145050</td>\n",
       "      <td>-107.630679</td>\n",
       "      <td>-106.364876</td>\n",
       "      <td>0.002188</td>\n",
       "    </tr>\n",
       "    <tr>\n",
       "      <th>25%</th>\n",
       "      <td>39.707212</td>\n",
       "      <td>39.724091</td>\n",
       "      <td>-105.064303</td>\n",
       "      <td>-105.065807</td>\n",
       "      <td>1.033294</td>\n",
       "    </tr>\n",
       "    <tr>\n",
       "      <th>50%</th>\n",
       "      <td>39.775599</td>\n",
       "      <td>39.772755</td>\n",
       "      <td>-105.041712</td>\n",
       "      <td>-105.041867</td>\n",
       "      <td>2.427082</td>\n",
       "    </tr>\n",
       "    <tr>\n",
       "      <th>75%</th>\n",
       "      <td>39.816718</td>\n",
       "      <td>39.809230</td>\n",
       "      <td>-104.996641</td>\n",
       "      <td>-104.999827</td>\n",
       "      <td>5.142878</td>\n",
       "    </tr>\n",
       "    <tr>\n",
       "      <th>max</th>\n",
       "      <td>43.140387</td>\n",
       "      <td>41.558737</td>\n",
       "      <td>-102.094289</td>\n",
       "      <td>-102.376361</td>\n",
       "      <td>514.498433</td>\n",
       "    </tr>\n",
       "  </tbody>\n",
       "</table>\n",
       "</div>"
      ],
      "text/plain": [
       "               lat     pred_lat          lng     pred_lng         dist\n",
       "count  6068.000000  6068.000000  6068.000000  6068.000000  6068.000000\n",
       "mean     39.803912    39.818242  -105.073649  -105.080117     6.829020\n",
       "std       0.372732     0.290673     0.288549     0.223599    26.836297\n",
       "min      35.770683    36.145050  -107.630679  -106.364876     0.002188\n",
       "25%      39.707212    39.724091  -105.064303  -105.065807     1.033294\n",
       "50%      39.775599    39.772755  -105.041712  -105.041867     2.427082\n",
       "75%      39.816718    39.809230  -104.996641  -104.999827     5.142878\n",
       "max      43.140387    41.558737  -102.094289  -102.376361   514.498433"
      ]
     },
     "execution_count": 250,
     "metadata": {},
     "output_type": "execute_result"
    }
   ],
   "source": [
    "df.describe()"
   ]
  },
  {
   "cell_type": "code",
   "execution_count": null,
   "metadata": {},
   "outputs": [],
   "source": []
  },
  {
   "cell_type": "code",
   "execution_count": null,
   "metadata": {},
   "outputs": [],
   "source": []
  },
  {
   "cell_type": "code",
   "execution_count": null,
   "metadata": {},
   "outputs": [],
   "source": []
  },
  {
   "cell_type": "code",
   "execution_count": null,
   "metadata": {},
   "outputs": [],
   "source": []
  }
 ],
 "metadata": {
  "kernelspec": {
   "display_name": "Python 3",
   "language": "python",
   "name": "python3"
  },
  "language_info": {
   "codemirror_mode": {
    "name": "ipython",
    "version": 3
   },
   "file_extension": ".py",
   "mimetype": "text/x-python",
   "name": "python",
   "nbconvert_exporter": "python",
   "pygments_lexer": "ipython3",
   "version": "3.6.5"
  },
  "toc": {
   "base_numbering": 1,
   "nav_menu": {},
   "number_sections": true,
   "sideBar": true,
   "skip_h1_title": false,
   "title_cell": "Table of Contents",
   "title_sidebar": "Contents",
   "toc_cell": false,
   "toc_position": {
    "height": "calc(100% - 180px)",
    "left": "10px",
    "top": "150px",
    "width": "346px"
   },
   "toc_section_display": true,
   "toc_window_display": true
  },
  "varInspector": {
   "cols": {
    "lenName": 16,
    "lenType": 16,
    "lenVar": 40
   },
   "kernels_config": {
    "python": {
     "delete_cmd_postfix": "",
     "delete_cmd_prefix": "del ",
     "library": "var_list.py",
     "varRefreshCmd": "print(var_dic_list())"
    },
    "r": {
     "delete_cmd_postfix": ") ",
     "delete_cmd_prefix": "rm(",
     "library": "var_list.r",
     "varRefreshCmd": "cat(var_dic_list()) "
    }
   },
   "types_to_exclude": [
    "module",
    "function",
    "builtin_function_or_method",
    "instance",
    "_Feature"
   ],
   "window_display": false
  }
 },
 "nbformat": 4,
 "nbformat_minor": 1
}
