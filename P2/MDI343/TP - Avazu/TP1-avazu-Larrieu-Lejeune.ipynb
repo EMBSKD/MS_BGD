{
 "cells": [
  {
   "cell_type": "markdown",
   "metadata": {},
   "source": [
    "<h1><center>MDI343 / MDI724 - TP Avazu<center></h1>"
   ]
  },
  {
   "cell_type": "markdown",
   "metadata": {},
   "source": [
    "<strong>Student 1 :</strong> Valentin LARRIEU (valentin.larrieu@telecom-paristech.fr)\n",
    "<br>\n",
    "<strong>Student 2 :</strong> Arnaud LEJEUNE (arnaud.lejeune@telecom-paristech.fr)"
   ]
  },
  {
   "cell_type": "markdown",
   "metadata": {},
   "source": [
    "<font color=\"red\">**Question 0:**\n",
    "    Import the needed packages: numpy, pandas etc..\n",
    "</font>"
   ]
  },
  {
   "cell_type": "code",
   "execution_count": 1,
   "metadata": {
    "ExecuteTime": {
     "end_time": "2019-01-05T17:30:20.689648Z",
     "start_time": "2019-01-05T17:30:19.908912Z"
    }
   },
   "outputs": [],
   "source": [
    "import numpy as np\n",
    "import pandas as pd\n",
    "import matplotlib.pyplot as plt\n",
    "import seaborn as sns\n",
    "import datetime\n",
    "%matplotlib inline"
   ]
  },
  {
   "cell_type": "code",
   "execution_count": 2,
   "metadata": {
    "ExecuteTime": {
     "end_time": "2019-01-05T17:30:20.692868Z",
     "start_time": "2019-01-05T17:30:20.691026Z"
    }
   },
   "outputs": [],
   "source": [
    "SEED = 100"
   ]
  },
  {
   "cell_type": "markdown",
   "metadata": {},
   "source": [
    "# The dataset"
   ]
  },
  {
   "cell_type": "markdown",
   "metadata": {},
   "source": [
    "<font color=\"red\">**Question 1:**\n",
    "    Load the data into a pandas DataFrame and display the first lines with the \".head()\" method.\n",
    "    <br>\n",
    "</font>\n",
    "**Remark**: the features meaning is available at https://www.kaggle.com/c/avazu-ctr-prediction/data"
   ]
  },
  {
   "cell_type": "code",
   "execution_count": 3,
   "metadata": {
    "ExecuteTime": {
     "end_time": "2019-01-05T17:30:23.532279Z",
     "start_time": "2019-01-05T17:30:20.694346Z"
    }
   },
   "outputs": [],
   "source": [
    "df = pd.read_csv('./train-1000000', sep=',')"
   ]
  },
  {
   "cell_type": "code",
   "execution_count": 4,
   "metadata": {
    "ExecuteTime": {
     "end_time": "2019-01-05T17:30:23.556705Z",
     "start_time": "2019-01-05T17:30:23.534076Z"
    }
   },
   "outputs": [
    {
     "data": {
      "text/html": [
       "<div>\n",
       "<style scoped>\n",
       "    .dataframe tbody tr th:only-of-type {\n",
       "        vertical-align: middle;\n",
       "    }\n",
       "\n",
       "    .dataframe tbody tr th {\n",
       "        vertical-align: top;\n",
       "    }\n",
       "\n",
       "    .dataframe thead th {\n",
       "        text-align: right;\n",
       "    }\n",
       "</style>\n",
       "<table border=\"1\" class=\"dataframe\">\n",
       "  <thead>\n",
       "    <tr style=\"text-align: right;\">\n",
       "      <th></th>\n",
       "      <th>id</th>\n",
       "      <th>click</th>\n",
       "      <th>hour</th>\n",
       "      <th>C1</th>\n",
       "      <th>banner_pos</th>\n",
       "      <th>site_id</th>\n",
       "      <th>site_domain</th>\n",
       "      <th>site_category</th>\n",
       "      <th>app_id</th>\n",
       "      <th>app_domain</th>\n",
       "      <th>...</th>\n",
       "      <th>device_type</th>\n",
       "      <th>device_conn_type</th>\n",
       "      <th>C14</th>\n",
       "      <th>C15</th>\n",
       "      <th>C16</th>\n",
       "      <th>C17</th>\n",
       "      <th>C18</th>\n",
       "      <th>C19</th>\n",
       "      <th>C20</th>\n",
       "      <th>C21</th>\n",
       "    </tr>\n",
       "  </thead>\n",
       "  <tbody>\n",
       "    <tr>\n",
       "      <th>0</th>\n",
       "      <td>3.983206e+18</td>\n",
       "      <td>0</td>\n",
       "      <td>14102915</td>\n",
       "      <td>1005</td>\n",
       "      <td>1</td>\n",
       "      <td>e151e245</td>\n",
       "      <td>7e091613</td>\n",
       "      <td>f028772b</td>\n",
       "      <td>ecad2386</td>\n",
       "      <td>7801e8d9</td>\n",
       "      <td>...</td>\n",
       "      <td>1</td>\n",
       "      <td>2</td>\n",
       "      <td>4687</td>\n",
       "      <td>320</td>\n",
       "      <td>50</td>\n",
       "      <td>423</td>\n",
       "      <td>2</td>\n",
       "      <td>39</td>\n",
       "      <td>100148</td>\n",
       "      <td>32</td>\n",
       "    </tr>\n",
       "    <tr>\n",
       "      <th>1</th>\n",
       "      <td>7.756884e+18</td>\n",
       "      <td>0</td>\n",
       "      <td>14103007</td>\n",
       "      <td>1002</td>\n",
       "      <td>0</td>\n",
       "      <td>cb809abf</td>\n",
       "      <td>74acf31a</td>\n",
       "      <td>50e219e0</td>\n",
       "      <td>ecad2386</td>\n",
       "      <td>7801e8d9</td>\n",
       "      <td>...</td>\n",
       "      <td>0</td>\n",
       "      <td>0</td>\n",
       "      <td>17894</td>\n",
       "      <td>320</td>\n",
       "      <td>50</td>\n",
       "      <td>2039</td>\n",
       "      <td>2</td>\n",
       "      <td>39</td>\n",
       "      <td>100077</td>\n",
       "      <td>32</td>\n",
       "    </tr>\n",
       "    <tr>\n",
       "      <th>2</th>\n",
       "      <td>6.941774e+17</td>\n",
       "      <td>0</td>\n",
       "      <td>14102711</td>\n",
       "      <td>1005</td>\n",
       "      <td>0</td>\n",
       "      <td>85f751fd</td>\n",
       "      <td>c4e18dd6</td>\n",
       "      <td>50e219e0</td>\n",
       "      <td>e9739828</td>\n",
       "      <td>df32afa9</td>\n",
       "      <td>...</td>\n",
       "      <td>1</td>\n",
       "      <td>0</td>\n",
       "      <td>22684</td>\n",
       "      <td>320</td>\n",
       "      <td>50</td>\n",
       "      <td>2619</td>\n",
       "      <td>1</td>\n",
       "      <td>163</td>\n",
       "      <td>100055</td>\n",
       "      <td>71</td>\n",
       "    </tr>\n",
       "    <tr>\n",
       "      <th>3</th>\n",
       "      <td>2.664154e+18</td>\n",
       "      <td>1</td>\n",
       "      <td>14102903</td>\n",
       "      <td>1005</td>\n",
       "      <td>0</td>\n",
       "      <td>85f751fd</td>\n",
       "      <td>c4e18dd6</td>\n",
       "      <td>50e219e0</td>\n",
       "      <td>a5184c22</td>\n",
       "      <td>b8d325c3</td>\n",
       "      <td>...</td>\n",
       "      <td>1</td>\n",
       "      <td>0</td>\n",
       "      <td>23222</td>\n",
       "      <td>320</td>\n",
       "      <td>50</td>\n",
       "      <td>2676</td>\n",
       "      <td>0</td>\n",
       "      <td>35</td>\n",
       "      <td>100176</td>\n",
       "      <td>221</td>\n",
       "    </tr>\n",
       "    <tr>\n",
       "      <th>4</th>\n",
       "      <td>1.480510e+19</td>\n",
       "      <td>0</td>\n",
       "      <td>14102902</td>\n",
       "      <td>1005</td>\n",
       "      <td>1</td>\n",
       "      <td>791b5571</td>\n",
       "      <td>fd13bc73</td>\n",
       "      <td>f028772b</td>\n",
       "      <td>ecad2386</td>\n",
       "      <td>7801e8d9</td>\n",
       "      <td>...</td>\n",
       "      <td>1</td>\n",
       "      <td>0</td>\n",
       "      <td>8330</td>\n",
       "      <td>320</td>\n",
       "      <td>50</td>\n",
       "      <td>761</td>\n",
       "      <td>3</td>\n",
       "      <td>175</td>\n",
       "      <td>100081</td>\n",
       "      <td>23</td>\n",
       "    </tr>\n",
       "  </tbody>\n",
       "</table>\n",
       "<p>5 rows × 24 columns</p>\n",
       "</div>"
      ],
      "text/plain": [
       "             id  click      hour    C1  banner_pos   site_id site_domain  \\\n",
       "0  3.983206e+18      0  14102915  1005           1  e151e245    7e091613   \n",
       "1  7.756884e+18      0  14103007  1002           0  cb809abf    74acf31a   \n",
       "2  6.941774e+17      0  14102711  1005           0  85f751fd    c4e18dd6   \n",
       "3  2.664154e+18      1  14102903  1005           0  85f751fd    c4e18dd6   \n",
       "4  1.480510e+19      0  14102902  1005           1  791b5571    fd13bc73   \n",
       "\n",
       "  site_category    app_id app_domain ...  device_type device_conn_type    C14  \\\n",
       "0      f028772b  ecad2386   7801e8d9 ...            1                2   4687   \n",
       "1      50e219e0  ecad2386   7801e8d9 ...            0                0  17894   \n",
       "2      50e219e0  e9739828   df32afa9 ...            1                0  22684   \n",
       "3      50e219e0  a5184c22   b8d325c3 ...            1                0  23222   \n",
       "4      f028772b  ecad2386   7801e8d9 ...            1                0   8330   \n",
       "\n",
       "   C15  C16   C17  C18  C19     C20  C21  \n",
       "0  320   50   423    2   39  100148   32  \n",
       "1  320   50  2039    2   39  100077   32  \n",
       "2  320   50  2619    1  163  100055   71  \n",
       "3  320   50  2676    0   35  100176  221  \n",
       "4  320   50   761    3  175  100081   23  \n",
       "\n",
       "[5 rows x 24 columns]"
      ]
     },
     "execution_count": 4,
     "metadata": {},
     "output_type": "execute_result"
    }
   ],
   "source": [
    "df.head()"
   ]
  },
  {
   "cell_type": "markdown",
   "metadata": {},
   "source": [
    "<font color=\"red\">**Question 2:**\n",
    "    What is the 'click' frequency in the dataset?\n",
    "    <br>\n",
    "</font>"
   ]
  },
  {
   "cell_type": "code",
   "execution_count": 5,
   "metadata": {
    "ExecuteTime": {
     "end_time": "2019-01-05T17:30:23.566188Z",
     "start_time": "2019-01-05T17:30:23.558057Z"
    }
   },
   "outputs": [
    {
     "name": "stdout",
     "output_type": "stream",
     "text": [
      "The click frequency is:  0.169971\n"
     ]
    }
   ],
   "source": [
    "click_freq = np.sum(df['click'])/len(df['click'])\n",
    "print(\"The click frequency is: \", click_freq)"
   ]
  },
  {
   "cell_type": "markdown",
   "metadata": {},
   "source": [
    "We note that the Avazu dataset is very unbalanced. The 'click' class represents less than a fifth of the whole database. We already know that a classifier always predicting <i>'click' = 0</i> will have good performances in terms of error rate (around 0.17). \n",
    "<br>\n",
    "The ROC and lift curves will be better performance metrics."
   ]
  },
  {
   "cell_type": "markdown",
   "metadata": {},
   "source": [
    "<font color=\"red\">**Question 3:**\n",
    "    What are the categorical features? Using the 'df.dtypes' method, compute the number of distincts values for each of these features.\n",
    "</font>"
   ]
  },
  {
   "cell_type": "code",
   "execution_count": 6,
   "metadata": {
    "ExecuteTime": {
     "end_time": "2019-01-05T17:30:24.233454Z",
     "start_time": "2019-01-05T17:30:23.568020Z"
    }
   },
   "outputs": [
    {
     "data": {
      "text/html": [
       "<div>\n",
       "<style scoped>\n",
       "    .dataframe tbody tr th:only-of-type {\n",
       "        vertical-align: middle;\n",
       "    }\n",
       "\n",
       "    .dataframe tbody tr th {\n",
       "        vertical-align: top;\n",
       "    }\n",
       "\n",
       "    .dataframe thead th {\n",
       "        text-align: right;\n",
       "    }\n",
       "</style>\n",
       "<table border=\"1\" class=\"dataframe\">\n",
       "  <thead>\n",
       "    <tr style=\"text-align: right;\">\n",
       "      <th></th>\n",
       "      <th>Column type</th>\n",
       "      <th>Column unique values</th>\n",
       "    </tr>\n",
       "  </thead>\n",
       "  <tbody>\n",
       "    <tr>\n",
       "      <th>id</th>\n",
       "      <td>float64</td>\n",
       "      <td>1000000.0</td>\n",
       "    </tr>\n",
       "    <tr>\n",
       "      <th>click</th>\n",
       "      <td>int64</td>\n",
       "      <td>2.0</td>\n",
       "    </tr>\n",
       "    <tr>\n",
       "      <th>hour</th>\n",
       "      <td>int64</td>\n",
       "      <td>240.0</td>\n",
       "    </tr>\n",
       "    <tr>\n",
       "      <th>C1</th>\n",
       "      <td>int64</td>\n",
       "      <td>7.0</td>\n",
       "    </tr>\n",
       "    <tr>\n",
       "      <th>banner_pos</th>\n",
       "      <td>int64</td>\n",
       "      <td>7.0</td>\n",
       "    </tr>\n",
       "    <tr>\n",
       "      <th>site_id</th>\n",
       "      <td>object</td>\n",
       "      <td>2651.0</td>\n",
       "    </tr>\n",
       "    <tr>\n",
       "      <th>site_domain</th>\n",
       "      <td>object</td>\n",
       "      <td>2871.0</td>\n",
       "    </tr>\n",
       "    <tr>\n",
       "      <th>site_category</th>\n",
       "      <td>object</td>\n",
       "      <td>22.0</td>\n",
       "    </tr>\n",
       "    <tr>\n",
       "      <th>app_id</th>\n",
       "      <td>object</td>\n",
       "      <td>3157.0</td>\n",
       "    </tr>\n",
       "    <tr>\n",
       "      <th>app_domain</th>\n",
       "      <td>object</td>\n",
       "      <td>198.0</td>\n",
       "    </tr>\n",
       "    <tr>\n",
       "      <th>app_category</th>\n",
       "      <td>object</td>\n",
       "      <td>26.0</td>\n",
       "    </tr>\n",
       "    <tr>\n",
       "      <th>device_id</th>\n",
       "      <td>object</td>\n",
       "      <td>150501.0</td>\n",
       "    </tr>\n",
       "    <tr>\n",
       "      <th>device_ip</th>\n",
       "      <td>object</td>\n",
       "      <td>555248.0</td>\n",
       "    </tr>\n",
       "    <tr>\n",
       "      <th>device_model</th>\n",
       "      <td>object</td>\n",
       "      <td>5168.0</td>\n",
       "    </tr>\n",
       "    <tr>\n",
       "      <th>device_type</th>\n",
       "      <td>int64</td>\n",
       "      <td>5.0</td>\n",
       "    </tr>\n",
       "    <tr>\n",
       "      <th>device_conn_type</th>\n",
       "      <td>int64</td>\n",
       "      <td>4.0</td>\n",
       "    </tr>\n",
       "    <tr>\n",
       "      <th>C14</th>\n",
       "      <td>int64</td>\n",
       "      <td>2243.0</td>\n",
       "    </tr>\n",
       "    <tr>\n",
       "      <th>C15</th>\n",
       "      <td>int64</td>\n",
       "      <td>8.0</td>\n",
       "    </tr>\n",
       "    <tr>\n",
       "      <th>C16</th>\n",
       "      <td>int64</td>\n",
       "      <td>9.0</td>\n",
       "    </tr>\n",
       "    <tr>\n",
       "      <th>C17</th>\n",
       "      <td>int64</td>\n",
       "      <td>420.0</td>\n",
       "    </tr>\n",
       "    <tr>\n",
       "      <th>C18</th>\n",
       "      <td>int64</td>\n",
       "      <td>4.0</td>\n",
       "    </tr>\n",
       "    <tr>\n",
       "      <th>C19</th>\n",
       "      <td>int64</td>\n",
       "      <td>66.0</td>\n",
       "    </tr>\n",
       "    <tr>\n",
       "      <th>C20</th>\n",
       "      <td>int64</td>\n",
       "      <td>163.0</td>\n",
       "    </tr>\n",
       "    <tr>\n",
       "      <th>C21</th>\n",
       "      <td>int64</td>\n",
       "      <td>60.0</td>\n",
       "    </tr>\n",
       "  </tbody>\n",
       "</table>\n",
       "</div>"
      ],
      "text/plain": [
       "                 Column type  Column unique values\n",
       "id                   float64             1000000.0\n",
       "click                  int64                   2.0\n",
       "hour                   int64                 240.0\n",
       "C1                     int64                   7.0\n",
       "banner_pos             int64                   7.0\n",
       "site_id               object                2651.0\n",
       "site_domain           object                2871.0\n",
       "site_category         object                  22.0\n",
       "app_id                object                3157.0\n",
       "app_domain            object                 198.0\n",
       "app_category          object                  26.0\n",
       "device_id             object              150501.0\n",
       "device_ip             object              555248.0\n",
       "device_model          object                5168.0\n",
       "device_type            int64                   5.0\n",
       "device_conn_type       int64                   4.0\n",
       "C14                    int64                2243.0\n",
       "C15                    int64                   8.0\n",
       "C16                    int64                   9.0\n",
       "C17                    int64                 420.0\n",
       "C18                    int64                   4.0\n",
       "C19                    int64                  66.0\n",
       "C20                    int64                 163.0\n",
       "C21                    int64                  60.0"
      ]
     },
     "execution_count": 6,
     "metadata": {},
     "output_type": "execute_result"
    }
   ],
   "source": [
    "toShow = pd.DataFrame(index = df.columns)\n",
    "\n",
    "for col in df.columns:\n",
    "    toShow.loc[col, 'Column type'] = df[col].dtype\n",
    "    toShow.loc[col, 'Column unique values'] = len(df[col].unique())\n",
    "    \n",
    "toShow"
   ]
  },
  {
   "cell_type": "markdown",
   "metadata": {},
   "source": [
    "All variables apart from <i>'id'</i> can be considered categorical"
   ]
  },
  {
   "cell_type": "markdown",
   "metadata": {},
   "source": [
    "<font color=\"red\">**Question 4:**\n",
    "    If one does a dummy encoding of all categorical variables, what would be the dimension of the model?\n",
    "    In other words: what would be the dimension of our big feature vector encoded with dummies. \n",
    "    <br>\n",
    "</font>"
   ]
  },
  {
   "cell_type": "markdown",
   "metadata": {},
   "source": [
    "Each column is categorical. If we encode them with dummies the dimension of the encoded vector would be :"
   ]
  },
  {
   "cell_type": "code",
   "execution_count": 7,
   "metadata": {
    "ExecuteTime": {
     "end_time": "2019-01-05T17:30:24.790001Z",
     "start_time": "2019-01-05T17:30:24.235437Z"
    }
   },
   "outputs": [
    {
     "name": "stdout",
     "output_type": "stream",
     "text": [
      "Dimension of the encoded vector would be :  723080\n"
     ]
    }
   ],
   "source": [
    "sum = 0\n",
    "for col in df.columns:\n",
    "    if col!=\"id\":\n",
    "        sum = sum + len(df[col].unique())\n",
    "print(\"Dimension of the encoded vector would be : \", sum)"
   ]
  },
  {
   "cell_type": "markdown",
   "metadata": {},
   "source": [
    "<font color=\"red\">**Question 5:**\n",
    "    Analyze the 'hour' column: which format is used? How can we transform/simply this feature?\n",
    "</font>"
   ]
  },
  {
   "cell_type": "code",
   "execution_count": 8,
   "metadata": {
    "ExecuteTime": {
     "end_time": "2019-01-05T17:30:24.794192Z",
     "start_time": "2019-01-05T17:30:24.791129Z"
    }
   },
   "outputs": [
    {
     "name": "stdout",
     "output_type": "stream",
     "text": [
      "0    14102915\n",
      "1    14103007\n",
      "2    14102711\n",
      "3    14102903\n",
      "4    14102902\n",
      "Name: hour, dtype: int64\n",
      "999995    14102602\n",
      "999996    14102101\n",
      "999997    14102318\n",
      "999998    14102908\n",
      "999999    14102600\n",
      "Name: hour, dtype: int64\n"
     ]
    }
   ],
   "source": [
    "print(df['hour'].head()) \n",
    "print(df['hour'].tail()) "
   ]
  },
  {
   "cell_type": "code",
   "execution_count": 9,
   "metadata": {
    "ExecuteTime": {
     "end_time": "2019-01-05T17:30:27.017236Z",
     "start_time": "2019-01-05T17:30:24.795410Z"
    }
   },
   "outputs": [
    {
     "data": {
      "text/plain": [
       "0   2014-10-29 15:00:00\n",
       "1   2014-10-30 07:00:00\n",
       "2   2014-10-27 11:00:00\n",
       "3   2014-10-29 03:00:00\n",
       "4   2014-10-29 02:00:00\n",
       "Name: hour, dtype: datetime64[ns]"
      ]
     },
     "execution_count": 9,
     "metadata": {},
     "output_type": "execute_result"
    }
   ],
   "source": [
    "# We could use the datetime library of pandas to get the hour and then construct \n",
    "# other columns with hours, days and so on\n",
    "\n",
    "pd.to_datetime(df['hour'], format = \"%y%m%d%H\").head()"
   ]
  },
  {
   "cell_type": "markdown",
   "metadata": {},
   "source": [
    "The hour format is in the following format :  <i>yy/mm/dd/HH</i> (year/month/day/hour)"
   ]
  },
  {
   "cell_type": "markdown",
   "metadata": {},
   "source": [
    "<font color=\"red\">**Question 6:**\n",
    "    Run and understand the following script.\n",
    "</font>"
   ]
  },
  {
   "cell_type": "code",
   "execution_count": 10,
   "metadata": {
    "ExecuteTime": {
     "end_time": "2019-01-05T17:30:27.022851Z",
     "start_time": "2019-01-05T17:30:27.018593Z"
    }
   },
   "outputs": [
    {
     "data": {
      "text/plain": [
       "(2, 15)"
      ]
     },
     "execution_count": 10,
     "metadata": {},
     "output_type": "execute_result"
    }
   ],
   "source": [
    "import datetime\n",
    "def datesplit(originalDate):\n",
    "    originalDate = str(originalDate)\n",
    "    \n",
    "    year = int(\"20\" + originalDate[0:2])\n",
    "    month = int(originalDate[2:4])\n",
    "    day = int(originalDate[4:6])\n",
    "    hour = int(originalDate[6:8])\n",
    "    \n",
    "    return datetime.datetime(year, month, day, hour)\n",
    "\n",
    "# Exemple :\n",
    "datesplit(14102915).weekday(), datesplit(14102915).hour"
   ]
  },
  {
   "cell_type": "markdown",
   "metadata": {},
   "source": [
    "We slice the data to get the year (adding 20 to have the good year, the month, day and hour.\n",
    "Then we use the datetime function wich will contruct our datetime object with those arguments.\n",
    "After that we print the day corresponding (2 so wednesday since 0 is moday) and the hour 15"
   ]
  },
  {
   "cell_type": "markdown",
   "metadata": {},
   "source": [
    "<font color=\"red\">**Question 7:**\n",
    "    Using the \".apply( ... )\" method, create a 'weekday' for the day of the week. Then, replace the 'hour' column by the hour.\n",
    "</font>"
   ]
  },
  {
   "cell_type": "markdown",
   "metadata": {},
   "source": [
    "To answer this question you have to understand that applies takes a function as argument\n",
    "<br>\n",
    "\"lambda x: ... \" is used to create local unamed function of x\n",
    "<br>\n",
    "Check the documentation: https://docs.python.org/3/tutorial/controlflow.html#lambda-expressions"
   ]
  },
  {
   "cell_type": "code",
   "execution_count": 11,
   "metadata": {
    "ExecuteTime": {
     "end_time": "2019-01-05T17:30:30.257636Z",
     "start_time": "2019-01-05T17:30:27.024007Z"
    }
   },
   "outputs": [],
   "source": [
    "df['weekday'] = df['hour'].apply(lambda x : datesplit(x).weekday())\n",
    "df['hour'] =  df['hour'].apply(lambda x : datesplit(x).hour)"
   ]
  },
  {
   "cell_type": "code",
   "execution_count": 12,
   "metadata": {
    "ExecuteTime": {
     "end_time": "2019-01-05T17:30:30.323869Z",
     "start_time": "2019-01-05T17:30:30.260093Z"
    }
   },
   "outputs": [
    {
     "data": {
      "text/html": [
       "<div>\n",
       "<style scoped>\n",
       "    .dataframe tbody tr th:only-of-type {\n",
       "        vertical-align: middle;\n",
       "    }\n",
       "\n",
       "    .dataframe tbody tr th {\n",
       "        vertical-align: top;\n",
       "    }\n",
       "\n",
       "    .dataframe thead th {\n",
       "        text-align: right;\n",
       "    }\n",
       "</style>\n",
       "<table border=\"1\" class=\"dataframe\">\n",
       "  <thead>\n",
       "    <tr style=\"text-align: right;\">\n",
       "      <th></th>\n",
       "      <th>weekday</th>\n",
       "      <th>hour</th>\n",
       "    </tr>\n",
       "  </thead>\n",
       "  <tbody>\n",
       "    <tr>\n",
       "      <th>0</th>\n",
       "      <td>2</td>\n",
       "      <td>15</td>\n",
       "    </tr>\n",
       "    <tr>\n",
       "      <th>1</th>\n",
       "      <td>3</td>\n",
       "      <td>7</td>\n",
       "    </tr>\n",
       "    <tr>\n",
       "      <th>2</th>\n",
       "      <td>0</td>\n",
       "      <td>11</td>\n",
       "    </tr>\n",
       "    <tr>\n",
       "      <th>3</th>\n",
       "      <td>2</td>\n",
       "      <td>3</td>\n",
       "    </tr>\n",
       "    <tr>\n",
       "      <th>4</th>\n",
       "      <td>2</td>\n",
       "      <td>2</td>\n",
       "    </tr>\n",
       "  </tbody>\n",
       "</table>\n",
       "</div>"
      ],
      "text/plain": [
       "   weekday  hour\n",
       "0        2    15\n",
       "1        3     7\n",
       "2        0    11\n",
       "3        2     3\n",
       "4        2     2"
      ]
     },
     "execution_count": 12,
     "metadata": {},
     "output_type": "execute_result"
    }
   ],
   "source": [
    "df[['weekday', 'hour']].head()"
   ]
  },
  {
   "cell_type": "markdown",
   "metadata": {},
   "source": [
    "<font color=\"red\">**Question 8:**\n",
    "    Using the \".groupby( ... )\" method, visualize the influence of the hour and of the day on the 'click' frequency. To do so, plot 'click' vs 'hour' and 'click' vs 'weekday' curves.\n",
    "</font>"
   ]
  },
  {
   "cell_type": "code",
   "execution_count": 13,
   "metadata": {
    "ExecuteTime": {
     "end_time": "2019-01-05T17:30:30.377480Z",
     "start_time": "2019-01-05T17:30:30.326087Z"
    }
   },
   "outputs": [
    {
     "data": {
      "text/html": [
       "<div>\n",
       "<style scoped>\n",
       "    .dataframe tbody tr th:only-of-type {\n",
       "        vertical-align: middle;\n",
       "    }\n",
       "\n",
       "    .dataframe tbody tr th {\n",
       "        vertical-align: top;\n",
       "    }\n",
       "\n",
       "    .dataframe thead th {\n",
       "        text-align: right;\n",
       "    }\n",
       "</style>\n",
       "<table border=\"1\" class=\"dataframe\">\n",
       "  <thead>\n",
       "    <tr style=\"text-align: right;\">\n",
       "      <th>hour</th>\n",
       "      <th>0</th>\n",
       "      <th>1</th>\n",
       "      <th>2</th>\n",
       "      <th>3</th>\n",
       "      <th>4</th>\n",
       "      <th>5</th>\n",
       "      <th>6</th>\n",
       "      <th>7</th>\n",
       "      <th>8</th>\n",
       "      <th>9</th>\n",
       "      <th>...</th>\n",
       "      <th>14</th>\n",
       "      <th>15</th>\n",
       "      <th>16</th>\n",
       "      <th>17</th>\n",
       "      <th>18</th>\n",
       "      <th>19</th>\n",
       "      <th>20</th>\n",
       "      <th>21</th>\n",
       "      <th>22</th>\n",
       "      <th>23</th>\n",
       "    </tr>\n",
       "  </thead>\n",
       "  <tbody>\n",
       "    <tr>\n",
       "      <th>click</th>\n",
       "      <td>0.182707</td>\n",
       "      <td>0.185734</td>\n",
       "      <td>0.175552</td>\n",
       "      <td>0.175367</td>\n",
       "      <td>0.159664</td>\n",
       "      <td>0.162126</td>\n",
       "      <td>0.169315</td>\n",
       "      <td>0.17749</td>\n",
       "      <td>0.163418</td>\n",
       "      <td>0.159042</td>\n",
       "      <td>...</td>\n",
       "      <td>0.178075</td>\n",
       "      <td>0.183737</td>\n",
       "      <td>0.180076</td>\n",
       "      <td>0.173271</td>\n",
       "      <td>0.164072</td>\n",
       "      <td>0.165725</td>\n",
       "      <td>0.158402</td>\n",
       "      <td>0.162384</td>\n",
       "      <td>0.166847</td>\n",
       "      <td>0.170733</td>\n",
       "    </tr>\n",
       "  </tbody>\n",
       "</table>\n",
       "<p>1 rows × 24 columns</p>\n",
       "</div>"
      ],
      "text/plain": [
       "hour         0         1         2         3         4         5         6   \\\n",
       "click  0.182707  0.185734  0.175552  0.175367  0.159664  0.162126  0.169315   \n",
       "\n",
       "hour        7         8         9     ...           14        15        16  \\\n",
       "click  0.17749  0.163418  0.159042    ...     0.178075  0.183737  0.180076   \n",
       "\n",
       "hour         17        18        19        20        21        22        23  \n",
       "click  0.173271  0.164072  0.165725  0.158402  0.162384  0.166847  0.170733  \n",
       "\n",
       "[1 rows x 24 columns]"
      ]
     },
     "execution_count": 13,
     "metadata": {},
     "output_type": "execute_result"
    }
   ],
   "source": [
    "df_hours = pd.DataFrame(df.groupby('hour')[\"click\"].mean()) # Fill here for the influence of the hour\n",
    "df_hours.T"
   ]
  },
  {
   "cell_type": "code",
   "execution_count": 14,
   "metadata": {
    "ExecuteTime": {
     "end_time": "2019-01-05T17:30:30.404443Z",
     "start_time": "2019-01-05T17:30:30.379736Z"
    }
   },
   "outputs": [
    {
     "data": {
      "text/html": [
       "<div>\n",
       "<style scoped>\n",
       "    .dataframe tbody tr th:only-of-type {\n",
       "        vertical-align: middle;\n",
       "    }\n",
       "\n",
       "    .dataframe tbody tr th {\n",
       "        vertical-align: top;\n",
       "    }\n",
       "\n",
       "    .dataframe thead th {\n",
       "        text-align: right;\n",
       "    }\n",
       "</style>\n",
       "<table border=\"1\" class=\"dataframe\">\n",
       "  <thead>\n",
       "    <tr style=\"text-align: right;\">\n",
       "      <th>weekday</th>\n",
       "      <th>0</th>\n",
       "      <th>1</th>\n",
       "      <th>2</th>\n",
       "      <th>3</th>\n",
       "      <th>4</th>\n",
       "      <th>5</th>\n",
       "      <th>6</th>\n",
       "    </tr>\n",
       "  </thead>\n",
       "  <tbody>\n",
       "    <tr>\n",
       "      <th>click</th>\n",
       "      <td>0.183143</td>\n",
       "      <td>0.161577</td>\n",
       "      <td>0.158675</td>\n",
       "      <td>0.173795</td>\n",
       "      <td>0.173392</td>\n",
       "      <td>0.183995</td>\n",
       "      <td>0.183105</td>\n",
       "    </tr>\n",
       "  </tbody>\n",
       "</table>\n",
       "</div>"
      ],
      "text/plain": [
       "weekday         0         1         2         3         4         5         6\n",
       "click    0.183143  0.161577  0.158675  0.173795  0.173392  0.183995  0.183105"
      ]
     },
     "execution_count": 14,
     "metadata": {},
     "output_type": "execute_result"
    }
   ],
   "source": [
    "df_weekday = pd.DataFrame(df.groupby('weekday')[\"click\"].mean()) # Fill here for the influence of the weekday\n",
    "df_weekday.T"
   ]
  },
  {
   "cell_type": "code",
   "execution_count": 15,
   "metadata": {
    "ExecuteTime": {
     "end_time": "2019-01-05T17:30:30.551570Z",
     "start_time": "2019-01-05T17:30:30.406029Z"
    }
   },
   "outputs": [
    {
     "data": {
      "image/png": "[encoded data removed]",
      "text/plain": [
       "<Figure size 432x288 with 1 Axes>"
      ]
     },
     "metadata": {},
     "output_type": "display_data"
    }
   ],
   "source": [
    "df_hours['mean'] = df['click'].mean()\n",
    "\n",
    "df_hours.plot()\n",
    "plt.show()"
   ]
  },
  {
   "cell_type": "code",
   "execution_count": 16,
   "metadata": {
    "ExecuteTime": {
     "end_time": "2019-01-05T17:30:30.682057Z",
     "start_time": "2019-01-05T17:30:30.552776Z"
    }
   },
   "outputs": [
    {
     "data": {
      "image/png": "[encoded data removed]",
      "text/plain": [
       "<Figure size 432x288 with 1 Axes>"
      ]
     },
     "metadata": {},
     "output_type": "display_data"
    }
   ],
   "source": [
    "df_weekday['mean'] = df['click'].mean()\n",
    "\n",
    "df_weekday.plot()\n",
    "plt.show()"
   ]
  },
  {
   "cell_type": "markdown",
   "metadata": {},
   "source": [
    "<strong>Additional plots</strong>"
   ]
  },
  {
   "cell_type": "code",
   "execution_count": 17,
   "metadata": {
    "ExecuteTime": {
     "end_time": "2019-01-05T17:30:30.865096Z",
     "start_time": "2019-01-05T17:30:30.683993Z"
    }
   },
   "outputs": [
    {
     "data": {
      "image/png": "[encoded data removed]",
      "text/plain": [
       "<Figure size 432x288 with 1 Axes>"
      ]
     },
     "metadata": {},
     "output_type": "display_data"
    }
   ],
   "source": [
    "df_hours['click'].plot(kind=\"bar\")\n",
    "plt.show()"
   ]
  },
  {
   "cell_type": "code",
   "execution_count": 18,
   "metadata": {
    "ExecuteTime": {
     "end_time": "2019-01-05T17:30:30.981318Z",
     "start_time": "2019-01-05T17:30:30.866244Z"
    }
   },
   "outputs": [
    {
     "data": {
      "image/png": "[encoded data removed]",
      "text/plain": [
       "<Figure size 432x288 with 1 Axes>"
      ]
     },
     "metadata": {},
     "output_type": "display_data"
    }
   ],
   "source": [
    "week_plot = df.groupby('weekday')['click'].count()  # Fill here for the influence of the day\n",
    "plt.plot(week_plot)\n",
    "plt.show()"
   ]
  },
  {
   "cell_type": "code",
   "execution_count": 19,
   "metadata": {
    "ExecuteTime": {
     "end_time": "2019-01-05T17:30:31.079217Z",
     "start_time": "2019-01-05T17:30:30.982781Z"
    }
   },
   "outputs": [
    {
     "data": {
      "image/png": "[encoded data removed]",
      "text/plain": [
       "<Figure size 432x288 with 1 Axes>"
      ]
     },
     "metadata": {},
     "output_type": "display_data"
    }
   ],
   "source": [
    "week_plot.plot(kind=\"bar\")\n",
    "plt.show()"
   ]
  },
  {
   "cell_type": "markdown",
   "metadata": {},
   "source": [
    "<font color=\"red\">**Question 9:**\n",
    "    Explain what the axes stand for and try to interpret the shape of the obtained curves.\n",
    "</font>"
   ]
  },
  {
   "cell_type": "markdown",
   "metadata": {},
   "source": [
    "<strong>Hour : </strong> <br>\n",
    "    X axis represents hours of the day and Y axis the click frequency mean. A significant click rate is noticeable in the morning, around 7 to 9pm, relating to people commuting in public transports and using their phones. The same phenomenon can be observed around the end of the afternoon, for the commute back home. Lastly, there is a 3rd peak in late evening / beginning of the night : it probably represents a more and more common habits of people using their phones in their bed, right before going to sleep."
   ]
  },
  {
   "cell_type": "markdown",
   "metadata": {
    "ExecuteTime": {
     "end_time": "2019-01-05T09:48:49.664868Z",
     "start_time": "2019-01-05T09:48:49.655544Z"
    }
   },
   "source": [
    "<strong>Weekday : </strong> <br>\n",
    "X axis represents the days of the week and Y axis the click frequency mean as well. Here, the distribution seems to be in 2 phases : a strong clickrate phase centered on the week-end, starting at the end of the working week (from Thursdays / Fridays) and finishing on mondays. Then, a weak phase centered on Tuesdays and Wednesdays. Thus, people seem to use their phones a lot more in the week-ends and close to them rather than in the middle of the week. "
   ]
  },
  {
   "cell_type": "markdown",
   "metadata": {},
   "source": [
    "# Preliminary work and first model"
   ]
  },
  {
   "cell_type": "markdown",
   "metadata": {},
   "source": [
    "Start by understanding the features with few modalities:\n",
    "'hour', 'weekday', 'C1', 'banner_pos', 'site_category', 'app_category', 'device_type', 'device_conn_type', 'C15', 'C16', 'C18', 'C21'."
   ]
  },
  {
   "cell_type": "markdown",
   "metadata": {},
   "source": [
    "<font color=\"red\">**Question 10:**\n",
    "    For instance, inspect the columns 'C15' (dimension of the advert) and 'site_category': visualize the clicks mean.\n",
    "</font>"
   ]
  },
  {
   "cell_type": "code",
   "execution_count": 20,
   "metadata": {
    "ExecuteTime": {
     "end_time": "2019-01-05T17:30:31.098911Z",
     "start_time": "2019-01-05T17:30:31.080768Z"
    }
   },
   "outputs": [
    {
     "data": {
      "text/html": [
       "<div>\n",
       "<style scoped>\n",
       "    .dataframe tbody tr th:only-of-type {\n",
       "        vertical-align: middle;\n",
       "    }\n",
       "\n",
       "    .dataframe tbody tr th {\n",
       "        vertical-align: top;\n",
       "    }\n",
       "\n",
       "    .dataframe thead th {\n",
       "        text-align: right;\n",
       "    }\n",
       "</style>\n",
       "<table border=\"1\" class=\"dataframe\">\n",
       "  <thead>\n",
       "    <tr style=\"text-align: right;\">\n",
       "      <th>C15</th>\n",
       "      <th>120</th>\n",
       "      <th>216</th>\n",
       "      <th>300</th>\n",
       "      <th>320</th>\n",
       "      <th>480</th>\n",
       "      <th>728</th>\n",
       "      <th>768</th>\n",
       "      <th>1024</th>\n",
       "    </tr>\n",
       "  </thead>\n",
       "  <tbody>\n",
       "    <tr>\n",
       "      <th>click</th>\n",
       "      <td>0.033708</td>\n",
       "      <td>0.129612</td>\n",
       "      <td>0.360537</td>\n",
       "      <td>0.158767</td>\n",
       "      <td>0.285714</td>\n",
       "      <td>0.054144</td>\n",
       "      <td>0.375</td>\n",
       "      <td>0.166667</td>\n",
       "    </tr>\n",
       "  </tbody>\n",
       "</table>\n",
       "</div>"
      ],
      "text/plain": [
       "C15        120       216       300       320       480       728    768   \\\n",
       "click  0.033708  0.129612  0.360537  0.158767  0.285714  0.054144  0.375   \n",
       "\n",
       "C15        1024  \n",
       "click  0.166667  "
      ]
     },
     "execution_count": 20,
     "metadata": {},
     "output_type": "execute_result"
    }
   ],
   "source": [
    "df_C15 = pd.DataFrame(df.groupby('C15')[\"click\"].mean()) # Fill here: inspect 'C15' using '.groupby'\n",
    "df_C15.T"
   ]
  },
  {
   "cell_type": "code",
   "execution_count": 21,
   "metadata": {
    "ExecuteTime": {
     "end_time": "2019-01-05T17:30:31.249784Z",
     "start_time": "2019-01-05T17:30:31.100212Z"
    }
   },
   "outputs": [
    {
     "data": {
      "image/png": "[encoded data removed]",
      "text/plain": [
       "<Figure size 432x288 with 1 Axes>"
      ]
     },
     "metadata": {},
     "output_type": "display_data"
    }
   ],
   "source": [
    "df.groupby('C15')['click'].mean().plot(kind=\"bar\")\n",
    "plt.show()"
   ]
  },
  {
   "cell_type": "code",
   "execution_count": 22,
   "metadata": {
    "ExecuteTime": {
     "end_time": "2019-01-05T17:30:31.311373Z",
     "start_time": "2019-01-05T17:30:31.251132Z"
    }
   },
   "outputs": [
    {
     "data": {
      "text/html": [
       "<div>\n",
       "<style scoped>\n",
       "    .dataframe tbody tr th:only-of-type {\n",
       "        vertical-align: middle;\n",
       "    }\n",
       "\n",
       "    .dataframe tbody tr th {\n",
       "        vertical-align: top;\n",
       "    }\n",
       "\n",
       "    .dataframe thead th {\n",
       "        text-align: right;\n",
       "    }\n",
       "</style>\n",
       "<table border=\"1\" class=\"dataframe\">\n",
       "  <thead>\n",
       "    <tr style=\"text-align: right;\">\n",
       "      <th>site_category</th>\n",
       "      <th>0569f928</th>\n",
       "      <th>28905ebd</th>\n",
       "      <th>335d28a8</th>\n",
       "      <th>3e814130</th>\n",
       "      <th>42a36e14</th>\n",
       "      <th>50e219e0</th>\n",
       "      <th>5378d028</th>\n",
       "      <th>70fb0e29</th>\n",
       "      <th>72722551</th>\n",
       "      <th>75fa27f6</th>\n",
       "      <th>...</th>\n",
       "      <th>9ccfa2ea</th>\n",
       "      <th>a818d37a</th>\n",
       "      <th>bcf865d9</th>\n",
       "      <th>c0dd3be3</th>\n",
       "      <th>c706e647</th>\n",
       "      <th>da34532e</th>\n",
       "      <th>dedf689d</th>\n",
       "      <th>e787de0e</th>\n",
       "      <th>f028772b</th>\n",
       "      <th>f66779e6</th>\n",
       "    </tr>\n",
       "  </thead>\n",
       "  <tbody>\n",
       "    <tr>\n",
       "      <th>click</th>\n",
       "      <td>0.053613</td>\n",
       "      <td>0.208076</td>\n",
       "      <td>0.089824</td>\n",
       "      <td>0.284245</td>\n",
       "      <td>0.225806</td>\n",
       "      <td>0.128597</td>\n",
       "      <td>0.0</td>\n",
       "      <td>0.144737</td>\n",
       "      <td>0.059172</td>\n",
       "      <td>0.111305</td>\n",
       "      <td>...</td>\n",
       "      <td>0.0</td>\n",
       "      <td>0.0</td>\n",
       "      <td>0.0</td>\n",
       "      <td>0.128655</td>\n",
       "      <td>0.0</td>\n",
       "      <td>0.0</td>\n",
       "      <td>0.530449</td>\n",
       "      <td>0.0</td>\n",
       "      <td>0.179719</td>\n",
       "      <td>0.034564</td>\n",
       "    </tr>\n",
       "  </tbody>\n",
       "</table>\n",
       "<p>1 rows × 22 columns</p>\n",
       "</div>"
      ],
      "text/plain": [
       "site_category  0569f928  28905ebd  335d28a8  3e814130  42a36e14  50e219e0  \\\n",
       "click          0.053613  0.208076  0.089824  0.284245  0.225806  0.128597   \n",
       "\n",
       "site_category  5378d028  70fb0e29  72722551  75fa27f6    ...     9ccfa2ea  \\\n",
       "click               0.0  0.144737  0.059172  0.111305    ...          0.0   \n",
       "\n",
       "site_category  a818d37a  bcf865d9  c0dd3be3  c706e647  da34532e  dedf689d  \\\n",
       "click               0.0       0.0  0.128655       0.0       0.0  0.530449   \n",
       "\n",
       "site_category  e787de0e  f028772b  f66779e6  \n",
       "click               0.0  0.179719  0.034564  \n",
       "\n",
       "[1 rows x 22 columns]"
      ]
     },
     "execution_count": 22,
     "metadata": {},
     "output_type": "execute_result"
    }
   ],
   "source": [
    "df_site_category = pd.DataFrame(df.groupby('site_category')[\"click\"].mean()) # Fill here: inspect 'site_category' using '.groupby'\n",
    "df_site_category.T "
   ]
  },
  {
   "cell_type": "code",
   "execution_count": 23,
   "metadata": {
    "ExecuteTime": {
     "end_time": "2019-01-05T17:30:31.527918Z",
     "start_time": "2019-01-05T17:30:31.312979Z"
    }
   },
   "outputs": [
    {
     "data": {
      "image/png": "[encoded data removed]",
      "text/plain": [
       "<Figure size 432x288 with 1 Axes>"
      ]
     },
     "metadata": {},
     "output_type": "display_data"
    }
   ],
   "source": [
    "df.groupby('site_category')['click'].mean().plot(kind=\"bar\")\n",
    "plt.show()"
   ]
  },
  {
   "cell_type": "markdown",
   "metadata": {},
   "source": [
    "<font color=\"red\">**Question 11:**\n",
    "    Some site categories have a null click rate. Why? Display the 'count()' of each modality.\n",
    "    <br><br>\n",
    "    Hint: you can use the method \".value_counts()\"\n",
    "</font>"
   ]
  },
  {
   "cell_type": "code",
   "execution_count": 24,
   "metadata": {
    "ExecuteTime": {
     "end_time": "2019-01-05T17:30:31.702906Z",
     "start_time": "2019-01-05T17:30:31.529208Z"
    }
   },
   "outputs": [
    {
     "data": {
      "text/html": [
       "<div>\n",
       "<style scoped>\n",
       "    .dataframe tbody tr th:only-of-type {\n",
       "        vertical-align: middle;\n",
       "    }\n",
       "\n",
       "    .dataframe tbody tr th {\n",
       "        vertical-align: top;\n",
       "    }\n",
       "\n",
       "    .dataframe thead th {\n",
       "        text-align: right;\n",
       "    }\n",
       "</style>\n",
       "<table border=\"1\" class=\"dataframe\">\n",
       "  <thead>\n",
       "    <tr style=\"text-align: right;\">\n",
       "      <th></th>\n",
       "      <th></th>\n",
       "      <th>Value Count</th>\n",
       "    </tr>\n",
       "    <tr>\n",
       "      <th>site_category</th>\n",
       "      <th>click</th>\n",
       "      <th></th>\n",
       "    </tr>\n",
       "  </thead>\n",
       "  <tbody>\n",
       "    <tr>\n",
       "      <th rowspan=\"2\" valign=\"top\">0569f928</th>\n",
       "      <th>0</th>\n",
       "      <td>406</td>\n",
       "    </tr>\n",
       "    <tr>\n",
       "      <th>1</th>\n",
       "      <td>23</td>\n",
       "    </tr>\n",
       "    <tr>\n",
       "      <th rowspan=\"2\" valign=\"top\">28905ebd</th>\n",
       "      <th>0</th>\n",
       "      <td>144146</td>\n",
       "    </tr>\n",
       "    <tr>\n",
       "      <th>1</th>\n",
       "      <td>37874</td>\n",
       "    </tr>\n",
       "    <tr>\n",
       "      <th rowspan=\"2\" valign=\"top\">335d28a8</th>\n",
       "      <th>0</th>\n",
       "      <td>3050</td>\n",
       "    </tr>\n",
       "    <tr>\n",
       "      <th>1</th>\n",
       "      <td>301</td>\n",
       "    </tr>\n",
       "    <tr>\n",
       "      <th rowspan=\"2\" valign=\"top\">3e814130</th>\n",
       "      <th>0</th>\n",
       "      <td>54159</td>\n",
       "    </tr>\n",
       "    <tr>\n",
       "      <th>1</th>\n",
       "      <td>21508</td>\n",
       "    </tr>\n",
       "    <tr>\n",
       "      <th rowspan=\"2\" valign=\"top\">42a36e14</th>\n",
       "      <th>0</th>\n",
       "      <td>48</td>\n",
       "    </tr>\n",
       "    <tr>\n",
       "      <th>1</th>\n",
       "      <td>14</td>\n",
       "    </tr>\n",
       "    <tr>\n",
       "      <th rowspan=\"2\" valign=\"top\">50e219e0</th>\n",
       "      <th>0</th>\n",
       "      <td>356335</td>\n",
       "    </tr>\n",
       "    <tr>\n",
       "      <th>1</th>\n",
       "      <td>52586</td>\n",
       "    </tr>\n",
       "    <tr>\n",
       "      <th>5378d028</th>\n",
       "      <th>0</th>\n",
       "      <td>11</td>\n",
       "    </tr>\n",
       "    <tr>\n",
       "      <th rowspan=\"2\" valign=\"top\">70fb0e29</th>\n",
       "      <th>0</th>\n",
       "      <td>520</td>\n",
       "    </tr>\n",
       "    <tr>\n",
       "      <th>1</th>\n",
       "      <td>88</td>\n",
       "    </tr>\n",
       "    <tr>\n",
       "      <th rowspan=\"2\" valign=\"top\">72722551</th>\n",
       "      <th>0</th>\n",
       "      <td>636</td>\n",
       "    </tr>\n",
       "    <tr>\n",
       "      <th>1</th>\n",
       "      <td>40</td>\n",
       "    </tr>\n",
       "    <tr>\n",
       "      <th rowspan=\"2\" valign=\"top\">75fa27f6</th>\n",
       "      <th>0</th>\n",
       "      <td>3561</td>\n",
       "    </tr>\n",
       "    <tr>\n",
       "      <th>1</th>\n",
       "      <td>446</td>\n",
       "    </tr>\n",
       "    <tr>\n",
       "      <th rowspan=\"2\" valign=\"top\">76b2941d</th>\n",
       "      <th>0</th>\n",
       "      <td>2481</td>\n",
       "    </tr>\n",
       "    <tr>\n",
       "      <th>1</th>\n",
       "      <td>92</td>\n",
       "    </tr>\n",
       "    <tr>\n",
       "      <th rowspan=\"2\" valign=\"top\">8fd0aea4</th>\n",
       "      <th>0</th>\n",
       "      <td>186</td>\n",
       "    </tr>\n",
       "    <tr>\n",
       "      <th>1</th>\n",
       "      <td>3</td>\n",
       "    </tr>\n",
       "    <tr>\n",
       "      <th>9ccfa2ea</th>\n",
       "      <th>0</th>\n",
       "      <td>5</td>\n",
       "    </tr>\n",
       "    <tr>\n",
       "      <th>a818d37a</th>\n",
       "      <th>0</th>\n",
       "      <td>81</td>\n",
       "    </tr>\n",
       "    <tr>\n",
       "      <th>bcf865d9</th>\n",
       "      <th>0</th>\n",
       "      <td>16</td>\n",
       "    </tr>\n",
       "    <tr>\n",
       "      <th rowspan=\"2\" valign=\"top\">c0dd3be3</th>\n",
       "      <th>0</th>\n",
       "      <td>894</td>\n",
       "    </tr>\n",
       "    <tr>\n",
       "      <th>1</th>\n",
       "      <td>132</td>\n",
       "    </tr>\n",
       "    <tr>\n",
       "      <th>c706e647</th>\n",
       "      <th>0</th>\n",
       "      <td>1</td>\n",
       "    </tr>\n",
       "    <tr>\n",
       "      <th>da34532e</th>\n",
       "      <th>0</th>\n",
       "      <td>1</td>\n",
       "    </tr>\n",
       "    <tr>\n",
       "      <th rowspan=\"2\" valign=\"top\">dedf689d</th>\n",
       "      <th>1</th>\n",
       "      <td>331</td>\n",
       "    </tr>\n",
       "    <tr>\n",
       "      <th>0</th>\n",
       "      <td>293</td>\n",
       "    </tr>\n",
       "    <tr>\n",
       "      <th>e787de0e</th>\n",
       "      <th>0</th>\n",
       "      <td>28</td>\n",
       "    </tr>\n",
       "    <tr>\n",
       "      <th rowspan=\"2\" valign=\"top\">f028772b</th>\n",
       "      <th>0</th>\n",
       "      <td>257026</td>\n",
       "    </tr>\n",
       "    <tr>\n",
       "      <th>1</th>\n",
       "      <td>56313</td>\n",
       "    </tr>\n",
       "    <tr>\n",
       "      <th rowspan=\"2\" valign=\"top\">f66779e6</th>\n",
       "      <th>0</th>\n",
       "      <td>6145</td>\n",
       "    </tr>\n",
       "    <tr>\n",
       "      <th>1</th>\n",
       "      <td>220</td>\n",
       "    </tr>\n",
       "  </tbody>\n",
       "</table>\n",
       "</div>"
      ],
      "text/plain": [
       "                     Value Count\n",
       "site_category click             \n",
       "0569f928      0              406\n",
       "              1               23\n",
       "28905ebd      0           144146\n",
       "              1            37874\n",
       "335d28a8      0             3050\n",
       "              1              301\n",
       "3e814130      0            54159\n",
       "              1            21508\n",
       "42a36e14      0               48\n",
       "              1               14\n",
       "50e219e0      0           356335\n",
       "              1            52586\n",
       "5378d028      0               11\n",
       "70fb0e29      0              520\n",
       "              1               88\n",
       "72722551      0              636\n",
       "              1               40\n",
       "75fa27f6      0             3561\n",
       "              1              446\n",
       "76b2941d      0             2481\n",
       "              1               92\n",
       "8fd0aea4      0              186\n",
       "              1                3\n",
       "9ccfa2ea      0                5\n",
       "a818d37a      0               81\n",
       "bcf865d9      0               16\n",
       "c0dd3be3      0              894\n",
       "              1              132\n",
       "c706e647      0                1\n",
       "da34532e      0                1\n",
       "dedf689d      1              331\n",
       "              0              293\n",
       "e787de0e      0               28\n",
       "f028772b      0           257026\n",
       "              1            56313\n",
       "f66779e6      0             6145\n",
       "              1              220"
      ]
     },
     "execution_count": 24,
     "metadata": {},
     "output_type": "execute_result"
    }
   ],
   "source": [
    "df_q11 = pd.DataFrame(df.groupby('site_category')['click'].value_counts())\n",
    "df_q11.columns = ['Value Count']\n",
    "df_q11"
   ]
  },
  {
   "cell_type": "markdown",
   "metadata": {
    "ExecuteTime": {
     "end_time": "2019-01-05T10:27:59.863821Z",
     "start_time": "2019-01-05T10:27:59.674302Z"
    }
   },
   "source": [
    "We can see here that some site categories have a null click rate."
   ]
  },
  {
   "cell_type": "markdown",
   "metadata": {},
   "source": [
    "It is practical to visualize both columns in parallel:"
   ]
  },
  {
   "cell_type": "code",
   "execution_count": 25,
   "metadata": {
    "ExecuteTime": {
     "end_time": "2019-01-05T17:30:32.331835Z",
     "start_time": "2019-01-05T17:30:31.705169Z"
    }
   },
   "outputs": [
    {
     "data": {
      "text/html": [
       "<div>\n",
       "<style scoped>\n",
       "    .dataframe tbody tr th:only-of-type {\n",
       "        vertical-align: middle;\n",
       "    }\n",
       "\n",
       "    .dataframe tbody tr th {\n",
       "        vertical-align: top;\n",
       "    }\n",
       "\n",
       "    .dataframe thead th {\n",
       "        text-align: right;\n",
       "    }\n",
       "</style>\n",
       "<table border=\"1\" class=\"dataframe\">\n",
       "  <thead>\n",
       "    <tr style=\"text-align: right;\">\n",
       "      <th></th>\n",
       "      <th>mean</th>\n",
       "      <th>count</th>\n",
       "    </tr>\n",
       "    <tr>\n",
       "      <th>site_category</th>\n",
       "      <th></th>\n",
       "      <th></th>\n",
       "    </tr>\n",
       "  </thead>\n",
       "  <tbody>\n",
       "    <tr>\n",
       "      <th>0569f928</th>\n",
       "      <td>0.053613</td>\n",
       "      <td>429.0</td>\n",
       "    </tr>\n",
       "    <tr>\n",
       "      <th>8fd0aea4</th>\n",
       "      <td>0.015873</td>\n",
       "      <td>189.0</td>\n",
       "    </tr>\n",
       "    <tr>\n",
       "      <th>a818d37a</th>\n",
       "      <td>0.000000</td>\n",
       "      <td>81.0</td>\n",
       "    </tr>\n",
       "    <tr>\n",
       "      <th>42a36e14</th>\n",
       "      <td>0.225806</td>\n",
       "      <td>62.0</td>\n",
       "    </tr>\n",
       "    <tr>\n",
       "      <th>e787de0e</th>\n",
       "      <td>0.000000</td>\n",
       "      <td>28.0</td>\n",
       "    </tr>\n",
       "    <tr>\n",
       "      <th>bcf865d9</th>\n",
       "      <td>0.000000</td>\n",
       "      <td>16.0</td>\n",
       "    </tr>\n",
       "    <tr>\n",
       "      <th>5378d028</th>\n",
       "      <td>0.000000</td>\n",
       "      <td>11.0</td>\n",
       "    </tr>\n",
       "    <tr>\n",
       "      <th>9ccfa2ea</th>\n",
       "      <td>0.000000</td>\n",
       "      <td>5.0</td>\n",
       "    </tr>\n",
       "    <tr>\n",
       "      <th>c706e647</th>\n",
       "      <td>0.000000</td>\n",
       "      <td>1.0</td>\n",
       "    </tr>\n",
       "    <tr>\n",
       "      <th>da34532e</th>\n",
       "      <td>0.000000</td>\n",
       "      <td>1.0</td>\n",
       "    </tr>\n",
       "  </tbody>\n",
       "</table>\n",
       "</div>"
      ],
      "text/plain": [
       "                   mean  count\n",
       "site_category                 \n",
       "0569f928       0.053613  429.0\n",
       "8fd0aea4       0.015873  189.0\n",
       "a818d37a       0.000000   81.0\n",
       "42a36e14       0.225806   62.0\n",
       "e787de0e       0.000000   28.0\n",
       "bcf865d9       0.000000   16.0\n",
       "5378d028       0.000000   11.0\n",
       "9ccfa2ea       0.000000    5.0\n",
       "c706e647       0.000000    1.0\n",
       "da34532e       0.000000    1.0"
      ]
     },
     "execution_count": 25,
     "metadata": {},
     "output_type": "execute_result"
    }
   ],
   "source": [
    "col = 'site_category'\n",
    "a = pd.DataFrame([df.groupby(col).mean()['click'], df.groupby(col).count()['click']]).transpose()\n",
    "a.columns = ['mean', 'count']\n",
    "a.sort_values(by='count', ascending=False).tail(10)"
   ]
  },
  {
   "cell_type": "markdown",
   "metadata": {},
   "source": [
    "This table shows that the site categories that have a null click rate also have low counts. It means they do not appear much in the dataset and thus the click rate calculated might not be relevant as there is not enough instances of it."
   ]
  },
  {
   "cell_type": "markdown",
   "metadata": {},
   "source": [
    "<font color=\"red\">**Question 12:**\n",
    "    Divide the dataset into a training (90%) and test set (10%) with sklearn (use the following option: random_state=100).\n",
    "</font>"
   ]
  },
  {
   "cell_type": "code",
   "execution_count": 26,
   "metadata": {
    "ExecuteTime": {
     "end_time": "2019-01-05T17:30:33.419405Z",
     "start_time": "2019-01-05T17:30:32.333205Z"
    }
   },
   "outputs": [],
   "source": [
    "SEED = 100\n",
    "#df2 = df.copy()\n",
    "#df2 = df2.drop(\"id\", axis=1)\n",
    "from sklearn.model_selection import train_test_split\n",
    "Xtrain, Xtest, ytrain, ytest = train_test_split(\n",
    "    df.iloc[:,2:], df['click'], test_size=0.1, random_state = SEED)"
   ]
  },
  {
   "cell_type": "code",
   "execution_count": 27,
   "metadata": {
    "ExecuteTime": {
     "end_time": "2019-01-05T17:30:33.424249Z",
     "start_time": "2019-01-05T17:30:33.421196Z"
    }
   },
   "outputs": [
    {
     "name": "stdout",
     "output_type": "stream",
     "text": [
      "Train shape : (900000, 23)\n",
      "Test shape : (100000, 23)\n"
     ]
    }
   ],
   "source": [
    "print('Train shape : ' + str(Xtrain.shape))\n",
    "print('Test shape : ' + str(Xtest.shape))"
   ]
  },
  {
   "cell_type": "markdown",
   "metadata": {},
   "source": [
    "# First work on a reduced number of features"
   ]
  },
  {
   "cell_type": "markdown",
   "metadata": {},
   "source": [
    "<font color=\"red\">**Question 13:**\n",
    "    Put in a list the selected columns: 'hour', 'weekday', 'C1', 'banner_pos', 'site_category', 'app_category', 'device_type', 'device_conn_type', 'C15', 'C16', 'C18', 'C21'.\n",
    "</font>"
   ]
  },
  {
   "cell_type": "code",
   "execution_count": 28,
   "metadata": {
    "ExecuteTime": {
     "end_time": "2019-01-05T17:30:33.487724Z",
     "start_time": "2019-01-05T17:30:33.426080Z"
    }
   },
   "outputs": [
    {
     "data": {
      "text/html": [
       "<div>\n",
       "<style scoped>\n",
       "    .dataframe tbody tr th:only-of-type {\n",
       "        vertical-align: middle;\n",
       "    }\n",
       "\n",
       "    .dataframe tbody tr th {\n",
       "        vertical-align: top;\n",
       "    }\n",
       "\n",
       "    .dataframe thead th {\n",
       "        text-align: right;\n",
       "    }\n",
       "</style>\n",
       "<table border=\"1\" class=\"dataframe\">\n",
       "  <thead>\n",
       "    <tr style=\"text-align: right;\">\n",
       "      <th></th>\n",
       "      <th>hour</th>\n",
       "      <th>weekday</th>\n",
       "      <th>C1</th>\n",
       "      <th>banner_pos</th>\n",
       "      <th>site_category</th>\n",
       "      <th>app_category</th>\n",
       "      <th>device_type</th>\n",
       "      <th>device_conn_type</th>\n",
       "      <th>C15</th>\n",
       "      <th>C16</th>\n",
       "      <th>C18</th>\n",
       "      <th>C21</th>\n",
       "    </tr>\n",
       "  </thead>\n",
       "  <tbody>\n",
       "    <tr>\n",
       "      <th>0</th>\n",
       "      <td>15</td>\n",
       "      <td>2</td>\n",
       "      <td>1005</td>\n",
       "      <td>1</td>\n",
       "      <td>f028772b</td>\n",
       "      <td>07d7df22</td>\n",
       "      <td>1</td>\n",
       "      <td>2</td>\n",
       "      <td>320</td>\n",
       "      <td>50</td>\n",
       "      <td>2</td>\n",
       "      <td>32</td>\n",
       "    </tr>\n",
       "    <tr>\n",
       "      <th>1</th>\n",
       "      <td>7</td>\n",
       "      <td>3</td>\n",
       "      <td>1002</td>\n",
       "      <td>0</td>\n",
       "      <td>50e219e0</td>\n",
       "      <td>07d7df22</td>\n",
       "      <td>0</td>\n",
       "      <td>0</td>\n",
       "      <td>320</td>\n",
       "      <td>50</td>\n",
       "      <td>2</td>\n",
       "      <td>32</td>\n",
       "    </tr>\n",
       "    <tr>\n",
       "      <th>2</th>\n",
       "      <td>11</td>\n",
       "      <td>0</td>\n",
       "      <td>1005</td>\n",
       "      <td>0</td>\n",
       "      <td>50e219e0</td>\n",
       "      <td>cef3e649</td>\n",
       "      <td>1</td>\n",
       "      <td>0</td>\n",
       "      <td>320</td>\n",
       "      <td>50</td>\n",
       "      <td>1</td>\n",
       "      <td>71</td>\n",
       "    </tr>\n",
       "    <tr>\n",
       "      <th>3</th>\n",
       "      <td>3</td>\n",
       "      <td>2</td>\n",
       "      <td>1005</td>\n",
       "      <td>0</td>\n",
       "      <td>50e219e0</td>\n",
       "      <td>0f2161f8</td>\n",
       "      <td>1</td>\n",
       "      <td>0</td>\n",
       "      <td>320</td>\n",
       "      <td>50</td>\n",
       "      <td>0</td>\n",
       "      <td>221</td>\n",
       "    </tr>\n",
       "    <tr>\n",
       "      <th>4</th>\n",
       "      <td>2</td>\n",
       "      <td>2</td>\n",
       "      <td>1005</td>\n",
       "      <td>1</td>\n",
       "      <td>f028772b</td>\n",
       "      <td>07d7df22</td>\n",
       "      <td>1</td>\n",
       "      <td>0</td>\n",
       "      <td>320</td>\n",
       "      <td>50</td>\n",
       "      <td>3</td>\n",
       "      <td>23</td>\n",
       "    </tr>\n",
       "  </tbody>\n",
       "</table>\n",
       "</div>"
      ],
      "text/plain": [
       "   hour  weekday    C1  banner_pos site_category app_category  device_type  \\\n",
       "0    15        2  1005           1      f028772b     07d7df22            1   \n",
       "1     7        3  1002           0      50e219e0     07d7df22            0   \n",
       "2    11        0  1005           0      50e219e0     cef3e649            1   \n",
       "3     3        2  1005           0      50e219e0     0f2161f8            1   \n",
       "4     2        2  1005           1      f028772b     07d7df22            1   \n",
       "\n",
       "   device_conn_type  C15  C16  C18  C21  \n",
       "0                 2  320   50    2   32  \n",
       "1                 0  320   50    2   32  \n",
       "2                 0  320   50    1   71  \n",
       "3                 0  320   50    0  221  \n",
       "4                 0  320   50    3   23  "
      ]
     },
     "execution_count": 28,
     "metadata": {},
     "output_type": "execute_result"
    }
   ],
   "source": [
    "some_columns = ['hour', 'weekday', 'C1', 'banner_pos', 'site_category', 'app_category', \n",
    "                'device_type', 'device_conn_type', 'C15', 'C16', 'C18', 'C21']\n",
    "slice_df = df[some_columns]\n",
    "\n",
    "slice_df.head()"
   ]
  },
  {
   "cell_type": "markdown",
   "metadata": {},
   "source": [
    "<font color=\"red\">**Question 14:**\n",
    "    <br>\n",
    "    - Import OneHotEncoder from sklearn.preprocessing\n",
    "    <br>\n",
    "    - Transform the training and the test data restricted to the selected columns\n",
    "    <br>\n",
    "    - Give the type of the outputs.\n",
    "</font>"
   ]
  },
  {
   "cell_type": "code",
   "execution_count": 29,
   "metadata": {
    "ExecuteTime": {
     "end_time": "2019-01-05T17:30:36.420283Z",
     "start_time": "2019-01-05T17:30:33.489788Z"
    }
   },
   "outputs": [],
   "source": [
    "# As some variables are in a hex-like format, we must first encode these labels\n",
    "\n",
    "from sklearn.preprocessing import LabelEncoder\n",
    "\n",
    "site_categ_label = LabelEncoder().fit(Xtrain['site_category'])\n",
    "app_categ_label = LabelEncoder().fit(Xtrain['app_category'])\n",
    "\n",
    "Xtrain['site_category'] = site_categ_label.transform(Xtrain['site_category'])\n",
    "Xtrain['app_category'] = app_categ_label.transform(Xtrain['app_category'])\n",
    "Xtest['site_category'] = site_categ_label.transform(Xtest['site_category'])\n",
    "Xtest['app_category'] = app_categ_label.transform(Xtest['app_category'])"
   ]
  },
  {
   "cell_type": "code",
   "execution_count": 30,
   "metadata": {
    "ExecuteTime": {
     "end_time": "2019-01-05T17:30:37.609740Z",
     "start_time": "2019-01-05T17:30:36.422393Z"
    }
   },
   "outputs": [],
   "source": [
    "from sklearn.preprocessing import OneHotEncoder\n",
    "\n",
    "ohe = OneHotEncoder().fit(Xtrain[some_columns])\n",
    "\n",
    "Xtrain_oh = ohe.transform(Xtrain[some_columns]) # fit the transformation of Xtrain restricted to selected columns\n",
    "Xtest_oh = ohe.transform(Xtest[some_columns]) # and transform Xtest restricted to selected columns"
   ]
  },
  {
   "cell_type": "markdown",
   "metadata": {
    "ExecuteTime": {
     "end_time": "2018-12-17T14:47:14.276718Z",
     "start_time": "2018-12-17T14:47:14.256773Z"
    }
   },
   "source": [
    "We encoded the columns, each will have a 0 or a 1 for each different value of the column"
   ]
  },
  {
   "cell_type": "markdown",
   "metadata": {},
   "source": [
    "<font color=\"red\">**Question 15:**\n",
    "    What is the new number of features?\n",
    "</font>"
   ]
  },
  {
   "cell_type": "code",
   "execution_count": 31,
   "metadata": {
    "ExecuteTime": {
     "end_time": "2019-01-05T17:30:37.614091Z",
     "start_time": "2019-01-05T17:30:37.611122Z"
    }
   },
   "outputs": [
    {
     "name": "stdout",
     "output_type": "stream",
     "text": [
      "Number of features : 183\n"
     ]
    }
   ],
   "source": [
    "print(\"Number of features :\" ,Xtrain_oh.shape[1])"
   ]
  },
  {
   "cell_type": "markdown",
   "metadata": {},
   "source": [
    "<font color=\"red\">**Question 16:**\n",
    "    Visualize the first row of the design matrix you have got.\n",
    "</font>"
   ]
  },
  {
   "cell_type": "code",
   "execution_count": 32,
   "metadata": {
    "ExecuteTime": {
     "end_time": "2019-01-05T17:30:38.251206Z",
     "start_time": "2019-01-05T17:30:37.616654Z"
    }
   },
   "outputs": [
    {
     "data": {
      "text/plain": [
       "array([0., 0., 0., 0., 0., 0., 0., 0., 0., 0., 1., 0., 0., 0., 0., 0., 0.,\n",
       "       0., 0., 0., 0., 0., 0., 0., 1., 0., 0., 0., 0., 0., 0., 0., 0., 0.,\n",
       "       0., 0., 1., 0., 0., 1., 0., 0., 0., 0., 0., 0., 0., 0., 0., 0., 1.,\n",
       "       0., 0., 0., 0., 0., 0., 0., 0., 0., 0., 0., 0., 0., 0., 0., 0., 0.,\n",
       "       0., 0., 1., 0., 0., 0., 0., 0., 0., 0., 0., 0., 0., 0., 0., 0., 0.,\n",
       "       0., 0., 0., 0., 0., 0., 0., 0., 0., 0., 0., 1., 0., 0., 0., 1., 0.,\n",
       "       0., 0., 0., 1., 0., 0., 0., 0., 0., 0., 1., 0., 0., 0., 0., 0., 0.,\n",
       "       1., 0., 0., 0., 0., 0., 0., 0., 0., 0., 0., 0., 0., 0., 0., 0., 0.,\n",
       "       0., 0., 0., 0., 0., 0., 0., 0., 0., 1., 0., 0., 0., 0., 0., 0., 0.,\n",
       "       0., 0., 0., 0., 0., 0., 0., 0., 0., 0., 0., 0., 0., 0., 0., 0., 0.,\n",
       "       0., 0., 0., 0., 0., 0., 0., 0., 0., 0., 0., 0., 0.])"
      ]
     },
     "execution_count": 32,
     "metadata": {},
     "output_type": "execute_result"
    }
   ],
   "source": [
    "Xtrain_oh.toarray()[0]"
   ]
  },
  {
   "cell_type": "markdown",
   "metadata": {},
   "source": [
    "<font color=\"red\">**Question 17:**\n",
    "    Import and fit a logistic regression model on your the encoded data\n",
    "</font>"
   ]
  },
  {
   "cell_type": "code",
   "execution_count": 33,
   "metadata": {
    "ExecuteTime": {
     "end_time": "2019-01-05T17:30:56.898761Z",
     "start_time": "2019-01-05T17:30:38.252588Z"
    }
   },
   "outputs": [
    {
     "data": {
      "text/plain": [
       "LogisticRegression(C=1.0, class_weight=None, dual=False, fit_intercept=True,\n",
       "          intercept_scaling=1, max_iter=100, multi_class='ovr', n_jobs=1,\n",
       "          penalty='l2', random_state=100, solver='liblinear', tol=0.0001,\n",
       "          verbose=0, warm_start=False)"
      ]
     },
     "execution_count": 33,
     "metadata": {},
     "output_type": "execute_result"
    }
   ],
   "source": [
    "from sklearn.linear_model import LogisticRegression\n",
    "lr = LogisticRegression(random_state = SEED)\n",
    "lr.fit(Xtrain_oh,ytrain)"
   ]
  },
  {
   "cell_type": "markdown",
   "metadata": {},
   "source": [
    "<font color=\"red\">**Question 18:**\n",
    "    With '.predict' and 'predict_proba', display the hard and soft decision you get on test data.\n",
    "</font>"
   ]
  },
  {
   "cell_type": "code",
   "execution_count": 34,
   "metadata": {
    "ExecuteTime": {
     "end_time": "2019-01-05T17:30:56.917393Z",
     "start_time": "2019-01-05T17:30:56.900184Z"
    }
   },
   "outputs": [
    {
     "data": {
      "text/html": [
       "<div>\n",
       "<style scoped>\n",
       "    .dataframe tbody tr th:only-of-type {\n",
       "        vertical-align: middle;\n",
       "    }\n",
       "\n",
       "    .dataframe tbody tr th {\n",
       "        vertical-align: top;\n",
       "    }\n",
       "\n",
       "    .dataframe thead th {\n",
       "        text-align: right;\n",
       "    }\n",
       "</style>\n",
       "<table border=\"1\" class=\"dataframe\">\n",
       "  <thead>\n",
       "    <tr style=\"text-align: right;\">\n",
       "      <th></th>\n",
       "      <th>0</th>\n",
       "      <th>1</th>\n",
       "      <th>2</th>\n",
       "      <th>3</th>\n",
       "      <th>4</th>\n",
       "      <th>5</th>\n",
       "      <th>6</th>\n",
       "      <th>7</th>\n",
       "      <th>8</th>\n",
       "      <th>9</th>\n",
       "      <th>...</th>\n",
       "      <th>99990</th>\n",
       "      <th>99991</th>\n",
       "      <th>99992</th>\n",
       "      <th>99993</th>\n",
       "      <th>99994</th>\n",
       "      <th>99995</th>\n",
       "      <th>99996</th>\n",
       "      <th>99997</th>\n",
       "      <th>99998</th>\n",
       "      <th>99999</th>\n",
       "    </tr>\n",
       "  </thead>\n",
       "  <tbody>\n",
       "    <tr>\n",
       "      <th>0</th>\n",
       "      <td>0</td>\n",
       "      <td>0</td>\n",
       "      <td>0</td>\n",
       "      <td>0</td>\n",
       "      <td>0</td>\n",
       "      <td>0</td>\n",
       "      <td>0</td>\n",
       "      <td>0</td>\n",
       "      <td>0</td>\n",
       "      <td>0</td>\n",
       "      <td>...</td>\n",
       "      <td>0</td>\n",
       "      <td>0</td>\n",
       "      <td>0</td>\n",
       "      <td>0</td>\n",
       "      <td>0</td>\n",
       "      <td>0</td>\n",
       "      <td>0</td>\n",
       "      <td>0</td>\n",
       "      <td>0</td>\n",
       "      <td>0</td>\n",
       "    </tr>\n",
       "  </tbody>\n",
       "</table>\n",
       "<p>1 rows × 100000 columns</p>\n",
       "</div>"
      ],
      "text/plain": [
       "   0      1      2      3      4      5      6      7      8      9      \\\n",
       "0      0      0      0      0      0      0      0      0      0      0   \n",
       "\n",
       "   ...    99990  99991  99992  99993  99994  99995  99996  99997  99998  99999  \n",
       "0  ...        0      0      0      0      0      0      0      0      0      0  \n",
       "\n",
       "[1 rows x 100000 columns]"
      ]
     },
     "execution_count": 34,
     "metadata": {},
     "output_type": "execute_result"
    }
   ],
   "source": [
    "hard = lr.predict(Xtest_oh)\n",
    "pd.DataFrame(hard).T"
   ]
  },
  {
   "cell_type": "code",
   "execution_count": 35,
   "metadata": {
    "ExecuteTime": {
     "end_time": "2019-01-05T17:30:56.947507Z",
     "start_time": "2019-01-05T17:30:56.918774Z"
    }
   },
   "outputs": [
    {
     "data": {
      "text/html": [
       "<div>\n",
       "<style scoped>\n",
       "    .dataframe tbody tr th:only-of-type {\n",
       "        vertical-align: middle;\n",
       "    }\n",
       "\n",
       "    .dataframe tbody tr th {\n",
       "        vertical-align: top;\n",
       "    }\n",
       "\n",
       "    .dataframe thead th {\n",
       "        text-align: right;\n",
       "    }\n",
       "</style>\n",
       "<table border=\"1\" class=\"dataframe\">\n",
       "  <thead>\n",
       "    <tr style=\"text-align: right;\">\n",
       "      <th></th>\n",
       "      <th>0</th>\n",
       "      <th>1</th>\n",
       "      <th>2</th>\n",
       "      <th>3</th>\n",
       "      <th>4</th>\n",
       "      <th>5</th>\n",
       "      <th>6</th>\n",
       "      <th>7</th>\n",
       "      <th>8</th>\n",
       "      <th>9</th>\n",
       "      <th>...</th>\n",
       "      <th>99990</th>\n",
       "      <th>99991</th>\n",
       "      <th>99992</th>\n",
       "      <th>99993</th>\n",
       "      <th>99994</th>\n",
       "      <th>99995</th>\n",
       "      <th>99996</th>\n",
       "      <th>99997</th>\n",
       "      <th>99998</th>\n",
       "      <th>99999</th>\n",
       "    </tr>\n",
       "  </thead>\n",
       "  <tbody>\n",
       "    <tr>\n",
       "      <th>0</th>\n",
       "      <td>0.758081</td>\n",
       "      <td>0.733943</td>\n",
       "      <td>0.796839</td>\n",
       "      <td>0.919757</td>\n",
       "      <td>0.750792</td>\n",
       "      <td>0.867931</td>\n",
       "      <td>0.897848</td>\n",
       "      <td>0.871539</td>\n",
       "      <td>0.874977</td>\n",
       "      <td>0.917236</td>\n",
       "      <td>...</td>\n",
       "      <td>0.7905</td>\n",
       "      <td>0.882495</td>\n",
       "      <td>0.858748</td>\n",
       "      <td>0.974013</td>\n",
       "      <td>0.832503</td>\n",
       "      <td>0.853762</td>\n",
       "      <td>0.9025</td>\n",
       "      <td>0.792495</td>\n",
       "      <td>0.785688</td>\n",
       "      <td>0.878495</td>\n",
       "    </tr>\n",
       "    <tr>\n",
       "      <th>1</th>\n",
       "      <td>0.241919</td>\n",
       "      <td>0.266057</td>\n",
       "      <td>0.203161</td>\n",
       "      <td>0.080243</td>\n",
       "      <td>0.249208</td>\n",
       "      <td>0.132069</td>\n",
       "      <td>0.102152</td>\n",
       "      <td>0.128461</td>\n",
       "      <td>0.125023</td>\n",
       "      <td>0.082764</td>\n",
       "      <td>...</td>\n",
       "      <td>0.2095</td>\n",
       "      <td>0.117505</td>\n",
       "      <td>0.141252</td>\n",
       "      <td>0.025987</td>\n",
       "      <td>0.167497</td>\n",
       "      <td>0.146238</td>\n",
       "      <td>0.0975</td>\n",
       "      <td>0.207505</td>\n",
       "      <td>0.214312</td>\n",
       "      <td>0.121505</td>\n",
       "    </tr>\n",
       "  </tbody>\n",
       "</table>\n",
       "<p>2 rows × 100000 columns</p>\n",
       "</div>"
      ],
      "text/plain": [
       "      0         1         2         3         4         5         6      \\\n",
       "0  0.758081  0.733943  0.796839  0.919757  0.750792  0.867931  0.897848   \n",
       "1  0.241919  0.266057  0.203161  0.080243  0.249208  0.132069  0.102152   \n",
       "\n",
       "      7         8         9        ...      99990     99991     99992  \\\n",
       "0  0.871539  0.874977  0.917236    ...     0.7905  0.882495  0.858748   \n",
       "1  0.128461  0.125023  0.082764    ...     0.2095  0.117505  0.141252   \n",
       "\n",
       "      99993     99994     99995   99996     99997     99998     99999  \n",
       "0  0.974013  0.832503  0.853762  0.9025  0.792495  0.785688  0.878495  \n",
       "1  0.025987  0.167497  0.146238  0.0975  0.207505  0.214312  0.121505  \n",
       "\n",
       "[2 rows x 100000 columns]"
      ]
     },
     "execution_count": 35,
     "metadata": {},
     "output_type": "execute_result"
    }
   ],
   "source": [
    "soft = lr.predict_proba(Xtest_oh)\n",
    "pd.DataFrame(soft).T"
   ]
  },
  {
   "cell_type": "markdown",
   "metadata": {},
   "source": [
    "<font color=\"red\">**Question 19:**\n",
    "    Compute the probability of **error** using sklearn.metrics 'accuracy_score' function. Comment.\n",
    "    \n",
    "</font>"
   ]
  },
  {
   "cell_type": "code",
   "execution_count": 36,
   "metadata": {
    "ExecuteTime": {
     "end_time": "2019-01-05T17:30:56.960688Z",
     "start_time": "2019-01-05T17:30:56.949277Z"
    }
   },
   "outputs": [
    {
     "name": "stdout",
     "output_type": "stream",
     "text": [
      "Hard score  0.83043\n"
     ]
    }
   ],
   "source": [
    "from sklearn.metrics import accuracy_score\n",
    "hard_score_selected = accuracy_score(ytest, hard)\n",
    "print(\"Hard score \", hard_score_selected)"
   ]
  },
  {
   "cell_type": "markdown",
   "metadata": {},
   "source": [
    "The score is 83% : it is a pretty bad score considering there is a 17% click rate. As <i>1 - 0.17 = 0.83</i>, it means it's like if our classifier only predicted everytime no click"
   ]
  },
  {
   "cell_type": "markdown",
   "metadata": {},
   "source": [
    "<font color=\"red\">**Question 20:**\n",
    "    Which sklearn.metrics could you also use?\n",
    "</font>"
   ]
  },
  {
   "cell_type": "markdown",
   "metadata": {},
   "source": [
    "We could for instance use balanced_accuracy_score or any other metric using the same arguments"
   ]
  },
  {
   "cell_type": "markdown",
   "metadata": {},
   "source": [
    "<font color=\"red\">**Question 21:**\n",
    "    Plot the ROC curve. Then compute the log loss and the Area Under the Curve ROC.\n",
    "</font>"
   ]
  },
  {
   "cell_type": "code",
   "execution_count": 37,
   "metadata": {
    "ExecuteTime": {
     "end_time": "2019-01-05T17:30:57.134984Z",
     "start_time": "2019-01-05T17:30:56.962484Z"
    }
   },
   "outputs": [
    {
     "data": {
      "image/png": "[encoded data removed]",
      "text/plain": [
       "<Figure size 432x288 with 1 Axes>"
      ]
     },
     "metadata": {},
     "output_type": "display_data"
    }
   ],
   "source": [
    "from sklearn.metrics import roc_auc_score, roc_curve\n",
    "#roc_curve(ytest,soft[:,1])\n",
    "#plt.plot(roc_curve(ytest,soft[:,1]))\n",
    "\n",
    "#from sklearn.metrics import roc_curve, roc_auc_score\n",
    "fpr, tpr, threshold = roc_curve(ytest,  soft[:,1])\n",
    "plt.plot(fpr,tpr, '-')\n",
    "plt.plot([0,1],[0,1], linestyle='--')\n",
    "plt.show()"
   ]
  },
  {
   "cell_type": "code",
   "execution_count": 38,
   "metadata": {
    "ExecuteTime": {
     "end_time": "2019-01-05T17:30:57.180383Z",
     "start_time": "2019-01-05T17:30:57.136897Z"
    }
   },
   "outputs": [
    {
     "name": "stdout",
     "output_type": "stream",
     "text": [
      "Log loss :  (0.4251224554680983, 0.6762758103988586)\n"
     ]
    }
   ],
   "source": [
    "from sklearn.metrics import log_loss , roc_auc_score \n",
    "log_loss_selected = log_loss(ytest, soft[:,1]), roc_auc_score(ytest, soft[:,1])\n",
    "print(\"Log loss : \", log_loss_selected)"
   ]
  },
  {
   "cell_type": "code",
   "execution_count": 39,
   "metadata": {
    "ExecuteTime": {
     "end_time": "2019-01-05T17:30:57.206672Z",
     "start_time": "2019-01-05T17:30:57.182026Z"
    }
   },
   "outputs": [
    {
     "name": "stdout",
     "output_type": "stream",
     "text": [
      "Area under roc curve :  0.6762758103988586\n"
     ]
    }
   ],
   "source": [
    "roc_feature_selected = roc_auc_score(ytest, soft[:,1])\n",
    "print(\"Area under roc curve : \", roc_feature_selected)"
   ]
  },
  {
   "cell_type": "markdown",
   "metadata": {},
   "source": [
    "<font color=\"red\">**Question 22:**\n",
    "    <br>\n",
    "    - Import the 'plot_lift' function from 'utils.py' and plot the lift curve. What is the lift of the first fifth of the population identified by the test?\n",
    "    <br>\n",
    "    -  Interpret it. \n",
    "</font>"
   ]
  },
  {
   "cell_type": "code",
   "execution_count": 40,
   "metadata": {
    "ExecuteTime": {
     "end_time": "2019-01-05T17:30:57.374558Z",
     "start_time": "2019-01-05T17:30:57.208972Z"
    }
   },
   "outputs": [
    {
     "data": {
      "image/png": "[encoded data removed]",
      "text/plain": [
       "<Figure size 432x288 with 1 Axes>"
      ]
     },
     "metadata": {},
     "output_type": "display_data"
    }
   ],
   "source": [
    "from utils import plotlift\n",
    "plotlift(ytest, soft[:,1])\n",
    "# The following line just plots a vertical line for you to answer the second part of the question\n",
    "plt.axvline(x= 0.2 , linestyle='--', color='r') # Fill here\n",
    "plt.show()"
   ]
  },
  {
   "cell_type": "markdown",
   "metadata": {},
   "source": [
    "The lift of the fifth of the population is aproximatly 1.8"
   ]
  },
  {
   "cell_type": "markdown",
   "metadata": {},
   "source": [
    "It shows that on the first fifth of the population, the model performs at least 1.8 times better than random guess"
   ]
  },
  {
   "cell_type": "markdown",
   "metadata": {},
   "source": [
    "# Complete model"
   ]
  },
  {
   "cell_type": "markdown",
   "metadata": {},
   "source": [
    "As an example, we now work on the 'site_id' column.\n",
    "<font color=\"red\">**Question 23:**\n",
    "    <br>\n",
    "    - For each modality, compute the number of occurrences in the dataset and the average of clicks for this modality \n",
    "    <br>\n",
    "    - With 'sns.joiplot', represent the set of points (count, mean) for each modality\n",
    "</font>"
   ]
  },
  {
   "cell_type": "code",
   "execution_count": 41,
   "metadata": {
    "ExecuteTime": {
     "end_time": "2019-01-05T17:30:57.377989Z",
     "start_time": "2019-01-05T17:30:57.376265Z"
    }
   },
   "outputs": [],
   "source": [
    "import seaborn as sns"
   ]
  },
  {
   "cell_type": "code",
   "execution_count": 42,
   "metadata": {
    "ExecuteTime": {
     "end_time": "2019-01-05T17:30:58.749474Z",
     "start_time": "2019-01-05T17:30:57.379310Z"
    }
   },
   "outputs": [
    {
     "name": "stderr",
     "output_type": "stream",
     "text": [
      "/home/arnaud/anaconda3/lib/python3.6/site-packages/matplotlib/axes/_axes.py:6510: MatplotlibDeprecationWarning: \n",
      "The 'normed' kwarg was deprecated in Matplotlib 2.1 and will be removed in 3.1. Use 'density' instead.\n",
      "  alternative=\"'density'\", removal=\"3.1\")\n",
      "/home/arnaud/anaconda3/lib/python3.6/site-packages/matplotlib/axes/_axes.py:6510: MatplotlibDeprecationWarning: \n",
      "The 'normed' kwarg was deprecated in Matplotlib 2.1 and will be removed in 3.1. Use 'density' instead.\n",
      "  alternative=\"'density'\", removal=\"3.1\")\n",
      "/home/arnaud/anaconda3/lib/python3.6/site-packages/matplotlib/axes/_axes.py:6510: MatplotlibDeprecationWarning: \n",
      "The 'normed' kwarg was deprecated in Matplotlib 2.1 and will be removed in 3.1. Use 'density' instead.\n",
      "  alternative=\"'density'\", removal=\"3.1\")\n",
      "/home/arnaud/anaconda3/lib/python3.6/site-packages/matplotlib/axes/_axes.py:6510: MatplotlibDeprecationWarning: \n",
      "The 'normed' kwarg was deprecated in Matplotlib 2.1 and will be removed in 3.1. Use 'density' instead.\n",
      "  alternative=\"'density'\", removal=\"3.1\")\n"
     ]
    },
    {
     "data": {
      "image/png": "[encoded data removed]",
      "text/plain": [
       "<Figure size 432x432 with 3 Axes>"
      ]
     },
     "metadata": {},
     "output_type": "display_data"
    },
    {
     "data": {
      "image/png": "[encoded data removed]",
      "text/plain": [
       "<Figure size 432x432 with 3 Axes>"
      ]
     },
     "metadata": {},
     "output_type": "display_data"
    }
   ],
   "source": [
    "col = 'site_id'\n",
    "a = pd.DataFrame([df.groupby(col).mean()['click'], df.groupby(col).count()['click']]).transpose()\n",
    "a.columns = ['mean', 'n_val']\n",
    "sns.jointplot(a['n_val'], a['mean'], alpha=0.25)\n",
    "thres = 10000\n",
    "sns.jointplot(a[a['n_val']<thres]['n_val'], a[a['n_val']<thres]['mean'], alpha=0.25);"
   ]
  },
  {
   "cell_type": "markdown",
   "metadata": {},
   "source": [
    "<font color=\"red\">**Question 24:**\n",
    "    In the above commands, what does the alpha parameter stand for?\n",
    "</font>"
   ]
  },
  {
   "cell_type": "markdown",
   "metadata": {},
   "source": [
    "Alpha is the transparency"
   ]
  },
  {
   "cell_type": "markdown",
   "metadata": {},
   "source": [
    "Several sites with a lot of occurrences in the dataset have a click frequency very different from the mean. It is relevant to keep the column 'site_id' at least for the modalities for which 'count' is very high.\n",
    "<font color=\"red\">**Question 25:**\n",
    "    Do the same work on the 'device_id' column. What do you notice? What could be the isolated point?\n",
    "</font>"
   ]
  },
  {
   "cell_type": "code",
   "execution_count": 43,
   "metadata": {
    "ExecuteTime": {
     "end_time": "2019-01-05T17:31:05.949619Z",
     "start_time": "2019-01-05T17:30:58.750897Z"
    }
   },
   "outputs": [
    {
     "name": "stderr",
     "output_type": "stream",
     "text": [
      "/home/arnaud/anaconda3/lib/python3.6/site-packages/matplotlib/axes/_axes.py:6510: MatplotlibDeprecationWarning: \n",
      "The 'normed' kwarg was deprecated in Matplotlib 2.1 and will be removed in 3.1. Use 'density' instead.\n",
      "  alternative=\"'density'\", removal=\"3.1\")\n",
      "/home/arnaud/anaconda3/lib/python3.6/site-packages/matplotlib/axes/_axes.py:6510: MatplotlibDeprecationWarning: \n",
      "The 'normed' kwarg was deprecated in Matplotlib 2.1 and will be removed in 3.1. Use 'density' instead.\n",
      "  alternative=\"'density'\", removal=\"3.1\")\n",
      "/home/arnaud/anaconda3/lib/python3.6/site-packages/matplotlib/axes/_axes.py:6510: MatplotlibDeprecationWarning: \n",
      "The 'normed' kwarg was deprecated in Matplotlib 2.1 and will be removed in 3.1. Use 'density' instead.\n",
      "  alternative=\"'density'\", removal=\"3.1\")\n",
      "/home/arnaud/anaconda3/lib/python3.6/site-packages/matplotlib/axes/_axes.py:6510: MatplotlibDeprecationWarning: \n",
      "The 'normed' kwarg was deprecated in Matplotlib 2.1 and will be removed in 3.1. Use 'density' instead.\n",
      "  alternative=\"'density'\", removal=\"3.1\")\n"
     ]
    },
    {
     "data": {
      "image/png": "[encoded data removed]",
      "text/plain": [
       "<Figure size 432x432 with 3 Axes>"
      ]
     },
     "metadata": {},
     "output_type": "display_data"
    },
    {
     "data": {
      "image/png": "[encoded data removed]",
      "text/plain": [
       "<Figure size 432x432 with 3 Axes>"
      ]
     },
     "metadata": {},
     "output_type": "display_data"
    }
   ],
   "source": [
    "col = 'device_id'\n",
    "a = pd.DataFrame([df.groupby(col).mean()['click'], df.groupby(col).count()['click']]).transpose()\n",
    "a.columns = ['mean', 'n_val']\n",
    "sns.jointplot(a['n_val'], a['mean'], alpha=0.25);\n",
    "thres = 10000\n",
    "sns.jointplot(a[a['n_val']<thres]['n_val'], a[a['n_val']<thres]['mean'], alpha=0.25);"
   ]
  },
  {
   "cell_type": "markdown",
   "metadata": {},
   "source": [
    "We can see an isolated value on the first plot (X ~ 800000 and Y~ 0.2)"
   ]
  },
  {
   "cell_type": "code",
   "execution_count": 44,
   "metadata": {
    "ExecuteTime": {
     "end_time": "2019-01-05T17:31:05.956903Z",
     "start_time": "2019-01-05T17:31:05.950888Z"
    }
   },
   "outputs": [
    {
     "data": {
      "text/html": [
       "<div>\n",
       "<style scoped>\n",
       "    .dataframe tbody tr th:only-of-type {\n",
       "        vertical-align: middle;\n",
       "    }\n",
       "\n",
       "    .dataframe tbody tr th {\n",
       "        vertical-align: top;\n",
       "    }\n",
       "\n",
       "    .dataframe thead th {\n",
       "        text-align: right;\n",
       "    }\n",
       "</style>\n",
       "<table border=\"1\" class=\"dataframe\">\n",
       "  <thead>\n",
       "    <tr style=\"text-align: right;\">\n",
       "      <th></th>\n",
       "      <th>mean</th>\n",
       "      <th>n_val</th>\n",
       "    </tr>\n",
       "    <tr>\n",
       "      <th>device_id</th>\n",
       "      <th></th>\n",
       "      <th></th>\n",
       "    </tr>\n",
       "  </thead>\n",
       "  <tbody>\n",
       "    <tr>\n",
       "      <th>a99f214a</th>\n",
       "      <td>0.174347</td>\n",
       "      <td>824918.0</td>\n",
       "    </tr>\n",
       "  </tbody>\n",
       "</table>\n",
       "</div>"
      ],
      "text/plain": [
       "               mean     n_val\n",
       "device_id                    \n",
       "a99f214a   0.174347  824918.0"
      ]
     },
     "execution_count": 44,
     "metadata": {},
     "output_type": "execute_result"
    }
   ],
   "source": [
    "a[a['n_val']>1000]"
   ]
  },
  {
   "cell_type": "markdown",
   "metadata": {},
   "source": [
    "This isolated point shows that 82% of device have the same id. We haven't found enough data on what those id represent but it might represent all unknown values"
   ]
  },
  {
   "cell_type": "markdown",
   "metadata": {},
   "source": [
    "<font color=\"red\">**Question 26**:   \n",
    "    In the column df['device_id'], spot the value V corresponding to the largest number of 'count' (using '.value_counts' method). Create a new column df['user'] defined as follows:\n",
    "</font>\n",
    "$$\n",
    "\\text{user} = \\left\\{\\begin{array}[h]{ll} \\text{device_ip + device_model} & \\text{if device_id = V}\\\\ \\text{device_id} & \\text{else.}\\end{array}\\right.\n",
    "$$"
   ]
  },
  {
   "cell_type": "code",
   "execution_count": 45,
   "metadata": {
    "ExecuteTime": {
     "end_time": "2019-01-05T17:31:06.623313Z",
     "start_time": "2019-01-05T17:31:05.958196Z"
    }
   },
   "outputs": [
    {
     "data": {
      "text/plain": [
       "'a99f214a'"
      ]
     },
     "execution_count": 45,
     "metadata": {},
     "output_type": "execute_result"
    }
   ],
   "source": [
    "V = pd.DataFrame(df.groupby('device_id').count()['click']).sort_values(by='click', ascending=False).reset_index().iloc[0,0]\n",
    "V"
   ]
  },
  {
   "cell_type": "code",
   "execution_count": 46,
   "metadata": {
    "ExecuteTime": {
     "end_time": "2019-01-05T17:31:06.824518Z",
     "start_time": "2019-01-05T17:31:06.624875Z"
    }
   },
   "outputs": [
    {
     "data": {
      "text/plain": [
       "0    fb6566d3be87996b\n",
       "1            9b7af851\n",
       "2    748e298a3c55fad5\n",
       "3    a50da3d4c5cc73c1\n",
       "4    d5f88679a5bce124\n",
       "5    189590f92ea4f8ba\n",
       "6            192d98b0\n",
       "7    342b6e9ea0f5f879\n",
       "8            50dc7a55\n",
       "9            feb99a64\n",
       "Name: user, dtype: object"
      ]
     },
     "execution_count": 46,
     "metadata": {},
     "output_type": "execute_result"
    }
   ],
   "source": [
    "df['user'] = np.where(df['device_id']==V, df['device_ip']+df['device_model'] , df['device_id'])\n",
    "df['user'].head(10)"
   ]
  },
  {
   "cell_type": "markdown",
   "metadata": {},
   "source": [
    "<font color=\"red\">**Question 27**:\n",
    "    Drop the following columns: 'device_id','device_model','device_ip'\n",
    "</font>"
   ]
  },
  {
   "cell_type": "code",
   "execution_count": 47,
   "metadata": {
    "ExecuteTime": {
     "end_time": "2019-01-05T17:31:07.256552Z",
     "start_time": "2019-01-05T17:31:06.826621Z"
    }
   },
   "outputs": [
    {
     "data": {
      "text/html": [
       "<div>\n",
       "<style scoped>\n",
       "    .dataframe tbody tr th:only-of-type {\n",
       "        vertical-align: middle;\n",
       "    }\n",
       "\n",
       "    .dataframe tbody tr th {\n",
       "        vertical-align: top;\n",
       "    }\n",
       "\n",
       "    .dataframe thead th {\n",
       "        text-align: right;\n",
       "    }\n",
       "</style>\n",
       "<table border=\"1\" class=\"dataframe\">\n",
       "  <thead>\n",
       "    <tr style=\"text-align: right;\">\n",
       "      <th></th>\n",
       "      <th>id</th>\n",
       "      <th>click</th>\n",
       "      <th>hour</th>\n",
       "      <th>C1</th>\n",
       "      <th>banner_pos</th>\n",
       "      <th>site_id</th>\n",
       "      <th>site_domain</th>\n",
       "      <th>site_category</th>\n",
       "      <th>app_id</th>\n",
       "      <th>app_domain</th>\n",
       "      <th>...</th>\n",
       "      <th>C14</th>\n",
       "      <th>C15</th>\n",
       "      <th>C16</th>\n",
       "      <th>C17</th>\n",
       "      <th>C18</th>\n",
       "      <th>C19</th>\n",
       "      <th>C20</th>\n",
       "      <th>C21</th>\n",
       "      <th>weekday</th>\n",
       "      <th>user</th>\n",
       "    </tr>\n",
       "  </thead>\n",
       "  <tbody>\n",
       "    <tr>\n",
       "      <th>0</th>\n",
       "      <td>3.983206e+18</td>\n",
       "      <td>0</td>\n",
       "      <td>15</td>\n",
       "      <td>1005</td>\n",
       "      <td>1</td>\n",
       "      <td>e151e245</td>\n",
       "      <td>7e091613</td>\n",
       "      <td>f028772b</td>\n",
       "      <td>ecad2386</td>\n",
       "      <td>7801e8d9</td>\n",
       "      <td>...</td>\n",
       "      <td>4687</td>\n",
       "      <td>320</td>\n",
       "      <td>50</td>\n",
       "      <td>423</td>\n",
       "      <td>2</td>\n",
       "      <td>39</td>\n",
       "      <td>100148</td>\n",
       "      <td>32</td>\n",
       "      <td>2</td>\n",
       "      <td>fb6566d3be87996b</td>\n",
       "    </tr>\n",
       "    <tr>\n",
       "      <th>1</th>\n",
       "      <td>7.756884e+18</td>\n",
       "      <td>0</td>\n",
       "      <td>7</td>\n",
       "      <td>1002</td>\n",
       "      <td>0</td>\n",
       "      <td>cb809abf</td>\n",
       "      <td>74acf31a</td>\n",
       "      <td>50e219e0</td>\n",
       "      <td>ecad2386</td>\n",
       "      <td>7801e8d9</td>\n",
       "      <td>...</td>\n",
       "      <td>17894</td>\n",
       "      <td>320</td>\n",
       "      <td>50</td>\n",
       "      <td>2039</td>\n",
       "      <td>2</td>\n",
       "      <td>39</td>\n",
       "      <td>100077</td>\n",
       "      <td>32</td>\n",
       "      <td>3</td>\n",
       "      <td>9b7af851</td>\n",
       "    </tr>\n",
       "    <tr>\n",
       "      <th>2</th>\n",
       "      <td>6.941774e+17</td>\n",
       "      <td>0</td>\n",
       "      <td>11</td>\n",
       "      <td>1005</td>\n",
       "      <td>0</td>\n",
       "      <td>85f751fd</td>\n",
       "      <td>c4e18dd6</td>\n",
       "      <td>50e219e0</td>\n",
       "      <td>e9739828</td>\n",
       "      <td>df32afa9</td>\n",
       "      <td>...</td>\n",
       "      <td>22684</td>\n",
       "      <td>320</td>\n",
       "      <td>50</td>\n",
       "      <td>2619</td>\n",
       "      <td>1</td>\n",
       "      <td>163</td>\n",
       "      <td>100055</td>\n",
       "      <td>71</td>\n",
       "      <td>0</td>\n",
       "      <td>748e298a3c55fad5</td>\n",
       "    </tr>\n",
       "    <tr>\n",
       "      <th>3</th>\n",
       "      <td>2.664154e+18</td>\n",
       "      <td>1</td>\n",
       "      <td>3</td>\n",
       "      <td>1005</td>\n",
       "      <td>0</td>\n",
       "      <td>85f751fd</td>\n",
       "      <td>c4e18dd6</td>\n",
       "      <td>50e219e0</td>\n",
       "      <td>a5184c22</td>\n",
       "      <td>b8d325c3</td>\n",
       "      <td>...</td>\n",
       "      <td>23222</td>\n",
       "      <td>320</td>\n",
       "      <td>50</td>\n",
       "      <td>2676</td>\n",
       "      <td>0</td>\n",
       "      <td>35</td>\n",
       "      <td>100176</td>\n",
       "      <td>221</td>\n",
       "      <td>2</td>\n",
       "      <td>a50da3d4c5cc73c1</td>\n",
       "    </tr>\n",
       "    <tr>\n",
       "      <th>4</th>\n",
       "      <td>1.480510e+19</td>\n",
       "      <td>0</td>\n",
       "      <td>2</td>\n",
       "      <td>1005</td>\n",
       "      <td>1</td>\n",
       "      <td>791b5571</td>\n",
       "      <td>fd13bc73</td>\n",
       "      <td>f028772b</td>\n",
       "      <td>ecad2386</td>\n",
       "      <td>7801e8d9</td>\n",
       "      <td>...</td>\n",
       "      <td>8330</td>\n",
       "      <td>320</td>\n",
       "      <td>50</td>\n",
       "      <td>761</td>\n",
       "      <td>3</td>\n",
       "      <td>175</td>\n",
       "      <td>100081</td>\n",
       "      <td>23</td>\n",
       "      <td>2</td>\n",
       "      <td>d5f88679a5bce124</td>\n",
       "    </tr>\n",
       "  </tbody>\n",
       "</table>\n",
       "<p>5 rows × 23 columns</p>\n",
       "</div>"
      ],
      "text/plain": [
       "             id  click  hour    C1  banner_pos   site_id site_domain  \\\n",
       "0  3.983206e+18      0    15  1005           1  e151e245    7e091613   \n",
       "1  7.756884e+18      0     7  1002           0  cb809abf    74acf31a   \n",
       "2  6.941774e+17      0    11  1005           0  85f751fd    c4e18dd6   \n",
       "3  2.664154e+18      1     3  1005           0  85f751fd    c4e18dd6   \n",
       "4  1.480510e+19      0     2  1005           1  791b5571    fd13bc73   \n",
       "\n",
       "  site_category    app_id app_domain        ...           C14  C15  C16   C17  \\\n",
       "0      f028772b  ecad2386   7801e8d9        ...          4687  320   50   423   \n",
       "1      50e219e0  ecad2386   7801e8d9        ...         17894  320   50  2039   \n",
       "2      50e219e0  e9739828   df32afa9        ...         22684  320   50  2619   \n",
       "3      50e219e0  a5184c22   b8d325c3        ...         23222  320   50  2676   \n",
       "4      f028772b  ecad2386   7801e8d9        ...          8330  320   50   761   \n",
       "\n",
       "   C18  C19     C20  C21  weekday              user  \n",
       "0    2   39  100148   32        2  fb6566d3be87996b  \n",
       "1    2   39  100077   32        3          9b7af851  \n",
       "2    1  163  100055   71        0  748e298a3c55fad5  \n",
       "3    0   35  100176  221        2  a50da3d4c5cc73c1  \n",
       "4    3  175  100081   23        2  d5f88679a5bce124  \n",
       "\n",
       "[5 rows x 23 columns]"
      ]
     },
     "execution_count": 47,
     "metadata": {},
     "output_type": "execute_result"
    }
   ],
   "source": [
    "df = df.drop(['device_id','device_model','device_ip'], axis=1)\n",
    "df.head()"
   ]
  },
  {
   "cell_type": "markdown",
   "metadata": {},
   "source": [
    "<font color=\"red\">**Question 28**:\n",
    "    One could look at the similarity between 'site_id' and 'site_domain'. Merge those columns into a new 'site' column and delete the old 'site_id' and 'site_domain' columns.\n",
    "</font>"
   ]
  },
  {
   "cell_type": "code",
   "execution_count": 48,
   "metadata": {
    "ExecuteTime": {
     "end_time": "2019-01-05T17:31:07.849844Z",
     "start_time": "2019-01-05T17:31:07.258027Z"
    }
   },
   "outputs": [],
   "source": [
    "df['site'] = np.where(df['site_id']==df['site_domain'], df['site_id'] , df['site_id']+df['site_domain'])\n",
    "df = df.drop(['site_id','site_domain'], axis=1)"
   ]
  },
  {
   "cell_type": "code",
   "execution_count": 49,
   "metadata": {
    "ExecuteTime": {
     "end_time": "2019-01-05T17:31:07.857087Z",
     "start_time": "2019-01-05T17:31:07.851880Z"
    }
   },
   "outputs": [
    {
     "data": {
      "text/plain": [
       "0    e151e2457e091613\n",
       "1    cb809abf74acf31a\n",
       "2    85f751fdc4e18dd6\n",
       "3    85f751fdc4e18dd6\n",
       "4    791b5571fd13bc73\n",
       "5    85f751fdc4e18dd6\n",
       "6    85f751fdc4e18dd6\n",
       "7    85f751fdc4e18dd6\n",
       "8    85f751fdc4e18dd6\n",
       "9    85f751fdc4e18dd6\n",
       "Name: site, dtype: object"
      ]
     },
     "execution_count": 49,
     "metadata": {},
     "output_type": "execute_result"
    }
   ],
   "source": [
    "df['site'].head(10)"
   ]
  },
  {
   "cell_type": "markdown",
   "metadata": {},
   "source": [
    "<font color=\"red\">**Question 29**:\n",
    "    Once again, split the modified DataFrame df into a train (90%) and a test set (10%) (with option: random_state = 100).\n",
    "</font>"
   ]
  },
  {
   "cell_type": "code",
   "execution_count": 50,
   "metadata": {
    "ExecuteTime": {
     "end_time": "2019-01-05T17:31:08.875701Z",
     "start_time": "2019-01-05T17:31:07.859260Z"
    }
   },
   "outputs": [],
   "source": [
    "Xtrain, Xtest, ytrain, ytest = train_test_split(\n",
    "    df.iloc[:,2:], df['click'], test_size=0.1, random_state = SEED)"
   ]
  },
  {
   "cell_type": "markdown",
   "metadata": {},
   "source": [
    "<font color=\"red\">**Question 30**:\n",
    "    Define a OneHotEncoder and then, 'fit_transform' the train set.\n",
    "</font>"
   ]
  },
  {
   "cell_type": "code",
   "execution_count": 51,
   "metadata": {
    "ExecuteTime": {
     "end_time": "2019-01-05T17:31:36.763211Z",
     "start_time": "2019-01-05T17:31:08.878110Z"
    }
   },
   "outputs": [],
   "source": [
    "# First we need to define labelEncoders for encoding categorical columns\n",
    "\n",
    "data = Xtrain.append(Xtest, ignore_index = True, sort = False)\n",
    "\n",
    "site_categ_label = LabelEncoder().fit(data['site_category'])\n",
    "app_categ_label = LabelEncoder().fit(data['app_category'])\n",
    "app_id = LabelEncoder().fit(data['app_id'])\n",
    "app_domain = LabelEncoder().fit(data['app_domain'])\n",
    "user_label = LabelEncoder().fit(data['user'])\n",
    "site_label = LabelEncoder().fit(data['site'])\n",
    "data['site_category'] = site_categ_label.transform(data['site_category'])\n",
    "data['app_category'] = app_categ_label.transform(data['app_category'])\n",
    "data['app_id'] = app_id.transform(data['app_id'])\n",
    "data['app_domain'] = app_domain.transform(data['app_domain'])\n",
    "data['user'] = user_label.transform(data['user'])\n",
    "data['site'] = site_label.transform(data['site'])\n",
    "data['C20'] = data['C20'].abs()\n",
    "\n",
    "Xtrain = data.iloc[:Xtrain.shape[0],:]\n",
    "Xtest = data.iloc[Xtrain.shape[0]:,:]"
   ]
  },
  {
   "cell_type": "code",
   "execution_count": 52,
   "metadata": {
    "ExecuteTime": {
     "end_time": "2019-01-05T17:31:36.768642Z",
     "start_time": "2019-01-05T17:31:36.764761Z"
    }
   },
   "outputs": [
    {
     "data": {
      "text/plain": [
       "(100000, 20)"
      ]
     },
     "execution_count": 52,
     "metadata": {},
     "output_type": "execute_result"
    }
   ],
   "source": [
    "Xtest.shape"
   ]
  },
  {
   "cell_type": "markdown",
   "metadata": {},
   "source": [
    "NOTE : Here we're using Xtrain & Xtest values to fit the labelEncoders as there are some values in Xtest that are not in Xtrain. We could have used df directly to simply the process, but it wouldn't have made sense in a real situation so we preferred to add both sets into a data variable and work on it"
   ]
  },
  {
   "cell_type": "code",
   "execution_count": 53,
   "metadata": {
    "ExecuteTime": {
     "end_time": "2019-01-05T17:31:39.529336Z",
     "start_time": "2019-01-05T17:31:36.775378Z"
    }
   },
   "outputs": [],
   "source": [
    "#some_columns = ['hour', 'weekday', 'C1', 'banner_pos', 'site_category', 'app_category', \n",
    "#                'device_type', 'device_conn_type', 'C15', 'C16', 'C18', 'C21','site','user']\n",
    "# We add site and user to the selected columns\n",
    "\n",
    "#ohe = OneHotEncoder(handle_unknown=\"ignore\").fit(Xtrain)\n",
    "\n",
    "ohe = OneHotEncoder(handle_unknown=\"ignore\").fit(Xtrain)\n",
    "\n",
    "Xtrain_oh = ohe.transform(Xtrain)\n",
    "#Xtrain_oh = OneHotEncoder().fit_transform(Xtrain[some_columns])\n"
   ]
  },
  {
   "cell_type": "markdown",
   "metadata": {},
   "source": [
    "<font color=\"red\">**Question 31**:\n",
    "    Transform the test set. If an error occurs, analyze it and try to solve it. Which argument did you set ?\n",
    "</font>"
   ]
  },
  {
   "cell_type": "code",
   "execution_count": 54,
   "metadata": {
    "ExecuteTime": {
     "end_time": "2019-01-05T17:31:39.670291Z",
     "start_time": "2019-01-05T17:31:39.530958Z"
    }
   },
   "outputs": [],
   "source": [
    "#ohe = OneHotEncoder()\n",
    "\n",
    "Xtest_oh = ohe.transform(Xtest)"
   ]
  },
  {
   "cell_type": "markdown",
   "metadata": {},
   "source": [
    "We had to transform / encode a few labels first for the OHE to work"
   ]
  },
  {
   "cell_type": "markdown",
   "metadata": {},
   "source": [
    "<font color=\"red\">**Question 32**:\n",
    "    What is the new number of features?\n",
    "</font>"
   ]
  },
  {
   "cell_type": "code",
   "execution_count": 55,
   "metadata": {
    "ExecuteTime": {
     "end_time": "2019-01-05T17:31:39.674715Z",
     "start_time": "2019-01-05T17:31:39.672096Z"
    }
   },
   "outputs": [
    {
     "name": "stdout",
     "output_type": "stream",
     "text": [
      "Number of features : 713334\n"
     ]
    }
   ],
   "source": [
    "print(\"Number of features :\" ,Xtrain_oh.shape[1])"
   ]
  },
  {
   "cell_type": "markdown",
   "metadata": {},
   "source": [
    "<font color=\"red\">**Question 33**:\n",
    "    How many modalities have been seen more than a 100 times?\n",
    "</font>"
   ]
  },
  {
   "cell_type": "code",
   "execution_count": 56,
   "metadata": {
    "ExecuteTime": {
     "end_time": "2019-01-05T17:31:39.751181Z",
     "start_time": "2019-01-05T17:31:39.676187Z"
    }
   },
   "outputs": [
    {
     "name": "stdout",
     "output_type": "stream",
     "text": [
      "1971  modalities have been seen more than a 100 times \n",
      "\n",
      "Columns' index where the sum of 1 is superior of 100 : \n",
      "[     0      1      2 ... 713301 713307 713321]\n"
     ]
    }
   ],
   "source": [
    "# The following 'n_ones' vector below gives the number of '1' in each column/modality of the Xtrain_oh design matrix.\n",
    "n_ones = np.array(Xtrain_oh.sum(axis=0))\n",
    "df_ones = pd.DataFrame(n_ones).T\n",
    "index_100 = df_ones[df_ones[0]>100].index\n",
    "\n",
    "print(str(len(index_100)), ' modalities have been seen more than a 100 times \\n')\n",
    "\n",
    "print(\"Columns' index where the sum of 1 is superior of 100 : \")\n",
    "print(index_100.values)\n",
    "# Fill here using 'n_ones'"
   ]
  },
  {
   "cell_type": "code",
   "execution_count": 57,
   "metadata": {
    "ExecuteTime": {
     "end_time": "2019-01-05T17:31:39.755775Z",
     "start_time": "2019-01-05T17:31:39.753525Z"
    }
   },
   "outputs": [],
   "source": [
    "##### WHAT ? #####"
   ]
  },
  {
   "cell_type": "markdown",
   "metadata": {},
   "source": [
    "As we can see, one hot encoding gave us 152047, but only by seing how full the column are, we can detect the one containing most data (here 2552 in that case)"
   ]
  },
  {
   "cell_type": "code",
   "execution_count": 58,
   "metadata": {
    "ExecuteTime": {
     "end_time": "2019-01-05T17:31:39.759662Z",
     "start_time": "2019-01-05T17:31:39.757436Z"
    }
   },
   "outputs": [],
   "source": [
    "##### ----- #####"
   ]
  },
  {
   "cell_type": "markdown",
   "metadata": {},
   "source": [
    "The list 'cols_to_keep' below is used to store the indices of the modalities seen more than a 100 times."
   ]
  },
  {
   "cell_type": "code",
   "execution_count": 59,
   "metadata": {
    "ExecuteTime": {
     "end_time": "2019-01-05T17:31:39.767147Z",
     "start_time": "2019-01-05T17:31:39.761215Z"
    }
   },
   "outputs": [
    {
     "name": "stdout",
     "output_type": "stream",
     "text": [
      "Index of the column where the sum of 1 is superior of 100 [     0      1      2 ... 713301 713307 713321]\n"
     ]
    }
   ],
   "source": [
    "#df_ones = pd.DataFrame(n_ones).T\n",
    "#cols_to_keep =  df_ones[df_ones[0]>100].index\n",
    "cols_to_keep = np.argwhere(n_ones>100)[:,1]\n",
    "print(\"Index of the column where the sum of 1 is superior of 100\", cols_to_keep)\n",
    "#useful = 1 # Fill here.\n"
   ]
  },
  {
   "cell_type": "markdown",
   "metadata": {},
   "source": [
    "<font color=\"red\">**Question 34**:\n",
    "    Using only our restriction on the 'cols_to_keep' columns, retrain a logistic regression model and compare its performance in terms of 'log_loss' and 'roc_auc_curve'.\n",
    "</font>"
   ]
  },
  {
   "cell_type": "code",
   "execution_count": 60,
   "metadata": {
    "ExecuteTime": {
     "end_time": "2019-01-05T17:31:40.104246Z",
     "start_time": "2019-01-05T17:31:39.769139Z"
    }
   },
   "outputs": [
    {
     "data": {
      "text/plain": [
       "(900000, 713334)"
      ]
     },
     "execution_count": 60,
     "metadata": {},
     "output_type": "execute_result"
    }
   ],
   "source": [
    "Xtrain_oh_filtered = Xtrain_oh[:,cols_to_keep]\n",
    "Xtest_oh_filtered = Xtest_oh[:,cols_to_keep]\n",
    "\n",
    "Xtrain_oh.shape"
   ]
  },
  {
   "cell_type": "code",
   "execution_count": 61,
   "metadata": {
    "ExecuteTime": {
     "end_time": "2019-01-05T17:32:21.342255Z",
     "start_time": "2019-01-05T17:31:40.105541Z"
    }
   },
   "outputs": [
    {
     "name": "stdout",
     "output_type": "stream",
     "text": [
      "Hard score  0.83373\n"
     ]
    }
   ],
   "source": [
    "lr = LogisticRegression()\n",
    "lr.fit(Xtrain_oh_filtered,ytrain)\n",
    "hard = lr.predict(Xtest_oh_filtered)\n",
    "soft = lr.predict_proba(Xtest_oh_filtered)\n",
    "\n",
    "from sklearn.metrics import accuracy_score\n",
    "hard_score_feature_engin = accuracy_score(ytest, hard)\n",
    "print(\"Hard score \", hard_score_feature_engin)"
   ]
  },
  {
   "cell_type": "code",
   "execution_count": 62,
   "metadata": {
    "ExecuteTime": {
     "end_time": "2019-01-05T17:32:21.489905Z",
     "start_time": "2019-01-05T17:32:21.344051Z"
    }
   },
   "outputs": [
    {
     "data": {
      "image/png": "[encoded data removed]",
      "text/plain": [
       "<Figure size 432x288 with 1 Axes>"
      ]
     },
     "metadata": {},
     "output_type": "display_data"
    }
   ],
   "source": [
    "fpr, tpr, threshold = roc_curve(ytest,  soft[:,1])\n",
    "plt.plot(fpr,tpr, '-')\n",
    "plt.plot([0,1],[0,1], linestyle='--')\n",
    "plt.show()"
   ]
  },
  {
   "cell_type": "code",
   "execution_count": 63,
   "metadata": {
    "ExecuteTime": {
     "end_time": "2019-01-05T17:32:21.531492Z",
     "start_time": "2019-01-05T17:32:21.491338Z"
    }
   },
   "outputs": [
    {
     "name": "stdout",
     "output_type": "stream",
     "text": [
      "Log loss :  (0.40115516297206244, 0.7385984215044501)\n"
     ]
    }
   ],
   "source": [
    "log_loss_feature_engin = log_loss(ytest, soft[:,1]), roc_auc_score(ytest, soft[:,1])\n",
    "print(\"Log loss : \", log_loss_feature_engin)"
   ]
  },
  {
   "cell_type": "code",
   "execution_count": 64,
   "metadata": {
    "ExecuteTime": {
     "end_time": "2019-01-05T17:32:21.555753Z",
     "start_time": "2019-01-05T17:32:21.532981Z"
    }
   },
   "outputs": [
    {
     "name": "stdout",
     "output_type": "stream",
     "text": [
      "Area under roc curve :  0.7385984215044501\n"
     ]
    }
   ],
   "source": [
    "roc_feature_engin = roc_auc_score(ytest, soft[:,1])\n",
    "print(\"Area under roc curve : \", roc_feature_engin)"
   ]
  },
  {
   "cell_type": "code",
   "execution_count": 65,
   "metadata": {
    "ExecuteTime": {
     "end_time": "2019-01-05T17:32:21.749304Z",
     "start_time": "2019-01-05T17:32:21.557175Z"
    }
   },
   "outputs": [
    {
     "data": {
      "image/png": "[encoded data removed]",
      "text/plain": [
       "<Figure size 432x288 with 1 Axes>"
      ]
     },
     "metadata": {},
     "output_type": "display_data"
    }
   ],
   "source": [
    "plotlift(ytest, soft[:,1])\n",
    "plt.axvline(x= 0.2 , linestyle='--', color='r') # Fill here\n",
    "plt.show()"
   ]
  },
  {
   "cell_type": "markdown",
   "metadata": {},
   "source": [
    "**Adding our selected features imrpoved our score from 0.83 to 0.83375 => the score is a little bit better but still it is close to predicting full 0**\n",
    "\n",
    "**The ROC curve is also better, closer to the ideal curve (we can see it because the area under roc curve increased)**\n",
    "\n",
    "**Has we can see, we improved our lift, it went from 1.8 to 2.1 (approimatly).**\n",
    "\n",
    "So we did create a better model, but it clan clearly be improved\n"
   ]
  },
  {
   "cell_type": "markdown",
   "metadata": {},
   "source": [
    "# Gradient Boosting Decision Trees"
   ]
  },
  {
   "cell_type": "markdown",
   "metadata": {},
   "source": [
    "<font color=\"red\">**Question 35**:\n",
    "    <br>\n",
    "    - Import GradientBoostingClassifier from scikit learn. \n",
    "    <br>\n",
    "    - Initialize it using 50 estimators and a learning rate of 0.8. Set 'verbose=True' to monitor the progress of the algorithm.\n",
    "    <br>\n",
    "    - Fit it on the same columns 'cols_to_keep' of Xtrain_oh than for the previous logistic regression.\n",
    "    <br>\n",
    "    - Evaluate its performance as in the previous step.\n",
    "</font>"
   ]
  },
  {
   "cell_type": "code",
   "execution_count": 66,
   "metadata": {
    "ExecuteTime": {
     "end_time": "2019-01-05T17:35:10.944184Z",
     "start_time": "2019-01-05T17:32:21.750736Z"
    }
   },
   "outputs": [
    {
     "name": "stdout",
     "output_type": "stream",
     "text": [
      "      Iter       Train Loss   Remaining Time \n",
      "         1           0.8743            2.81m\n",
      "         2           0.8646            2.67m\n",
      "         3           0.8583            2.87m\n",
      "         4           0.8535            2.79m\n",
      "         5           0.8503            2.70m\n",
      "         6           0.8464            2.58m\n",
      "         7           0.8441            2.51m\n",
      "         8           0.8418            2.44m\n",
      "         9           0.8404            2.37m\n",
      "        10           0.8383            2.30m\n",
      "        20           0.8282            1.69m\n",
      "        30           0.8234            1.13m\n",
      "        40           0.8190           33.80s\n",
      "        50           0.8163            0.00s\n",
      "CPU times: user 3min 2s, sys: 16.9 s, total: 3min 19s\n",
      "Wall time: 2min 49s\n",
      "Hard score  0.83343\n"
     ]
    }
   ],
   "source": [
    "from sklearn.ensemble import GradientBoostingClassifier\n",
    "gb = GradientBoostingClassifier(verbose=True, learning_rate=0.8, n_estimators=50, random_state = SEED)\n",
    "%time gb.fit(Xtrain_oh_filtered,ytrain)\n",
    "\n",
    "hard = gb.predict(Xtest_oh_filtered)\n",
    "soft = gb.predict_proba(Xtest_oh_filtered)\n",
    "\n",
    "hard_score_gb = accuracy_score(ytest, hard)\n",
    "print(\"Hard score \", hard_score_gb)"
   ]
  },
  {
   "cell_type": "code",
   "execution_count": 67,
   "metadata": {
    "ExecuteTime": {
     "end_time": "2019-01-05T17:35:10.963018Z",
     "start_time": "2019-01-05T17:35:10.945741Z"
    }
   },
   "outputs": [
    {
     "name": "stdout",
     "output_type": "stream",
     "text": [
      "Log loss  0.4091871736006742\n"
     ]
    }
   ],
   "source": [
    "log_loss_gb = log_loss(ytest, soft[:,1])\n",
    "print(\"Log loss \", log_loss_gb)"
   ]
  },
  {
   "cell_type": "code",
   "execution_count": 68,
   "metadata": {
    "ExecuteTime": {
     "end_time": "2019-01-05T17:35:10.985573Z",
     "start_time": "2019-01-05T17:35:10.964519Z"
    }
   },
   "outputs": [
    {
     "name": "stdout",
     "output_type": "stream",
     "text": [
      "Roc area  0.7251893509766301\n"
     ]
    }
   ],
   "source": [
    "roc_gb = roc_auc_score(ytest, soft[:,1])\n",
    "print(\"Roc area \", roc_gb)"
   ]
  },
  {
   "cell_type": "code",
   "execution_count": 69,
   "metadata": {
    "ExecuteTime": {
     "end_time": "2019-01-05T17:35:10.995866Z",
     "start_time": "2019-01-05T17:35:10.987170Z"
    }
   },
   "outputs": [
    {
     "name": "stdout",
     "output_type": "stream",
     "text": [
      "Models :  First colon selected | Feature selection | Gradient Boost\n",
      "Scores :  0.83043 | 0.83373 | 0.83343\n",
      "Log loss :  (0.4251224554680983, 0.6762758103988586) | (0.40115516297206244, 0.7385984215044501) | 0.4091871736006742\n",
      "Roc Area :  0.6762758103988586 | 0.7385984215044501 | 0.7251893509766301\n"
     ]
    }
   ],
   "source": [
    "print(\"Models : \",\"First colon selected |\",\"Feature selection |\", \"Gradient Boost\")\n",
    "print(\"Scores : \",hard_score_selected, \"|\",hard_score_feature_engin, \"|\", hard_score_gb)\n",
    "print(\"Log loss : \",log_loss_selected, \"|\",log_loss_feature_engin, \"|\", log_loss_gb)\n",
    "print(\"Roc Area : \",roc_feature_selected, \"|\",roc_feature_engin, \"|\", roc_gb)"
   ]
  },
  {
   "cell_type": "markdown",
   "metadata": {},
   "source": [
    "The gradiant boost model seems less efficient with those parameters than the logistic regression on the feature selected columns \n",
    "(area thiner, score also)"
   ]
  },
  {
   "cell_type": "markdown",
   "metadata": {},
   "source": [
    "<font color=\"red\">**Question 36**:\n",
    "    What does the 'gb.estimators_' output?\n",
    "</font>"
   ]
  },
  {
   "cell_type": "code",
   "execution_count": 70,
   "metadata": {
    "ExecuteTime": {
     "end_time": "2019-01-05T17:35:11.018293Z",
     "start_time": "2019-01-05T17:35:10.997337Z"
    }
   },
   "outputs": [
    {
     "data": {
      "text/plain": [
       "array([[DecisionTreeRegressor(criterion='friedman_mse', max_depth=3,\n",
       "           max_features=None, max_leaf_nodes=None,\n",
       "           min_impurity_decrease=0.0, min_impurity_split=None,\n",
       "           min_samples_leaf=1, min_samples_split=2,\n",
       "           min_weight_fraction_leaf=0.0, presort='auto',\n",
       "           random_state=<mtrand.RandomState object at 0x7fb426a49480>,\n",
       "           splitter='best')],\n",
       "       [DecisionTreeRegressor(criterion='friedman_mse', max_depth=3,\n",
       "           max_features=None, max_leaf_nodes=None,\n",
       "           min_impurity_decrease=0.0, min_impurity_split=None,\n",
       "           min_samples_leaf=1, min_samples_split=2,\n",
       "           min_weight_fraction_leaf=0.0, presort='auto',\n",
       "           random_state=<mtrand.RandomState object at 0x7fb426a49480>,\n",
       "           splitter='best')],\n",
       "       [DecisionTreeRegressor(criterion='friedman_mse', max_depth=3,\n",
       "           max_features=None, max_leaf_nodes=None,\n",
       "           min_impurity_decrease=0.0, min_impurity_split=None,\n",
       "           min_samples_leaf=1, min_samples_split=2,\n",
       "           min_weight_fraction_leaf=0.0, presort='auto',\n",
       "           random_state=<mtrand.RandomState object at 0x7fb426a49480>,\n",
       "           splitter='best')],\n",
       "       [DecisionTreeRegressor(criterion='friedman_mse', max_depth=3,\n",
       "           max_features=None, max_leaf_nodes=None,\n",
       "           min_impurity_decrease=0.0, min_impurity_split=None,\n",
       "           min_samples_leaf=1, min_samples_split=2,\n",
       "           min_weight_fraction_leaf=0.0, presort='auto',\n",
       "           random_state=<mtrand.RandomState object at 0x7fb426a49480>,\n",
       "           splitter='best')],\n",
       "       [DecisionTreeRegressor(criterion='friedman_mse', max_depth=3,\n",
       "           max_features=None, max_leaf_nodes=None,\n",
       "           min_impurity_decrease=0.0, min_impurity_split=None,\n",
       "           min_samples_leaf=1, min_samples_split=2,\n",
       "           min_weight_fraction_leaf=0.0, presort='auto',\n",
       "           random_state=<mtrand.RandomState object at 0x7fb426a49480>,\n",
       "           splitter='best')],\n",
       "       [DecisionTreeRegressor(criterion='friedman_mse', max_depth=3,\n",
       "           max_features=None, max_leaf_nodes=None,\n",
       "           min_impurity_decrease=0.0, min_impurity_split=None,\n",
       "           min_samples_leaf=1, min_samples_split=2,\n",
       "           min_weight_fraction_leaf=0.0, presort='auto',\n",
       "           random_state=<mtrand.RandomState object at 0x7fb426a49480>,\n",
       "           splitter='best')],\n",
       "       [DecisionTreeRegressor(criterion='friedman_mse', max_depth=3,\n",
       "           max_features=None, max_leaf_nodes=None,\n",
       "           min_impurity_decrease=0.0, min_impurity_split=None,\n",
       "           min_samples_leaf=1, min_samples_split=2,\n",
       "           min_weight_fraction_leaf=0.0, presort='auto',\n",
       "           random_state=<mtrand.RandomState object at 0x7fb426a49480>,\n",
       "           splitter='best')],\n",
       "       [DecisionTreeRegressor(criterion='friedman_mse', max_depth=3,\n",
       "           max_features=None, max_leaf_nodes=None,\n",
       "           min_impurity_decrease=0.0, min_impurity_split=None,\n",
       "           min_samples_leaf=1, min_samples_split=2,\n",
       "           min_weight_fraction_leaf=0.0, presort='auto',\n",
       "           random_state=<mtrand.RandomState object at 0x7fb426a49480>,\n",
       "           splitter='best')],\n",
       "       [DecisionTreeRegressor(criterion='friedman_mse', max_depth=3,\n",
       "           max_features=None, max_leaf_nodes=None,\n",
       "           min_impurity_decrease=0.0, min_impurity_split=None,\n",
       "           min_samples_leaf=1, min_samples_split=2,\n",
       "           min_weight_fraction_leaf=0.0, presort='auto',\n",
       "           random_state=<mtrand.RandomState object at 0x7fb426a49480>,\n",
       "           splitter='best')],\n",
       "       [DecisionTreeRegressor(criterion='friedman_mse', max_depth=3,\n",
       "           max_features=None, max_leaf_nodes=None,\n",
       "           min_impurity_decrease=0.0, min_impurity_split=None,\n",
       "           min_samples_leaf=1, min_samples_split=2,\n",
       "           min_weight_fraction_leaf=0.0, presort='auto',\n",
       "           random_state=<mtrand.RandomState object at 0x7fb426a49480>,\n",
       "           splitter='best')],\n",
       "       [DecisionTreeRegressor(criterion='friedman_mse', max_depth=3,\n",
       "           max_features=None, max_leaf_nodes=None,\n",
       "           min_impurity_decrease=0.0, min_impurity_split=None,\n",
       "           min_samples_leaf=1, min_samples_split=2,\n",
       "           min_weight_fraction_leaf=0.0, presort='auto',\n",
       "           random_state=<mtrand.RandomState object at 0x7fb426a49480>,\n",
       "           splitter='best')],\n",
       "       [DecisionTreeRegressor(criterion='friedman_mse', max_depth=3,\n",
       "           max_features=None, max_leaf_nodes=None,\n",
       "           min_impurity_decrease=0.0, min_impurity_split=None,\n",
       "           min_samples_leaf=1, min_samples_split=2,\n",
       "           min_weight_fraction_leaf=0.0, presort='auto',\n",
       "           random_state=<mtrand.RandomState object at 0x7fb426a49480>,\n",
       "           splitter='best')],\n",
       "       [DecisionTreeRegressor(criterion='friedman_mse', max_depth=3,\n",
       "           max_features=None, max_leaf_nodes=None,\n",
       "           min_impurity_decrease=0.0, min_impurity_split=None,\n",
       "           min_samples_leaf=1, min_samples_split=2,\n",
       "           min_weight_fraction_leaf=0.0, presort='auto',\n",
       "           random_state=<mtrand.RandomState object at 0x7fb426a49480>,\n",
       "           splitter='best')],\n",
       "       [DecisionTreeRegressor(criterion='friedman_mse', max_depth=3,\n",
       "           max_features=None, max_leaf_nodes=None,\n",
       "           min_impurity_decrease=0.0, min_impurity_split=None,\n",
       "           min_samples_leaf=1, min_samples_split=2,\n",
       "           min_weight_fraction_leaf=0.0, presort='auto',\n",
       "           random_state=<mtrand.RandomState object at 0x7fb426a49480>,\n",
       "           splitter='best')],\n",
       "       [DecisionTreeRegressor(criterion='friedman_mse', max_depth=3,\n",
       "           max_features=None, max_leaf_nodes=None,\n",
       "           min_impurity_decrease=0.0, min_impurity_split=None,\n",
       "           min_samples_leaf=1, min_samples_split=2,\n",
       "           min_weight_fraction_leaf=0.0, presort='auto',\n",
       "           random_state=<mtrand.RandomState object at 0x7fb426a49480>,\n",
       "           splitter='best')],\n",
       "       [DecisionTreeRegressor(criterion='friedman_mse', max_depth=3,\n",
       "           max_features=None, max_leaf_nodes=None,\n",
       "           min_impurity_decrease=0.0, min_impurity_split=None,\n",
       "           min_samples_leaf=1, min_samples_split=2,\n",
       "           min_weight_fraction_leaf=0.0, presort='auto',\n",
       "           random_state=<mtrand.RandomState object at 0x7fb426a49480>,\n",
       "           splitter='best')],\n",
       "       [DecisionTreeRegressor(criterion='friedman_mse', max_depth=3,\n",
       "           max_features=None, max_leaf_nodes=None,\n",
       "           min_impurity_decrease=0.0, min_impurity_split=None,\n",
       "           min_samples_leaf=1, min_samples_split=2,\n",
       "           min_weight_fraction_leaf=0.0, presort='auto',\n",
       "           random_state=<mtrand.RandomState object at 0x7fb426a49480>,\n",
       "           splitter='best')],\n",
       "       [DecisionTreeRegressor(criterion='friedman_mse', max_depth=3,\n",
       "           max_features=None, max_leaf_nodes=None,\n",
       "           min_impurity_decrease=0.0, min_impurity_split=None,\n",
       "           min_samples_leaf=1, min_samples_split=2,\n",
       "           min_weight_fraction_leaf=0.0, presort='auto',\n",
       "           random_state=<mtrand.RandomState object at 0x7fb426a49480>,\n",
       "           splitter='best')],\n",
       "       [DecisionTreeRegressor(criterion='friedman_mse', max_depth=3,\n",
       "           max_features=None, max_leaf_nodes=None,\n",
       "           min_impurity_decrease=0.0, min_impurity_split=None,\n",
       "           min_samples_leaf=1, min_samples_split=2,\n",
       "           min_weight_fraction_leaf=0.0, presort='auto',\n",
       "           random_state=<mtrand.RandomState object at 0x7fb426a49480>,\n",
       "           splitter='best')],\n",
       "       [DecisionTreeRegressor(criterion='friedman_mse', max_depth=3,\n",
       "           max_features=None, max_leaf_nodes=None,\n",
       "           min_impurity_decrease=0.0, min_impurity_split=None,\n",
       "           min_samples_leaf=1, min_samples_split=2,\n",
       "           min_weight_fraction_leaf=0.0, presort='auto',\n",
       "           random_state=<mtrand.RandomState object at 0x7fb426a49480>,\n",
       "           splitter='best')],\n",
       "       [DecisionTreeRegressor(criterion='friedman_mse', max_depth=3,\n",
       "           max_features=None, max_leaf_nodes=None,\n",
       "           min_impurity_decrease=0.0, min_impurity_split=None,\n",
       "           min_samples_leaf=1, min_samples_split=2,\n",
       "           min_weight_fraction_leaf=0.0, presort='auto',\n",
       "           random_state=<mtrand.RandomState object at 0x7fb426a49480>,\n",
       "           splitter='best')],\n",
       "       [DecisionTreeRegressor(criterion='friedman_mse', max_depth=3,\n",
       "           max_features=None, max_leaf_nodes=None,\n",
       "           min_impurity_decrease=0.0, min_impurity_split=None,\n",
       "           min_samples_leaf=1, min_samples_split=2,\n",
       "           min_weight_fraction_leaf=0.0, presort='auto',\n",
       "           random_state=<mtrand.RandomState object at 0x7fb426a49480>,\n",
       "           splitter='best')],\n",
       "       [DecisionTreeRegressor(criterion='friedman_mse', max_depth=3,\n",
       "           max_features=None, max_leaf_nodes=None,\n",
       "           min_impurity_decrease=0.0, min_impurity_split=None,\n",
       "           min_samples_leaf=1, min_samples_split=2,\n",
       "           min_weight_fraction_leaf=0.0, presort='auto',\n",
       "           random_state=<mtrand.RandomState object at 0x7fb426a49480>,\n",
       "           splitter='best')],\n",
       "       [DecisionTreeRegressor(criterion='friedman_mse', max_depth=3,\n",
       "           max_features=None, max_leaf_nodes=None,\n",
       "           min_impurity_decrease=0.0, min_impurity_split=None,\n",
       "           min_samples_leaf=1, min_samples_split=2,\n",
       "           min_weight_fraction_leaf=0.0, presort='auto',\n",
       "           random_state=<mtrand.RandomState object at 0x7fb426a49480>,\n",
       "           splitter='best')],\n",
       "       [DecisionTreeRegressor(criterion='friedman_mse', max_depth=3,\n",
       "           max_features=None, max_leaf_nodes=None,\n",
       "           min_impurity_decrease=0.0, min_impurity_split=None,\n",
       "           min_samples_leaf=1, min_samples_split=2,\n",
       "           min_weight_fraction_leaf=0.0, presort='auto',\n",
       "           random_state=<mtrand.RandomState object at 0x7fb426a49480>,\n",
       "           splitter='best')],\n",
       "       [DecisionTreeRegressor(criterion='friedman_mse', max_depth=3,\n",
       "           max_features=None, max_leaf_nodes=None,\n",
       "           min_impurity_decrease=0.0, min_impurity_split=None,\n",
       "           min_samples_leaf=1, min_samples_split=2,\n",
       "           min_weight_fraction_leaf=0.0, presort='auto',\n",
       "           random_state=<mtrand.RandomState object at 0x7fb426a49480>,\n",
       "           splitter='best')],\n",
       "       [DecisionTreeRegressor(criterion='friedman_mse', max_depth=3,\n",
       "           max_features=None, max_leaf_nodes=None,\n",
       "           min_impurity_decrease=0.0, min_impurity_split=None,\n",
       "           min_samples_leaf=1, min_samples_split=2,\n",
       "           min_weight_fraction_leaf=0.0, presort='auto',\n",
       "           random_state=<mtrand.RandomState object at 0x7fb426a49480>,\n",
       "           splitter='best')],\n",
       "       [DecisionTreeRegressor(criterion='friedman_mse', max_depth=3,\n",
       "           max_features=None, max_leaf_nodes=None,\n",
       "           min_impurity_decrease=0.0, min_impurity_split=None,\n",
       "           min_samples_leaf=1, min_samples_split=2,\n",
       "           min_weight_fraction_leaf=0.0, presort='auto',\n",
       "           random_state=<mtrand.RandomState object at 0x7fb426a49480>,\n",
       "           splitter='best')],\n",
       "       [DecisionTreeRegressor(criterion='friedman_mse', max_depth=3,\n",
       "           max_features=None, max_leaf_nodes=None,\n",
       "           min_impurity_decrease=0.0, min_impurity_split=None,\n",
       "           min_samples_leaf=1, min_samples_split=2,\n",
       "           min_weight_fraction_leaf=0.0, presort='auto',\n",
       "           random_state=<mtrand.RandomState object at 0x7fb426a49480>,\n",
       "           splitter='best')],\n",
       "       [DecisionTreeRegressor(criterion='friedman_mse', max_depth=3,\n",
       "           max_features=None, max_leaf_nodes=None,\n",
       "           min_impurity_decrease=0.0, min_impurity_split=None,\n",
       "           min_samples_leaf=1, min_samples_split=2,\n",
       "           min_weight_fraction_leaf=0.0, presort='auto',\n",
       "           random_state=<mtrand.RandomState object at 0x7fb426a49480>,\n",
       "           splitter='best')],\n",
       "       [DecisionTreeRegressor(criterion='friedman_mse', max_depth=3,\n",
       "           max_features=None, max_leaf_nodes=None,\n",
       "           min_impurity_decrease=0.0, min_impurity_split=None,\n",
       "           min_samples_leaf=1, min_samples_split=2,\n",
       "           min_weight_fraction_leaf=0.0, presort='auto',\n",
       "           random_state=<mtrand.RandomState object at 0x7fb426a49480>,\n",
       "           splitter='best')],\n",
       "       [DecisionTreeRegressor(criterion='friedman_mse', max_depth=3,\n",
       "           max_features=None, max_leaf_nodes=None,\n",
       "           min_impurity_decrease=0.0, min_impurity_split=None,\n",
       "           min_samples_leaf=1, min_samples_split=2,\n",
       "           min_weight_fraction_leaf=0.0, presort='auto',\n",
       "           random_state=<mtrand.RandomState object at 0x7fb426a49480>,\n",
       "           splitter='best')],\n",
       "       [DecisionTreeRegressor(criterion='friedman_mse', max_depth=3,\n",
       "           max_features=None, max_leaf_nodes=None,\n",
       "           min_impurity_decrease=0.0, min_impurity_split=None,\n",
       "           min_samples_leaf=1, min_samples_split=2,\n",
       "           min_weight_fraction_leaf=0.0, presort='auto',\n",
       "           random_state=<mtrand.RandomState object at 0x7fb426a49480>,\n",
       "           splitter='best')],\n",
       "       [DecisionTreeRegressor(criterion='friedman_mse', max_depth=3,\n",
       "           max_features=None, max_leaf_nodes=None,\n",
       "           min_impurity_decrease=0.0, min_impurity_split=None,\n",
       "           min_samples_leaf=1, min_samples_split=2,\n",
       "           min_weight_fraction_leaf=0.0, presort='auto',\n",
       "           random_state=<mtrand.RandomState object at 0x7fb426a49480>,\n",
       "           splitter='best')],\n",
       "       [DecisionTreeRegressor(criterion='friedman_mse', max_depth=3,\n",
       "           max_features=None, max_leaf_nodes=None,\n",
       "           min_impurity_decrease=0.0, min_impurity_split=None,\n",
       "           min_samples_leaf=1, min_samples_split=2,\n",
       "           min_weight_fraction_leaf=0.0, presort='auto',\n",
       "           random_state=<mtrand.RandomState object at 0x7fb426a49480>,\n",
       "           splitter='best')],\n",
       "       [DecisionTreeRegressor(criterion='friedman_mse', max_depth=3,\n",
       "           max_features=None, max_leaf_nodes=None,\n",
       "           min_impurity_decrease=0.0, min_impurity_split=None,\n",
       "           min_samples_leaf=1, min_samples_split=2,\n",
       "           min_weight_fraction_leaf=0.0, presort='auto',\n",
       "           random_state=<mtrand.RandomState object at 0x7fb426a49480>,\n",
       "           splitter='best')],\n",
       "       [DecisionTreeRegressor(criterion='friedman_mse', max_depth=3,\n",
       "           max_features=None, max_leaf_nodes=None,\n",
       "           min_impurity_decrease=0.0, min_impurity_split=None,\n",
       "           min_samples_leaf=1, min_samples_split=2,\n",
       "           min_weight_fraction_leaf=0.0, presort='auto',\n",
       "           random_state=<mtrand.RandomState object at 0x7fb426a49480>,\n",
       "           splitter='best')],\n",
       "       [DecisionTreeRegressor(criterion='friedman_mse', max_depth=3,\n",
       "           max_features=None, max_leaf_nodes=None,\n",
       "           min_impurity_decrease=0.0, min_impurity_split=None,\n",
       "           min_samples_leaf=1, min_samples_split=2,\n",
       "           min_weight_fraction_leaf=0.0, presort='auto',\n",
       "           random_state=<mtrand.RandomState object at 0x7fb426a49480>,\n",
       "           splitter='best')],\n",
       "       [DecisionTreeRegressor(criterion='friedman_mse', max_depth=3,\n",
       "           max_features=None, max_leaf_nodes=None,\n",
       "           min_impurity_decrease=0.0, min_impurity_split=None,\n",
       "           min_samples_leaf=1, min_samples_split=2,\n",
       "           min_weight_fraction_leaf=0.0, presort='auto',\n",
       "           random_state=<mtrand.RandomState object at 0x7fb426a49480>,\n",
       "           splitter='best')],\n",
       "       [DecisionTreeRegressor(criterion='friedman_mse', max_depth=3,\n",
       "           max_features=None, max_leaf_nodes=None,\n",
       "           min_impurity_decrease=0.0, min_impurity_split=None,\n",
       "           min_samples_leaf=1, min_samples_split=2,\n",
       "           min_weight_fraction_leaf=0.0, presort='auto',\n",
       "           random_state=<mtrand.RandomState object at 0x7fb426a49480>,\n",
       "           splitter='best')],\n",
       "       [DecisionTreeRegressor(criterion='friedman_mse', max_depth=3,\n",
       "           max_features=None, max_leaf_nodes=None,\n",
       "           min_impurity_decrease=0.0, min_impurity_split=None,\n",
       "           min_samples_leaf=1, min_samples_split=2,\n",
       "           min_weight_fraction_leaf=0.0, presort='auto',\n",
       "           random_state=<mtrand.RandomState object at 0x7fb426a49480>,\n",
       "           splitter='best')],\n",
       "       [DecisionTreeRegressor(criterion='friedman_mse', max_depth=3,\n",
       "           max_features=None, max_leaf_nodes=None,\n",
       "           min_impurity_decrease=0.0, min_impurity_split=None,\n",
       "           min_samples_leaf=1, min_samples_split=2,\n",
       "           min_weight_fraction_leaf=0.0, presort='auto',\n",
       "           random_state=<mtrand.RandomState object at 0x7fb426a49480>,\n",
       "           splitter='best')],\n",
       "       [DecisionTreeRegressor(criterion='friedman_mse', max_depth=3,\n",
       "           max_features=None, max_leaf_nodes=None,\n",
       "           min_impurity_decrease=0.0, min_impurity_split=None,\n",
       "           min_samples_leaf=1, min_samples_split=2,\n",
       "           min_weight_fraction_leaf=0.0, presort='auto',\n",
       "           random_state=<mtrand.RandomState object at 0x7fb426a49480>,\n",
       "           splitter='best')],\n",
       "       [DecisionTreeRegressor(criterion='friedman_mse', max_depth=3,\n",
       "           max_features=None, max_leaf_nodes=None,\n",
       "           min_impurity_decrease=0.0, min_impurity_split=None,\n",
       "           min_samples_leaf=1, min_samples_split=2,\n",
       "           min_weight_fraction_leaf=0.0, presort='auto',\n",
       "           random_state=<mtrand.RandomState object at 0x7fb426a49480>,\n",
       "           splitter='best')],\n",
       "       [DecisionTreeRegressor(criterion='friedman_mse', max_depth=3,\n",
       "           max_features=None, max_leaf_nodes=None,\n",
       "           min_impurity_decrease=0.0, min_impurity_split=None,\n",
       "           min_samples_leaf=1, min_samples_split=2,\n",
       "           min_weight_fraction_leaf=0.0, presort='auto',\n",
       "           random_state=<mtrand.RandomState object at 0x7fb426a49480>,\n",
       "           splitter='best')],\n",
       "       [DecisionTreeRegressor(criterion='friedman_mse', max_depth=3,\n",
       "           max_features=None, max_leaf_nodes=None,\n",
       "           min_impurity_decrease=0.0, min_impurity_split=None,\n",
       "           min_samples_leaf=1, min_samples_split=2,\n",
       "           min_weight_fraction_leaf=0.0, presort='auto',\n",
       "           random_state=<mtrand.RandomState object at 0x7fb426a49480>,\n",
       "           splitter='best')],\n",
       "       [DecisionTreeRegressor(criterion='friedman_mse', max_depth=3,\n",
       "           max_features=None, max_leaf_nodes=None,\n",
       "           min_impurity_decrease=0.0, min_impurity_split=None,\n",
       "           min_samples_leaf=1, min_samples_split=2,\n",
       "           min_weight_fraction_leaf=0.0, presort='auto',\n",
       "           random_state=<mtrand.RandomState object at 0x7fb426a49480>,\n",
       "           splitter='best')],\n",
       "       [DecisionTreeRegressor(criterion='friedman_mse', max_depth=3,\n",
       "           max_features=None, max_leaf_nodes=None,\n",
       "           min_impurity_decrease=0.0, min_impurity_split=None,\n",
       "           min_samples_leaf=1, min_samples_split=2,\n",
       "           min_weight_fraction_leaf=0.0, presort='auto',\n",
       "           random_state=<mtrand.RandomState object at 0x7fb426a49480>,\n",
       "           splitter='best')],\n",
       "       [DecisionTreeRegressor(criterion='friedman_mse', max_depth=3,\n",
       "           max_features=None, max_leaf_nodes=None,\n",
       "           min_impurity_decrease=0.0, min_impurity_split=None,\n",
       "           min_samples_leaf=1, min_samples_split=2,\n",
       "           min_weight_fraction_leaf=0.0, presort='auto',\n",
       "           random_state=<mtrand.RandomState object at 0x7fb426a49480>,\n",
       "           splitter='best')],\n",
       "       [DecisionTreeRegressor(criterion='friedman_mse', max_depth=3,\n",
       "           max_features=None, max_leaf_nodes=None,\n",
       "           min_impurity_decrease=0.0, min_impurity_split=None,\n",
       "           min_samples_leaf=1, min_samples_split=2,\n",
       "           min_weight_fraction_leaf=0.0, presort='auto',\n",
       "           random_state=<mtrand.RandomState object at 0x7fb426a49480>,\n",
       "           splitter='best')]], dtype=object)"
      ]
     },
     "execution_count": 70,
     "metadata": {},
     "output_type": "execute_result"
    }
   ],
   "source": [
    "gb.estimators_"
   ]
  },
  {
   "cell_type": "markdown",
   "metadata": {},
   "source": [
    "gb_estimators output the parameters of the different model used (here 50). "
   ]
  },
  {
   "cell_type": "markdown",
   "metadata": {},
   "source": [
    "We now try to use the 'gb' classifier to generate features that will be relevant inputs for the logistic regression.\n",
    "<font color=\"red\">**Question 37**:\n",
    "    With the 'gb.apply()' method, generate a transformation 'leafs_train' of the training set 'Xtrain_oh[:, cols_to_keep]' for which the nth column corresponds to the number of the leaf returned by the estimator n.\n",
    "</font>"
   ]
  },
  {
   "cell_type": "code",
   "execution_count": 71,
   "metadata": {
    "ExecuteTime": {
     "end_time": "2019-01-05T17:35:12.523469Z",
     "start_time": "2019-01-05T17:35:11.023154Z"
    }
   },
   "outputs": [],
   "source": [
    "leafs_train = gb.apply(Xtrain_oh_filtered).reshape(Xtrain_oh_filtered.shape[0], 50)\n",
    "leafs_test = gb.apply(Xtest_oh_filtered).reshape(Xtest_oh_filtered.shape[0], 50)"
   ]
  },
  {
   "cell_type": "markdown",
   "metadata": {},
   "source": [
    "After your applied gb.apply on Xtrain_oh[:, cols_to_keep], remember that use have only one class to predict (click = 0 or 1). "
   ]
  },
  {
   "cell_type": "code",
   "execution_count": 72,
   "metadata": {
    "ExecuteTime": {
     "end_time": "2019-01-05T17:35:12.527977Z",
     "start_time": "2019-01-05T17:35:12.524853Z"
    }
   },
   "outputs": [
    {
     "name": "stdout",
     "output_type": "stream",
     "text": [
      "[[10.  3.  3. ...  3.  3.  3.]\n",
      " [10.  3.  3. ...  3.  3.  3.]\n",
      " [ 3.  3.  3. ...  3.  3.  3.]\n",
      " ...\n",
      " [ 3.  3.  3. ...  3.  3.  3.]\n",
      " [ 3.  3.  3. ...  3.  3.  3.]\n",
      " [ 3.  3.  3. ...  3.  3.  3.]]\n"
     ]
    }
   ],
   "source": [
    "print(leafs_test)"
   ]
  },
  {
   "cell_type": "code",
   "execution_count": 73,
   "metadata": {
    "ExecuteTime": {
     "end_time": "2019-01-05T17:35:12.533004Z",
     "start_time": "2019-01-05T17:35:12.529884Z"
    }
   },
   "outputs": [],
   "source": [
    "leafs_train = pd.DataFrame(leafs_train) # Fill here\n",
    "leafs_test = pd.DataFrame(leafs_test)"
   ]
  },
  {
   "cell_type": "markdown",
   "metadata": {},
   "source": [
    "<font color=\"red\">**Question 38**:\n",
    "    Encode these new features into dummies.\n",
    "</font>"
   ]
  },
  {
   "cell_type": "code",
   "execution_count": 74,
   "metadata": {
    "ExecuteTime": {
     "end_time": "2019-01-05T17:35:16.451887Z",
     "start_time": "2019-01-05T17:35:12.535007Z"
    }
   },
   "outputs": [],
   "source": [
    "ohe = OneHotEncoder(handle_unknown=\"ignore\").fit(leafs_train) # Fill here an argument if needed\n",
    "leafs_train_oh = ohe.transform(leafs_train)\n",
    "leafs_test_oh = ohe.transform(leafs_test)"
   ]
  },
  {
   "cell_type": "markdown",
   "metadata": {},
   "source": [
    "<font color=\"red\">**Question 39**:\n",
    "    With the \"hstack\" function, create a new matrix of features by concatenating horizontally our new features \"leafs_train_oh\" and \"leafs_test_oh\", and previous features used for logistic regression (e.g. in \"Xtrain_oh[:, cols_to_keep]\").\n",
    "</font>\n",
    "<br><br>\n",
    "**Remark**: we use \"hstack\" from scipy.sparse (and not from numpy) because the output of our OneHotEncoder is a sparse array. You can verify it with the command \"type(Xtrain_oh)\"."
   ]
  },
  {
   "cell_type": "code",
   "execution_count": 75,
   "metadata": {
    "ExecuteTime": {
     "end_time": "2019-01-05T17:35:17.494811Z",
     "start_time": "2019-01-05T17:35:16.453075Z"
    }
   },
   "outputs": [],
   "source": [
    "from scipy.sparse import csr_matrix, hstack\n",
    "Xtrain_concat = hstack([ Xtrain_oh_filtered , leafs_train_oh ]) # Fill here\n",
    "Xtest_concat = hstack([ Xtest_oh_filtered , leafs_test_oh ])"
   ]
  },
  {
   "cell_type": "markdown",
   "metadata": {},
   "source": [
    "<font color=\"red\">**Question 40**:\n",
    "    Run a logistic regression on the new features and evaluate its performance as before.\n",
    "</font>"
   ]
  },
  {
   "cell_type": "code",
   "execution_count": 76,
   "metadata": {
    "ExecuteTime": {
     "end_time": "2019-01-05T17:38:03.108801Z",
     "start_time": "2019-01-05T17:35:17.496367Z"
    }
   },
   "outputs": [],
   "source": [
    "lr = LogisticRegression(random_state = SEED)\n",
    "lr.fit(Xtrain_concat,ytrain)\n",
    "hard = lr.predict(Xtest_concat)\n",
    "soft = lr.predict_proba(Xtest_concat)"
   ]
  },
  {
   "cell_type": "code",
   "execution_count": 77,
   "metadata": {
    "ExecuteTime": {
     "end_time": "2019-01-05T17:38:03.116882Z",
     "start_time": "2019-01-05T17:38:03.109997Z"
    }
   },
   "outputs": [
    {
     "name": "stdout",
     "output_type": "stream",
     "text": [
      "Hard score  0.83406\n"
     ]
    }
   ],
   "source": [
    "hard_score_gb_leaf = accuracy_score(ytest, hard)\n",
    "print(\"Hard score \", hard_score_gb_leaf)"
   ]
  },
  {
   "cell_type": "code",
   "execution_count": 78,
   "metadata": {
    "ExecuteTime": {
     "end_time": "2019-01-05T17:38:03.291685Z",
     "start_time": "2019-01-05T17:38:03.118292Z"
    }
   },
   "outputs": [
    {
     "data": {
      "image/png": "[encoded data removed]",
      "text/plain": [
       "<Figure size 432x288 with 1 Axes>"
      ]
     },
     "metadata": {},
     "output_type": "display_data"
    }
   ],
   "source": [
    "fpr, tpr, threshold = roc_curve(ytest,  soft[:,1])\n",
    "plt.plot(fpr,tpr, '-')\n",
    "plt.plot([0,1],[0,1], linestyle='--')\n",
    "plt.show()\n"
   ]
  },
  {
   "cell_type": "code",
   "execution_count": 79,
   "metadata": {
    "ExecuteTime": {
     "end_time": "2019-01-05T17:38:03.344379Z",
     "start_time": "2019-01-05T17:38:03.293974Z"
    }
   },
   "outputs": [
    {
     "name": "stdout",
     "output_type": "stream",
     "text": [
      "Log loss :  (0.39995604824413805, 0.7417361677212378)\n"
     ]
    }
   ],
   "source": [
    "log_loss_gb_leaf = log_loss(ytest, soft[:,1]), roc_auc_score(ytest, soft[:,1])\n",
    "print(\"Log loss : \", log_loss_gb_leaf)"
   ]
  },
  {
   "cell_type": "code",
   "execution_count": 85,
   "metadata": {
    "ExecuteTime": {
     "end_time": "2019-01-05T17:38:31.140599Z",
     "start_time": "2019-01-05T17:38:31.117764Z"
    }
   },
   "outputs": [
    {
     "name": "stdout",
     "output_type": "stream",
     "text": [
      "Area under roc curve :  0.7417361677212378\n"
     ]
    }
   ],
   "source": [
    "roc_gb_leaf = roc_auc_score(ytest, soft[:,1])\n",
    "print(\"Area under roc curve : \", roc_gb_leaf)"
   ]
  },
  {
   "cell_type": "code",
   "execution_count": 84,
   "metadata": {
    "ExecuteTime": {
     "end_time": "2019-01-05T17:38:25.658248Z",
     "start_time": "2019-01-05T17:38:25.475149Z"
    }
   },
   "outputs": [
    {
     "data": {
      "image/png": "[encoded data removed]",
      "text/plain": [
       "<Figure size 432x288 with 1 Axes>"
      ]
     },
     "metadata": {},
     "output_type": "display_data"
    }
   ],
   "source": [
    "plotlift(ytest, soft[:,1])\n",
    "plt.axvline(x= 0.2 , linestyle='--', color='r')\n",
    "plt.show()"
   ]
  },
  {
   "cell_type": "code",
   "execution_count": 82,
   "metadata": {
    "ExecuteTime": {
     "end_time": "2019-01-05T17:38:03.596015Z",
     "start_time": "2019-01-05T17:38:03.592647Z"
    }
   },
   "outputs": [
    {
     "name": "stdout",
     "output_type": "stream",
     "text": [
      "Models :  First colon selected | Feature selection | Gradient Boost | Gradient Boost leaf|\n",
      "Scores :  0.83043 | 0.83373 | 0.83343 | 0.83406\n",
      "Log loss :  (0.4251224554680983, 0.6762758103988586) | (0.40115516297206244, 0.7385984215044501) | 0.4091871736006742 | (0.39995604824413805, 0.7417361677212378)\n",
      "Roc Area :  0.6762758103988586 | 0.7385984215044501 | 0.7251893509766301 | 0.7417361677212378\n"
     ]
    }
   ],
   "source": [
    "print(\"Models : \",\"First colon selected |\",\"Feature selection |\", \"Gradient Boost |\", \"Gradient Boost leaf|\")\n",
    "print(\"Scores : \",hard_score_selected, \"|\",hard_score_feature_engin, \"|\", hard_score_gb, \"|\", hard_score_gb_leaf)\n",
    "print(\"Log loss : \",log_loss_selected, \"|\",log_loss_feature_engin, \"|\", log_loss_gb, \"|\", log_loss_gb_leaf)\n",
    "print(\"Roc Area : \",roc_feature_selected, \"|\",roc_feature_engin, \"|\", roc_gb, \"|\", roc_gb_leaf)"
   ]
  },
  {
   "cell_type": "markdown",
   "metadata": {},
   "source": [
    "**Adding those features improved our model, we came from a model weeker than GB but now we have a model predicting better  than GB (looking at score or area under ROC curve)**"
   ]
  },
  {
   "cell_type": "markdown",
   "metadata": {},
   "source": [
    "<font color=\"red\">**Question 41**:\n",
    "    <br>\n",
    "    - Import XGBClassifier from xgboost package.\n",
    "    <br>\n",
    "    - Initialize it using the same number of estimators and learning rate as before. \n",
    "    <br>\n",
    "    - Which value of n_jobs did you choose?\n",
    "    <br>\n",
    "    - Fit it on the same columns 'cols_to_keep' of Xtrain_oh than for the previous logistic regression.\n",
    "    <br>\n",
    "    - Evaluate its performance and compare it to the GradientBoosting classifier of scikit learn. How is the error? Does it take more time to run?\n",
    "</font>"
   ]
  },
  {
   "cell_type": "code",
   "execution_count": 87,
   "metadata": {
    "ExecuteTime": {
     "end_time": "2019-01-05T17:50:13.208849Z",
     "start_time": "2019-01-05T17:49:39.535515Z"
    }
   },
   "outputs": [
    {
     "name": "stdout",
     "output_type": "stream",
     "text": [
      "CPU times: user 2min 16s, sys: 6.5 s, total: 2min 23s\n",
      "Wall time: 30.1 s\n"
     ]
    },
    {
     "name": "stderr",
     "output_type": "stream",
     "text": [
      "/home/arnaud/anaconda3/lib/python3.6/site-packages/sklearn/preprocessing/label.py:151: DeprecationWarning: The truth value of an empty array is ambiguous. Returning False, but in future this will result in an error. Use `array.size > 0` to check that an array is not empty.\n",
      "  if diff:\n"
     ]
    },
    {
     "name": "stdout",
     "output_type": "stream",
     "text": [
      "Hard score  0.83348\n"
     ]
    }
   ],
   "source": [
    "from xgboost import XGBClassifier\n",
    "xgb = XGBClassifier(verbose=True, learning_rate=0.8, n_estimators=50, random_state = SEED, n_jobs=-1)\n",
    "%time xgb.fit(Xtrain_concat,ytrain)\n",
    "\n",
    "hard = xgb.predict(Xtest_concat)\n",
    "soft = xgb.predict_proba(Xtest_concat)\n",
    "\n",
    "hard_score_xgb = accuracy_score(ytest, hard)\n",
    "print(\"Hard score \", hard_score_xgb)\n"
   ]
  },
  {
   "cell_type": "code",
   "execution_count": 88,
   "metadata": {
    "ExecuteTime": {
     "end_time": "2019-01-05T17:50:19.762990Z",
     "start_time": "2019-01-05T17:50:19.739994Z"
    }
   },
   "outputs": [
    {
     "name": "stdout",
     "output_type": "stream",
     "text": [
      "Log loss  0.4062316573001351\n"
     ]
    }
   ],
   "source": [
    "log_loss_xgb = log_loss(ytest, soft[:,1])\n",
    "print(\"Log loss \", log_loss_xgb)"
   ]
  },
  {
   "cell_type": "code",
   "execution_count": 89,
   "metadata": {
    "ExecuteTime": {
     "end_time": "2019-01-05T17:50:26.043936Z",
     "start_time": "2019-01-05T17:50:26.019162Z"
    }
   },
   "outputs": [
    {
     "name": "stdout",
     "output_type": "stream",
     "text": [
      "Roc area  0.7290316623949777\n"
     ]
    }
   ],
   "source": [
    "roc_xgb = roc_auc_score(ytest, soft[:,1])\n",
    "print(\"Roc area \", roc_xgb)\n"
   ]
  },
  {
   "cell_type": "code",
   "execution_count": 90,
   "metadata": {
    "ExecuteTime": {
     "end_time": "2019-01-05T17:50:32.464510Z",
     "start_time": "2019-01-05T17:50:32.455086Z"
    }
   },
   "outputs": [
    {
     "name": "stdout",
     "output_type": "stream",
     "text": [
      "Models :  First colon selected | Feature selection | Gradient Boost | Gradient Boost leaf| XGB\n",
      "Scores :  0.83043 | 0.83373 | 0.83343 | 0.83406 | 0.83348\n",
      "Log loss :  (0.4251224554680983, 0.6762758103988586) | (0.40115516297206244, 0.7385984215044501) | 0.4091871736006742 | (0.39995604824413805, 0.7417361677212378) | 0.4062316573001351\n",
      "Roc Area :  0.6762758103988586 | 0.7385984215044501 | 0.7251893509766301 | 0.7417361677212378 | 0.7290316623949777\n"
     ]
    }
   ],
   "source": [
    "print(\"Models : \",\"First colon selected |\",\"Feature selection |\", \"Gradient Boost |\", \"Gradient Boost leaf|\",\"XGB\")\n",
    "print(\"Scores : \",hard_score_selected, \"|\",hard_score_feature_engin, \"|\", hard_score_gb, \"|\", hard_score_gb_leaf,\"|\", hard_score_xgb)\n",
    "print(\"Log loss : \",log_loss_selected, \"|\",log_loss_feature_engin, \"|\", log_loss_gb, \"|\", log_loss_gb_leaf,\"|\", log_loss_xgb)\n",
    "print(\"Roc Area : \",roc_feature_selected, \"|\",roc_feature_engin, \"|\", roc_gb, \"|\", roc_gb_leaf,\"|\", roc_xgb)"
   ]
  },
  {
   "cell_type": "markdown",
   "metadata": {},
   "source": [
    "**We chose n_jobs = -1 to parallelize our computation, it means use all available ressources (cores) => It gives us a model faster to fit and predict.**\n",
    "\n",
    "**This new model is a little bit weaker than the gradiant boost associated with the logistic regression but better than the Gb alone (thin difference) regarding to ROC and score**\n"
   ]
  },
  {
   "cell_type": "markdown",
   "metadata": {},
   "source": [
    "<font color=\"red\">**Question 42**:\n",
    "    Increase the number of estimators (e.g. 1024) and visualize the impact on performance. You might have to adapt the learning rate.\n",
    "</font>"
   ]
  },
  {
   "cell_type": "code",
   "execution_count": 91,
   "metadata": {
    "ExecuteTime": {
     "end_time": "2019-01-05T17:58:45.815574Z",
     "start_time": "2019-01-05T17:50:42.461880Z"
    }
   },
   "outputs": [
    {
     "name": "stdout",
     "output_type": "stream",
     "text": [
      "CPU times: user 53min 1s, sys: 2min 52s, total: 55min 53s\n",
      "Wall time: 7min 59s\n"
     ]
    },
    {
     "name": "stderr",
     "output_type": "stream",
     "text": [
      "/home/arnaud/anaconda3/lib/python3.6/site-packages/sklearn/preprocessing/label.py:151: DeprecationWarning: The truth value of an empty array is ambiguous. Returning False, but in future this will result in an error. Use `array.size > 0` to check that an array is not empty.\n",
      "  if diff:\n"
     ]
    },
    {
     "name": "stdout",
     "output_type": "stream",
     "text": [
      "Hard score  0.83288\n"
     ]
    }
   ],
   "source": [
    "from xgboost import XGBClassifier\n",
    "xgb2 = XGBClassifier(verbose=True, learning_rate=1, n_estimators=1024, random_state = SEED, n_jobs=-1)\n",
    "%time xgb2.fit(Xtrain_concat,ytrain)\n",
    "\n",
    "hard = xgb2.predict(Xtest_concat)\n",
    "soft = xgb2.predict_proba(Xtest_concat)\n",
    "\n",
    "hard_score_xgb2 = accuracy_score(ytest, hard)\n",
    "print(\"Hard score \", hard_score_xgb2)"
   ]
  },
  {
   "cell_type": "code",
   "execution_count": 92,
   "metadata": {
    "ExecuteTime": {
     "end_time": "2019-01-05T18:31:14.321654Z",
     "start_time": "2019-01-05T18:31:14.300307Z"
    }
   },
   "outputs": [
    {
     "name": "stdout",
     "output_type": "stream",
     "text": [
      "Log loss  0.4007940014204341\n"
     ]
    }
   ],
   "source": [
    "log_loss_xgb2 = log_loss(ytest, soft[:,1])\n",
    "print(\"Log loss \", log_loss_xgb2)"
   ]
  },
  {
   "cell_type": "code",
   "execution_count": 93,
   "metadata": {
    "ExecuteTime": {
     "end_time": "2019-01-05T18:31:20.300884Z",
     "start_time": "2019-01-05T18:31:20.281499Z"
    }
   },
   "outputs": [
    {
     "name": "stdout",
     "output_type": "stream",
     "text": [
      "Roc area  0.7421910018682265\n"
     ]
    }
   ],
   "source": [
    "roc_xgb2 = roc_auc_score(ytest, soft[:,1])\n",
    "print(\"Roc area \", roc_xgb2)"
   ]
  },
  {
   "cell_type": "code",
   "execution_count": 94,
   "metadata": {
    "ExecuteTime": {
     "end_time": "2019-01-05T18:31:25.946446Z",
     "start_time": "2019-01-05T18:31:25.943055Z"
    }
   },
   "outputs": [
    {
     "name": "stdout",
     "output_type": "stream",
     "text": [
      "Models :  First colon selected | Feature selection | Gradient Boost | Gradient Boost leaf| XGB XGB 1024\n",
      "Scores :  0.83043 | 0.83373 | 0.83343 | 0.83406 | 0.83348 | 0.83288\n",
      "Log loss :  (0.4251224554680983, 0.6762758103988586) | (0.40115516297206244, 0.7385984215044501) | 0.4091871736006742 | (0.39995604824413805, 0.7417361677212378) | 0.4062316573001351 | 0.4007940014204341\n",
      "Roc Area :  0.6762758103988586 | 0.7385984215044501 | 0.7251893509766301 | 0.7417361677212378 | 0.7290316623949777 | 0.7421910018682265\n"
     ]
    }
   ],
   "source": [
    "print(\"Models : \",\"First colon selected |\",\"Feature selection |\", \"Gradient Boost |\", \"Gradient Boost leaf|\",\"XGB\",\"XGB 1024\")\n",
    "print(\"Scores : \",hard_score_selected, \"|\",hard_score_feature_engin, \"|\", hard_score_gb, \"|\", hard_score_gb_leaf,\"|\", hard_score_xgb,\"|\", hard_score_xgb2)\n",
    "print(\"Log loss : \",log_loss_selected, \"|\",log_loss_feature_engin, \"|\", log_loss_gb, \"|\", log_loss_gb_leaf,\"|\", log_loss_xgb,\"|\", log_loss_xgb2)\n",
    "print(\"Roc Area : \",roc_feature_selected, \"|\",roc_feature_engin, \"|\", roc_gb, \"|\", roc_gb_leaf,\"|\", roc_xgb,\"|\", roc_xgb2)"
   ]
  },
  {
   "cell_type": "markdown",
   "metadata": {},
   "source": [
    "**The ROC curve is the best of all the models, but the score is the worst. Maybe the way of scoring is not the most apropriate.**\n",
    "\n",
    "**The time taken by the model is aproximatly 16m which is a lot more than the others**"
   ]
  },
  {
   "cell_type": "markdown",
   "metadata": {},
   "source": [
    "# Features hashing and random forest"
   ]
  },
  {
   "cell_type": "markdown",
   "metadata": {},
   "source": [
    "We restart with raw features before dummy encoding: Xtrain, Xtest.\n",
    "<font color=\"red\">**Question 43**:\n",
    "    Display again the number of modalities per feature in Xtrain.\n",
    "</font>"
   ]
  },
  {
   "cell_type": "code",
   "execution_count": 96,
   "metadata": {
    "ExecuteTime": {
     "end_time": "2019-01-05T18:42:00.438006Z",
     "start_time": "2019-01-05T18:41:59.546549Z"
    }
   },
   "outputs": [],
   "source": [
    "Xtrain, Xtest, ytrain, ytest = train_test_split(\n",
    "    df.iloc[:,2:], df['click'], test_size=0.1, random_state = SEED)"
   ]
  },
  {
   "cell_type": "code",
   "execution_count": 97,
   "metadata": {
    "ExecuteTime": {
     "end_time": "2019-01-05T18:42:08.767664Z",
     "start_time": "2019-01-05T18:42:06.336438Z"
    }
   },
   "outputs": [
    {
     "name": "stdout",
     "output_type": "stream",
     "text": [
      "Number of different element for each feature in Xtrain : \n",
      " hour                    24\n",
      "C1                       7\n",
      "banner_pos               7\n",
      "site_category           22\n",
      "app_id                3054\n",
      "app_domain             196\n",
      "app_category            26\n",
      "device_type              5\n",
      "device_conn_type         4\n",
      "C14                   2225\n",
      "C15                      8\n",
      "C16                      9\n",
      "C17                    420\n",
      "C18                      4\n",
      "C19                     66\n",
      "C20                    163\n",
      "C21                     60\n",
      "weekday                  7\n",
      "user                701585\n",
      "site                  5442\n",
      "dtype: int64\n"
     ]
    }
   ],
   "source": [
    "print(\"Number of different element for each feature in Xtrain : \\n\", Xtrain.nunique())"
   ]
  },
  {
   "cell_type": "code",
   "execution_count": 98,
   "metadata": {
    "ExecuteTime": {
     "end_time": "2019-01-05T18:42:14.885494Z",
     "start_time": "2019-01-05T18:42:14.635203Z"
    }
   },
   "outputs": [
    {
     "name": "stdout",
     "output_type": "stream",
     "text": [
      "Number of different element for each feature in Xtest : \n",
      " hour                   24\n",
      "C1                      7\n",
      "banner_pos              7\n",
      "site_category          19\n",
      "app_id               1308\n",
      "app_domain             91\n",
      "app_category           19\n",
      "device_type             4\n",
      "device_conn_type        4\n",
      "C14                  1733\n",
      "C15                     8\n",
      "C16                     9\n",
      "C17                   400\n",
      "C18                     4\n",
      "C19                    64\n",
      "C20                   157\n",
      "C21                    60\n",
      "weekday                 7\n",
      "user                91546\n",
      "site                 2199\n",
      "dtype: int64\n"
     ]
    }
   ],
   "source": [
    "print(\"Number of different element for each feature in Xtest : \\n\", Xtest.nunique())"
   ]
  },
  {
   "cell_type": "markdown",
   "metadata": {},
   "source": [
    "We want to define a transformation which regroups the least frequent modalities into a label 'isRare'. In order to do so, we decide to define our own Transformer.\n",
    "<font color=\"red\">**Question 44**:\n",
    "    Understand the different steps of 'fit' and 'transform'.\n",
    "</font>"
   ]
  },
  {
   "cell_type": "code",
   "execution_count": 99,
   "metadata": {
    "ExecuteTime": {
     "end_time": "2019-01-05T18:42:32.862937Z",
     "start_time": "2019-01-05T18:42:32.856617Z"
    }
   },
   "outputs": [],
   "source": [
    "from sklearn.base import BaseEstimator, TransformerMixin\n",
    "\n",
    "class MergeRareTransformer(BaseEstimator, TransformerMixin):\n",
    "    \n",
    "    def __init__(self, col_names, threshold):\n",
    "        self.col_names = col_names\n",
    "        self.threshold = threshold\n",
    "\n",
    "    def fit(self, X, y=None):\n",
    "\n",
    "        X = pd.DataFrame(X)\n",
    "        counts_dict_list = []\n",
    "        ################## READ THIS #########################\n",
    "        for i in range(len(self.col_names)):\n",
    "            \n",
    "            serie = X[self.col_names[i]].value_counts()  # Série des counts de chaque modalité\n",
    "            rare_indexes = serie[serie<self.threshold[i]].index  # A quoi correspondent ces indices ?\n",
    "            frequent_indexes = serie[serie>=self.threshold[i]].index  # A quoi correspondent ces indices ?\n",
    "            dico = {x:'isRare' for x in rare_indexes}\n",
    "            dico.update({x: str(x) for x in frequent_indexes})\n",
    "            counts_dict_list.append(dico)   # Quel est le dictionnaire obtenu ?\n",
    "            \n",
    "        ######################################################\n",
    "            \n",
    "        self.counts_dict_list_ = counts_dict_list\n",
    "        return self\n",
    "\n",
    "    def transform(self, X):\n",
    "\n",
    "        Xt = pd.DataFrame()\n",
    "        ################## READ THIS #########################\n",
    "        for col, count_dict in zip(self.col_names, self.counts_dict_list_):\n",
    "            Xt[col] = X[col].apply(lambda x:count_dict[x] if x in count_dict else 'isRare')\n",
    "            # A quoi sert le \"else 'isRare'\" dans la transformation de la colonne ?\n",
    "        ######################################################\n",
    "\n",
    "        return Xt\n"
   ]
  },
  {
   "cell_type": "markdown",
   "metadata": {},
   "source": [
    "**Fit**\n",
    "\n",
    "rare_indexes : Contains the index of the count of values inferior to the thresold \n",
    "\n",
    "frequent_indexes : Contains the index of the count of values superior to the thresold\n",
    "\n",
    "counts_dict_list : The dictionary will contain either (key:value):\n",
    "\n",
    "    *index : 'isRare' if the value was selected as rare (value count < threshold)\n",
    "    \n",
    "    *index : 'index' (string version of index) if the value was selected as frequent (value count >= threshold)\n",
    "    \n",
    "    => So the dict has index : str(index) for the frequent values and index:'isRare' for the rare\n",
    "\n",
    "**Transform**\n",
    "\n",
    "The else case is here in the case the value is not in the dictionary (which has been fited before), so it means it's a rare value\n",
    "    \n",
    "\n"
   ]
  },
  {
   "cell_type": "markdown",
   "metadata": {},
   "source": [
    "<font color=\"red\">**Question 45:**\n",
    "    <br>\n",
    "    - Fit and transform the training set. To do so, merge all mmodalities occuring at least 20 times in each column.\n",
    "    <br>\n",
    "    - Transform the test set.\n",
    "</font>"
   ]
  },
  {
   "cell_type": "code",
   "execution_count": 100,
   "metadata": {
    "ExecuteTime": {
     "end_time": "2019-01-05T18:43:00.730331Z",
     "start_time": "2019-01-05T18:42:54.541481Z"
    }
   },
   "outputs": [],
   "source": [
    "mg = MergeRareTransformer(col_names=Xtrain.columns, threshold=[20]*len(Xtrain.columns))\n",
    "Xtrain_mg = mg.fit_transform(Xtrain) # Fill here with fit_transform or fit then transform.\n",
    "Xtest_mg = mg.transform(Xtest)"
   ]
  },
  {
   "cell_type": "markdown",
   "metadata": {},
   "source": [
    "<font color=\"red\">**Question 46:**\n",
    "   How many elements of the column Xtrain_mg['app_domain'] are now labeled as 'rare'?\n",
    "</font>"
   ]
  },
  {
   "cell_type": "code",
   "execution_count": 101,
   "metadata": {
    "ExecuteTime": {
     "end_time": "2019-01-05T18:43:07.196245Z",
     "start_time": "2019-01-05T18:43:06.723828Z"
    }
   },
   "outputs": [
    {
     "name": "stdout",
     "output_type": "stream",
     "text": [
      "Number of lines labelled as rare in the app domain column  513\n"
     ]
    }
   ],
   "source": [
    "nb_rare_app_domain = Xtrain_mg[Xtrain_mg['app_domain'] == 'isRare'].shape[0]\n",
    "print(\"Number of lines labelled as rare in the app domain column \",nb_rare_app_domain)"
   ]
  },
  {
   "cell_type": "markdown",
   "metadata": {},
   "source": [
    "**There is 513 out of 100000 values which occurs less than 400 times (20*20)**"
   ]
  },
  {
   "cell_type": "markdown",
   "metadata": {},
   "source": [
    "<font color=\"red\">**Question 47:**\n",
    "   In the new train set, display the number of modalities for each feature.\n",
    "</font>"
   ]
  },
  {
   "cell_type": "code",
   "execution_count": 102,
   "metadata": {
    "ExecuteTime": {
     "end_time": "2019-01-05T18:43:13.594200Z",
     "start_time": "2019-01-05T18:43:13.185061Z"
    }
   },
   "outputs": [
    {
     "name": "stdout",
     "output_type": "stream",
     "text": [
      "The number of different modalities per features is (minus one because of the rare values) : \n",
      " hour                  24\n",
      "C1                     7\n",
      "banner_pos             7\n",
      "site_category         18\n",
      "app_id               613\n",
      "app_domain            53\n",
      "app_category          19\n",
      "device_type            5\n",
      "device_conn_type       4\n",
      "C14                 1339\n",
      "C15                    8\n",
      "C16                    9\n",
      "C17                  381\n",
      "C18                    4\n",
      "C19                   63\n",
      "C20                  148\n",
      "C21                   60\n",
      "weekday                7\n",
      "user                 901\n",
      "site                 889\n",
      "dtype: int64\n"
     ]
    }
   ],
   "source": [
    "nb_modalities_features = Xtrain_mg.nunique()\n",
    "print(\"The number of different modalities per features is (minus one because of the rare values) : \\n\", nb_modalities_features)"
   ]
  },
  {
   "cell_type": "markdown",
   "metadata": {},
   "source": [
    "Modalities are arbitrary object, such as '234', 'isRare', etc. We will now transorm them into integers with the hashing trick.\n",
    "<font color=\"red\">**Question 48:**\n",
    "   To better understand how the 'hash' function is working, apply it to a string of your choice.\n",
    "</font>"
   ]
  },
  {
   "cell_type": "code",
   "execution_count": 103,
   "metadata": {
    "ExecuteTime": {
     "end_time": "2019-01-05T18:43:19.640551Z",
     "start_time": "2019-01-05T18:43:19.637594Z"
    }
   },
   "outputs": [
    {
     "data": {
      "text/plain": [
       "-3979796979921764777"
      ]
     },
     "execution_count": 103,
     "metadata": {},
     "output_type": "execute_result"
    }
   ],
   "source": [
    "import hashlib\n",
    "hash(\"TEST\") # Fill here"
   ]
  },
  {
   "cell_type": "markdown",
   "metadata": {},
   "source": [
    "**A Hashing function use most of the time an injective function (we cannot come back from the hashed value to the original one) generating a value of always the same size. It is often used in security (store password on a server from instance where you compare the value hash of the pass entered by the user to the hash stored in database). Here the hash seem to generate an int value**"
   ]
  },
  {
   "cell_type": "markdown",
   "metadata": {},
   "source": [
    "<font color=\"red\">**Question 49:**\n",
    "   Create two new datasets 'Xtrain_ha' and 'Xtest_ha' containing the output of the hashing process. Use the '.apply' method to transform iteratively the columns by mapping to each value its remainder in the euclidean division of the hash by 1000000. \n",
    "   Example:\n",
    "</font>\n",
    "</font>\n",
    "<p>\n",
    "<center>\n",
    "2060777048690<font color=\"red\">918393</font>  -->  918393\n",
    "</center>\n",
    "Remark: do not forget that the function 'hash' has to take a string as input."
   ]
  },
  {
   "cell_type": "code",
   "execution_count": 104,
   "metadata": {
    "ExecuteTime": {
     "end_time": "2019-01-05T18:43:41.451876Z",
     "start_time": "2019-01-05T18:43:34.369299Z"
    }
   },
   "outputs": [],
   "source": [
    "Xtrain_ha = pd.DataFrame()\n",
    "Xtest_ha = pd.DataFrame()\n",
    "for col in Xtrain_mg.columns:\n",
    "    Xtrain_ha[col] = Xtrain_mg[col].apply(lambda x : hash(x)%1000000) # Fill here defining a lambda function\n",
    "    Xtest_ha[col] = Xtest_mg[col].apply(lambda x : hash(x)%1000000)"
   ]
  },
  {
   "cell_type": "markdown",
   "metadata": {},
   "source": [
    "<font color=\"red\">**Question 50:**\n",
    "   Visualize the content of the DataFrames you have obtained.\n",
    "</font>"
   ]
  },
  {
   "cell_type": "code",
   "execution_count": 105,
   "metadata": {
    "ExecuteTime": {
     "end_time": "2019-01-05T18:43:48.612097Z",
     "start_time": "2019-01-05T18:43:48.570598Z"
    }
   },
   "outputs": [
    {
     "data": {
      "text/html": [
       "<div>\n",
       "<style scoped>\n",
       "    .dataframe tbody tr th:only-of-type {\n",
       "        vertical-align: middle;\n",
       "    }\n",
       "\n",
       "    .dataframe tbody tr th {\n",
       "        vertical-align: top;\n",
       "    }\n",
       "\n",
       "    .dataframe thead th {\n",
       "        text-align: right;\n",
       "    }\n",
       "</style>\n",
       "<table border=\"1\" class=\"dataframe\">\n",
       "  <thead>\n",
       "    <tr style=\"text-align: right;\">\n",
       "      <th></th>\n",
       "      <th>hour</th>\n",
       "      <th>C1</th>\n",
       "      <th>banner_pos</th>\n",
       "      <th>site_category</th>\n",
       "      <th>app_id</th>\n",
       "      <th>app_domain</th>\n",
       "      <th>app_category</th>\n",
       "      <th>device_type</th>\n",
       "      <th>device_conn_type</th>\n",
       "      <th>C14</th>\n",
       "      <th>C15</th>\n",
       "      <th>C16</th>\n",
       "      <th>C17</th>\n",
       "      <th>C18</th>\n",
       "      <th>C19</th>\n",
       "      <th>C20</th>\n",
       "      <th>C21</th>\n",
       "      <th>weekday</th>\n",
       "      <th>user</th>\n",
       "      <th>site</th>\n",
       "    </tr>\n",
       "  </thead>\n",
       "  <tbody>\n",
       "    <tr>\n",
       "      <th>92438</th>\n",
       "      <td>375430</td>\n",
       "      <td>123099</td>\n",
       "      <td>349553</td>\n",
       "      <td>877399</td>\n",
       "      <td>557830</td>\n",
       "      <td>876244</td>\n",
       "      <td>440643</td>\n",
       "      <td>514253</td>\n",
       "      <td>900964</td>\n",
       "      <td>632806</td>\n",
       "      <td>531840</td>\n",
       "      <td>638544</td>\n",
       "      <td>123173</td>\n",
       "      <td>654057</td>\n",
       "      <td>661294</td>\n",
       "      <td>364246</td>\n",
       "      <td>224868</td>\n",
       "      <td>654057</td>\n",
       "      <td>870861</td>\n",
       "      <td>499676</td>\n",
       "    </tr>\n",
       "    <tr>\n",
       "      <th>60898</th>\n",
       "      <td>903358</td>\n",
       "      <td>268606</td>\n",
       "      <td>654057</td>\n",
       "      <td>877399</td>\n",
       "      <td>377863</td>\n",
       "      <td>691495</td>\n",
       "      <td>196724</td>\n",
       "      <td>349553</td>\n",
       "      <td>953823</td>\n",
       "      <td>632806</td>\n",
       "      <td>531840</td>\n",
       "      <td>638544</td>\n",
       "      <td>123173</td>\n",
       "      <td>654057</td>\n",
       "      <td>661294</td>\n",
       "      <td>364246</td>\n",
       "      <td>224868</td>\n",
       "      <td>349553</td>\n",
       "      <td>870861</td>\n",
       "      <td>499676</td>\n",
       "    </tr>\n",
       "    <tr>\n",
       "      <th>556199</th>\n",
       "      <td>514253</td>\n",
       "      <td>268606</td>\n",
       "      <td>654057</td>\n",
       "      <td>212980</td>\n",
       "      <td>20209</td>\n",
       "      <td>876244</td>\n",
       "      <td>288164</td>\n",
       "      <td>349553</td>\n",
       "      <td>953823</td>\n",
       "      <td>233380</td>\n",
       "      <td>531840</td>\n",
       "      <td>638544</td>\n",
       "      <td>361431</td>\n",
       "      <td>654057</td>\n",
       "      <td>647404</td>\n",
       "      <td>364246</td>\n",
       "      <td>202768</td>\n",
       "      <td>654057</td>\n",
       "      <td>870861</td>\n",
       "      <td>221133</td>\n",
       "    </tr>\n",
       "    <tr>\n",
       "      <th>193129</th>\n",
       "      <td>527908</td>\n",
       "      <td>268606</td>\n",
       "      <td>349553</td>\n",
       "      <td>212980</td>\n",
       "      <td>20209</td>\n",
       "      <td>876244</td>\n",
       "      <td>288164</td>\n",
       "      <td>349553</td>\n",
       "      <td>654057</td>\n",
       "      <td>47728</td>\n",
       "      <td>531840</td>\n",
       "      <td>638544</td>\n",
       "      <td>139395</td>\n",
       "      <td>654057</td>\n",
       "      <td>999024</td>\n",
       "      <td>141170</td>\n",
       "      <td>31791</td>\n",
       "      <td>349553</td>\n",
       "      <td>870861</td>\n",
       "      <td>523160</td>\n",
       "    </tr>\n",
       "    <tr>\n",
       "      <th>231985</th>\n",
       "      <td>655329</td>\n",
       "      <td>268606</td>\n",
       "      <td>654057</td>\n",
       "      <td>967046</td>\n",
       "      <td>20209</td>\n",
       "      <td>876244</td>\n",
       "      <td>288164</td>\n",
       "      <td>349553</td>\n",
       "      <td>654057</td>\n",
       "      <td>398473</td>\n",
       "      <td>531840</td>\n",
       "      <td>638544</td>\n",
       "      <td>123173</td>\n",
       "      <td>654057</td>\n",
       "      <td>661294</td>\n",
       "      <td>792962</td>\n",
       "      <td>224868</td>\n",
       "      <td>785163</td>\n",
       "      <td>870861</td>\n",
       "      <td>35932</td>\n",
       "    </tr>\n",
       "    <tr>\n",
       "      <th>235945</th>\n",
       "      <td>900964</td>\n",
       "      <td>268606</td>\n",
       "      <td>349553</td>\n",
       "      <td>212980</td>\n",
       "      <td>20209</td>\n",
       "      <td>876244</td>\n",
       "      <td>288164</td>\n",
       "      <td>349553</td>\n",
       "      <td>654057</td>\n",
       "      <td>490884</td>\n",
       "      <td>531840</td>\n",
       "      <td>638544</td>\n",
       "      <td>728068</td>\n",
       "      <td>953823</td>\n",
       "      <td>658279</td>\n",
       "      <td>364246</td>\n",
       "      <td>219437</td>\n",
       "      <td>514253</td>\n",
       "      <td>870861</td>\n",
       "      <td>658863</td>\n",
       "    </tr>\n",
       "    <tr>\n",
       "      <th>622676</th>\n",
       "      <td>900538</td>\n",
       "      <td>268606</td>\n",
       "      <td>654057</td>\n",
       "      <td>967046</td>\n",
       "      <td>20209</td>\n",
       "      <td>876244</td>\n",
       "      <td>288164</td>\n",
       "      <td>349553</td>\n",
       "      <td>654057</td>\n",
       "      <td>293988</td>\n",
       "      <td>531840</td>\n",
       "      <td>638544</td>\n",
       "      <td>123173</td>\n",
       "      <td>654057</td>\n",
       "      <td>661294</td>\n",
       "      <td>792962</td>\n",
       "      <td>224868</td>\n",
       "      <td>953823</td>\n",
       "      <td>870861</td>\n",
       "      <td>35932</td>\n",
       "    </tr>\n",
       "    <tr>\n",
       "      <th>426950</th>\n",
       "      <td>184880</td>\n",
       "      <td>268606</td>\n",
       "      <td>654057</td>\n",
       "      <td>819663</td>\n",
       "      <td>20209</td>\n",
       "      <td>876244</td>\n",
       "      <td>288164</td>\n",
       "      <td>349553</td>\n",
       "      <td>654057</td>\n",
       "      <td>12508</td>\n",
       "      <td>531840</td>\n",
       "      <td>638544</td>\n",
       "      <td>407940</td>\n",
       "      <td>900964</td>\n",
       "      <td>486430</td>\n",
       "      <td>141170</td>\n",
       "      <td>306731</td>\n",
       "      <td>835245</td>\n",
       "      <td>870861</td>\n",
       "      <td>669929</td>\n",
       "    </tr>\n",
       "    <tr>\n",
       "      <th>115855</th>\n",
       "      <td>349553</td>\n",
       "      <td>268606</td>\n",
       "      <td>349553</td>\n",
       "      <td>212980</td>\n",
       "      <td>20209</td>\n",
       "      <td>876244</td>\n",
       "      <td>288164</td>\n",
       "      <td>349553</td>\n",
       "      <td>654057</td>\n",
       "      <td>772667</td>\n",
       "      <td>531840</td>\n",
       "      <td>638544</td>\n",
       "      <td>947909</td>\n",
       "      <td>654057</td>\n",
       "      <td>297699</td>\n",
       "      <td>364246</td>\n",
       "      <td>665304</td>\n",
       "      <td>953823</td>\n",
       "      <td>870861</td>\n",
       "      <td>457015</td>\n",
       "    </tr>\n",
       "    <tr>\n",
       "      <th>594467</th>\n",
       "      <td>191563</td>\n",
       "      <td>268606</td>\n",
       "      <td>654057</td>\n",
       "      <td>967046</td>\n",
       "      <td>20209</td>\n",
       "      <td>876244</td>\n",
       "      <td>288164</td>\n",
       "      <td>349553</td>\n",
       "      <td>654057</td>\n",
       "      <td>398473</td>\n",
       "      <td>531840</td>\n",
       "      <td>638544</td>\n",
       "      <td>123173</td>\n",
       "      <td>654057</td>\n",
       "      <td>661294</td>\n",
       "      <td>792962</td>\n",
       "      <td>224868</td>\n",
       "      <td>654057</td>\n",
       "      <td>870861</td>\n",
       "      <td>35932</td>\n",
       "    </tr>\n",
       "    <tr>\n",
       "      <th>588842</th>\n",
       "      <td>250705</td>\n",
       "      <td>268606</td>\n",
       "      <td>654057</td>\n",
       "      <td>877399</td>\n",
       "      <td>115061</td>\n",
       "      <td>691495</td>\n",
       "      <td>178766</td>\n",
       "      <td>349553</td>\n",
       "      <td>654057</td>\n",
       "      <td>62497</td>\n",
       "      <td>531840</td>\n",
       "      <td>638544</td>\n",
       "      <td>461934</td>\n",
       "      <td>900964</td>\n",
       "      <td>492173</td>\n",
       "      <td>28083</td>\n",
       "      <td>329356</td>\n",
       "      <td>654057</td>\n",
       "      <td>870861</td>\n",
       "      <td>499676</td>\n",
       "    </tr>\n",
       "    <tr>\n",
       "      <th>418668</th>\n",
       "      <td>903358</td>\n",
       "      <td>268606</td>\n",
       "      <td>654057</td>\n",
       "      <td>877399</td>\n",
       "      <td>59564</td>\n",
       "      <td>791330</td>\n",
       "      <td>440643</td>\n",
       "      <td>349553</td>\n",
       "      <td>900964</td>\n",
       "      <td>194672</td>\n",
       "      <td>531840</td>\n",
       "      <td>638544</td>\n",
       "      <td>861328</td>\n",
       "      <td>349553</td>\n",
       "      <td>874432</td>\n",
       "      <td>209127</td>\n",
       "      <td>618945</td>\n",
       "      <td>349553</td>\n",
       "      <td>870861</td>\n",
       "      <td>499676</td>\n",
       "    </tr>\n",
       "    <tr>\n",
       "      <th>235283</th>\n",
       "      <td>514253</td>\n",
       "      <td>268606</td>\n",
       "      <td>654057</td>\n",
       "      <td>877399</td>\n",
       "      <td>665466</td>\n",
       "      <td>691495</td>\n",
       "      <td>178766</td>\n",
       "      <td>349553</td>\n",
       "      <td>654057</td>\n",
       "      <td>100115</td>\n",
       "      <td>531840</td>\n",
       "      <td>638544</td>\n",
       "      <td>81866</td>\n",
       "      <td>349553</td>\n",
       "      <td>502202</td>\n",
       "      <td>364246</td>\n",
       "      <td>567002</td>\n",
       "      <td>349553</td>\n",
       "      <td>870861</td>\n",
       "      <td>499676</td>\n",
       "    </tr>\n",
       "    <tr>\n",
       "      <th>664370</th>\n",
       "      <td>184880</td>\n",
       "      <td>268606</td>\n",
       "      <td>349553</td>\n",
       "      <td>212980</td>\n",
       "      <td>20209</td>\n",
       "      <td>876244</td>\n",
       "      <td>288164</td>\n",
       "      <td>349553</td>\n",
       "      <td>654057</td>\n",
       "      <td>313780</td>\n",
       "      <td>531840</td>\n",
       "      <td>638544</td>\n",
       "      <td>254918</td>\n",
       "      <td>953823</td>\n",
       "      <td>297699</td>\n",
       "      <td>364246</td>\n",
       "      <td>822964</td>\n",
       "      <td>835245</td>\n",
       "      <td>870861</td>\n",
       "      <td>832372</td>\n",
       "    </tr>\n",
       "    <tr>\n",
       "      <th>379858</th>\n",
       "      <td>835245</td>\n",
       "      <td>268606</td>\n",
       "      <td>654057</td>\n",
       "      <td>212980</td>\n",
       "      <td>20209</td>\n",
       "      <td>876244</td>\n",
       "      <td>288164</td>\n",
       "      <td>349553</td>\n",
       "      <td>654057</td>\n",
       "      <td>658851</td>\n",
       "      <td>531840</td>\n",
       "      <td>638544</td>\n",
       "      <td>832314</td>\n",
       "      <td>900964</td>\n",
       "      <td>79079</td>\n",
       "      <td>367805</td>\n",
       "      <td>20785</td>\n",
       "      <td>900964</td>\n",
       "      <td>64478</td>\n",
       "      <td>749783</td>\n",
       "    </tr>\n",
       "    <tr>\n",
       "      <th>943479</th>\n",
       "      <td>552887</td>\n",
       "      <td>268606</td>\n",
       "      <td>654057</td>\n",
       "      <td>967046</td>\n",
       "      <td>20209</td>\n",
       "      <td>876244</td>\n",
       "      <td>288164</td>\n",
       "      <td>349553</td>\n",
       "      <td>654057</td>\n",
       "      <td>180681</td>\n",
       "      <td>531840</td>\n",
       "      <td>638544</td>\n",
       "      <td>762113</td>\n",
       "      <td>953823</td>\n",
       "      <td>661294</td>\n",
       "      <td>364246</td>\n",
       "      <td>822964</td>\n",
       "      <td>900964</td>\n",
       "      <td>870861</td>\n",
       "      <td>35932</td>\n",
       "    </tr>\n",
       "    <tr>\n",
       "      <th>357318</th>\n",
       "      <td>527908</td>\n",
       "      <td>268606</td>\n",
       "      <td>654057</td>\n",
       "      <td>877399</td>\n",
       "      <td>710709</td>\n",
       "      <td>333149</td>\n",
       "      <td>898159</td>\n",
       "      <td>349553</td>\n",
       "      <td>654057</td>\n",
       "      <td>241756</td>\n",
       "      <td>531840</td>\n",
       "      <td>638544</td>\n",
       "      <td>150546</td>\n",
       "      <td>900964</td>\n",
       "      <td>67840</td>\n",
       "      <td>367805</td>\n",
       "      <td>20785</td>\n",
       "      <td>514253</td>\n",
       "      <td>259357</td>\n",
       "      <td>499676</td>\n",
       "    </tr>\n",
       "    <tr>\n",
       "      <th>618206</th>\n",
       "      <td>191563</td>\n",
       "      <td>268606</td>\n",
       "      <td>349553</td>\n",
       "      <td>212980</td>\n",
       "      <td>20209</td>\n",
       "      <td>876244</td>\n",
       "      <td>288164</td>\n",
       "      <td>349553</td>\n",
       "      <td>654057</td>\n",
       "      <td>372900</td>\n",
       "      <td>531840</td>\n",
       "      <td>638544</td>\n",
       "      <td>95789</td>\n",
       "      <td>900964</td>\n",
       "      <td>297699</td>\n",
       "      <td>364246</td>\n",
       "      <td>306731</td>\n",
       "      <td>349553</td>\n",
       "      <td>870861</td>\n",
       "      <td>832372</td>\n",
       "    </tr>\n",
       "    <tr>\n",
       "      <th>218154</th>\n",
       "      <td>191563</td>\n",
       "      <td>268606</td>\n",
       "      <td>654057</td>\n",
       "      <td>967046</td>\n",
       "      <td>20209</td>\n",
       "      <td>876244</td>\n",
       "      <td>288164</td>\n",
       "      <td>349553</td>\n",
       "      <td>654057</td>\n",
       "      <td>701069</td>\n",
       "      <td>531840</td>\n",
       "      <td>638544</td>\n",
       "      <td>191865</td>\n",
       "      <td>953823</td>\n",
       "      <td>456671</td>\n",
       "      <td>364246</td>\n",
       "      <td>608978</td>\n",
       "      <td>349553</td>\n",
       "      <td>870861</td>\n",
       "      <td>35932</td>\n",
       "    </tr>\n",
       "    <tr>\n",
       "      <th>383144</th>\n",
       "      <td>902726</td>\n",
       "      <td>268606</td>\n",
       "      <td>349553</td>\n",
       "      <td>212980</td>\n",
       "      <td>20209</td>\n",
       "      <td>876244</td>\n",
       "      <td>288164</td>\n",
       "      <td>349553</td>\n",
       "      <td>654057</td>\n",
       "      <td>676353</td>\n",
       "      <td>531840</td>\n",
       "      <td>638544</td>\n",
       "      <td>54959</td>\n",
       "      <td>900964</td>\n",
       "      <td>297699</td>\n",
       "      <td>364246</td>\n",
       "      <td>306731</td>\n",
       "      <td>349553</td>\n",
       "      <td>870861</td>\n",
       "      <td>35762</td>\n",
       "    </tr>\n",
       "    <tr>\n",
       "      <th>589729</th>\n",
       "      <td>527908</td>\n",
       "      <td>268606</td>\n",
       "      <td>654057</td>\n",
       "      <td>877399</td>\n",
       "      <td>327577</td>\n",
       "      <td>412087</td>\n",
       "      <td>440643</td>\n",
       "      <td>349553</td>\n",
       "      <td>654057</td>\n",
       "      <td>340731</td>\n",
       "      <td>531840</td>\n",
       "      <td>638544</td>\n",
       "      <td>615247</td>\n",
       "      <td>654057</td>\n",
       "      <td>219437</td>\n",
       "      <td>364246</td>\n",
       "      <td>869511</td>\n",
       "      <td>900964</td>\n",
       "      <td>654663</td>\n",
       "      <td>499676</td>\n",
       "    </tr>\n",
       "    <tr>\n",
       "      <th>1867</th>\n",
       "      <td>655329</td>\n",
       "      <td>268606</td>\n",
       "      <td>654057</td>\n",
       "      <td>877399</td>\n",
       "      <td>698209</td>\n",
       "      <td>587617</td>\n",
       "      <td>854896</td>\n",
       "      <td>349553</td>\n",
       "      <td>654057</td>\n",
       "      <td>81109</td>\n",
       "      <td>531840</td>\n",
       "      <td>638544</td>\n",
       "      <td>648418</td>\n",
       "      <td>654057</td>\n",
       "      <td>661294</td>\n",
       "      <td>364246</td>\n",
       "      <td>995114</td>\n",
       "      <td>953823</td>\n",
       "      <td>870861</td>\n",
       "      <td>499676</td>\n",
       "    </tr>\n",
       "    <tr>\n",
       "      <th>223984</th>\n",
       "      <td>900964</td>\n",
       "      <td>268606</td>\n",
       "      <td>654057</td>\n",
       "      <td>967046</td>\n",
       "      <td>20209</td>\n",
       "      <td>876244</td>\n",
       "      <td>288164</td>\n",
       "      <td>349553</td>\n",
       "      <td>654057</td>\n",
       "      <td>701069</td>\n",
       "      <td>531840</td>\n",
       "      <td>638544</td>\n",
       "      <td>191865</td>\n",
       "      <td>953823</td>\n",
       "      <td>767819</td>\n",
       "      <td>756418</td>\n",
       "      <td>608978</td>\n",
       "      <td>514253</td>\n",
       "      <td>870861</td>\n",
       "      <td>35932</td>\n",
       "    </tr>\n",
       "    <tr>\n",
       "      <th>297246</th>\n",
       "      <td>655329</td>\n",
       "      <td>268606</td>\n",
       "      <td>654057</td>\n",
       "      <td>212980</td>\n",
       "      <td>20209</td>\n",
       "      <td>876244</td>\n",
       "      <td>288164</td>\n",
       "      <td>349553</td>\n",
       "      <td>654057</td>\n",
       "      <td>897963</td>\n",
       "      <td>531840</td>\n",
       "      <td>638544</td>\n",
       "      <td>796213</td>\n",
       "      <td>900964</td>\n",
       "      <td>297699</td>\n",
       "      <td>364246</td>\n",
       "      <td>306731</td>\n",
       "      <td>785163</td>\n",
       "      <td>870861</td>\n",
       "      <td>658863</td>\n",
       "    </tr>\n",
       "    <tr>\n",
       "      <th>726814</th>\n",
       "      <td>184880</td>\n",
       "      <td>268606</td>\n",
       "      <td>349553</td>\n",
       "      <td>212980</td>\n",
       "      <td>20209</td>\n",
       "      <td>876244</td>\n",
       "      <td>288164</td>\n",
       "      <td>349553</td>\n",
       "      <td>654057</td>\n",
       "      <td>320755</td>\n",
       "      <td>531840</td>\n",
       "      <td>638544</td>\n",
       "      <td>823795</td>\n",
       "      <td>900964</td>\n",
       "      <td>297699</td>\n",
       "      <td>364246</td>\n",
       "      <td>306731</td>\n",
       "      <td>900964</td>\n",
       "      <td>870861</td>\n",
       "      <td>168173</td>\n",
       "    </tr>\n",
       "    <tr>\n",
       "      <th>640745</th>\n",
       "      <td>250705</td>\n",
       "      <td>268606</td>\n",
       "      <td>349553</td>\n",
       "      <td>212980</td>\n",
       "      <td>20209</td>\n",
       "      <td>876244</td>\n",
       "      <td>288164</td>\n",
       "      <td>349553</td>\n",
       "      <td>654057</td>\n",
       "      <td>799947</td>\n",
       "      <td>531840</td>\n",
       "      <td>638544</td>\n",
       "      <td>947909</td>\n",
       "      <td>654057</td>\n",
       "      <td>297699</td>\n",
       "      <td>933113</td>\n",
       "      <td>665304</td>\n",
       "      <td>349553</td>\n",
       "      <td>870861</td>\n",
       "      <td>523160</td>\n",
       "    </tr>\n",
       "    <tr>\n",
       "      <th>819085</th>\n",
       "      <td>552887</td>\n",
       "      <td>268606</td>\n",
       "      <td>654057</td>\n",
       "      <td>877399</td>\n",
       "      <td>59564</td>\n",
       "      <td>791330</td>\n",
       "      <td>440643</td>\n",
       "      <td>349553</td>\n",
       "      <td>900964</td>\n",
       "      <td>991845</td>\n",
       "      <td>531840</td>\n",
       "      <td>638544</td>\n",
       "      <td>861328</td>\n",
       "      <td>349553</td>\n",
       "      <td>874432</td>\n",
       "      <td>209127</td>\n",
       "      <td>618945</td>\n",
       "      <td>514253</td>\n",
       "      <td>870861</td>\n",
       "      <td>499676</td>\n",
       "    </tr>\n",
       "    <tr>\n",
       "      <th>18831</th>\n",
       "      <td>514253</td>\n",
       "      <td>268606</td>\n",
       "      <td>654057</td>\n",
       "      <td>877399</td>\n",
       "      <td>233534</td>\n",
       "      <td>186429</td>\n",
       "      <td>440643</td>\n",
       "      <td>349553</td>\n",
       "      <td>654057</td>\n",
       "      <td>731284</td>\n",
       "      <td>531840</td>\n",
       "      <td>638544</td>\n",
       "      <td>127822</td>\n",
       "      <td>900964</td>\n",
       "      <td>405938</td>\n",
       "      <td>948437</td>\n",
       "      <td>750964</td>\n",
       "      <td>900964</td>\n",
       "      <td>870861</td>\n",
       "      <td>499676</td>\n",
       "    </tr>\n",
       "    <tr>\n",
       "      <th>920255</th>\n",
       "      <td>655329</td>\n",
       "      <td>268606</td>\n",
       "      <td>349553</td>\n",
       "      <td>212980</td>\n",
       "      <td>20209</td>\n",
       "      <td>876244</td>\n",
       "      <td>288164</td>\n",
       "      <td>349553</td>\n",
       "      <td>654057</td>\n",
       "      <td>5544</td>\n",
       "      <td>531840</td>\n",
       "      <td>638544</td>\n",
       "      <td>938970</td>\n",
       "      <td>953823</td>\n",
       "      <td>297699</td>\n",
       "      <td>83432</td>\n",
       "      <td>306731</td>\n",
       "      <td>900964</td>\n",
       "      <td>870861</td>\n",
       "      <td>832372</td>\n",
       "    </tr>\n",
       "    <tr>\n",
       "      <th>564162</th>\n",
       "      <td>900538</td>\n",
       "      <td>268606</td>\n",
       "      <td>349553</td>\n",
       "      <td>212980</td>\n",
       "      <td>20209</td>\n",
       "      <td>876244</td>\n",
       "      <td>288164</td>\n",
       "      <td>349553</td>\n",
       "      <td>953823</td>\n",
       "      <td>918634</td>\n",
       "      <td>531840</td>\n",
       "      <td>638544</td>\n",
       "      <td>728068</td>\n",
       "      <td>953823</td>\n",
       "      <td>658279</td>\n",
       "      <td>792962</td>\n",
       "      <td>219437</td>\n",
       "      <td>349553</td>\n",
       "      <td>870861</td>\n",
       "      <td>658863</td>\n",
       "    </tr>\n",
       "    <tr>\n",
       "      <th>...</th>\n",
       "      <td>...</td>\n",
       "      <td>...</td>\n",
       "      <td>...</td>\n",
       "      <td>...</td>\n",
       "      <td>...</td>\n",
       "      <td>...</td>\n",
       "      <td>...</td>\n",
       "      <td>...</td>\n",
       "      <td>...</td>\n",
       "      <td>...</td>\n",
       "      <td>...</td>\n",
       "      <td>...</td>\n",
       "      <td>...</td>\n",
       "      <td>...</td>\n",
       "      <td>...</td>\n",
       "      <td>...</td>\n",
       "      <td>...</td>\n",
       "      <td>...</td>\n",
       "      <td>...</td>\n",
       "      <td>...</td>\n",
       "    </tr>\n",
       "    <tr>\n",
       "      <th>215426</th>\n",
       "      <td>184880</td>\n",
       "      <td>268606</td>\n",
       "      <td>654057</td>\n",
       "      <td>877399</td>\n",
       "      <td>59564</td>\n",
       "      <td>791330</td>\n",
       "      <td>440643</td>\n",
       "      <td>349553</td>\n",
       "      <td>900964</td>\n",
       "      <td>194672</td>\n",
       "      <td>531840</td>\n",
       "      <td>638544</td>\n",
       "      <td>861328</td>\n",
       "      <td>349553</td>\n",
       "      <td>874432</td>\n",
       "      <td>851092</td>\n",
       "      <td>618945</td>\n",
       "      <td>349553</td>\n",
       "      <td>870861</td>\n",
       "      <td>499676</td>\n",
       "    </tr>\n",
       "    <tr>\n",
       "      <th>923734</th>\n",
       "      <td>250705</td>\n",
       "      <td>268606</td>\n",
       "      <td>654057</td>\n",
       "      <td>877399</td>\n",
       "      <td>585076</td>\n",
       "      <td>412087</td>\n",
       "      <td>440643</td>\n",
       "      <td>349553</td>\n",
       "      <td>654057</td>\n",
       "      <td>866235</td>\n",
       "      <td>531840</td>\n",
       "      <td>638544</td>\n",
       "      <td>497807</td>\n",
       "      <td>654057</td>\n",
       "      <td>368950</td>\n",
       "      <td>276806</td>\n",
       "      <td>292614</td>\n",
       "      <td>654057</td>\n",
       "      <td>870861</td>\n",
       "      <td>499676</td>\n",
       "    </tr>\n",
       "    <tr>\n",
       "      <th>867421</th>\n",
       "      <td>19727</td>\n",
       "      <td>268606</td>\n",
       "      <td>654057</td>\n",
       "      <td>212980</td>\n",
       "      <td>20209</td>\n",
       "      <td>876244</td>\n",
       "      <td>288164</td>\n",
       "      <td>349553</td>\n",
       "      <td>953823</td>\n",
       "      <td>270791</td>\n",
       "      <td>531840</td>\n",
       "      <td>638544</td>\n",
       "      <td>112684</td>\n",
       "      <td>654057</td>\n",
       "      <td>661294</td>\n",
       "      <td>880248</td>\n",
       "      <td>224868</td>\n",
       "      <td>900964</td>\n",
       "      <td>870861</td>\n",
       "      <td>968376</td>\n",
       "    </tr>\n",
       "    <tr>\n",
       "      <th>956041</th>\n",
       "      <td>514253</td>\n",
       "      <td>255979</td>\n",
       "      <td>654057</td>\n",
       "      <td>877399</td>\n",
       "      <td>492565</td>\n",
       "      <td>526713</td>\n",
       "      <td>440643</td>\n",
       "      <td>349553</td>\n",
       "      <td>953823</td>\n",
       "      <td>196</td>\n",
       "      <td>531840</td>\n",
       "      <td>638544</td>\n",
       "      <td>522484</td>\n",
       "      <td>900964</td>\n",
       "      <td>492173</td>\n",
       "      <td>818120</td>\n",
       "      <td>329356</td>\n",
       "      <td>953823</td>\n",
       "      <td>870861</td>\n",
       "      <td>499676</td>\n",
       "    </tr>\n",
       "    <tr>\n",
       "      <th>173563</th>\n",
       "      <td>306731</td>\n",
       "      <td>268606</td>\n",
       "      <td>654057</td>\n",
       "      <td>877399</td>\n",
       "      <td>115061</td>\n",
       "      <td>691495</td>\n",
       "      <td>178766</td>\n",
       "      <td>349553</td>\n",
       "      <td>953823</td>\n",
       "      <td>689097</td>\n",
       "      <td>531840</td>\n",
       "      <td>638544</td>\n",
       "      <td>310918</td>\n",
       "      <td>654057</td>\n",
       "      <td>661294</td>\n",
       "      <td>189362</td>\n",
       "      <td>665304</td>\n",
       "      <td>349553</td>\n",
       "      <td>870861</td>\n",
       "      <td>499676</td>\n",
       "    </tr>\n",
       "    <tr>\n",
       "      <th>109456</th>\n",
       "      <td>349553</td>\n",
       "      <td>268606</td>\n",
       "      <td>654057</td>\n",
       "      <td>967046</td>\n",
       "      <td>20209</td>\n",
       "      <td>876244</td>\n",
       "      <td>288164</td>\n",
       "      <td>349553</td>\n",
       "      <td>654057</td>\n",
       "      <td>296993</td>\n",
       "      <td>531840</td>\n",
       "      <td>638544</td>\n",
       "      <td>553172</td>\n",
       "      <td>654057</td>\n",
       "      <td>661294</td>\n",
       "      <td>364246</td>\n",
       "      <td>665304</td>\n",
       "      <td>953823</td>\n",
       "      <td>622367</td>\n",
       "      <td>35932</td>\n",
       "    </tr>\n",
       "    <tr>\n",
       "      <th>663098</th>\n",
       "      <td>953823</td>\n",
       "      <td>268606</td>\n",
       "      <td>654057</td>\n",
       "      <td>877399</td>\n",
       "      <td>771598</td>\n",
       "      <td>691495</td>\n",
       "      <td>440643</td>\n",
       "      <td>349553</td>\n",
       "      <td>654057</td>\n",
       "      <td>568856</td>\n",
       "      <td>531840</td>\n",
       "      <td>638544</td>\n",
       "      <td>123173</td>\n",
       "      <td>654057</td>\n",
       "      <td>661294</td>\n",
       "      <td>364246</td>\n",
       "      <td>224868</td>\n",
       "      <td>349553</td>\n",
       "      <td>870861</td>\n",
       "      <td>499676</td>\n",
       "    </tr>\n",
       "    <tr>\n",
       "      <th>935228</th>\n",
       "      <td>552887</td>\n",
       "      <td>268606</td>\n",
       "      <td>654057</td>\n",
       "      <td>967046</td>\n",
       "      <td>20209</td>\n",
       "      <td>876244</td>\n",
       "      <td>288164</td>\n",
       "      <td>349553</td>\n",
       "      <td>654057</td>\n",
       "      <td>158299</td>\n",
       "      <td>531840</td>\n",
       "      <td>638544</td>\n",
       "      <td>123173</td>\n",
       "      <td>654057</td>\n",
       "      <td>661294</td>\n",
       "      <td>364246</td>\n",
       "      <td>224868</td>\n",
       "      <td>900964</td>\n",
       "      <td>103080</td>\n",
       "      <td>35932</td>\n",
       "    </tr>\n",
       "    <tr>\n",
       "      <th>190315</th>\n",
       "      <td>696320</td>\n",
       "      <td>268606</td>\n",
       "      <td>654057</td>\n",
       "      <td>967046</td>\n",
       "      <td>20209</td>\n",
       "      <td>876244</td>\n",
       "      <td>288164</td>\n",
       "      <td>349553</td>\n",
       "      <td>953823</td>\n",
       "      <td>568856</td>\n",
       "      <td>531840</td>\n",
       "      <td>638544</td>\n",
       "      <td>123173</td>\n",
       "      <td>654057</td>\n",
       "      <td>661294</td>\n",
       "      <td>364246</td>\n",
       "      <td>224868</td>\n",
       "      <td>900964</td>\n",
       "      <td>870861</td>\n",
       "      <td>35932</td>\n",
       "    </tr>\n",
       "    <tr>\n",
       "      <th>896228</th>\n",
       "      <td>900496</td>\n",
       "      <td>268606</td>\n",
       "      <td>654057</td>\n",
       "      <td>877399</td>\n",
       "      <td>979334</td>\n",
       "      <td>691495</td>\n",
       "      <td>440643</td>\n",
       "      <td>349553</td>\n",
       "      <td>654057</td>\n",
       "      <td>741405</td>\n",
       "      <td>531840</td>\n",
       "      <td>638544</td>\n",
       "      <td>49401</td>\n",
       "      <td>900964</td>\n",
       "      <td>767819</td>\n",
       "      <td>364246</td>\n",
       "      <td>900496</td>\n",
       "      <td>835245</td>\n",
       "      <td>870861</td>\n",
       "      <td>499676</td>\n",
       "    </tr>\n",
       "    <tr>\n",
       "      <th>878223</th>\n",
       "      <td>349553</td>\n",
       "      <td>268606</td>\n",
       "      <td>654057</td>\n",
       "      <td>819663</td>\n",
       "      <td>20209</td>\n",
       "      <td>876244</td>\n",
       "      <td>288164</td>\n",
       "      <td>349553</td>\n",
       "      <td>654057</td>\n",
       "      <td>98845</td>\n",
       "      <td>168340</td>\n",
       "      <td>481629</td>\n",
       "      <td>236476</td>\n",
       "      <td>953823</td>\n",
       "      <td>297699</td>\n",
       "      <td>364246</td>\n",
       "      <td>219437</td>\n",
       "      <td>785163</td>\n",
       "      <td>870861</td>\n",
       "      <td>145698</td>\n",
       "    </tr>\n",
       "    <tr>\n",
       "      <th>610584</th>\n",
       "      <td>900964</td>\n",
       "      <td>268606</td>\n",
       "      <td>654057</td>\n",
       "      <td>877399</td>\n",
       "      <td>729896</td>\n",
       "      <td>504206</td>\n",
       "      <td>440643</td>\n",
       "      <td>349553</td>\n",
       "      <td>654057</td>\n",
       "      <td>991875</td>\n",
       "      <td>531840</td>\n",
       "      <td>638544</td>\n",
       "      <td>797118</td>\n",
       "      <td>654057</td>\n",
       "      <td>661294</td>\n",
       "      <td>724348</td>\n",
       "      <td>665304</td>\n",
       "      <td>953823</td>\n",
       "      <td>870861</td>\n",
       "      <td>499676</td>\n",
       "    </tr>\n",
       "    <tr>\n",
       "      <th>109296</th>\n",
       "      <td>655329</td>\n",
       "      <td>485564</td>\n",
       "      <td>654057</td>\n",
       "      <td>877399</td>\n",
       "      <td>20209</td>\n",
       "      <td>876244</td>\n",
       "      <td>288164</td>\n",
       "      <td>654057</td>\n",
       "      <td>654057</td>\n",
       "      <td>656020</td>\n",
       "      <td>531840</td>\n",
       "      <td>638544</td>\n",
       "      <td>309898</td>\n",
       "      <td>900964</td>\n",
       "      <td>67840</td>\n",
       "      <td>571412</td>\n",
       "      <td>187294</td>\n",
       "      <td>349553</td>\n",
       "      <td>870861</td>\n",
       "      <td>1978</td>\n",
       "    </tr>\n",
       "    <tr>\n",
       "      <th>996337</th>\n",
       "      <td>900496</td>\n",
       "      <td>268606</td>\n",
       "      <td>349553</td>\n",
       "      <td>212980</td>\n",
       "      <td>20209</td>\n",
       "      <td>876244</td>\n",
       "      <td>288164</td>\n",
       "      <td>349553</td>\n",
       "      <td>654057</td>\n",
       "      <td>12508</td>\n",
       "      <td>531840</td>\n",
       "      <td>638544</td>\n",
       "      <td>407940</td>\n",
       "      <td>900964</td>\n",
       "      <td>486430</td>\n",
       "      <td>853635</td>\n",
       "      <td>306731</td>\n",
       "      <td>785163</td>\n",
       "      <td>870861</td>\n",
       "      <td>344114</td>\n",
       "    </tr>\n",
       "    <tr>\n",
       "      <th>443170</th>\n",
       "      <td>696320</td>\n",
       "      <td>268606</td>\n",
       "      <td>654057</td>\n",
       "      <td>877399</td>\n",
       "      <td>685960</td>\n",
       "      <td>505775</td>\n",
       "      <td>854896</td>\n",
       "      <td>349553</td>\n",
       "      <td>654057</td>\n",
       "      <td>241866</td>\n",
       "      <td>531840</td>\n",
       "      <td>638544</td>\n",
       "      <td>939364</td>\n",
       "      <td>900964</td>\n",
       "      <td>456671</td>\n",
       "      <td>83432</td>\n",
       "      <td>900496</td>\n",
       "      <td>900964</td>\n",
       "      <td>870861</td>\n",
       "      <td>499676</td>\n",
       "    </tr>\n",
       "    <tr>\n",
       "      <th>726542</th>\n",
       "      <td>306731</td>\n",
       "      <td>123099</td>\n",
       "      <td>349553</td>\n",
       "      <td>877399</td>\n",
       "      <td>800316</td>\n",
       "      <td>876244</td>\n",
       "      <td>440643</td>\n",
       "      <td>514253</td>\n",
       "      <td>654057</td>\n",
       "      <td>249076</td>\n",
       "      <td>531840</td>\n",
       "      <td>638544</td>\n",
       "      <td>309780</td>\n",
       "      <td>654057</td>\n",
       "      <td>802173</td>\n",
       "      <td>364246</td>\n",
       "      <td>20785</td>\n",
       "      <td>953823</td>\n",
       "      <td>870861</td>\n",
       "      <td>499676</td>\n",
       "    </tr>\n",
       "    <tr>\n",
       "      <th>630498</th>\n",
       "      <td>375430</td>\n",
       "      <td>268606</td>\n",
       "      <td>349553</td>\n",
       "      <td>212980</td>\n",
       "      <td>20209</td>\n",
       "      <td>876244</td>\n",
       "      <td>288164</td>\n",
       "      <td>349553</td>\n",
       "      <td>654057</td>\n",
       "      <td>950829</td>\n",
       "      <td>531840</td>\n",
       "      <td>638544</td>\n",
       "      <td>947909</td>\n",
       "      <td>654057</td>\n",
       "      <td>297699</td>\n",
       "      <td>269413</td>\n",
       "      <td>665304</td>\n",
       "      <td>349553</td>\n",
       "      <td>870861</td>\n",
       "      <td>523160</td>\n",
       "    </tr>\n",
       "    <tr>\n",
       "      <th>407106</th>\n",
       "      <td>900538</td>\n",
       "      <td>268606</td>\n",
       "      <td>654057</td>\n",
       "      <td>877399</td>\n",
       "      <td>685960</td>\n",
       "      <td>505775</td>\n",
       "      <td>854896</td>\n",
       "      <td>349553</td>\n",
       "      <td>654057</td>\n",
       "      <td>417124</td>\n",
       "      <td>531840</td>\n",
       "      <td>638544</td>\n",
       "      <td>435756</td>\n",
       "      <td>900964</td>\n",
       "      <td>486430</td>\n",
       "      <td>364246</td>\n",
       "      <td>306731</td>\n",
       "      <td>514253</td>\n",
       "      <td>870861</td>\n",
       "      <td>499676</td>\n",
       "    </tr>\n",
       "    <tr>\n",
       "      <th>806965</th>\n",
       "      <td>900538</td>\n",
       "      <td>268606</td>\n",
       "      <td>654057</td>\n",
       "      <td>534268</td>\n",
       "      <td>20209</td>\n",
       "      <td>876244</td>\n",
       "      <td>288164</td>\n",
       "      <td>349553</td>\n",
       "      <td>654057</td>\n",
       "      <td>138516</td>\n",
       "      <td>531840</td>\n",
       "      <td>638544</td>\n",
       "      <td>990184</td>\n",
       "      <td>900964</td>\n",
       "      <td>297699</td>\n",
       "      <td>364246</td>\n",
       "      <td>306731</td>\n",
       "      <td>514253</td>\n",
       "      <td>870861</td>\n",
       "      <td>833543</td>\n",
       "    </tr>\n",
       "    <tr>\n",
       "      <th>993122</th>\n",
       "      <td>191563</td>\n",
       "      <td>268606</td>\n",
       "      <td>654057</td>\n",
       "      <td>877399</td>\n",
       "      <td>59564</td>\n",
       "      <td>791330</td>\n",
       "      <td>440643</td>\n",
       "      <td>349553</td>\n",
       "      <td>900964</td>\n",
       "      <td>194672</td>\n",
       "      <td>531840</td>\n",
       "      <td>638544</td>\n",
       "      <td>861328</td>\n",
       "      <td>349553</td>\n",
       "      <td>874432</td>\n",
       "      <td>851092</td>\n",
       "      <td>618945</td>\n",
       "      <td>654057</td>\n",
       "      <td>870861</td>\n",
       "      <td>499676</td>\n",
       "    </tr>\n",
       "    <tr>\n",
       "      <th>931764</th>\n",
       "      <td>835245</td>\n",
       "      <td>268606</td>\n",
       "      <td>349553</td>\n",
       "      <td>212980</td>\n",
       "      <td>20209</td>\n",
       "      <td>876244</td>\n",
       "      <td>288164</td>\n",
       "      <td>349553</td>\n",
       "      <td>953823</td>\n",
       "      <td>313780</td>\n",
       "      <td>531840</td>\n",
       "      <td>638544</td>\n",
       "      <td>254918</td>\n",
       "      <td>953823</td>\n",
       "      <td>297699</td>\n",
       "      <td>83432</td>\n",
       "      <td>822964</td>\n",
       "      <td>654057</td>\n",
       "      <td>870861</td>\n",
       "      <td>832372</td>\n",
       "    </tr>\n",
       "    <tr>\n",
       "      <th>344414</th>\n",
       "      <td>953823</td>\n",
       "      <td>268606</td>\n",
       "      <td>654057</td>\n",
       "      <td>819663</td>\n",
       "      <td>20209</td>\n",
       "      <td>876244</td>\n",
       "      <td>288164</td>\n",
       "      <td>349553</td>\n",
       "      <td>654057</td>\n",
       "      <td>567673</td>\n",
       "      <td>168340</td>\n",
       "      <td>481629</td>\n",
       "      <td>346331</td>\n",
       "      <td>900964</td>\n",
       "      <td>297699</td>\n",
       "      <td>269413</td>\n",
       "      <td>306731</td>\n",
       "      <td>953823</td>\n",
       "      <td>870861</td>\n",
       "      <td>831190</td>\n",
       "    </tr>\n",
       "    <tr>\n",
       "      <th>718730</th>\n",
       "      <td>250705</td>\n",
       "      <td>123099</td>\n",
       "      <td>349553</td>\n",
       "      <td>877399</td>\n",
       "      <td>990317</td>\n",
       "      <td>876244</td>\n",
       "      <td>440643</td>\n",
       "      <td>835245</td>\n",
       "      <td>654057</td>\n",
       "      <td>249076</td>\n",
       "      <td>531840</td>\n",
       "      <td>638544</td>\n",
       "      <td>309780</td>\n",
       "      <td>654057</td>\n",
       "      <td>802173</td>\n",
       "      <td>717280</td>\n",
       "      <td>20785</td>\n",
       "      <td>953823</td>\n",
       "      <td>870861</td>\n",
       "      <td>499676</td>\n",
       "    </tr>\n",
       "    <tr>\n",
       "      <th>212912</th>\n",
       "      <td>903358</td>\n",
       "      <td>268606</td>\n",
       "      <td>654057</td>\n",
       "      <td>877399</td>\n",
       "      <td>175561</td>\n",
       "      <td>791330</td>\n",
       "      <td>854896</td>\n",
       "      <td>349553</td>\n",
       "      <td>654057</td>\n",
       "      <td>340731</td>\n",
       "      <td>531840</td>\n",
       "      <td>638544</td>\n",
       "      <td>615247</td>\n",
       "      <td>654057</td>\n",
       "      <td>219437</td>\n",
       "      <td>938002</td>\n",
       "      <td>869511</td>\n",
       "      <td>900964</td>\n",
       "      <td>870861</td>\n",
       "      <td>499676</td>\n",
       "    </tr>\n",
       "    <tr>\n",
       "      <th>65615</th>\n",
       "      <td>785163</td>\n",
       "      <td>268606</td>\n",
       "      <td>349553</td>\n",
       "      <td>212980</td>\n",
       "      <td>20209</td>\n",
       "      <td>876244</td>\n",
       "      <td>288164</td>\n",
       "      <td>349553</td>\n",
       "      <td>654057</td>\n",
       "      <td>770830</td>\n",
       "      <td>531840</td>\n",
       "      <td>638544</td>\n",
       "      <td>840779</td>\n",
       "      <td>654057</td>\n",
       "      <td>378222</td>\n",
       "      <td>364246</td>\n",
       "      <td>31791</td>\n",
       "      <td>514253</td>\n",
       "      <td>870861</td>\n",
       "      <td>35762</td>\n",
       "    </tr>\n",
       "    <tr>\n",
       "      <th>864087</th>\n",
       "      <td>250705</td>\n",
       "      <td>268606</td>\n",
       "      <td>349553</td>\n",
       "      <td>967046</td>\n",
       "      <td>20209</td>\n",
       "      <td>876244</td>\n",
       "      <td>288164</td>\n",
       "      <td>349553</td>\n",
       "      <td>654057</td>\n",
       "      <td>568856</td>\n",
       "      <td>531840</td>\n",
       "      <td>638544</td>\n",
       "      <td>123173</td>\n",
       "      <td>654057</td>\n",
       "      <td>661294</td>\n",
       "      <td>364246</td>\n",
       "      <td>224868</td>\n",
       "      <td>900964</td>\n",
       "      <td>870861</td>\n",
       "      <td>535006</td>\n",
       "    </tr>\n",
       "    <tr>\n",
       "      <th>778087</th>\n",
       "      <td>527908</td>\n",
       "      <td>268606</td>\n",
       "      <td>654057</td>\n",
       "      <td>877399</td>\n",
       "      <td>631033</td>\n",
       "      <td>691495</td>\n",
       "      <td>440643</td>\n",
       "      <td>349553</td>\n",
       "      <td>654057</td>\n",
       "      <td>306301</td>\n",
       "      <td>531840</td>\n",
       "      <td>638544</td>\n",
       "      <td>797118</td>\n",
       "      <td>654057</td>\n",
       "      <td>661294</td>\n",
       "      <td>642322</td>\n",
       "      <td>665304</td>\n",
       "      <td>349553</td>\n",
       "      <td>870861</td>\n",
       "      <td>499676</td>\n",
       "    </tr>\n",
       "    <tr>\n",
       "      <th>210755</th>\n",
       "      <td>191563</td>\n",
       "      <td>268606</td>\n",
       "      <td>654057</td>\n",
       "      <td>212980</td>\n",
       "      <td>20209</td>\n",
       "      <td>876244</td>\n",
       "      <td>288164</td>\n",
       "      <td>349553</td>\n",
       "      <td>654057</td>\n",
       "      <td>541576</td>\n",
       "      <td>531840</td>\n",
       "      <td>638544</td>\n",
       "      <td>462999</td>\n",
       "      <td>654057</td>\n",
       "      <td>297699</td>\n",
       "      <td>364246</td>\n",
       "      <td>995114</td>\n",
       "      <td>953823</td>\n",
       "      <td>870861</td>\n",
       "      <td>525089</td>\n",
       "    </tr>\n",
       "    <tr>\n",
       "      <th>56088</th>\n",
       "      <td>19727</td>\n",
       "      <td>268606</td>\n",
       "      <td>349553</td>\n",
       "      <td>819663</td>\n",
       "      <td>20209</td>\n",
       "      <td>876244</td>\n",
       "      <td>288164</td>\n",
       "      <td>349553</td>\n",
       "      <td>654057</td>\n",
       "      <td>311606</td>\n",
       "      <td>531840</td>\n",
       "      <td>638544</td>\n",
       "      <td>190568</td>\n",
       "      <td>654057</td>\n",
       "      <td>661294</td>\n",
       "      <td>141170</td>\n",
       "      <td>665304</td>\n",
       "      <td>953823</td>\n",
       "      <td>870861</td>\n",
       "      <td>329549</td>\n",
       "    </tr>\n",
       "    <tr>\n",
       "      <th>824840</th>\n",
       "      <td>785163</td>\n",
       "      <td>268606</td>\n",
       "      <td>654057</td>\n",
       "      <td>967046</td>\n",
       "      <td>20209</td>\n",
       "      <td>876244</td>\n",
       "      <td>288164</td>\n",
       "      <td>349553</td>\n",
       "      <td>654057</td>\n",
       "      <td>632806</td>\n",
       "      <td>531840</td>\n",
       "      <td>638544</td>\n",
       "      <td>123173</td>\n",
       "      <td>654057</td>\n",
       "      <td>661294</td>\n",
       "      <td>792962</td>\n",
       "      <td>224868</td>\n",
       "      <td>349553</td>\n",
       "      <td>870861</td>\n",
       "      <td>35932</td>\n",
       "    </tr>\n",
       "  </tbody>\n",
       "</table>\n",
       "<p>900000 rows × 20 columns</p>\n",
       "</div>"
      ],
      "text/plain": [
       "          hour      C1  banner_pos  site_category  app_id  app_domain  \\\n",
       "92438   375430  123099      349553         877399  557830      876244   \n",
       "60898   903358  268606      654057         877399  377863      691495   \n",
       "556199  514253  268606      654057         212980   20209      876244   \n",
       "193129  527908  268606      349553         212980   20209      876244   \n",
       "231985  655329  268606      654057         967046   20209      876244   \n",
       "235945  900964  268606      349553         212980   20209      876244   \n",
       "622676  900538  268606      654057         967046   20209      876244   \n",
       "426950  184880  268606      654057         819663   20209      876244   \n",
       "115855  349553  268606      349553         212980   20209      876244   \n",
       "594467  191563  268606      654057         967046   20209      876244   \n",
       "588842  250705  268606      654057         877399  115061      691495   \n",
       "418668  903358  268606      654057         877399   59564      791330   \n",
       "235283  514253  268606      654057         877399  665466      691495   \n",
       "664370  184880  268606      349553         212980   20209      876244   \n",
       "379858  835245  268606      654057         212980   20209      876244   \n",
       "943479  552887  268606      654057         967046   20209      876244   \n",
       "357318  527908  268606      654057         877399  710709      333149   \n",
       "618206  191563  268606      349553         212980   20209      876244   \n",
       "218154  191563  268606      654057         967046   20209      876244   \n",
       "383144  902726  268606      349553         212980   20209      876244   \n",
       "589729  527908  268606      654057         877399  327577      412087   \n",
       "1867    655329  268606      654057         877399  698209      587617   \n",
       "223984  900964  268606      654057         967046   20209      876244   \n",
       "297246  655329  268606      654057         212980   20209      876244   \n",
       "726814  184880  268606      349553         212980   20209      876244   \n",
       "640745  250705  268606      349553         212980   20209      876244   \n",
       "819085  552887  268606      654057         877399   59564      791330   \n",
       "18831   514253  268606      654057         877399  233534      186429   \n",
       "920255  655329  268606      349553         212980   20209      876244   \n",
       "564162  900538  268606      349553         212980   20209      876244   \n",
       "...        ...     ...         ...            ...     ...         ...   \n",
       "215426  184880  268606      654057         877399   59564      791330   \n",
       "923734  250705  268606      654057         877399  585076      412087   \n",
       "867421   19727  268606      654057         212980   20209      876244   \n",
       "956041  514253  255979      654057         877399  492565      526713   \n",
       "173563  306731  268606      654057         877399  115061      691495   \n",
       "109456  349553  268606      654057         967046   20209      876244   \n",
       "663098  953823  268606      654057         877399  771598      691495   \n",
       "935228  552887  268606      654057         967046   20209      876244   \n",
       "190315  696320  268606      654057         967046   20209      876244   \n",
       "896228  900496  268606      654057         877399  979334      691495   \n",
       "878223  349553  268606      654057         819663   20209      876244   \n",
       "610584  900964  268606      654057         877399  729896      504206   \n",
       "109296  655329  485564      654057         877399   20209      876244   \n",
       "996337  900496  268606      349553         212980   20209      876244   \n",
       "443170  696320  268606      654057         877399  685960      505775   \n",
       "726542  306731  123099      349553         877399  800316      876244   \n",
       "630498  375430  268606      349553         212980   20209      876244   \n",
       "407106  900538  268606      654057         877399  685960      505775   \n",
       "806965  900538  268606      654057         534268   20209      876244   \n",
       "993122  191563  268606      654057         877399   59564      791330   \n",
       "931764  835245  268606      349553         212980   20209      876244   \n",
       "344414  953823  268606      654057         819663   20209      876244   \n",
       "718730  250705  123099      349553         877399  990317      876244   \n",
       "212912  903358  268606      654057         877399  175561      791330   \n",
       "65615   785163  268606      349553         212980   20209      876244   \n",
       "864087  250705  268606      349553         967046   20209      876244   \n",
       "778087  527908  268606      654057         877399  631033      691495   \n",
       "210755  191563  268606      654057         212980   20209      876244   \n",
       "56088    19727  268606      349553         819663   20209      876244   \n",
       "824840  785163  268606      654057         967046   20209      876244   \n",
       "\n",
       "        app_category  device_type  device_conn_type     C14     C15     C16  \\\n",
       "92438         440643       514253            900964  632806  531840  638544   \n",
       "60898         196724       349553            953823  632806  531840  638544   \n",
       "556199        288164       349553            953823  233380  531840  638544   \n",
       "193129        288164       349553            654057   47728  531840  638544   \n",
       "231985        288164       349553            654057  398473  531840  638544   \n",
       "235945        288164       349553            654057  490884  531840  638544   \n",
       "622676        288164       349553            654057  293988  531840  638544   \n",
       "426950        288164       349553            654057   12508  531840  638544   \n",
       "115855        288164       349553            654057  772667  531840  638544   \n",
       "594467        288164       349553            654057  398473  531840  638544   \n",
       "588842        178766       349553            654057   62497  531840  638544   \n",
       "418668        440643       349553            900964  194672  531840  638544   \n",
       "235283        178766       349553            654057  100115  531840  638544   \n",
       "664370        288164       349553            654057  313780  531840  638544   \n",
       "379858        288164       349553            654057  658851  531840  638544   \n",
       "943479        288164       349553            654057  180681  531840  638544   \n",
       "357318        898159       349553            654057  241756  531840  638544   \n",
       "618206        288164       349553            654057  372900  531840  638544   \n",
       "218154        288164       349553            654057  701069  531840  638544   \n",
       "383144        288164       349553            654057  676353  531840  638544   \n",
       "589729        440643       349553            654057  340731  531840  638544   \n",
       "1867          854896       349553            654057   81109  531840  638544   \n",
       "223984        288164       349553            654057  701069  531840  638544   \n",
       "297246        288164       349553            654057  897963  531840  638544   \n",
       "726814        288164       349553            654057  320755  531840  638544   \n",
       "640745        288164       349553            654057  799947  531840  638544   \n",
       "819085        440643       349553            900964  991845  531840  638544   \n",
       "18831         440643       349553            654057  731284  531840  638544   \n",
       "920255        288164       349553            654057    5544  531840  638544   \n",
       "564162        288164       349553            953823  918634  531840  638544   \n",
       "...              ...          ...               ...     ...     ...     ...   \n",
       "215426        440643       349553            900964  194672  531840  638544   \n",
       "923734        440643       349553            654057  866235  531840  638544   \n",
       "867421        288164       349553            953823  270791  531840  638544   \n",
       "956041        440643       349553            953823     196  531840  638544   \n",
       "173563        178766       349553            953823  689097  531840  638544   \n",
       "109456        288164       349553            654057  296993  531840  638544   \n",
       "663098        440643       349553            654057  568856  531840  638544   \n",
       "935228        288164       349553            654057  158299  531840  638544   \n",
       "190315        288164       349553            953823  568856  531840  638544   \n",
       "896228        440643       349553            654057  741405  531840  638544   \n",
       "878223        288164       349553            654057   98845  168340  481629   \n",
       "610584        440643       349553            654057  991875  531840  638544   \n",
       "109296        288164       654057            654057  656020  531840  638544   \n",
       "996337        288164       349553            654057   12508  531840  638544   \n",
       "443170        854896       349553            654057  241866  531840  638544   \n",
       "726542        440643       514253            654057  249076  531840  638544   \n",
       "630498        288164       349553            654057  950829  531840  638544   \n",
       "407106        854896       349553            654057  417124  531840  638544   \n",
       "806965        288164       349553            654057  138516  531840  638544   \n",
       "993122        440643       349553            900964  194672  531840  638544   \n",
       "931764        288164       349553            953823  313780  531840  638544   \n",
       "344414        288164       349553            654057  567673  168340  481629   \n",
       "718730        440643       835245            654057  249076  531840  638544   \n",
       "212912        854896       349553            654057  340731  531840  638544   \n",
       "65615         288164       349553            654057  770830  531840  638544   \n",
       "864087        288164       349553            654057  568856  531840  638544   \n",
       "778087        440643       349553            654057  306301  531840  638544   \n",
       "210755        288164       349553            654057  541576  531840  638544   \n",
       "56088         288164       349553            654057  311606  531840  638544   \n",
       "824840        288164       349553            654057  632806  531840  638544   \n",
       "\n",
       "           C17     C18     C19     C20     C21  weekday    user    site  \n",
       "92438   123173  654057  661294  364246  224868   654057  870861  499676  \n",
       "60898   123173  654057  661294  364246  224868   349553  870861  499676  \n",
       "556199  361431  654057  647404  364246  202768   654057  870861  221133  \n",
       "193129  139395  654057  999024  141170   31791   349553  870861  523160  \n",
       "231985  123173  654057  661294  792962  224868   785163  870861   35932  \n",
       "235945  728068  953823  658279  364246  219437   514253  870861  658863  \n",
       "622676  123173  654057  661294  792962  224868   953823  870861   35932  \n",
       "426950  407940  900964  486430  141170  306731   835245  870861  669929  \n",
       "115855  947909  654057  297699  364246  665304   953823  870861  457015  \n",
       "594467  123173  654057  661294  792962  224868   654057  870861   35932  \n",
       "588842  461934  900964  492173   28083  329356   654057  870861  499676  \n",
       "418668  861328  349553  874432  209127  618945   349553  870861  499676  \n",
       "235283   81866  349553  502202  364246  567002   349553  870861  499676  \n",
       "664370  254918  953823  297699  364246  822964   835245  870861  832372  \n",
       "379858  832314  900964   79079  367805   20785   900964   64478  749783  \n",
       "943479  762113  953823  661294  364246  822964   900964  870861   35932  \n",
       "357318  150546  900964   67840  367805   20785   514253  259357  499676  \n",
       "618206   95789  900964  297699  364246  306731   349553  870861  832372  \n",
       "218154  191865  953823  456671  364246  608978   349553  870861   35932  \n",
       "383144   54959  900964  297699  364246  306731   349553  870861   35762  \n",
       "589729  615247  654057  219437  364246  869511   900964  654663  499676  \n",
       "1867    648418  654057  661294  364246  995114   953823  870861  499676  \n",
       "223984  191865  953823  767819  756418  608978   514253  870861   35932  \n",
       "297246  796213  900964  297699  364246  306731   785163  870861  658863  \n",
       "726814  823795  900964  297699  364246  306731   900964  870861  168173  \n",
       "640745  947909  654057  297699  933113  665304   349553  870861  523160  \n",
       "819085  861328  349553  874432  209127  618945   514253  870861  499676  \n",
       "18831   127822  900964  405938  948437  750964   900964  870861  499676  \n",
       "920255  938970  953823  297699   83432  306731   900964  870861  832372  \n",
       "564162  728068  953823  658279  792962  219437   349553  870861  658863  \n",
       "...        ...     ...     ...     ...     ...      ...     ...     ...  \n",
       "215426  861328  349553  874432  851092  618945   349553  870861  499676  \n",
       "923734  497807  654057  368950  276806  292614   654057  870861  499676  \n",
       "867421  112684  654057  661294  880248  224868   900964  870861  968376  \n",
       "956041  522484  900964  492173  818120  329356   953823  870861  499676  \n",
       "173563  310918  654057  661294  189362  665304   349553  870861  499676  \n",
       "109456  553172  654057  661294  364246  665304   953823  622367   35932  \n",
       "663098  123173  654057  661294  364246  224868   349553  870861  499676  \n",
       "935228  123173  654057  661294  364246  224868   900964  103080   35932  \n",
       "190315  123173  654057  661294  364246  224868   900964  870861   35932  \n",
       "896228   49401  900964  767819  364246  900496   835245  870861  499676  \n",
       "878223  236476  953823  297699  364246  219437   785163  870861  145698  \n",
       "610584  797118  654057  661294  724348  665304   953823  870861  499676  \n",
       "109296  309898  900964   67840  571412  187294   349553  870861    1978  \n",
       "996337  407940  900964  486430  853635  306731   785163  870861  344114  \n",
       "443170  939364  900964  456671   83432  900496   900964  870861  499676  \n",
       "726542  309780  654057  802173  364246   20785   953823  870861  499676  \n",
       "630498  947909  654057  297699  269413  665304   349553  870861  523160  \n",
       "407106  435756  900964  486430  364246  306731   514253  870861  499676  \n",
       "806965  990184  900964  297699  364246  306731   514253  870861  833543  \n",
       "993122  861328  349553  874432  851092  618945   654057  870861  499676  \n",
       "931764  254918  953823  297699   83432  822964   654057  870861  832372  \n",
       "344414  346331  900964  297699  269413  306731   953823  870861  831190  \n",
       "718730  309780  654057  802173  717280   20785   953823  870861  499676  \n",
       "212912  615247  654057  219437  938002  869511   900964  870861  499676  \n",
       "65615   840779  654057  378222  364246   31791   514253  870861   35762  \n",
       "864087  123173  654057  661294  364246  224868   900964  870861  535006  \n",
       "778087  797118  654057  661294  642322  665304   349553  870861  499676  \n",
       "210755  462999  654057  297699  364246  995114   953823  870861  525089  \n",
       "56088   190568  654057  661294  141170  665304   953823  870861  329549  \n",
       "824840  123173  654057  661294  792962  224868   349553  870861   35932  \n",
       "\n",
       "[900000 rows x 20 columns]"
      ]
     },
     "execution_count": 105,
     "metadata": {},
     "output_type": "execute_result"
    }
   ],
   "source": [
    "Xtrain_ha"
   ]
  },
  {
   "cell_type": "code",
   "execution_count": 106,
   "metadata": {
    "ExecuteTime": {
     "end_time": "2019-01-05T18:43:56.152628Z",
     "start_time": "2019-01-05T18:43:56.091401Z"
    }
   },
   "outputs": [
    {
     "data": {
      "text/html": [
       "<div>\n",
       "<style scoped>\n",
       "    .dataframe tbody tr th:only-of-type {\n",
       "        vertical-align: middle;\n",
       "    }\n",
       "\n",
       "    .dataframe tbody tr th {\n",
       "        vertical-align: top;\n",
       "    }\n",
       "\n",
       "    .dataframe thead th {\n",
       "        text-align: right;\n",
       "    }\n",
       "</style>\n",
       "<table border=\"1\" class=\"dataframe\">\n",
       "  <thead>\n",
       "    <tr style=\"text-align: right;\">\n",
       "      <th></th>\n",
       "      <th>hour</th>\n",
       "      <th>C1</th>\n",
       "      <th>banner_pos</th>\n",
       "      <th>site_category</th>\n",
       "      <th>app_id</th>\n",
       "      <th>app_domain</th>\n",
       "      <th>app_category</th>\n",
       "      <th>device_type</th>\n",
       "      <th>device_conn_type</th>\n",
       "      <th>C14</th>\n",
       "      <th>C15</th>\n",
       "      <th>C16</th>\n",
       "      <th>C17</th>\n",
       "      <th>C18</th>\n",
       "      <th>C19</th>\n",
       "      <th>C20</th>\n",
       "      <th>C21</th>\n",
       "      <th>weekday</th>\n",
       "      <th>user</th>\n",
       "      <th>site</th>\n",
       "    </tr>\n",
       "  </thead>\n",
       "  <tbody>\n",
       "    <tr>\n",
       "      <th>617759</th>\n",
       "      <td>785163</td>\n",
       "      <td>268606</td>\n",
       "      <td>349553</td>\n",
       "      <td>212980</td>\n",
       "      <td>20209</td>\n",
       "      <td>876244</td>\n",
       "      <td>288164</td>\n",
       "      <td>349553</td>\n",
       "      <td>654057</td>\n",
       "      <td>313780</td>\n",
       "      <td>531840</td>\n",
       "      <td>638544</td>\n",
       "      <td>254918</td>\n",
       "      <td>953823</td>\n",
       "      <td>297699</td>\n",
       "      <td>364246</td>\n",
       "      <td>822964</td>\n",
       "      <td>900964</td>\n",
       "      <td>870861</td>\n",
       "      <td>832372</td>\n",
       "    </tr>\n",
       "    <tr>\n",
       "      <th>693227</th>\n",
       "      <td>375430</td>\n",
       "      <td>268606</td>\n",
       "      <td>654057</td>\n",
       "      <td>967046</td>\n",
       "      <td>20209</td>\n",
       "      <td>876244</td>\n",
       "      <td>288164</td>\n",
       "      <td>349553</td>\n",
       "      <td>654057</td>\n",
       "      <td>205739</td>\n",
       "      <td>531840</td>\n",
       "      <td>638544</td>\n",
       "      <td>712429</td>\n",
       "      <td>953823</td>\n",
       "      <td>451756</td>\n",
       "      <td>972731</td>\n",
       "      <td>608978</td>\n",
       "      <td>953823</td>\n",
       "      <td>870861</td>\n",
       "      <td>860737</td>\n",
       "    </tr>\n",
       "    <tr>\n",
       "      <th>906065</th>\n",
       "      <td>900538</td>\n",
       "      <td>268606</td>\n",
       "      <td>349553</td>\n",
       "      <td>212980</td>\n",
       "      <td>20209</td>\n",
       "      <td>876244</td>\n",
       "      <td>288164</td>\n",
       "      <td>349553</td>\n",
       "      <td>654057</td>\n",
       "      <td>137242</td>\n",
       "      <td>531840</td>\n",
       "      <td>638544</td>\n",
       "      <td>517585</td>\n",
       "      <td>900964</td>\n",
       "      <td>661294</td>\n",
       "      <td>367805</td>\n",
       "      <td>655329</td>\n",
       "      <td>835245</td>\n",
       "      <td>870861</td>\n",
       "      <td>523160</td>\n",
       "    </tr>\n",
       "    <tr>\n",
       "      <th>828507</th>\n",
       "      <td>785163</td>\n",
       "      <td>268606</td>\n",
       "      <td>654057</td>\n",
       "      <td>877399</td>\n",
       "      <td>824116</td>\n",
       "      <td>691495</td>\n",
       "      <td>440643</td>\n",
       "      <td>349553</td>\n",
       "      <td>654057</td>\n",
       "      <td>731284</td>\n",
       "      <td>531840</td>\n",
       "      <td>638544</td>\n",
       "      <td>127822</td>\n",
       "      <td>900964</td>\n",
       "      <td>405938</td>\n",
       "      <td>608800</td>\n",
       "      <td>750964</td>\n",
       "      <td>900964</td>\n",
       "      <td>870861</td>\n",
       "      <td>499676</td>\n",
       "    </tr>\n",
       "    <tr>\n",
       "      <th>869730</th>\n",
       "      <td>375430</td>\n",
       "      <td>485564</td>\n",
       "      <td>654057</td>\n",
       "      <td>877399</td>\n",
       "      <td>20209</td>\n",
       "      <td>876244</td>\n",
       "      <td>288164</td>\n",
       "      <td>654057</td>\n",
       "      <td>654057</td>\n",
       "      <td>922008</td>\n",
       "      <td>531840</td>\n",
       "      <td>638544</td>\n",
       "      <td>596154</td>\n",
       "      <td>953823</td>\n",
       "      <td>297699</td>\n",
       "      <td>364246</td>\n",
       "      <td>822964</td>\n",
       "      <td>953823</td>\n",
       "      <td>870861</td>\n",
       "      <td>988158</td>\n",
       "    </tr>\n",
       "    <tr>\n",
       "      <th>147081</th>\n",
       "      <td>900538</td>\n",
       "      <td>268606</td>\n",
       "      <td>349553</td>\n",
       "      <td>212980</td>\n",
       "      <td>20209</td>\n",
       "      <td>876244</td>\n",
       "      <td>288164</td>\n",
       "      <td>349553</td>\n",
       "      <td>654057</td>\n",
       "      <td>927541</td>\n",
       "      <td>531840</td>\n",
       "      <td>638544</td>\n",
       "      <td>999081</td>\n",
       "      <td>900964</td>\n",
       "      <td>292409</td>\n",
       "      <td>423794</td>\n",
       "      <td>818456</td>\n",
       "      <td>785163</td>\n",
       "      <td>870861</td>\n",
       "      <td>533643</td>\n",
       "    </tr>\n",
       "    <tr>\n",
       "      <th>779428</th>\n",
       "      <td>184880</td>\n",
       "      <td>268606</td>\n",
       "      <td>654057</td>\n",
       "      <td>877399</td>\n",
       "      <td>729896</td>\n",
       "      <td>504206</td>\n",
       "      <td>440643</td>\n",
       "      <td>349553</td>\n",
       "      <td>953823</td>\n",
       "      <td>81109</td>\n",
       "      <td>531840</td>\n",
       "      <td>638544</td>\n",
       "      <td>648418</td>\n",
       "      <td>654057</td>\n",
       "      <td>661294</td>\n",
       "      <td>364246</td>\n",
       "      <td>995114</td>\n",
       "      <td>953823</td>\n",
       "      <td>870861</td>\n",
       "      <td>499676</td>\n",
       "    </tr>\n",
       "    <tr>\n",
       "      <th>485973</th>\n",
       "      <td>835245</td>\n",
       "      <td>268606</td>\n",
       "      <td>654057</td>\n",
       "      <td>212980</td>\n",
       "      <td>20209</td>\n",
       "      <td>876244</td>\n",
       "      <td>288164</td>\n",
       "      <td>349553</td>\n",
       "      <td>654057</td>\n",
       "      <td>475726</td>\n",
       "      <td>531840</td>\n",
       "      <td>638544</td>\n",
       "      <td>310918</td>\n",
       "      <td>654057</td>\n",
       "      <td>661294</td>\n",
       "      <td>807966</td>\n",
       "      <td>665304</td>\n",
       "      <td>953823</td>\n",
       "      <td>870861</td>\n",
       "      <td>749783</td>\n",
       "    </tr>\n",
       "    <tr>\n",
       "      <th>30697</th>\n",
       "      <td>448589</td>\n",
       "      <td>268606</td>\n",
       "      <td>349553</td>\n",
       "      <td>212980</td>\n",
       "      <td>20209</td>\n",
       "      <td>876244</td>\n",
       "      <td>288164</td>\n",
       "      <td>349553</td>\n",
       "      <td>654057</td>\n",
       "      <td>294617</td>\n",
       "      <td>531840</td>\n",
       "      <td>638544</td>\n",
       "      <td>999081</td>\n",
       "      <td>900964</td>\n",
       "      <td>292409</td>\n",
       "      <td>423794</td>\n",
       "      <td>818456</td>\n",
       "      <td>785163</td>\n",
       "      <td>870861</td>\n",
       "      <td>832372</td>\n",
       "    </tr>\n",
       "    <tr>\n",
       "      <th>306669</th>\n",
       "      <td>375430</td>\n",
       "      <td>268606</td>\n",
       "      <td>654057</td>\n",
       "      <td>877399</td>\n",
       "      <td>932523</td>\n",
       "      <td>691495</td>\n",
       "      <td>854896</td>\n",
       "      <td>349553</td>\n",
       "      <td>953823</td>\n",
       "      <td>23315</td>\n",
       "      <td>531840</td>\n",
       "      <td>638544</td>\n",
       "      <td>625743</td>\n",
       "      <td>654057</td>\n",
       "      <td>378222</td>\n",
       "      <td>20187</td>\n",
       "      <td>31791</td>\n",
       "      <td>900964</td>\n",
       "      <td>870861</td>\n",
       "      <td>499676</td>\n",
       "    </tr>\n",
       "    <tr>\n",
       "      <th>800205</th>\n",
       "      <td>19727</td>\n",
       "      <td>268606</td>\n",
       "      <td>654057</td>\n",
       "      <td>877399</td>\n",
       "      <td>771598</td>\n",
       "      <td>691495</td>\n",
       "      <td>440643</td>\n",
       "      <td>349553</td>\n",
       "      <td>654057</td>\n",
       "      <td>424179</td>\n",
       "      <td>531840</td>\n",
       "      <td>638544</td>\n",
       "      <td>123173</td>\n",
       "      <td>654057</td>\n",
       "      <td>661294</td>\n",
       "      <td>792962</td>\n",
       "      <td>224868</td>\n",
       "      <td>900964</td>\n",
       "      <td>870861</td>\n",
       "      <td>499676</td>\n",
       "    </tr>\n",
       "    <tr>\n",
       "      <th>654773</th>\n",
       "      <td>900538</td>\n",
       "      <td>268606</td>\n",
       "      <td>654057</td>\n",
       "      <td>877399</td>\n",
       "      <td>353057</td>\n",
       "      <td>691495</td>\n",
       "      <td>100009</td>\n",
       "      <td>349553</td>\n",
       "      <td>953823</td>\n",
       "      <td>161003</td>\n",
       "      <td>531840</td>\n",
       "      <td>638544</td>\n",
       "      <td>517860</td>\n",
       "      <td>654057</td>\n",
       "      <td>230628</td>\n",
       "      <td>364246</td>\n",
       "      <td>665304</td>\n",
       "      <td>900964</td>\n",
       "      <td>870861</td>\n",
       "      <td>499676</td>\n",
       "    </tr>\n",
       "    <tr>\n",
       "      <th>251217</th>\n",
       "      <td>902726</td>\n",
       "      <td>268606</td>\n",
       "      <td>654057</td>\n",
       "      <td>967046</td>\n",
       "      <td>20209</td>\n",
       "      <td>876244</td>\n",
       "      <td>288164</td>\n",
       "      <td>349553</td>\n",
       "      <td>654057</td>\n",
       "      <td>910189</td>\n",
       "      <td>531840</td>\n",
       "      <td>638544</td>\n",
       "      <td>258415</td>\n",
       "      <td>654057</td>\n",
       "      <td>486430</td>\n",
       "      <td>792962</td>\n",
       "      <td>665304</td>\n",
       "      <td>349553</td>\n",
       "      <td>870861</td>\n",
       "      <td>35932</td>\n",
       "    </tr>\n",
       "    <tr>\n",
       "      <th>576951</th>\n",
       "      <td>306731</td>\n",
       "      <td>268606</td>\n",
       "      <td>654057</td>\n",
       "      <td>967046</td>\n",
       "      <td>20209</td>\n",
       "      <td>876244</td>\n",
       "      <td>288164</td>\n",
       "      <td>349553</td>\n",
       "      <td>654057</td>\n",
       "      <td>740707</td>\n",
       "      <td>168340</td>\n",
       "      <td>481629</td>\n",
       "      <td>54959</td>\n",
       "      <td>900964</td>\n",
       "      <td>297699</td>\n",
       "      <td>608800</td>\n",
       "      <td>306731</td>\n",
       "      <td>349553</td>\n",
       "      <td>870861</td>\n",
       "      <td>752248</td>\n",
       "    </tr>\n",
       "    <tr>\n",
       "      <th>104218</th>\n",
       "      <td>552887</td>\n",
       "      <td>268606</td>\n",
       "      <td>349553</td>\n",
       "      <td>212980</td>\n",
       "      <td>20209</td>\n",
       "      <td>876244</td>\n",
       "      <td>288164</td>\n",
       "      <td>349553</td>\n",
       "      <td>654057</td>\n",
       "      <td>942025</td>\n",
       "      <td>531840</td>\n",
       "      <td>638544</td>\n",
       "      <td>931699</td>\n",
       "      <td>953823</td>\n",
       "      <td>297699</td>\n",
       "      <td>313473</td>\n",
       "      <td>655329</td>\n",
       "      <td>835245</td>\n",
       "      <td>870861</td>\n",
       "      <td>164504</td>\n",
       "    </tr>\n",
       "    <tr>\n",
       "      <th>509042</th>\n",
       "      <td>250705</td>\n",
       "      <td>268606</td>\n",
       "      <td>349553</td>\n",
       "      <td>212980</td>\n",
       "      <td>20209</td>\n",
       "      <td>876244</td>\n",
       "      <td>288164</td>\n",
       "      <td>349553</td>\n",
       "      <td>654057</td>\n",
       "      <td>830356</td>\n",
       "      <td>531840</td>\n",
       "      <td>638544</td>\n",
       "      <td>49804</td>\n",
       "      <td>900964</td>\n",
       "      <td>402027</td>\n",
       "      <td>367805</td>\n",
       "      <td>329356</td>\n",
       "      <td>953823</td>\n",
       "      <td>94516</td>\n",
       "      <td>533643</td>\n",
       "    </tr>\n",
       "    <tr>\n",
       "      <th>65650</th>\n",
       "      <td>375430</td>\n",
       "      <td>268606</td>\n",
       "      <td>654057</td>\n",
       "      <td>967046</td>\n",
       "      <td>20209</td>\n",
       "      <td>876244</td>\n",
       "      <td>288164</td>\n",
       "      <td>349553</td>\n",
       "      <td>953823</td>\n",
       "      <td>541409</td>\n",
       "      <td>531840</td>\n",
       "      <td>638544</td>\n",
       "      <td>258415</td>\n",
       "      <td>654057</td>\n",
       "      <td>399500</td>\n",
       "      <td>792962</td>\n",
       "      <td>665304</td>\n",
       "      <td>900964</td>\n",
       "      <td>870861</td>\n",
       "      <td>35932</td>\n",
       "    </tr>\n",
       "    <tr>\n",
       "      <th>306958</th>\n",
       "      <td>972495</td>\n",
       "      <td>268606</td>\n",
       "      <td>654057</td>\n",
       "      <td>877399</td>\n",
       "      <td>109830</td>\n",
       "      <td>691495</td>\n",
       "      <td>440643</td>\n",
       "      <td>349553</td>\n",
       "      <td>654057</td>\n",
       "      <td>650560</td>\n",
       "      <td>168340</td>\n",
       "      <td>481629</td>\n",
       "      <td>344910</td>\n",
       "      <td>953823</td>\n",
       "      <td>297699</td>\n",
       "      <td>364246</td>\n",
       "      <td>306731</td>\n",
       "      <td>785163</td>\n",
       "      <td>870861</td>\n",
       "      <td>499676</td>\n",
       "    </tr>\n",
       "    <tr>\n",
       "      <th>951890</th>\n",
       "      <td>375430</td>\n",
       "      <td>268606</td>\n",
       "      <td>654057</td>\n",
       "      <td>877399</td>\n",
       "      <td>771598</td>\n",
       "      <td>691495</td>\n",
       "      <td>440643</td>\n",
       "      <td>349553</td>\n",
       "      <td>654057</td>\n",
       "      <td>424179</td>\n",
       "      <td>531840</td>\n",
       "      <td>638544</td>\n",
       "      <td>123173</td>\n",
       "      <td>654057</td>\n",
       "      <td>661294</td>\n",
       "      <td>364246</td>\n",
       "      <td>224868</td>\n",
       "      <td>953823</td>\n",
       "      <td>870861</td>\n",
       "      <td>499676</td>\n",
       "    </tr>\n",
       "    <tr>\n",
       "      <th>334987</th>\n",
       "      <td>19727</td>\n",
       "      <td>268606</td>\n",
       "      <td>349553</td>\n",
       "      <td>212980</td>\n",
       "      <td>20209</td>\n",
       "      <td>876244</td>\n",
       "      <td>288164</td>\n",
       "      <td>349553</td>\n",
       "      <td>654057</td>\n",
       "      <td>420748</td>\n",
       "      <td>531840</td>\n",
       "      <td>638544</td>\n",
       "      <td>502202</td>\n",
       "      <td>900964</td>\n",
       "      <td>230628</td>\n",
       "      <td>364246</td>\n",
       "      <td>306731</td>\n",
       "      <td>835245</td>\n",
       "      <td>870861</td>\n",
       "      <td>658863</td>\n",
       "    </tr>\n",
       "    <tr>\n",
       "      <th>349588</th>\n",
       "      <td>900538</td>\n",
       "      <td>268606</td>\n",
       "      <td>654057</td>\n",
       "      <td>877399</td>\n",
       "      <td>211335</td>\n",
       "      <td>412087</td>\n",
       "      <td>440643</td>\n",
       "      <td>349553</td>\n",
       "      <td>654057</td>\n",
       "      <td>775919</td>\n",
       "      <td>531840</td>\n",
       "      <td>638544</td>\n",
       "      <td>260943</td>\n",
       "      <td>900964</td>\n",
       "      <td>647404</td>\n",
       "      <td>364246</td>\n",
       "      <td>329356</td>\n",
       "      <td>900964</td>\n",
       "      <td>870861</td>\n",
       "      <td>499676</td>\n",
       "    </tr>\n",
       "    <tr>\n",
       "      <th>269161</th>\n",
       "      <td>696320</td>\n",
       "      <td>268606</td>\n",
       "      <td>654057</td>\n",
       "      <td>877399</td>\n",
       "      <td>59564</td>\n",
       "      <td>791330</td>\n",
       "      <td>440643</td>\n",
       "      <td>349553</td>\n",
       "      <td>900964</td>\n",
       "      <td>991845</td>\n",
       "      <td>531840</td>\n",
       "      <td>638544</td>\n",
       "      <td>861328</td>\n",
       "      <td>349553</td>\n",
       "      <td>874432</td>\n",
       "      <td>209127</td>\n",
       "      <td>618945</td>\n",
       "      <td>514253</td>\n",
       "      <td>870861</td>\n",
       "      <td>499676</td>\n",
       "    </tr>\n",
       "    <tr>\n",
       "      <th>523513</th>\n",
       "      <td>527908</td>\n",
       "      <td>268606</td>\n",
       "      <td>654057</td>\n",
       "      <td>212980</td>\n",
       "      <td>20209</td>\n",
       "      <td>876244</td>\n",
       "      <td>288164</td>\n",
       "      <td>349553</td>\n",
       "      <td>654057</td>\n",
       "      <td>289158</td>\n",
       "      <td>531840</td>\n",
       "      <td>638544</td>\n",
       "      <td>898854</td>\n",
       "      <td>654057</td>\n",
       "      <td>661294</td>\n",
       "      <td>269413</td>\n",
       "      <td>974213</td>\n",
       "      <td>900964</td>\n",
       "      <td>870861</td>\n",
       "      <td>555949</td>\n",
       "    </tr>\n",
       "    <tr>\n",
       "      <th>885497</th>\n",
       "      <td>19727</td>\n",
       "      <td>268606</td>\n",
       "      <td>349553</td>\n",
       "      <td>967046</td>\n",
       "      <td>20209</td>\n",
       "      <td>876244</td>\n",
       "      <td>288164</td>\n",
       "      <td>349553</td>\n",
       "      <td>654057</td>\n",
       "      <td>689097</td>\n",
       "      <td>531840</td>\n",
       "      <td>638544</td>\n",
       "      <td>310918</td>\n",
       "      <td>654057</td>\n",
       "      <td>661294</td>\n",
       "      <td>642322</td>\n",
       "      <td>665304</td>\n",
       "      <td>349553</td>\n",
       "      <td>870861</td>\n",
       "      <td>766255</td>\n",
       "    </tr>\n",
       "    <tr>\n",
       "      <th>915319</th>\n",
       "      <td>785163</td>\n",
       "      <td>268606</td>\n",
       "      <td>349553</td>\n",
       "      <td>819663</td>\n",
       "      <td>20209</td>\n",
       "      <td>876244</td>\n",
       "      <td>288164</td>\n",
       "      <td>349553</td>\n",
       "      <td>654057</td>\n",
       "      <td>146872</td>\n",
       "      <td>531840</td>\n",
       "      <td>638544</td>\n",
       "      <td>139395</td>\n",
       "      <td>654057</td>\n",
       "      <td>66714</td>\n",
       "      <td>933113</td>\n",
       "      <td>31791</td>\n",
       "      <td>900964</td>\n",
       "      <td>870861</td>\n",
       "      <td>916632</td>\n",
       "    </tr>\n",
       "    <tr>\n",
       "      <th>129799</th>\n",
       "      <td>527908</td>\n",
       "      <td>268606</td>\n",
       "      <td>654057</td>\n",
       "      <td>877399</td>\n",
       "      <td>59564</td>\n",
       "      <td>791330</td>\n",
       "      <td>440643</td>\n",
       "      <td>349553</td>\n",
       "      <td>900964</td>\n",
       "      <td>194672</td>\n",
       "      <td>531840</td>\n",
       "      <td>638544</td>\n",
       "      <td>861328</td>\n",
       "      <td>349553</td>\n",
       "      <td>874432</td>\n",
       "      <td>851092</td>\n",
       "      <td>618945</td>\n",
       "      <td>785163</td>\n",
       "      <td>870861</td>\n",
       "      <td>499676</td>\n",
       "    </tr>\n",
       "    <tr>\n",
       "      <th>735567</th>\n",
       "      <td>655329</td>\n",
       "      <td>268606</td>\n",
       "      <td>654057</td>\n",
       "      <td>967046</td>\n",
       "      <td>20209</td>\n",
       "      <td>876244</td>\n",
       "      <td>288164</td>\n",
       "      <td>349553</td>\n",
       "      <td>654057</td>\n",
       "      <td>399069</td>\n",
       "      <td>531840</td>\n",
       "      <td>638544</td>\n",
       "      <td>123173</td>\n",
       "      <td>654057</td>\n",
       "      <td>661294</td>\n",
       "      <td>364246</td>\n",
       "      <td>224868</td>\n",
       "      <td>835245</td>\n",
       "      <td>870861</td>\n",
       "      <td>35932</td>\n",
       "    </tr>\n",
       "    <tr>\n",
       "      <th>143005</th>\n",
       "      <td>655329</td>\n",
       "      <td>268606</td>\n",
       "      <td>349553</td>\n",
       "      <td>212980</td>\n",
       "      <td>20209</td>\n",
       "      <td>876244</td>\n",
       "      <td>288164</td>\n",
       "      <td>349553</td>\n",
       "      <td>654057</td>\n",
       "      <td>21176</td>\n",
       "      <td>531840</td>\n",
       "      <td>638544</td>\n",
       "      <td>947909</td>\n",
       "      <td>654057</td>\n",
       "      <td>297699</td>\n",
       "      <td>364246</td>\n",
       "      <td>665304</td>\n",
       "      <td>349553</td>\n",
       "      <td>870861</td>\n",
       "      <td>523160</td>\n",
       "    </tr>\n",
       "    <tr>\n",
       "      <th>649413</th>\n",
       "      <td>552887</td>\n",
       "      <td>268606</td>\n",
       "      <td>349553</td>\n",
       "      <td>212980</td>\n",
       "      <td>20209</td>\n",
       "      <td>876244</td>\n",
       "      <td>288164</td>\n",
       "      <td>349553</td>\n",
       "      <td>654057</td>\n",
       "      <td>985629</td>\n",
       "      <td>531840</td>\n",
       "      <td>638544</td>\n",
       "      <td>617937</td>\n",
       "      <td>900964</td>\n",
       "      <td>517174</td>\n",
       "      <td>563673</td>\n",
       "      <td>306731</td>\n",
       "      <td>900964</td>\n",
       "      <td>870861</td>\n",
       "      <td>168173</td>\n",
       "    </tr>\n",
       "    <tr>\n",
       "      <th>447212</th>\n",
       "      <td>690881</td>\n",
       "      <td>268606</td>\n",
       "      <td>654057</td>\n",
       "      <td>877399</td>\n",
       "      <td>231560</td>\n",
       "      <td>691495</td>\n",
       "      <td>440643</td>\n",
       "      <td>349553</td>\n",
       "      <td>654057</td>\n",
       "      <td>870861</td>\n",
       "      <td>168340</td>\n",
       "      <td>481629</td>\n",
       "      <td>553172</td>\n",
       "      <td>654057</td>\n",
       "      <td>661294</td>\n",
       "      <td>364246</td>\n",
       "      <td>665304</td>\n",
       "      <td>953823</td>\n",
       "      <td>870861</td>\n",
       "      <td>499676</td>\n",
       "    </tr>\n",
       "    <tr>\n",
       "      <th>...</th>\n",
       "      <td>...</td>\n",
       "      <td>...</td>\n",
       "      <td>...</td>\n",
       "      <td>...</td>\n",
       "      <td>...</td>\n",
       "      <td>...</td>\n",
       "      <td>...</td>\n",
       "      <td>...</td>\n",
       "      <td>...</td>\n",
       "      <td>...</td>\n",
       "      <td>...</td>\n",
       "      <td>...</td>\n",
       "      <td>...</td>\n",
       "      <td>...</td>\n",
       "      <td>...</td>\n",
       "      <td>...</td>\n",
       "      <td>...</td>\n",
       "      <td>...</td>\n",
       "      <td>...</td>\n",
       "      <td>...</td>\n",
       "    </tr>\n",
       "    <tr>\n",
       "      <th>722132</th>\n",
       "      <td>514253</td>\n",
       "      <td>268606</td>\n",
       "      <td>654057</td>\n",
       "      <td>877399</td>\n",
       "      <td>548407</td>\n",
       "      <td>691495</td>\n",
       "      <td>178766</td>\n",
       "      <td>349553</td>\n",
       "      <td>953823</td>\n",
       "      <td>306301</td>\n",
       "      <td>531840</td>\n",
       "      <td>638544</td>\n",
       "      <td>797118</td>\n",
       "      <td>654057</td>\n",
       "      <td>661294</td>\n",
       "      <td>642322</td>\n",
       "      <td>665304</td>\n",
       "      <td>953823</td>\n",
       "      <td>870861</td>\n",
       "      <td>499676</td>\n",
       "    </tr>\n",
       "    <tr>\n",
       "      <th>322885</th>\n",
       "      <td>250705</td>\n",
       "      <td>268606</td>\n",
       "      <td>349553</td>\n",
       "      <td>212980</td>\n",
       "      <td>20209</td>\n",
       "      <td>876244</td>\n",
       "      <td>288164</td>\n",
       "      <td>349553</td>\n",
       "      <td>654057</td>\n",
       "      <td>320755</td>\n",
       "      <td>531840</td>\n",
       "      <td>638544</td>\n",
       "      <td>823795</td>\n",
       "      <td>900964</td>\n",
       "      <td>297699</td>\n",
       "      <td>364246</td>\n",
       "      <td>306731</td>\n",
       "      <td>835245</td>\n",
       "      <td>870861</td>\n",
       "      <td>168173</td>\n",
       "    </tr>\n",
       "    <tr>\n",
       "      <th>335080</th>\n",
       "      <td>953823</td>\n",
       "      <td>268606</td>\n",
       "      <td>349553</td>\n",
       "      <td>542895</td>\n",
       "      <td>20209</td>\n",
       "      <td>876244</td>\n",
       "      <td>288164</td>\n",
       "      <td>349553</td>\n",
       "      <td>654057</td>\n",
       "      <td>685392</td>\n",
       "      <td>531840</td>\n",
       "      <td>638544</td>\n",
       "      <td>123173</td>\n",
       "      <td>654057</td>\n",
       "      <td>661294</td>\n",
       "      <td>364246</td>\n",
       "      <td>224868</td>\n",
       "      <td>953823</td>\n",
       "      <td>429820</td>\n",
       "      <td>350888</td>\n",
       "    </tr>\n",
       "    <tr>\n",
       "      <th>850546</th>\n",
       "      <td>900964</td>\n",
       "      <td>143486</td>\n",
       "      <td>654057</td>\n",
       "      <td>877399</td>\n",
       "      <td>992996</td>\n",
       "      <td>876244</td>\n",
       "      <td>288164</td>\n",
       "      <td>349553</td>\n",
       "      <td>654057</td>\n",
       "      <td>326529</td>\n",
       "      <td>531840</td>\n",
       "      <td>638544</td>\n",
       "      <td>831858</td>\n",
       "      <td>900964</td>\n",
       "      <td>597104</td>\n",
       "      <td>423794</td>\n",
       "      <td>329356</td>\n",
       "      <td>349553</td>\n",
       "      <td>870861</td>\n",
       "      <td>499676</td>\n",
       "    </tr>\n",
       "    <tr>\n",
       "      <th>826648</th>\n",
       "      <td>696320</td>\n",
       "      <td>268606</td>\n",
       "      <td>654057</td>\n",
       "      <td>212980</td>\n",
       "      <td>20209</td>\n",
       "      <td>876244</td>\n",
       "      <td>288164</td>\n",
       "      <td>349553</td>\n",
       "      <td>654057</td>\n",
       "      <td>164156</td>\n",
       "      <td>531840</td>\n",
       "      <td>638544</td>\n",
       "      <td>174275</td>\n",
       "      <td>953823</td>\n",
       "      <td>297699</td>\n",
       "      <td>364246</td>\n",
       "      <td>822964</td>\n",
       "      <td>953823</td>\n",
       "      <td>870861</td>\n",
       "      <td>313344</td>\n",
       "    </tr>\n",
       "    <tr>\n",
       "      <th>914489</th>\n",
       "      <td>349553</td>\n",
       "      <td>268606</td>\n",
       "      <td>654057</td>\n",
       "      <td>819663</td>\n",
       "      <td>20209</td>\n",
       "      <td>876244</td>\n",
       "      <td>288164</td>\n",
       "      <td>349553</td>\n",
       "      <td>654057</td>\n",
       "      <td>943658</td>\n",
       "      <td>168340</td>\n",
       "      <td>481629</td>\n",
       "      <td>103340</td>\n",
       "      <td>654057</td>\n",
       "      <td>661294</td>\n",
       "      <td>364246</td>\n",
       "      <td>665304</td>\n",
       "      <td>900964</td>\n",
       "      <td>870861</td>\n",
       "      <td>145698</td>\n",
       "    </tr>\n",
       "    <tr>\n",
       "      <th>471626</th>\n",
       "      <td>900964</td>\n",
       "      <td>268606</td>\n",
       "      <td>349553</td>\n",
       "      <td>212980</td>\n",
       "      <td>20209</td>\n",
       "      <td>876244</td>\n",
       "      <td>288164</td>\n",
       "      <td>349553</td>\n",
       "      <td>654057</td>\n",
       "      <td>918634</td>\n",
       "      <td>531840</td>\n",
       "      <td>638544</td>\n",
       "      <td>728068</td>\n",
       "      <td>953823</td>\n",
       "      <td>658279</td>\n",
       "      <td>364246</td>\n",
       "      <td>219437</td>\n",
       "      <td>785163</td>\n",
       "      <td>656377</td>\n",
       "      <td>658863</td>\n",
       "    </tr>\n",
       "    <tr>\n",
       "      <th>234535</th>\n",
       "      <td>514253</td>\n",
       "      <td>268606</td>\n",
       "      <td>654057</td>\n",
       "      <td>877399</td>\n",
       "      <td>820207</td>\n",
       "      <td>670162</td>\n",
       "      <td>440643</td>\n",
       "      <td>349553</td>\n",
       "      <td>953823</td>\n",
       "      <td>731284</td>\n",
       "      <td>531840</td>\n",
       "      <td>638544</td>\n",
       "      <td>127822</td>\n",
       "      <td>900964</td>\n",
       "      <td>405938</td>\n",
       "      <td>364246</td>\n",
       "      <td>750964</td>\n",
       "      <td>900964</td>\n",
       "      <td>870861</td>\n",
       "      <td>499676</td>\n",
       "    </tr>\n",
       "    <tr>\n",
       "      <th>538527</th>\n",
       "      <td>514253</td>\n",
       "      <td>268606</td>\n",
       "      <td>654057</td>\n",
       "      <td>877399</td>\n",
       "      <td>604103</td>\n",
       "      <td>904787</td>\n",
       "      <td>440643</td>\n",
       "      <td>349553</td>\n",
       "      <td>654057</td>\n",
       "      <td>326529</td>\n",
       "      <td>531840</td>\n",
       "      <td>638544</td>\n",
       "      <td>831858</td>\n",
       "      <td>900964</td>\n",
       "      <td>547284</td>\n",
       "      <td>423794</td>\n",
       "      <td>329356</td>\n",
       "      <td>785163</td>\n",
       "      <td>870861</td>\n",
       "      <td>499676</td>\n",
       "    </tr>\n",
       "    <tr>\n",
       "      <th>739962</th>\n",
       "      <td>903358</td>\n",
       "      <td>268606</td>\n",
       "      <td>654057</td>\n",
       "      <td>877399</td>\n",
       "      <td>604103</td>\n",
       "      <td>904787</td>\n",
       "      <td>440643</td>\n",
       "      <td>349553</td>\n",
       "      <td>654057</td>\n",
       "      <td>326529</td>\n",
       "      <td>531840</td>\n",
       "      <td>638544</td>\n",
       "      <td>831858</td>\n",
       "      <td>900964</td>\n",
       "      <td>547284</td>\n",
       "      <td>423794</td>\n",
       "      <td>329356</td>\n",
       "      <td>900964</td>\n",
       "      <td>870861</td>\n",
       "      <td>499676</td>\n",
       "    </tr>\n",
       "    <tr>\n",
       "      <th>64203</th>\n",
       "      <td>655329</td>\n",
       "      <td>268606</td>\n",
       "      <td>654057</td>\n",
       "      <td>212980</td>\n",
       "      <td>20209</td>\n",
       "      <td>876244</td>\n",
       "      <td>288164</td>\n",
       "      <td>349553</td>\n",
       "      <td>654057</td>\n",
       "      <td>421086</td>\n",
       "      <td>168340</td>\n",
       "      <td>481629</td>\n",
       "      <td>344910</td>\n",
       "      <td>953823</td>\n",
       "      <td>297699</td>\n",
       "      <td>364246</td>\n",
       "      <td>306731</td>\n",
       "      <td>514253</td>\n",
       "      <td>870861</td>\n",
       "      <td>17899</td>\n",
       "    </tr>\n",
       "    <tr>\n",
       "      <th>317167</th>\n",
       "      <td>375430</td>\n",
       "      <td>268606</td>\n",
       "      <td>654057</td>\n",
       "      <td>877399</td>\n",
       "      <td>310398</td>\n",
       "      <td>333149</td>\n",
       "      <td>440643</td>\n",
       "      <td>349553</td>\n",
       "      <td>654057</td>\n",
       "      <td>13776</td>\n",
       "      <td>531840</td>\n",
       "      <td>638544</td>\n",
       "      <td>758668</td>\n",
       "      <td>900964</td>\n",
       "      <td>642380</td>\n",
       "      <td>367805</td>\n",
       "      <td>329356</td>\n",
       "      <td>349553</td>\n",
       "      <td>168128</td>\n",
       "      <td>499676</td>\n",
       "    </tr>\n",
       "    <tr>\n",
       "      <th>709232</th>\n",
       "      <td>696320</td>\n",
       "      <td>268606</td>\n",
       "      <td>349553</td>\n",
       "      <td>967046</td>\n",
       "      <td>20209</td>\n",
       "      <td>876244</td>\n",
       "      <td>288164</td>\n",
       "      <td>349553</td>\n",
       "      <td>654057</td>\n",
       "      <td>373329</td>\n",
       "      <td>531840</td>\n",
       "      <td>638544</td>\n",
       "      <td>757525</td>\n",
       "      <td>900964</td>\n",
       "      <td>661294</td>\n",
       "      <td>859978</td>\n",
       "      <td>650286</td>\n",
       "      <td>349553</td>\n",
       "      <td>870861</td>\n",
       "      <td>691539</td>\n",
       "    </tr>\n",
       "    <tr>\n",
       "      <th>211150</th>\n",
       "      <td>696320</td>\n",
       "      <td>268606</td>\n",
       "      <td>654057</td>\n",
       "      <td>877399</td>\n",
       "      <td>59564</td>\n",
       "      <td>791330</td>\n",
       "      <td>440643</td>\n",
       "      <td>349553</td>\n",
       "      <td>900964</td>\n",
       "      <td>991845</td>\n",
       "      <td>531840</td>\n",
       "      <td>638544</td>\n",
       "      <td>861328</td>\n",
       "      <td>349553</td>\n",
       "      <td>874432</td>\n",
       "      <td>237655</td>\n",
       "      <td>618945</td>\n",
       "      <td>514253</td>\n",
       "      <td>870861</td>\n",
       "      <td>499676</td>\n",
       "    </tr>\n",
       "    <tr>\n",
       "      <th>254715</th>\n",
       "      <td>690881</td>\n",
       "      <td>268606</td>\n",
       "      <td>349553</td>\n",
       "      <td>212980</td>\n",
       "      <td>20209</td>\n",
       "      <td>876244</td>\n",
       "      <td>288164</td>\n",
       "      <td>349553</td>\n",
       "      <td>654057</td>\n",
       "      <td>548972</td>\n",
       "      <td>531840</td>\n",
       "      <td>638544</td>\n",
       "      <td>417825</td>\n",
       "      <td>953823</td>\n",
       "      <td>486430</td>\n",
       "      <td>364246</td>\n",
       "      <td>306731</td>\n",
       "      <td>835245</td>\n",
       "      <td>870861</td>\n",
       "      <td>832372</td>\n",
       "    </tr>\n",
       "    <tr>\n",
       "      <th>225023</th>\n",
       "      <td>835245</td>\n",
       "      <td>268606</td>\n",
       "      <td>349553</td>\n",
       "      <td>212980</td>\n",
       "      <td>20209</td>\n",
       "      <td>876244</td>\n",
       "      <td>288164</td>\n",
       "      <td>349553</td>\n",
       "      <td>654057</td>\n",
       "      <td>146872</td>\n",
       "      <td>531840</td>\n",
       "      <td>638544</td>\n",
       "      <td>139395</td>\n",
       "      <td>654057</td>\n",
       "      <td>66714</td>\n",
       "      <td>141170</td>\n",
       "      <td>31791</td>\n",
       "      <td>514253</td>\n",
       "      <td>870861</td>\n",
       "      <td>457015</td>\n",
       "    </tr>\n",
       "    <tr>\n",
       "      <th>493181</th>\n",
       "      <td>690881</td>\n",
       "      <td>268606</td>\n",
       "      <td>349553</td>\n",
       "      <td>212980</td>\n",
       "      <td>20209</td>\n",
       "      <td>876244</td>\n",
       "      <td>288164</td>\n",
       "      <td>349553</td>\n",
       "      <td>654057</td>\n",
       "      <td>12508</td>\n",
       "      <td>531840</td>\n",
       "      <td>638544</td>\n",
       "      <td>407940</td>\n",
       "      <td>900964</td>\n",
       "      <td>486430</td>\n",
       "      <td>933113</td>\n",
       "      <td>306731</td>\n",
       "      <td>835245</td>\n",
       "      <td>870861</td>\n",
       "      <td>35762</td>\n",
       "    </tr>\n",
       "    <tr>\n",
       "      <th>671272</th>\n",
       "      <td>19727</td>\n",
       "      <td>268606</td>\n",
       "      <td>654057</td>\n",
       "      <td>877399</td>\n",
       "      <td>689387</td>\n",
       "      <td>691495</td>\n",
       "      <td>440643</td>\n",
       "      <td>349553</td>\n",
       "      <td>654057</td>\n",
       "      <td>394259</td>\n",
       "      <td>531840</td>\n",
       "      <td>638544</td>\n",
       "      <td>648418</td>\n",
       "      <td>654057</td>\n",
       "      <td>661294</td>\n",
       "      <td>364246</td>\n",
       "      <td>995114</td>\n",
       "      <td>953823</td>\n",
       "      <td>870861</td>\n",
       "      <td>499676</td>\n",
       "    </tr>\n",
       "    <tr>\n",
       "      <th>903253</th>\n",
       "      <td>900496</td>\n",
       "      <td>268606</td>\n",
       "      <td>349553</td>\n",
       "      <td>212980</td>\n",
       "      <td>20209</td>\n",
       "      <td>876244</td>\n",
       "      <td>288164</td>\n",
       "      <td>349553</td>\n",
       "      <td>654057</td>\n",
       "      <td>110438</td>\n",
       "      <td>531840</td>\n",
       "      <td>638544</td>\n",
       "      <td>95789</td>\n",
       "      <td>900964</td>\n",
       "      <td>297699</td>\n",
       "      <td>364246</td>\n",
       "      <td>306731</td>\n",
       "      <td>785163</td>\n",
       "      <td>870861</td>\n",
       "      <td>832372</td>\n",
       "    </tr>\n",
       "    <tr>\n",
       "      <th>739655</th>\n",
       "      <td>306731</td>\n",
       "      <td>268606</td>\n",
       "      <td>654057</td>\n",
       "      <td>212980</td>\n",
       "      <td>20209</td>\n",
       "      <td>876244</td>\n",
       "      <td>288164</td>\n",
       "      <td>349553</td>\n",
       "      <td>654057</td>\n",
       "      <td>726073</td>\n",
       "      <td>168340</td>\n",
       "      <td>481629</td>\n",
       "      <td>297530</td>\n",
       "      <td>349553</td>\n",
       "      <td>486430</td>\n",
       "      <td>818120</td>\n",
       "      <td>618945</td>\n",
       "      <td>785163</td>\n",
       "      <td>870861</td>\n",
       "      <td>837639</td>\n",
       "    </tr>\n",
       "    <tr>\n",
       "      <th>598607</th>\n",
       "      <td>696320</td>\n",
       "      <td>485564</td>\n",
       "      <td>654057</td>\n",
       "      <td>877399</td>\n",
       "      <td>20209</td>\n",
       "      <td>876244</td>\n",
       "      <td>288164</td>\n",
       "      <td>654057</td>\n",
       "      <td>654057</td>\n",
       "      <td>876684</td>\n",
       "      <td>531840</td>\n",
       "      <td>638544</td>\n",
       "      <td>641038</td>\n",
       "      <td>900964</td>\n",
       "      <td>297699</td>\n",
       "      <td>141170</td>\n",
       "      <td>306731</td>\n",
       "      <td>654057</td>\n",
       "      <td>870861</td>\n",
       "      <td>870861</td>\n",
       "    </tr>\n",
       "    <tr>\n",
       "      <th>612504</th>\n",
       "      <td>19727</td>\n",
       "      <td>268606</td>\n",
       "      <td>654057</td>\n",
       "      <td>819663</td>\n",
       "      <td>20209</td>\n",
       "      <td>876244</td>\n",
       "      <td>288164</td>\n",
       "      <td>349553</td>\n",
       "      <td>654057</td>\n",
       "      <td>394259</td>\n",
       "      <td>531840</td>\n",
       "      <td>638544</td>\n",
       "      <td>648418</td>\n",
       "      <td>654057</td>\n",
       "      <td>661294</td>\n",
       "      <td>83432</td>\n",
       "      <td>995114</td>\n",
       "      <td>953823</td>\n",
       "      <td>870861</td>\n",
       "      <td>440297</td>\n",
       "    </tr>\n",
       "    <tr>\n",
       "      <th>202774</th>\n",
       "      <td>902726</td>\n",
       "      <td>268606</td>\n",
       "      <td>349553</td>\n",
       "      <td>109414</td>\n",
       "      <td>20209</td>\n",
       "      <td>876244</td>\n",
       "      <td>288164</td>\n",
       "      <td>349553</td>\n",
       "      <td>654057</td>\n",
       "      <td>320755</td>\n",
       "      <td>531840</td>\n",
       "      <td>638544</td>\n",
       "      <td>823795</td>\n",
       "      <td>900964</td>\n",
       "      <td>297699</td>\n",
       "      <td>364246</td>\n",
       "      <td>306731</td>\n",
       "      <td>349553</td>\n",
       "      <td>870861</td>\n",
       "      <td>777267</td>\n",
       "    </tr>\n",
       "    <tr>\n",
       "      <th>439393</th>\n",
       "      <td>835245</td>\n",
       "      <td>268606</td>\n",
       "      <td>654057</td>\n",
       "      <td>414720</td>\n",
       "      <td>20209</td>\n",
       "      <td>876244</td>\n",
       "      <td>288164</td>\n",
       "      <td>349553</td>\n",
       "      <td>654057</td>\n",
       "      <td>794370</td>\n",
       "      <td>531840</td>\n",
       "      <td>638544</td>\n",
       "      <td>172955</td>\n",
       "      <td>900964</td>\n",
       "      <td>661294</td>\n",
       "      <td>364246</td>\n",
       "      <td>848059</td>\n",
       "      <td>953823</td>\n",
       "      <td>870861</td>\n",
       "      <td>895068</td>\n",
       "    </tr>\n",
       "    <tr>\n",
       "      <th>939934</th>\n",
       "      <td>184880</td>\n",
       "      <td>268606</td>\n",
       "      <td>654057</td>\n",
       "      <td>877399</td>\n",
       "      <td>685960</td>\n",
       "      <td>505775</td>\n",
       "      <td>854896</td>\n",
       "      <td>349553</td>\n",
       "      <td>654057</td>\n",
       "      <td>392505</td>\n",
       "      <td>531840</td>\n",
       "      <td>638544</td>\n",
       "      <td>939364</td>\n",
       "      <td>900964</td>\n",
       "      <td>456671</td>\n",
       "      <td>83432</td>\n",
       "      <td>900496</td>\n",
       "      <td>953823</td>\n",
       "      <td>870861</td>\n",
       "      <td>499676</td>\n",
       "    </tr>\n",
       "    <tr>\n",
       "      <th>599633</th>\n",
       "      <td>785163</td>\n",
       "      <td>268606</td>\n",
       "      <td>349553</td>\n",
       "      <td>212980</td>\n",
       "      <td>20209</td>\n",
       "      <td>876244</td>\n",
       "      <td>288164</td>\n",
       "      <td>349553</td>\n",
       "      <td>654057</td>\n",
       "      <td>336759</td>\n",
       "      <td>346008</td>\n",
       "      <td>543640</td>\n",
       "      <td>462999</td>\n",
       "      <td>654057</td>\n",
       "      <td>297699</td>\n",
       "      <td>364246</td>\n",
       "      <td>995114</td>\n",
       "      <td>900964</td>\n",
       "      <td>870861</td>\n",
       "      <td>832372</td>\n",
       "    </tr>\n",
       "    <tr>\n",
       "      <th>103907</th>\n",
       "      <td>835245</td>\n",
       "      <td>268606</td>\n",
       "      <td>654057</td>\n",
       "      <td>212980</td>\n",
       "      <td>20209</td>\n",
       "      <td>876244</td>\n",
       "      <td>288164</td>\n",
       "      <td>349553</td>\n",
       "      <td>654057</td>\n",
       "      <td>669107</td>\n",
       "      <td>531840</td>\n",
       "      <td>638544</td>\n",
       "      <td>947909</td>\n",
       "      <td>900964</td>\n",
       "      <td>661294</td>\n",
       "      <td>364246</td>\n",
       "      <td>665304</td>\n",
       "      <td>900964</td>\n",
       "      <td>870861</td>\n",
       "      <td>378267</td>\n",
       "    </tr>\n",
       "    <tr>\n",
       "      <th>536846</th>\n",
       "      <td>900964</td>\n",
       "      <td>268606</td>\n",
       "      <td>349553</td>\n",
       "      <td>212980</td>\n",
       "      <td>20209</td>\n",
       "      <td>876244</td>\n",
       "      <td>288164</td>\n",
       "      <td>349553</td>\n",
       "      <td>654057</td>\n",
       "      <td>985629</td>\n",
       "      <td>531840</td>\n",
       "      <td>638544</td>\n",
       "      <td>617937</td>\n",
       "      <td>900964</td>\n",
       "      <td>517174</td>\n",
       "      <td>141170</td>\n",
       "      <td>306731</td>\n",
       "      <td>349553</td>\n",
       "      <td>870861</td>\n",
       "      <td>35762</td>\n",
       "    </tr>\n",
       "    <tr>\n",
       "      <th>68354</th>\n",
       "      <td>514253</td>\n",
       "      <td>268606</td>\n",
       "      <td>654057</td>\n",
       "      <td>212980</td>\n",
       "      <td>20209</td>\n",
       "      <td>876244</td>\n",
       "      <td>288164</td>\n",
       "      <td>349553</td>\n",
       "      <td>654057</td>\n",
       "      <td>761939</td>\n",
       "      <td>531840</td>\n",
       "      <td>638544</td>\n",
       "      <td>425052</td>\n",
       "      <td>654057</td>\n",
       "      <td>486430</td>\n",
       "      <td>364246</td>\n",
       "      <td>900538</td>\n",
       "      <td>900964</td>\n",
       "      <td>870861</td>\n",
       "      <td>108049</td>\n",
       "    </tr>\n",
       "    <tr>\n",
       "      <th>762302</th>\n",
       "      <td>835245</td>\n",
       "      <td>268606</td>\n",
       "      <td>349553</td>\n",
       "      <td>212980</td>\n",
       "      <td>20209</td>\n",
       "      <td>876244</td>\n",
       "      <td>288164</td>\n",
       "      <td>349553</td>\n",
       "      <td>654057</td>\n",
       "      <td>720051</td>\n",
       "      <td>531840</td>\n",
       "      <td>638544</td>\n",
       "      <td>251061</td>\n",
       "      <td>900964</td>\n",
       "      <td>79079</td>\n",
       "      <td>367805</td>\n",
       "      <td>20785</td>\n",
       "      <td>349553</td>\n",
       "      <td>401354</td>\n",
       "      <td>961923</td>\n",
       "    </tr>\n",
       "  </tbody>\n",
       "</table>\n",
       "<p>100000 rows × 20 columns</p>\n",
       "</div>"
      ],
      "text/plain": [
       "          hour      C1  banner_pos  site_category  app_id  app_domain  \\\n",
       "617759  785163  268606      349553         212980   20209      876244   \n",
       "693227  375430  268606      654057         967046   20209      876244   \n",
       "906065  900538  268606      349553         212980   20209      876244   \n",
       "828507  785163  268606      654057         877399  824116      691495   \n",
       "869730  375430  485564      654057         877399   20209      876244   \n",
       "147081  900538  268606      349553         212980   20209      876244   \n",
       "779428  184880  268606      654057         877399  729896      504206   \n",
       "485973  835245  268606      654057         212980   20209      876244   \n",
       "30697   448589  268606      349553         212980   20209      876244   \n",
       "306669  375430  268606      654057         877399  932523      691495   \n",
       "800205   19727  268606      654057         877399  771598      691495   \n",
       "654773  900538  268606      654057         877399  353057      691495   \n",
       "251217  902726  268606      654057         967046   20209      876244   \n",
       "576951  306731  268606      654057         967046   20209      876244   \n",
       "104218  552887  268606      349553         212980   20209      876244   \n",
       "509042  250705  268606      349553         212980   20209      876244   \n",
       "65650   375430  268606      654057         967046   20209      876244   \n",
       "306958  972495  268606      654057         877399  109830      691495   \n",
       "951890  375430  268606      654057         877399  771598      691495   \n",
       "334987   19727  268606      349553         212980   20209      876244   \n",
       "349588  900538  268606      654057         877399  211335      412087   \n",
       "269161  696320  268606      654057         877399   59564      791330   \n",
       "523513  527908  268606      654057         212980   20209      876244   \n",
       "885497   19727  268606      349553         967046   20209      876244   \n",
       "915319  785163  268606      349553         819663   20209      876244   \n",
       "129799  527908  268606      654057         877399   59564      791330   \n",
       "735567  655329  268606      654057         967046   20209      876244   \n",
       "143005  655329  268606      349553         212980   20209      876244   \n",
       "649413  552887  268606      349553         212980   20209      876244   \n",
       "447212  690881  268606      654057         877399  231560      691495   \n",
       "...        ...     ...         ...            ...     ...         ...   \n",
       "722132  514253  268606      654057         877399  548407      691495   \n",
       "322885  250705  268606      349553         212980   20209      876244   \n",
       "335080  953823  268606      349553         542895   20209      876244   \n",
       "850546  900964  143486      654057         877399  992996      876244   \n",
       "826648  696320  268606      654057         212980   20209      876244   \n",
       "914489  349553  268606      654057         819663   20209      876244   \n",
       "471626  900964  268606      349553         212980   20209      876244   \n",
       "234535  514253  268606      654057         877399  820207      670162   \n",
       "538527  514253  268606      654057         877399  604103      904787   \n",
       "739962  903358  268606      654057         877399  604103      904787   \n",
       "64203   655329  268606      654057         212980   20209      876244   \n",
       "317167  375430  268606      654057         877399  310398      333149   \n",
       "709232  696320  268606      349553         967046   20209      876244   \n",
       "211150  696320  268606      654057         877399   59564      791330   \n",
       "254715  690881  268606      349553         212980   20209      876244   \n",
       "225023  835245  268606      349553         212980   20209      876244   \n",
       "493181  690881  268606      349553         212980   20209      876244   \n",
       "671272   19727  268606      654057         877399  689387      691495   \n",
       "903253  900496  268606      349553         212980   20209      876244   \n",
       "739655  306731  268606      654057         212980   20209      876244   \n",
       "598607  696320  485564      654057         877399   20209      876244   \n",
       "612504   19727  268606      654057         819663   20209      876244   \n",
       "202774  902726  268606      349553         109414   20209      876244   \n",
       "439393  835245  268606      654057         414720   20209      876244   \n",
       "939934  184880  268606      654057         877399  685960      505775   \n",
       "599633  785163  268606      349553         212980   20209      876244   \n",
       "103907  835245  268606      654057         212980   20209      876244   \n",
       "536846  900964  268606      349553         212980   20209      876244   \n",
       "68354   514253  268606      654057         212980   20209      876244   \n",
       "762302  835245  268606      349553         212980   20209      876244   \n",
       "\n",
       "        app_category  device_type  device_conn_type     C14     C15     C16  \\\n",
       "617759        288164       349553            654057  313780  531840  638544   \n",
       "693227        288164       349553            654057  205739  531840  638544   \n",
       "906065        288164       349553            654057  137242  531840  638544   \n",
       "828507        440643       349553            654057  731284  531840  638544   \n",
       "869730        288164       654057            654057  922008  531840  638544   \n",
       "147081        288164       349553            654057  927541  531840  638544   \n",
       "779428        440643       349553            953823   81109  531840  638544   \n",
       "485973        288164       349553            654057  475726  531840  638544   \n",
       "30697         288164       349553            654057  294617  531840  638544   \n",
       "306669        854896       349553            953823   23315  531840  638544   \n",
       "800205        440643       349553            654057  424179  531840  638544   \n",
       "654773        100009       349553            953823  161003  531840  638544   \n",
       "251217        288164       349553            654057  910189  531840  638544   \n",
       "576951        288164       349553            654057  740707  168340  481629   \n",
       "104218        288164       349553            654057  942025  531840  638544   \n",
       "509042        288164       349553            654057  830356  531840  638544   \n",
       "65650         288164       349553            953823  541409  531840  638544   \n",
       "306958        440643       349553            654057  650560  168340  481629   \n",
       "951890        440643       349553            654057  424179  531840  638544   \n",
       "334987        288164       349553            654057  420748  531840  638544   \n",
       "349588        440643       349553            654057  775919  531840  638544   \n",
       "269161        440643       349553            900964  991845  531840  638544   \n",
       "523513        288164       349553            654057  289158  531840  638544   \n",
       "885497        288164       349553            654057  689097  531840  638544   \n",
       "915319        288164       349553            654057  146872  531840  638544   \n",
       "129799        440643       349553            900964  194672  531840  638544   \n",
       "735567        288164       349553            654057  399069  531840  638544   \n",
       "143005        288164       349553            654057   21176  531840  638544   \n",
       "649413        288164       349553            654057  985629  531840  638544   \n",
       "447212        440643       349553            654057  870861  168340  481629   \n",
       "...              ...          ...               ...     ...     ...     ...   \n",
       "722132        178766       349553            953823  306301  531840  638544   \n",
       "322885        288164       349553            654057  320755  531840  638544   \n",
       "335080        288164       349553            654057  685392  531840  638544   \n",
       "850546        288164       349553            654057  326529  531840  638544   \n",
       "826648        288164       349553            654057  164156  531840  638544   \n",
       "914489        288164       349553            654057  943658  168340  481629   \n",
       "471626        288164       349553            654057  918634  531840  638544   \n",
       "234535        440643       349553            953823  731284  531840  638544   \n",
       "538527        440643       349553            654057  326529  531840  638544   \n",
       "739962        440643       349553            654057  326529  531840  638544   \n",
       "64203         288164       349553            654057  421086  168340  481629   \n",
       "317167        440643       349553            654057   13776  531840  638544   \n",
       "709232        288164       349553            654057  373329  531840  638544   \n",
       "211150        440643       349553            900964  991845  531840  638544   \n",
       "254715        288164       349553            654057  548972  531840  638544   \n",
       "225023        288164       349553            654057  146872  531840  638544   \n",
       "493181        288164       349553            654057   12508  531840  638544   \n",
       "671272        440643       349553            654057  394259  531840  638544   \n",
       "903253        288164       349553            654057  110438  531840  638544   \n",
       "739655        288164       349553            654057  726073  168340  481629   \n",
       "598607        288164       654057            654057  876684  531840  638544   \n",
       "612504        288164       349553            654057  394259  531840  638544   \n",
       "202774        288164       349553            654057  320755  531840  638544   \n",
       "439393        288164       349553            654057  794370  531840  638544   \n",
       "939934        854896       349553            654057  392505  531840  638544   \n",
       "599633        288164       349553            654057  336759  346008  543640   \n",
       "103907        288164       349553            654057  669107  531840  638544   \n",
       "536846        288164       349553            654057  985629  531840  638544   \n",
       "68354         288164       349553            654057  761939  531840  638544   \n",
       "762302        288164       349553            654057  720051  531840  638544   \n",
       "\n",
       "           C17     C18     C19     C20     C21  weekday    user    site  \n",
       "617759  254918  953823  297699  364246  822964   900964  870861  832372  \n",
       "693227  712429  953823  451756  972731  608978   953823  870861  860737  \n",
       "906065  517585  900964  661294  367805  655329   835245  870861  523160  \n",
       "828507  127822  900964  405938  608800  750964   900964  870861  499676  \n",
       "869730  596154  953823  297699  364246  822964   953823  870861  988158  \n",
       "147081  999081  900964  292409  423794  818456   785163  870861  533643  \n",
       "779428  648418  654057  661294  364246  995114   953823  870861  499676  \n",
       "485973  310918  654057  661294  807966  665304   953823  870861  749783  \n",
       "30697   999081  900964  292409  423794  818456   785163  870861  832372  \n",
       "306669  625743  654057  378222   20187   31791   900964  870861  499676  \n",
       "800205  123173  654057  661294  792962  224868   900964  870861  499676  \n",
       "654773  517860  654057  230628  364246  665304   900964  870861  499676  \n",
       "251217  258415  654057  486430  792962  665304   349553  870861   35932  \n",
       "576951   54959  900964  297699  608800  306731   349553  870861  752248  \n",
       "104218  931699  953823  297699  313473  655329   835245  870861  164504  \n",
       "509042   49804  900964  402027  367805  329356   953823   94516  533643  \n",
       "65650   258415  654057  399500  792962  665304   900964  870861   35932  \n",
       "306958  344910  953823  297699  364246  306731   785163  870861  499676  \n",
       "951890  123173  654057  661294  364246  224868   953823  870861  499676  \n",
       "334987  502202  900964  230628  364246  306731   835245  870861  658863  \n",
       "349588  260943  900964  647404  364246  329356   900964  870861  499676  \n",
       "269161  861328  349553  874432  209127  618945   514253  870861  499676  \n",
       "523513  898854  654057  661294  269413  974213   900964  870861  555949  \n",
       "885497  310918  654057  661294  642322  665304   349553  870861  766255  \n",
       "915319  139395  654057   66714  933113   31791   900964  870861  916632  \n",
       "129799  861328  349553  874432  851092  618945   785163  870861  499676  \n",
       "735567  123173  654057  661294  364246  224868   835245  870861   35932  \n",
       "143005  947909  654057  297699  364246  665304   349553  870861  523160  \n",
       "649413  617937  900964  517174  563673  306731   900964  870861  168173  \n",
       "447212  553172  654057  661294  364246  665304   953823  870861  499676  \n",
       "...        ...     ...     ...     ...     ...      ...     ...     ...  \n",
       "722132  797118  654057  661294  642322  665304   953823  870861  499676  \n",
       "322885  823795  900964  297699  364246  306731   835245  870861  168173  \n",
       "335080  123173  654057  661294  364246  224868   953823  429820  350888  \n",
       "850546  831858  900964  597104  423794  329356   349553  870861  499676  \n",
       "826648  174275  953823  297699  364246  822964   953823  870861  313344  \n",
       "914489  103340  654057  661294  364246  665304   900964  870861  145698  \n",
       "471626  728068  953823  658279  364246  219437   785163  656377  658863  \n",
       "234535  127822  900964  405938  364246  750964   900964  870861  499676  \n",
       "538527  831858  900964  547284  423794  329356   785163  870861  499676  \n",
       "739962  831858  900964  547284  423794  329356   900964  870861  499676  \n",
       "64203   344910  953823  297699  364246  306731   514253  870861   17899  \n",
       "317167  758668  900964  642380  367805  329356   349553  168128  499676  \n",
       "709232  757525  900964  661294  859978  650286   349553  870861  691539  \n",
       "211150  861328  349553  874432  237655  618945   514253  870861  499676  \n",
       "254715  417825  953823  486430  364246  306731   835245  870861  832372  \n",
       "225023  139395  654057   66714  141170   31791   514253  870861  457015  \n",
       "493181  407940  900964  486430  933113  306731   835245  870861   35762  \n",
       "671272  648418  654057  661294  364246  995114   953823  870861  499676  \n",
       "903253   95789  900964  297699  364246  306731   785163  870861  832372  \n",
       "739655  297530  349553  486430  818120  618945   785163  870861  837639  \n",
       "598607  641038  900964  297699  141170  306731   654057  870861  870861  \n",
       "612504  648418  654057  661294   83432  995114   953823  870861  440297  \n",
       "202774  823795  900964  297699  364246  306731   349553  870861  777267  \n",
       "439393  172955  900964  661294  364246  848059   953823  870861  895068  \n",
       "939934  939364  900964  456671   83432  900496   953823  870861  499676  \n",
       "599633  462999  654057  297699  364246  995114   900964  870861  832372  \n",
       "103907  947909  900964  661294  364246  665304   900964  870861  378267  \n",
       "536846  617937  900964  517174  141170  306731   349553  870861   35762  \n",
       "68354   425052  654057  486430  364246  900538   900964  870861  108049  \n",
       "762302  251061  900964   79079  367805   20785   349553  401354  961923  \n",
       "\n",
       "[100000 rows x 20 columns]"
      ]
     },
     "execution_count": 106,
     "metadata": {},
     "output_type": "execute_result"
    }
   ],
   "source": [
    "Xtest_ha"
   ]
  },
  {
   "cell_type": "markdown",
   "metadata": {},
   "source": [
    "<font color=\"red\">**Question 51:**\n",
    "    <br>\n",
    "    - Train a RandomForestClassifier on Xtrain_ha and evaluate its performance on Xtest_ha. One can chose 1024 estimators, min_samples_leaf=20 and verbose=1 in order to monitor the fitting step.\n",
    "    <br>\n",
    "</font>"
   ]
  },
  {
   "cell_type": "code",
   "execution_count": 107,
   "metadata": {
    "ExecuteTime": {
     "end_time": "2019-01-05T18:58:10.616913Z",
     "start_time": "2019-01-05T18:44:03.489196Z"
    }
   },
   "outputs": [
    {
     "name": "stderr",
     "output_type": "stream",
     "text": [
      "[Parallel(n_jobs=-1)]: Done  34 tasks      | elapsed:   33.5s\n",
      "[Parallel(n_jobs=-1)]: Done 184 tasks      | elapsed:  2.6min\n",
      "[Parallel(n_jobs=-1)]: Done 434 tasks      | elapsed:  6.0min\n",
      "[Parallel(n_jobs=-1)]: Done 784 tasks      | elapsed: 10.7min\n",
      "[Parallel(n_jobs=-1)]: Done 1024 out of 1024 | elapsed: 14.0min finished\n",
      "[Parallel(n_jobs=8)]: Done  34 tasks      | elapsed:    0.2s\n",
      "[Parallel(n_jobs=8)]: Done 184 tasks      | elapsed:    0.8s\n",
      "[Parallel(n_jobs=8)]: Done 434 tasks      | elapsed:    1.8s\n",
      "[Parallel(n_jobs=8)]: Done 784 tasks      | elapsed:    3.3s\n",
      "[Parallel(n_jobs=8)]: Done 1024 out of 1024 | elapsed:    4.3s finished\n",
      "[Parallel(n_jobs=8)]: Done  34 tasks      | elapsed:    0.2s\n",
      "[Parallel(n_jobs=8)]: Done 184 tasks      | elapsed:    0.9s\n",
      "[Parallel(n_jobs=8)]: Done 434 tasks      | elapsed:    1.9s\n",
      "[Parallel(n_jobs=8)]: Done 784 tasks      | elapsed:    3.4s\n"
     ]
    },
    {
     "name": "stdout",
     "output_type": "stream",
     "text": [
      "Hard score  0.83371\n"
     ]
    },
    {
     "name": "stderr",
     "output_type": "stream",
     "text": [
      "[Parallel(n_jobs=8)]: Done 1024 out of 1024 | elapsed:    4.3s finished\n"
     ]
    }
   ],
   "source": [
    "from sklearn.ensemble import RandomForestClassifier # Fill here\n",
    "rf = RandomForestClassifier(n_jobs = -1, n_estimators = 1024, min_samples_leaf=20, verbose=1, random_state=SEED)\n",
    "rf.fit(Xtrain_ha,ytrain)\n",
    "\n",
    "hard = rf.predict(Xtest_ha)\n",
    "soft = rf.predict_proba(Xtest_ha)\n",
    "\n",
    "hard_score_rf = accuracy_score(ytest, hard)\n",
    "print(\"Hard score \", hard_score_rf)"
   ]
  },
  {
   "cell_type": "code",
   "execution_count": 108,
   "metadata": {
    "ExecuteTime": {
     "end_time": "2019-01-05T18:58:17.102560Z",
     "start_time": "2019-01-05T18:58:17.086714Z"
    }
   },
   "outputs": [
    {
     "name": "stdout",
     "output_type": "stream",
     "text": [
      "Log loss  0.40123498917125194\n"
     ]
    }
   ],
   "source": [
    "log_loss_rf = log_loss(ytest, soft[:,1])\n",
    "print(\"Log loss \", log_loss_rf)"
   ]
  },
  {
   "cell_type": "code",
   "execution_count": 109,
   "metadata": {
    "ExecuteTime": {
     "end_time": "2019-01-05T18:58:23.970450Z",
     "start_time": "2019-01-05T18:58:23.943860Z"
    }
   },
   "outputs": [
    {
     "name": "stdout",
     "output_type": "stream",
     "text": [
      "Roc area  0.740417139411209\n"
     ]
    }
   ],
   "source": [
    "roc_rf = roc_auc_score(ytest, soft[:,1])\n",
    "print(\"Roc area \", roc_rf)\n"
   ]
  },
  {
   "cell_type": "code",
   "execution_count": 110,
   "metadata": {
    "ExecuteTime": {
     "end_time": "2019-01-05T18:58:31.107400Z",
     "start_time": "2019-01-05T18:58:31.101457Z"
    }
   },
   "outputs": [
    {
     "name": "stdout",
     "output_type": "stream",
     "text": [
      "Models :  First colon selected | Feature selection | Gradient Boost | Gradient Boost leaf| XGB XGB 1024| RF\n",
      "Scores :  0.83043 | 0.83373 | 0.83343 | 0.83406 | 0.83348 | 0.83288 | 0.83371\n",
      "Log loss :  (0.4251224554680983, 0.6762758103988586) | (0.40115516297206244, 0.7385984215044501) | 0.4091871736006742 | (0.39995604824413805, 0.7417361677212378) | 0.4062316573001351 | 0.4007940014204341 | 0.40123498917125194\n",
      "Roc Area :  0.6762758103988586 | 0.7385984215044501 | 0.7251893509766301 | 0.7417361677212378 | 0.7290316623949777 | 0.7421910018682265 | 0.740417139411209\n"
     ]
    }
   ],
   "source": [
    "print(\"Models : \",\"First colon selected |\",\"Feature selection |\", \"Gradient Boost |\", \"Gradient Boost leaf|\",\"XGB\",\"XGB 1024|\",\"RF\")\n",
    "print(\"Scores : \",hard_score_selected, \"|\",hard_score_feature_engin, \"|\", hard_score_gb, \"|\", hard_score_gb_leaf,\"|\", hard_score_xgb,\"|\", hard_score_xgb2,\"|\", hard_score_rf)\n",
    "print(\"Log loss : \",log_loss_selected, \"|\",log_loss_feature_engin, \"|\", log_loss_gb, \"|\", log_loss_gb_leaf,\"|\", log_loss_xgb,\"|\", log_loss_xgb2,\"|\", log_loss_rf)\n",
    "print(\"Roc Area : \",roc_feature_selected, \"|\",roc_feature_engin, \"|\", roc_gb, \"|\", roc_gb_leaf,\"|\", roc_xgb,\"|\", roc_xgb2,\"|\", roc_rf)"
   ]
  },
  {
   "cell_type": "markdown",
   "metadata": {},
   "source": [
    "The results are close than those random forest and xgboost gave on the last set of features, yet the Random Forest perform a bit weeker than those 2"
   ]
  },
  {
   "cell_type": "markdown",
   "metadata": {},
   "source": [
    "<font color=\"red\">**Question 52:**\n",
    "   Compare with xgboost performance on the same hashed dataset.\n",
    "</font>"
   ]
  },
  {
   "cell_type": "code",
   "execution_count": 111,
   "metadata": {
    "ExecuteTime": {
     "end_time": "2019-01-05T19:06:27.378527Z",
     "start_time": "2019-01-05T18:59:29.361133Z"
    }
   },
   "outputs": [
    {
     "name": "stdout",
     "output_type": "stream",
     "text": [
      "CPU times: user 48min 54s, sys: 1min 46s, total: 50min 41s\n",
      "Wall time: 6min 53s\n"
     ]
    },
    {
     "name": "stderr",
     "output_type": "stream",
     "text": [
      "/home/arnaud/anaconda3/lib/python3.6/site-packages/sklearn/preprocessing/label.py:151: DeprecationWarning: The truth value of an empty array is ambiguous. Returning False, but in future this will result in an error. Use `array.size > 0` to check that an array is not empty.\n",
      "  if diff:\n"
     ]
    },
    {
     "name": "stdout",
     "output_type": "stream",
     "text": [
      "Hard score  0.83288\n"
     ]
    }
   ],
   "source": [
    "xgb_hash = XGBClassifier(verbose=True, learning_rate=1, n_estimators=1024, random_state = SEED, n_jobs=-1)\n",
    "\n",
    "%time xgb_hash.fit(Xtrain_concat,ytrain)# the '%time' command will return the execution time of the fitting step\n",
    "\n",
    "hard = xgb_hash.predict(Xtest_concat)\n",
    "soft = xgb_hash.predict_proba(Xtest_concat)\n",
    "\n",
    "hard_score_xgb_hash = accuracy_score(ytest, hard)\n",
    "print(\"Hard score \", hard_score_xgb_hash)"
   ]
  },
  {
   "cell_type": "code",
   "execution_count": 112,
   "metadata": {
    "ExecuteTime": {
     "end_time": "2019-01-05T19:06:34.588553Z",
     "start_time": "2019-01-05T19:06:34.570791Z"
    }
   },
   "outputs": [
    {
     "name": "stdout",
     "output_type": "stream",
     "text": [
      "Log loss  0.4007940014204341\n"
     ]
    }
   ],
   "source": [
    "log_loss_xgb_hash = log_loss(ytest, soft[:,1])\n",
    "print(\"Log loss \", log_loss_xgb_hash)"
   ]
  },
  {
   "cell_type": "code",
   "execution_count": 113,
   "metadata": {
    "ExecuteTime": {
     "end_time": "2019-01-05T19:06:41.727582Z",
     "start_time": "2019-01-05T19:06:41.699313Z"
    }
   },
   "outputs": [
    {
     "name": "stdout",
     "output_type": "stream",
     "text": [
      "Roc area  0.7421910018682265\n"
     ]
    }
   ],
   "source": [
    "roc_xgb_hash = roc_auc_score(ytest, soft[:,1])\n",
    "print(\"Roc area \", roc_xgb_hash)\n"
   ]
  },
  {
   "cell_type": "code",
   "execution_count": 114,
   "metadata": {
    "ExecuteTime": {
     "end_time": "2019-01-05T19:06:48.803245Z",
     "start_time": "2019-01-05T19:06:48.797518Z"
    }
   },
   "outputs": [
    {
     "name": "stdout",
     "output_type": "stream",
     "text": [
      "Models :  First colon selected | Feature selection | Gradient Boost | Gradient Boost leaf| XGB XGB 1024 RF XGB hash\n",
      "Scores :  0.83043 | 0.83373 | 0.83343 | 0.83406 | 0.83348 | 0.83288 | 0.83371 | 0.83288\n",
      "Log loss :  (0.4251224554680983, 0.6762758103988586) | (0.40115516297206244, 0.7385984215044501) | 0.4091871736006742 | (0.39995604824413805, 0.7417361677212378) | 0.4062316573001351 | 0.4007940014204341 | 0.40123498917125194 | 0.4007940014204341\n",
      "Roc Area :  0.6762758103988586 | 0.7385984215044501 | 0.7251893509766301 | 0.7417361677212378 | 0.7290316623949777 | 0.7421910018682265 | 0.740417139411209 | 0.7421910018682265\n"
     ]
    }
   ],
   "source": [
    "print(\"Models : \",\"First colon selected |\",\"Feature selection |\", \"Gradient Boost |\", \"Gradient Boost leaf|\",\"XGB\",\"XGB 1024\",\"RF\",\"XGB hash\")\n",
    "print(\"Scores : \",hard_score_selected, \"|\",hard_score_feature_engin, \"|\", hard_score_gb, \"|\", hard_score_gb_leaf,\"|\", hard_score_xgb,\"|\", hard_score_xgb2,\"|\", hard_score_rf,\"|\", hard_score_xgb_hash)\n",
    "print(\"Log loss : \",log_loss_selected, \"|\",log_loss_feature_engin, \"|\", log_loss_gb, \"|\", log_loss_gb_leaf,\"|\", log_loss_xgb,\"|\", log_loss_xgb2,\"|\", log_loss_rf,\"|\", log_loss_xgb_hash)\n",
    "print(\"Roc Area : \",roc_feature_selected, \"|\",roc_feature_engin, \"|\", roc_gb, \"|\", roc_gb_leaf,\"|\", roc_xgb,\"|\", roc_xgb2,\"|\", roc_rf,\"|\", roc_xgb_hash)"
   ]
  },
  {
   "cell_type": "markdown",
   "metadata": {},
   "source": [
    "This model is equivalent in terms of the differents scores than the xgboost we tried on the last set of features, both ranking at the first place as of now"
   ]
  },
  {
   "cell_type": "markdown",
   "metadata": {},
   "source": [
    "<font color=\"red\">**Question 53:**\n",
    "    Plot the ROC and the lift curves for the obtained classifier (xgboost on hashed data).\n",
    "</font>"
   ]
  },
  {
   "cell_type": "code",
   "execution_count": 115,
   "metadata": {
    "ExecuteTime": {
     "end_time": "2019-01-05T19:19:40.880169Z",
     "start_time": "2019-01-05T19:19:40.681919Z"
    }
   },
   "outputs": [
    {
     "data": {
      "text/plain": [
       "<matplotlib.lines.Line2D at 0x7fb430d9def0>"
      ]
     },
     "execution_count": 115,
     "metadata": {},
     "output_type": "execute_result"
    },
    {
     "data": {
      "image/png": "[encoded data removed]",
      "text/plain": [
       "<Figure size 432x288 with 1 Axes>"
      ]
     },
     "metadata": {},
     "output_type": "display_data"
    }
   ],
   "source": [
    "# Plot the lift curve here\n",
    "plotlift(ytest, soft[:,1])\n",
    "plt.axvline(x= 0.2 , linestyle='--', color='r')"
   ]
  },
  {
   "cell_type": "code",
   "execution_count": 116,
   "metadata": {
    "ExecuteTime": {
     "end_time": "2019-01-05T19:19:47.352371Z",
     "start_time": "2019-01-05T19:19:47.222256Z"
    }
   },
   "outputs": [
    {
     "data": {
      "image/png": "[encoded data removed]",
      "text/plain": [
       "<Figure size 432x288 with 1 Axes>"
      ]
     },
     "metadata": {},
     "output_type": "display_data"
    }
   ],
   "source": [
    "# Plot the ROC curve here\n",
    "fpr, tpr, threshold = roc_curve(ytest,  soft[:,1])\n",
    "plt.plot(fpr,tpr, '-')\n",
    "plt.plot([0,1],[0,1], linestyle='--')\n",
    "plt.show()"
   ]
  },
  {
   "cell_type": "markdown",
   "metadata": {},
   "source": [
    "Hashing produces columns of integers arbitrarily ordered. One can wonder if adding more columns hashed in a different fashion would lead to better performance. \n",
    "<font color=\"red\">**Question 54:**\n",
    "    Add hashed columns by recursively hashing the previous ones: complete the following code. \n",
    "</font>"
   ]
  },
  {
   "cell_type": "code",
   "execution_count": 117,
   "metadata": {
    "ExecuteTime": {
     "end_time": "2019-01-05T19:20:13.836272Z",
     "start_time": "2019-01-05T19:19:53.787319Z"
    }
   },
   "outputs": [],
   "source": [
    "Xtrain_haha = pd.DataFrame(Xtrain_ha).copy()\n",
    "Xtest_haha = pd.DataFrame(Xtest_ha).copy()\n",
    "\n",
    "n_hash = 3\n",
    "cols = Xtrain_ha.columns\n",
    "for l in range(n_hash):\n",
    "    for col in cols:\n",
    "        Xtrain_haha[col + '-hash'] = Xtrain_haha[col].apply(lambda x: hash(x)%1000000)\n",
    "        Xtest_haha[col + '-hash'] = Xtest_haha[col].apply(lambda x: hash(x)%1000000)\n",
    "    cols = [col + '-hash' for col in cols]"
   ]
  },
  {
   "cell_type": "markdown",
   "metadata": {},
   "source": [
    "<font color=\"red\">**Question 55:**\n",
    "    Evaluate the performance of a random forest and/or an xgboost clasifier on these enlarged dataset.\n",
    "</font>"
   ]
  },
  {
   "cell_type": "code",
   "execution_count": 118,
   "metadata": {
    "ExecuteTime": {
     "end_time": "2019-01-05T19:44:57.647027Z",
     "start_time": "2019-01-05T19:20:22.956475Z"
    }
   },
   "outputs": [
    {
     "name": "stderr",
     "output_type": "stream",
     "text": [
      "[Parallel(n_jobs=-1)]: Done  34 tasks      | elapsed:   55.8s\n",
      "[Parallel(n_jobs=-1)]: Done 184 tasks      | elapsed:  4.4min\n",
      "[Parallel(n_jobs=-1)]: Done 434 tasks      | elapsed: 10.3min\n",
      "[Parallel(n_jobs=-1)]: Done 784 tasks      | elapsed: 18.6min\n",
      "[Parallel(n_jobs=-1)]: Done 1024 out of 1024 | elapsed: 24.3min finished\n",
      "[Parallel(n_jobs=8)]: Done  34 tasks      | elapsed:    0.3s\n",
      "[Parallel(n_jobs=8)]: Done 184 tasks      | elapsed:    1.5s\n",
      "[Parallel(n_jobs=8)]: Done 434 tasks      | elapsed:    3.6s\n",
      "[Parallel(n_jobs=8)]: Done 784 tasks      | elapsed:    6.5s\n",
      "[Parallel(n_jobs=8)]: Done 1024 out of 1024 | elapsed:    8.4s finished\n",
      "[Parallel(n_jobs=8)]: Done  34 tasks      | elapsed:    0.4s\n",
      "[Parallel(n_jobs=8)]: Done 184 tasks      | elapsed:    1.6s\n",
      "[Parallel(n_jobs=8)]: Done 434 tasks      | elapsed:    3.6s\n",
      "[Parallel(n_jobs=8)]: Done 784 tasks      | elapsed:    6.5s\n"
     ]
    },
    {
     "name": "stdout",
     "output_type": "stream",
     "text": [
      "Hard score  0.83426\n"
     ]
    },
    {
     "name": "stderr",
     "output_type": "stream",
     "text": [
      "[Parallel(n_jobs=8)]: Done 1024 out of 1024 | elapsed:    8.5s finished\n"
     ]
    }
   ],
   "source": [
    "rf2 = RandomForestClassifier(n_jobs = -1, n_estimators = 1024, min_samples_leaf=20, verbose=1, random_state=SEED)\n",
    "rf2.fit(Xtrain_haha,ytrain)\n",
    "\n",
    "hard = rf2.predict(Xtest_haha)\n",
    "soft = rf2.predict_proba(Xtest_haha)\n",
    "\n",
    "hard_score_rf2 = accuracy_score(ytest, hard)\n",
    "print(\"Hard score \", hard_score_rf2)"
   ]
  },
  {
   "cell_type": "code",
   "execution_count": 122,
   "metadata": {
    "ExecuteTime": {
     "end_time": "2019-01-05T19:46:46.045200Z",
     "start_time": "2019-01-05T19:46:46.024738Z"
    }
   },
   "outputs": [
    {
     "name": "stdout",
     "output_type": "stream",
     "text": [
      "Log loss  0.4000100772399178\n"
     ]
    }
   ],
   "source": [
    "log_loss_rf2 = log_loss(ytest, soft[:,1])\n",
    "print(\"Log loss \", log_loss_rf2)"
   ]
  },
  {
   "cell_type": "code",
   "execution_count": 123,
   "metadata": {
    "ExecuteTime": {
     "end_time": "2019-01-05T19:46:53.929149Z",
     "start_time": "2019-01-05T19:46:53.905969Z"
    }
   },
   "outputs": [
    {
     "name": "stdout",
     "output_type": "stream",
     "text": [
      "Roc area  0.7417576571483954\n"
     ]
    }
   ],
   "source": [
    "roc_rf2 = roc_auc_score(ytest, soft[:,1])\n",
    "print(\"Roc area \", roc_rf2)\n"
   ]
  },
  {
   "cell_type": "code",
   "execution_count": 124,
   "metadata": {
    "ExecuteTime": {
     "end_time": "2019-01-05T19:47:01.632532Z",
     "start_time": "2019-01-05T19:47:01.626166Z"
    }
   },
   "outputs": [
    {
     "name": "stdout",
     "output_type": "stream",
     "text": [
      "Models :  First colon selected | Feature selection | Gradient Boost | Gradient Boost leaf| XGB| XGB 1024| RF| RF Enlarged\n",
      "Scores :  0.83043 | 0.83373 | 0.83343 | 0.83406 | 0.83348 | 0.83288 | 0.83371 | 0.83426\n",
      "Log loss :  (0.4251224554680983, 0.6762758103988586) | (0.40115516297206244, 0.7385984215044501) | 0.4091871736006742 | (0.39995604824413805, 0.7417361677212378) | 0.4062316573001351 | 0.4007940014204341 | 0.40123498917125194 | 0.4000100772399178\n",
      "Roc Area :  0.6762758103988586 | 0.7385984215044501 | 0.7251893509766301 | 0.7417361677212378 | 0.7290316623949777 | 0.7421910018682265 | 0.740417139411209 | 0.7417576571483954\n"
     ]
    }
   ],
   "source": [
    "print(\"Models : \",\"First colon selected |\",\"Feature selection |\", \"Gradient Boost |\", \"Gradient Boost leaf|\",\"XGB|\",\"XGB 1024|\",\"RF|\",\"RF Enlarged\")\n",
    "print(\"Scores : \",hard_score_selected, \"|\",hard_score_feature_engin, \"|\", hard_score_gb, \"|\", hard_score_gb_leaf,\"|\", hard_score_xgb,\"|\", hard_score_xgb2,\"|\", hard_score_rf,\"|\", hard_score_rf2)\n",
    "print(\"Log loss : \",log_loss_selected, \"|\",log_loss_feature_engin, \"|\", log_loss_gb, \"|\", log_loss_gb_leaf,\"|\", log_loss_xgb,\"|\", log_loss_xgb2,\"|\", log_loss_rf,\"|\", log_loss_rf2)\n",
    "print(\"Roc Area : \",roc_feature_selected, \"|\",roc_feature_engin, \"|\", roc_gb, \"|\", roc_gb_leaf,\"|\", roc_xgb,\"|\", roc_xgb2,\"|\", roc_rf,\"|\", roc_rf2)"
   ]
  },
  {
   "cell_type": "markdown",
   "metadata": {},
   "source": [
    "**The RF on the enlarged dataset gave us the best result amongh them all (loss, accuracy, 2nd best ROC Area). It seem that hashing recursively the data 4 times helped us to to create features more usefull for our classifier.**"
   ]
  },
  {
   "cell_type": "markdown",
   "metadata": {},
   "source": [
    "<font color=\"red\">**Question 55:**\n",
    "    Compare the different models used in the TP.\n",
    "</font>"
   ]
  },
  {
   "cell_type": "markdown",
   "metadata": {},
   "source": [
    "All in all, it seems the last set of features on the enlarged dataset, hashing recursively the data, gave us the most optimised model. At each step, we learned something on the dataset, which allowed us to improve each time"
   ]
  }
 ],
 "metadata": {
  "kernelspec": {
   "display_name": "Python 3",
   "language": "python",
   "name": "python3"
  },
  "language_info": {
   "codemirror_mode": {
    "name": "ipython",
    "version": 3
   },
   "file_extension": ".py",
   "mimetype": "text/x-python",
   "name": "python",
   "nbconvert_exporter": "python",
   "pygments_lexer": "ipython3",
   "version": "3.6.5"
  },
  "toc": {
   "base_numbering": 1,
   "nav_menu": {},
   "number_sections": true,
   "sideBar": true,
   "skip_h1_title": false,
   "title_cell": "Table of Contents",
   "title_sidebar": "Contents",
   "toc_cell": false,
   "toc_position": {},
   "toc_section_display": true,
   "toc_window_display": true
  },
  "varInspector": {
   "cols": {
    "lenName": 16,
    "lenType": 16,
    "lenVar": 40
   },
   "kernels_config": {
    "python": {
     "delete_cmd_postfix": "",
     "delete_cmd_prefix": "del ",
     "library": "var_list.py",
     "varRefreshCmd": "print(var_dic_list())"
    },
    "r": {
     "delete_cmd_postfix": ") ",
     "delete_cmd_prefix": "rm(",
     "library": "var_list.r",
     "varRefreshCmd": "cat(var_dic_list()) "
    }
   },
   "types_to_exclude": [
    "module",
    "function",
    "builtin_function_or_method",
    "instance",
    "_Feature"
   ],
   "window_display": false
  }
 },
 "nbformat": 4,
 "nbformat_minor": 2
}
