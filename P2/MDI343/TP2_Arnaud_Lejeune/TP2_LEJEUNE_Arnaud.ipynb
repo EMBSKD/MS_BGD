{
 "cells": [
  {
   "cell_type": "markdown",
   "metadata": {},
   "source": [
    "# <center>TP2 : <br/> k-plus proches voisins, analyse discriminante et régression logistique</center>\n",
    "<center><img src=\"https://media.giphy.com/media/20NLMBm0BkUOwNljwv/giphy.gif\" width=\"400\" height=\"400\"></center>"
   ]
  },
  {
   "cell_type": "code",
   "execution_count": 73,
   "metadata": {},
   "outputs": [],
   "source": [
    "import pandas as pd\n",
    "import numpy as np\n",
    "import random\n",
    "import matplotlib.pyplot as plt\n",
    "from matplotlib import cm\n",
    "from sklearn import neighbors, model_selection, metrics\n",
    "from sklearn.model_selection import train_test_split, cross_val_score, LeaveOneOut\n",
    "from sklearn.discriminant_analysis import LinearDiscriminantAnalysis\n",
    "from sklearn import datasets\n",
    "from sklearn import linear_model\n",
    "import seaborn as sns\n",
    "from matplotlib.colors import ListedColormap\n",
    "import warnings"
   ]
  },
  {
   "cell_type": "markdown",
   "metadata": {},
   "source": [
    "## Génération artificielle de données\n",
    "On considère dans cette partie des observations décrites en deux dimensions (afin de pouvoir les visualiser facilement) à savoir p = 2 dans le formalisme ci-dessus. On reprend en partie les jeux de données artificiels du TP sur le perceptron, avec des modifications sur les valeurs des étiquettes uniquement."
   ]
  },
  {
   "cell_type": "markdown",
   "metadata": {},
   "source": [
    "## Question 1.\n",
    "Étudiez les fonctions rand_bi_gauss, rand_tri_gauss, rand_clown et rand_checkers. Que renvoient ces fonctions ? À quoi correspond la dernière colonne ? Générez les données en utilisant chaque de ces 4 fonctions avec les paramètres du corrigé du TP1 (pour rand_checkers générez 150 observations dans chaque classe ; pour rand_tri_gauss générez 50 observations dans chaque classe, centrées en (1, 1).T, (−1, −1).T et (1, −1).T, tous les écart-types égaux à 0.9). On va nommer ces jeux de données #1, #2, #3 et #4, respectivement."
   ]
  },
  {
   "cell_type": "code",
   "execution_count": 2,
   "metadata": {},
   "outputs": [],
   "source": [
    "###############################################################################\n",
    "#               Data Generation\n",
    "###############################################################################\n",
    "\n",
    "\n",
    "def rand_gauss(n=100, mu=[1, 1], sigmas=[0.1, 0.1]):\n",
    "    \"\"\" Sample n points from a Gaussian variable with center mu,\n",
    "    and std deviation sigma\n",
    "    \"\"\"\n",
    "    d = len(mu)\n",
    "    res = np.random.randn(n, d)\n",
    "    return np.array(res * sigmas + mu)\n",
    "\n",
    "\n",
    "def rand_bi_gauss(n1=100, n2=100, mu1=[1, 1], mu2=[-1, -1], sigmas1=[0.1, 0.1],\n",
    "                  sigmas2=[0.1, 0.1]):\n",
    "    \"\"\" Sample n1 and n2 points from two Gaussian variables centered in mu1,\n",
    "    mu2, with respective std deviations sigma1 and sigma2\n",
    "    \"\"\"\n",
    "    ex1 = rand_gauss(n1, mu1, sigmas1)\n",
    "    ex2 = rand_gauss(n2, mu2, sigmas2)\n",
    "    y = np.hstack([np.ones(n1), -1 * np.ones(n2)])\n",
    "    X = np.vstack([ex1, ex2])\n",
    "    ind = np.random.permutation(n1 + n2)\n",
    "    return X[ind, :], y[ind]\n",
    "\n",
    "\n",
    "def rand_tri_gauss(n1=100, n2=100, n3=100, mu1=[1, 1],\n",
    "                   mu2=[-1, -1], mu3=[1, -1], sigma1=[0.1, 0.1],\n",
    "                   sigma2=[0.1, 0.1], sigma3=[0.1, 0.1]):\n",
    "    \"\"\" Sample n1, n2 and n3 points from three Gaussian variables centered in mu1,\n",
    "    mu2 and mu3 with std deviation sigma1, sigma2 and sigma3\n",
    "    \"\"\"\n",
    "    ex1 = rand_gauss(n1, mu1, sigma1)\n",
    "    ex2 = rand_gauss(n2, mu2, sigma2)\n",
    "    ex3 = rand_gauss(n3, mu3, sigma3)\n",
    "    X = np.vstack([ex1, ex2, ex3])\n",
    "    y = np.hstack([np.ones(n1), 2. * np.ones(n2), 3 * np.ones(n2)])\n",
    "\n",
    "    ind = np.random.permutation(n1 + n2 + n3)\n",
    "    np.random.shuffle(ind)\n",
    "    return X[ind, :], y[ind]\n",
    "\n",
    "\n",
    "def rand_clown(n1=100, n2=100, sigma1=1, sigma2=2):\n",
    "    \"\"\" Sample a dataset clown  with\n",
    "    n1 points and noise std deviation sigma1 for the first class, and\n",
    "    n2 points and noise std deviation sigma2 for the second one\n",
    "    \"\"\"\n",
    "    x0 = np.random.randn(n1, 1)\n",
    "    x1 = x0 * x0 + sigma1 * np.random.randn(n1, 1)\n",
    "    x2 = np.hstack([sigma2 * np.random.randn(n2, 1),\n",
    "                    sigma2 * np.random.randn(n2, 1) + 2.])\n",
    "    X = np.vstack([np.hstack([x0, x1]), x2])\n",
    "    y = np.hstack([np.ones(n1), -1 * np.ones(n2)])\n",
    "    ind = np.random.permutation(n1 + n2)\n",
    "    return X[ind, :], y[ind]\n",
    "\n",
    "\n",
    "def rand_checkers(n1=100, n2=100, sigma=0.1):\n",
    "    \"\"\" Sample n1 and n2 points from a noisy checker\"\"\"\n",
    "    nbp = int(np.floor(n1 / 8))\n",
    "    nbn = int(np.floor(n2 / 8))\n",
    "    xapp = np.reshape(np.random.rand((nbp + nbn) * 16), [(nbp + nbn) * 8, 2])\n",
    "    yapp = np.ones((nbp + nbn) * 8)\n",
    "    idx = 0\n",
    "    for i in range(-2, 2):\n",
    "        for j in range(-2, 2):\n",
    "            if (((i + j) % 2) == 0):\n",
    "                nb = nbp\n",
    "            else:\n",
    "                nb = nbn\n",
    "                yapp[idx:(idx + nb)] = [(i + j) % 3 + 1] * nb\n",
    "\n",
    "            xapp[idx:(idx + nb), 0] = np.random.rand(nb)\n",
    "            xapp[idx:(idx + nb), 0] += i + sigma * np.random.randn(nb)\n",
    "            xapp[idx:(idx + nb), 1] = np.random.rand(nb)\n",
    "            xapp[idx:(idx + nb), 1] += j + sigma * np.random.randn(nb)\n",
    "            idx += nb\n",
    "\n",
    "    ind = np.arange((nbp + nbn) * 8)\n",
    "    np.random.shuffle(ind)\n",
    "    res = np.hstack([xapp, yapp[:, np.newaxis]])\n",
    "    return np.array(res[ind, :2]), np.array(res[ind, 2])\n",
    "\n",
    "def toPandas(rand):\n",
    "    df = pd.DataFrame(rand[0], columns = ['X1', 'X2'])\n",
    "    df['Label'] = rand[1]\n",
    "    return df\n",
    "\n",
    "def frontiere(f, X, step=50, cmap_choice=cm.coolwarm):\n",
    "    \"\"\"Frontiere plotting for a decision function f.\"\"\"\n",
    "    min_tot0 = np.min(X[:, 0])\n",
    "    max_tot0 = np.max(X[:, 0])\n",
    "    min_tot1 = np.min(X[:, 1])\n",
    "    max_tot1 = np.max(X[:, 1])\n",
    "    delta0 = (max_tot0 - min_tot0)\n",
    "    delta1 = (max_tot1 - min_tot1)\n",
    "    xx, yy = np.meshgrid(np.arange(min_tot0, max_tot0, delta0 / step),\n",
    "                         np.arange(min_tot1, max_tot1, delta1 / step))\n",
    "    z = np.array([f(vec) for vec in np.c_[xx.ravel(), yy.ravel()]])\n",
    "    z = z.reshape(xx.shape)\n",
    "    plt.imshow(z, origin='lower', interpolation=\"nearest\", cmap=cmap_choice,\n",
    "               extent=[min_tot0, max_tot0, min_tot1, max_tot1])\n",
    "    plt.colorbar()\n",
    "\n",
    "\n",
    "def frontiere_new(f, X, y, w=None, step=50, alpha_choice=1, colorbar=True,\n",
    "                  samples=True):\n",
    "    \"\"\" trace la frontiere pour la fonction de decision f\"\"\"\n",
    "    # construct cmap\n",
    "\n",
    "    min_tot0 = np.min(X[:, 0])\n",
    "    min_tot1 = np.min(X[:, 1])\n",
    "\n",
    "    max_tot0 = np.max(X[:, 0])\n",
    "    max_tot1 = np.max(X[:, 1])\n",
    "    delta0 = (max_tot0 - min_tot0)\n",
    "    delta1 = (max_tot1 - min_tot1)\n",
    "    xx, yy = np.meshgrid(np.arange(min_tot0, max_tot0, delta0 / step),\n",
    "                         np.arange(min_tot1, max_tot1, delta1 / step))\n",
    "    z = np.array([f(vec) for vec in np.c_[xx.ravel(), yy.ravel()]])\n",
    "    z = z.reshape(xx.shape)\n",
    "    labels = np.unique(z)\n",
    "    color_blind_list = sns.color_palette(\"colorblind\", labels.shape[0])\n",
    "    sns.set_palette(color_blind_list)\n",
    "    my_cmap = ListedColormap(color_blind_list)\n",
    "    plt.imshow(z, origin='lower', interpolation=\"mitchell\", alpha=0.80,\n",
    "               cmap=my_cmap, extent=[min_tot0, max_tot0, min_tot1, max_tot1])\n",
    "    if colorbar is True:\n",
    "        ax = plt.gca()\n",
    "        cbar = plt.colorbar(ticks=labels)\n",
    "        cbar.ax.set_yticklabels(labels)\n",
    "\n",
    "    labels = np.unique(y)\n",
    "    k = np.unique(y).shape[0]\n",
    "    color_blind_list = sns.color_palette(\"colorblind\", k)\n",
    "    sns.set_palette(color_blind_list)\n",
    "    ax = plt.gca()\n",
    "    if samples is True:\n",
    "        for i, label in enumerate(y):\n",
    "            label_num = np.where(labels == label)[0][0]\n",
    "            plt.scatter(X[i, 0], X[i, 1], c=[color_blind_list[label_num]],\n",
    "                        s=80, marker=symlist[label_num])\n",
    "    plt.xlim([min_tot0, max_tot0])\n",
    "    plt.ylim([min_tot1, max_tot1])\n",
    "    ax.get_yaxis().set_ticks([])\n",
    "    ax.get_xaxis().set_ticks([])\n",
    "    if w is not None:\n",
    "        plt.plot([min_tot0, max_tot0],\n",
    "                 [min_tot0 * -w[1] / w[2] - w[0] / w[2],\n",
    "                  max_tot0 * -w[1] / w[2] - w[0] / w[2]],\n",
    "                 \"k\", alpha=alpha_choice)"
   ]
  },
  {
   "cell_type": "code",
   "execution_count": 3,
   "metadata": {},
   "outputs": [
    {
     "data": {
      "text/html": [
       "<div>\n",
       "<style scoped>\n",
       "    .dataframe tbody tr th:only-of-type {\n",
       "        vertical-align: middle;\n",
       "    }\n",
       "\n",
       "    .dataframe tbody tr th {\n",
       "        vertical-align: top;\n",
       "    }\n",
       "\n",
       "    .dataframe thead th {\n",
       "        text-align: right;\n",
       "    }\n",
       "</style>\n",
       "<table border=\"1\" class=\"dataframe\">\n",
       "  <thead>\n",
       "    <tr style=\"text-align: right;\">\n",
       "      <th></th>\n",
       "      <th>X1</th>\n",
       "      <th>X2</th>\n",
       "      <th>Label</th>\n",
       "    </tr>\n",
       "  </thead>\n",
       "  <tbody>\n",
       "    <tr>\n",
       "      <th>0</th>\n",
       "      <td>-1.035334</td>\n",
       "      <td>-0.976907</td>\n",
       "      <td>-1.0</td>\n",
       "    </tr>\n",
       "    <tr>\n",
       "      <th>1</th>\n",
       "      <td>0.970505</td>\n",
       "      <td>0.981856</td>\n",
       "      <td>1.0</td>\n",
       "    </tr>\n",
       "    <tr>\n",
       "      <th>2</th>\n",
       "      <td>-0.983868</td>\n",
       "      <td>-0.908255</td>\n",
       "      <td>-1.0</td>\n",
       "    </tr>\n",
       "    <tr>\n",
       "      <th>3</th>\n",
       "      <td>0.993581</td>\n",
       "      <td>0.974110</td>\n",
       "      <td>1.0</td>\n",
       "    </tr>\n",
       "    <tr>\n",
       "      <th>4</th>\n",
       "      <td>-0.963577</td>\n",
       "      <td>-1.034341</td>\n",
       "      <td>-1.0</td>\n",
       "    </tr>\n",
       "  </tbody>\n",
       "</table>\n",
       "</div>"
      ],
      "text/plain": [
       "         X1        X2  Label\n",
       "0 -1.035334 -0.976907   -1.0\n",
       "1  0.970505  0.981856    1.0\n",
       "2 -0.983868 -0.908255   -1.0\n",
       "3  0.993581  0.974110    1.0\n",
       "4 -0.963577 -1.034341   -1.0"
      ]
     },
     "execution_count": 3,
     "metadata": {},
     "output_type": "execute_result"
    }
   ],
   "source": [
    "toPandas(rand_bi_gauss()).head(5)"
   ]
  },
  {
   "cell_type": "code",
   "execution_count": 4,
   "metadata": {},
   "outputs": [
    {
     "data": {
      "text/html": [
       "<div>\n",
       "<style scoped>\n",
       "    .dataframe tbody tr th:only-of-type {\n",
       "        vertical-align: middle;\n",
       "    }\n",
       "\n",
       "    .dataframe tbody tr th {\n",
       "        vertical-align: top;\n",
       "    }\n",
       "\n",
       "    .dataframe thead th {\n",
       "        text-align: right;\n",
       "    }\n",
       "</style>\n",
       "<table border=\"1\" class=\"dataframe\">\n",
       "  <thead>\n",
       "    <tr style=\"text-align: right;\">\n",
       "      <th></th>\n",
       "      <th>X1</th>\n",
       "      <th>X2</th>\n",
       "      <th>Label</th>\n",
       "    </tr>\n",
       "  </thead>\n",
       "  <tbody>\n",
       "    <tr>\n",
       "      <th>0</th>\n",
       "      <td>-0.948688</td>\n",
       "      <td>-0.979441</td>\n",
       "      <td>2.0</td>\n",
       "    </tr>\n",
       "    <tr>\n",
       "      <th>1</th>\n",
       "      <td>1.017144</td>\n",
       "      <td>-0.934244</td>\n",
       "      <td>3.0</td>\n",
       "    </tr>\n",
       "    <tr>\n",
       "      <th>2</th>\n",
       "      <td>0.982204</td>\n",
       "      <td>-0.866290</td>\n",
       "      <td>3.0</td>\n",
       "    </tr>\n",
       "    <tr>\n",
       "      <th>3</th>\n",
       "      <td>0.940246</td>\n",
       "      <td>0.981832</td>\n",
       "      <td>1.0</td>\n",
       "    </tr>\n",
       "    <tr>\n",
       "      <th>4</th>\n",
       "      <td>1.167558</td>\n",
       "      <td>-0.822289</td>\n",
       "      <td>3.0</td>\n",
       "    </tr>\n",
       "  </tbody>\n",
       "</table>\n",
       "</div>"
      ],
      "text/plain": [
       "         X1        X2  Label\n",
       "0 -0.948688 -0.979441    2.0\n",
       "1  1.017144 -0.934244    3.0\n",
       "2  0.982204 -0.866290    3.0\n",
       "3  0.940246  0.981832    1.0\n",
       "4  1.167558 -0.822289    3.0"
      ]
     },
     "execution_count": 4,
     "metadata": {},
     "output_type": "execute_result"
    }
   ],
   "source": [
    "toPandas(rand_tri_gauss()).head(5)"
   ]
  },
  {
   "cell_type": "code",
   "execution_count": 5,
   "metadata": {},
   "outputs": [
    {
     "data": {
      "text/html": [
       "<div>\n",
       "<style scoped>\n",
       "    .dataframe tbody tr th:only-of-type {\n",
       "        vertical-align: middle;\n",
       "    }\n",
       "\n",
       "    .dataframe tbody tr th {\n",
       "        vertical-align: top;\n",
       "    }\n",
       "\n",
       "    .dataframe thead th {\n",
       "        text-align: right;\n",
       "    }\n",
       "</style>\n",
       "<table border=\"1\" class=\"dataframe\">\n",
       "  <thead>\n",
       "    <tr style=\"text-align: right;\">\n",
       "      <th></th>\n",
       "      <th>X1</th>\n",
       "      <th>X2</th>\n",
       "      <th>Label</th>\n",
       "    </tr>\n",
       "  </thead>\n",
       "  <tbody>\n",
       "    <tr>\n",
       "      <th>0</th>\n",
       "      <td>0.758972</td>\n",
       "      <td>1.672381</td>\n",
       "      <td>1.0</td>\n",
       "    </tr>\n",
       "    <tr>\n",
       "      <th>1</th>\n",
       "      <td>0.691846</td>\n",
       "      <td>1.654860</td>\n",
       "      <td>1.0</td>\n",
       "    </tr>\n",
       "    <tr>\n",
       "      <th>2</th>\n",
       "      <td>3.155400</td>\n",
       "      <td>1.059458</td>\n",
       "      <td>-1.0</td>\n",
       "    </tr>\n",
       "    <tr>\n",
       "      <th>3</th>\n",
       "      <td>-0.597477</td>\n",
       "      <td>-0.404368</td>\n",
       "      <td>1.0</td>\n",
       "    </tr>\n",
       "    <tr>\n",
       "      <th>4</th>\n",
       "      <td>0.279746</td>\n",
       "      <td>1.867146</td>\n",
       "      <td>-1.0</td>\n",
       "    </tr>\n",
       "  </tbody>\n",
       "</table>\n",
       "</div>"
      ],
      "text/plain": [
       "         X1        X2  Label\n",
       "0  0.758972  1.672381    1.0\n",
       "1  0.691846  1.654860    1.0\n",
       "2  3.155400  1.059458   -1.0\n",
       "3 -0.597477 -0.404368    1.0\n",
       "4  0.279746  1.867146   -1.0"
      ]
     },
     "execution_count": 5,
     "metadata": {},
     "output_type": "execute_result"
    }
   ],
   "source": [
    "toPandas(rand_clown()).head(5)"
   ]
  },
  {
   "cell_type": "code",
   "execution_count": 6,
   "metadata": {},
   "outputs": [
    {
     "data": {
      "text/html": [
       "<div>\n",
       "<style scoped>\n",
       "    .dataframe tbody tr th:only-of-type {\n",
       "        vertical-align: middle;\n",
       "    }\n",
       "\n",
       "    .dataframe tbody tr th {\n",
       "        vertical-align: top;\n",
       "    }\n",
       "\n",
       "    .dataframe thead th {\n",
       "        text-align: right;\n",
       "    }\n",
       "</style>\n",
       "<table border=\"1\" class=\"dataframe\">\n",
       "  <thead>\n",
       "    <tr style=\"text-align: right;\">\n",
       "      <th></th>\n",
       "      <th>X1</th>\n",
       "      <th>X2</th>\n",
       "      <th>Label</th>\n",
       "    </tr>\n",
       "  </thead>\n",
       "  <tbody>\n",
       "    <tr>\n",
       "      <th>0</th>\n",
       "      <td>0.409976</td>\n",
       "      <td>-0.667669</td>\n",
       "      <td>3.0</td>\n",
       "    </tr>\n",
       "    <tr>\n",
       "      <th>1</th>\n",
       "      <td>-1.479970</td>\n",
       "      <td>-0.308360</td>\n",
       "      <td>1.0</td>\n",
       "    </tr>\n",
       "    <tr>\n",
       "      <th>2</th>\n",
       "      <td>-1.071430</td>\n",
       "      <td>1.373231</td>\n",
       "      <td>3.0</td>\n",
       "    </tr>\n",
       "    <tr>\n",
       "      <th>3</th>\n",
       "      <td>-0.286875</td>\n",
       "      <td>1.817545</td>\n",
       "      <td>1.0</td>\n",
       "    </tr>\n",
       "    <tr>\n",
       "      <th>4</th>\n",
       "      <td>0.975866</td>\n",
       "      <td>-0.421466</td>\n",
       "      <td>3.0</td>\n",
       "    </tr>\n",
       "  </tbody>\n",
       "</table>\n",
       "</div>"
      ],
      "text/plain": [
       "         X1        X2  Label\n",
       "0  0.409976 -0.667669    3.0\n",
       "1 -1.479970 -0.308360    1.0\n",
       "2 -1.071430  1.373231    3.0\n",
       "3 -0.286875  1.817545    1.0\n",
       "4  0.975866 -0.421466    3.0"
      ]
     },
     "execution_count": 6,
     "metadata": {},
     "output_type": "execute_result"
    }
   ],
   "source": [
    "toPandas(rand_checkers()).head(5)"
   ]
  },
  {
   "cell_type": "markdown",
   "metadata": {},
   "source": [
    "On a des points (X1,X2) avec une observation dans la dernière colonne, pour chaque couple."
   ]
  },
  {
   "cell_type": "code",
   "execution_count": 7,
   "metadata": {},
   "outputs": [],
   "source": [
    "X1, Y1 = rand_bi_gauss()\n",
    "X2, Y2 = rand_tri_gauss(n1=50, n2=50, n3=50, mu1=[1, 1],\n",
    "                   mu2=[-1, -1], mu3=[1, -1], sigma1=[0.9, 0.9],\n",
    "                   sigma2=[0.9, 0.9], sigma3=[0.9, 0.9])\n",
    "X3, Y3 = rand_clown()\n",
    "X4, Y4 = rand_checkers(n1 = 150, n2 = 150)"
   ]
  },
  {
   "cell_type": "markdown",
   "metadata": {},
   "source": [
    "## Question 2.\n",
    "Utilisez la fonction plot_2d afin d’afficher les jeux de données générés avec chacune des fonctions"
   ]
  },
  {
   "cell_type": "code",
   "execution_count": 8,
   "metadata": {},
   "outputs": [],
   "source": [
    "###############################################################################\n",
    "#           Displaying labeled data\n",
    "###############################################################################\n",
    "symlist = ['o', 's', 'D', 'x', '+', '*', 'p', 'v', '-', '^']\n",
    "\n",
    "\n",
    "def plot_2d(data, y=None, w=None, alpha_choice=1):\n",
    "    \"\"\" Plot in 2D the dataset data, colors and symbols according to the\n",
    "    class given by the vector y (if given); the separating hyperplan w can\n",
    "    also be displayed if asked\"\"\"\n",
    "    \n",
    "    k = np.unique(y).shape[0]\n",
    "    color_blind_list = sns.color_palette(\"colorblind\", k)[:]\n",
    "    sns.set_palette(color_blind_list)\n",
    "    if y is None:\n",
    "        labs = [\"\"]\n",
    "        idxbyclass = [range(data.shape[0])]\n",
    "    else:\n",
    "        labs = np.unique(y)\n",
    "        idxbyclass = [np.where(y == labs[i])[0] for i in range(len(labs))]\n",
    "\n",
    "    for i in range(len(labs)):\n",
    "        plt.scatter(data[idxbyclass[i], 0], data[idxbyclass[i], 1],\n",
    "                    c=[color_blind_list[i]], s=80, marker=symlist[i])\n",
    "    plt.ylim([np.min(data[:, 1]), np.max(data[:, 1])])\n",
    "    plt.xlim([np.min(data[:, 0]), np.max(data[:, 0])])\n",
    "    mx = np.min(data[:, 0])\n",
    "    maxx = np.max(data[:, 0])\n",
    "    if w is not None:\n",
    "        plt.plot([mx, maxx], [mx * -w[1] / w[2] - w[0] / w[2],\n",
    "                              maxx * -w[1] / w[2] - w[0] / w[2]],\n",
    "                 \"g\", alpha=alpha_choice)"
   ]
  },
  {
   "cell_type": "code",
   "execution_count": 9,
   "metadata": {},
   "outputs": [
    {
     "data": {
      "image/png": "[encoded data removed]",
      "text/plain": [
       "<Figure size 432x288 with 1 Axes>"
      ]
     },
     "metadata": {},
     "output_type": "display_data"
    }
   ],
   "source": [
    "plot_2d(X1, Y1)"
   ]
  },
  {
   "cell_type": "code",
   "execution_count": 10,
   "metadata": {},
   "outputs": [
    {
     "data": {
      "image/png": "[encoded data removed]",
      "text/plain": [
       "<Figure size 432x288 with 1 Axes>"
      ]
     },
     "metadata": {},
     "output_type": "display_data"
    }
   ],
   "source": [
    "plot_2d(X2, Y2)"
   ]
  },
  {
   "cell_type": "code",
   "execution_count": 11,
   "metadata": {},
   "outputs": [
    {
     "data": {
      "image/png": "[encoded data removed]",
      "text/plain": [
       "<Figure size 432x288 with 1 Axes>"
      ]
     },
     "metadata": {},
     "output_type": "display_data"
    }
   ],
   "source": [
    "plot_2d(X3, Y3)"
   ]
  },
  {
   "cell_type": "code",
   "execution_count": 12,
   "metadata": {},
   "outputs": [
    {
     "data": {
      "image/png": "[encoded data removed]",
      "text/plain": [
       "<Figure size 432x288 with 1 Axes>"
      ]
     },
     "metadata": {},
     "output_type": "display_data"
    }
   ],
   "source": [
    "plot_2d(X4, Y4)"
   ]
  },
  {
   "cell_type": "markdown",
   "metadata": {},
   "source": [
    "## Approche intuitive\n",
    "L’algorithme des k-plus proches voisins (k-nn : pour k-nearest neighbors en anglais) est un algorithme intuitif, aisément paramétrisable pour traiter un problème de classification avec un nombre quelconque d’étiquettes. <br>\n",
    "Le principe de l’algorithme est particulièrement simple : pour chaque nouveau point x on commence par déterminer l’ensemble de ses k-plus proches voisins parmi les points d’apprentissage que l’on note Vk(x) (bien sûr on doit choisir 1 ≤ k ≤ n pour que cela ait un sens). La classe que l’on affecte au nouveau point x est alors la classe majoritaire dans l’ensemble Vk(x). Une illustration de la méthode est donnée en Figure 1 pour le cas de trois classes."
   ]
  },
  {
   "cell_type": "markdown",
   "metadata": {},
   "source": [
    "## Question 3.\n",
    "Proposez une version adaptée de cette méthode pour la régression, i.e., quand les observations y sont à valeurs réelles : Y = R."
   ]
  },
  {
   "cell_type": "markdown",
   "metadata": {},
   "source": [
    "Dans ce cas, au lieu de prendre la classe la plus présente, on prend la <strong>moyenne</strong> des k voisins"
   ]
  },
  {
   "cell_type": "markdown",
   "metadata": {},
   "source": [
    "## Question 4.\n",
    "\n",
    "Écrivez votre propre classe KNNClassifier avec les méthodes d’apprentissage fit et de classification predict. Choisissez une stratégie de traitement des ex aequo, c’est-à-dire des points avec la même distance ou le même nombre de points de chaque classe dans Vk(x). Vérifier la validité des résultats en les comparant à ceux de la classe KNeighborsClassifier de scikit-learn en utilisant le jeu de données #2. Vous proposerez votre propre méthode de comparaison (par exemple, en utilisant les observations d’indice pair pour le set d’apprentissage et celles d’indice impair pour le set de test)."
   ]
  },
  {
   "cell_type": "code",
   "execution_count": 13,
   "metadata": {},
   "outputs": [],
   "source": [
    "from sklearn.base import BaseEstimator, ClassifierMixin\n",
    "\n",
    "class KNNClassifier(BaseEstimator, ClassifierMixin):\n",
    "    \"\"\"Homemade kNN classifier class\"\"\"\n",
    "    def __init__(self, n_neighbors=1):\n",
    "        self.n_neighbors = n_neighbors\n",
    "    \n",
    "    def fit(self, X, y):\n",
    "        self.X_ = X\n",
    "        self.Y_ = y\n",
    "        return self\n",
    "\n",
    "    def most_common(self, L):\n",
    "        \"\"\" Returns the most common element of a list, randomly chosen if several elements \"\"\"\n",
    "        # Dict de présence\n",
    "        dic = {}\n",
    "        for e in L :\n",
    "            if e in dic :\n",
    "                dic[e]+=1\n",
    "            else :\n",
    "                dic[e] = 1\n",
    "        maxima = [next(iter(dic.keys()))]\n",
    "        # List of most common elements\n",
    "        for e in dic :\n",
    "            if dic[e] > dic[maxima[0]] :\n",
    "                maxima = [e]\n",
    "            elif dic[e] == dic[maxima[0]] :\n",
    "                maxima.append(e)\n",
    "        prediction = maxima[0]\n",
    "        # If list is more than one element, random choice\n",
    "        if len(maxima) > 1:\n",
    "            prediction = random.sample(maxima, 1)[0]\n",
    "        return prediction\n",
    "    \n",
    "    def predict(self, X):\n",
    "        dist_matrix = metrics.pairwise.pairwise_distances(X,self.X_)\n",
    "        neighbors = np.argsort(dist_matrix)[:,0:self.n_neighbors]\n",
    "        labels = self.Y_[neighbors]\n",
    "        return [self.most_common(label) for label in labels]"
   ]
  },
  {
   "cell_type": "code",
   "execution_count": 14,
   "metadata": {},
   "outputs": [
    {
     "data": {
      "text/plain": [
       "array([ True,  True,  True,  True,  True,  True,  True,  True,  True,\n",
       "        True,  True,  True,  True,  True,  True,  True,  True,  True,\n",
       "        True,  True,  True,  True,  True,  True,  True,  True,  True,\n",
       "        True,  True,  True])"
      ]
     },
     "execution_count": 14,
     "metadata": {},
     "output_type": "execute_result"
    }
   ],
   "source": [
    "X2_train, X2_test, Y2_train, Y2_test = train_test_split(X2, Y2, test_size=0.2, random_state=1)\n",
    "\n",
    "myKNN = KNNClassifier(n_neighbors=5)\n",
    "myKNN.fit(X2_train,Y2_train)\n",
    "y_pred_me = myKNN.predict(X2_test)\n",
    "\n",
    "skLearnKNN = neighbors.KNeighborsClassifier(n_neighbors=5) \n",
    "skLearnKNN.fit(X2_train,Y2_train)\n",
    "y_pred_skL = skLearnKNN.predict(X2_test)\n",
    "\n",
    "y_pred_me == y_pred_skL"
   ]
  },
  {
   "cell_type": "markdown",
   "metadata": {},
   "source": [
    "On remarque que les prédictions sont 'quasi' identiques. La différence s'explique par une randomisation sur les cas d'égalité, qui peut engendrer quelques différences avec le module de SKLearn (la randomisation n'est probablement pas identique)"
   ]
  },
  {
   "cell_type": "markdown",
   "metadata": {},
   "source": [
    "## Question 5.\n",
    "\n",
    "Faites tourner sur les quatre exemples de jeu de données cet algorithme de classification, en utilisant la distance euclidienne classique d(x, v) = || kx − vk2 || et k = 5. Visualisez les règles de classification obtenues en utilisant la fonction <i>frontiere_new</i>. (Souvent, les autres choix de distance peuvent être utiles, par exemple la distance de Mahalanobis.)"
   ]
  },
  {
   "cell_type": "code",
   "execution_count": 15,
   "metadata": {},
   "outputs": [
    {
     "data": {
      "image/png": "[encoded data removed]",
      "text/plain": [
       "<Figure size 432x288 with 2 Axes>"
      ]
     },
     "metadata": {},
     "output_type": "display_data"
    }
   ],
   "source": [
    "myKNN_1 = KNNClassifier(n_neighbors=5)\n",
    "myKNN_1.fit(X1,Y1)\n",
    "\n",
    "frontiere_new((lambda x : myKNN_1.predict(x.reshape(1,-1))), X1, Y1)"
   ]
  },
  {
   "cell_type": "code",
   "execution_count": 16,
   "metadata": {},
   "outputs": [
    {
     "data": {
      "image/png": "[encoded data removed]",
      "text/plain": [
       "<Figure size 432x288 with 2 Axes>"
      ]
     },
     "metadata": {},
     "output_type": "display_data"
    }
   ],
   "source": [
    "myKNN_2 = KNNClassifier(n_neighbors=5)\n",
    "myKNN_2.fit(X2,Y2)\n",
    "\n",
    "frontiere_new((lambda x : myKNN_2.predict(x.reshape(1,-1))), X2, Y2)"
   ]
  },
  {
   "cell_type": "code",
   "execution_count": 17,
   "metadata": {},
   "outputs": [
    {
     "data": {
      "image/png": "[encoded data removed]",
      "text/plain": [
       "<Figure size 432x288 with 2 Axes>"
      ]
     },
     "metadata": {},
     "output_type": "display_data"
    }
   ],
   "source": [
    "myKNN_3 = KNNClassifier(n_neighbors=5)\n",
    "myKNN_3.fit(X3,Y3)\n",
    "\n",
    "frontiere_new((lambda x : myKNN_3.predict(x.reshape(1,-1))), X3, Y3)"
   ]
  },
  {
   "cell_type": "code",
   "execution_count": 18,
   "metadata": {},
   "outputs": [
    {
     "data": {
      "image/png": "[encoded data removed]",
      "text/plain": [
       "<Figure size 432x288 with 2 Axes>"
      ]
     },
     "metadata": {},
     "output_type": "display_data"
    }
   ],
   "source": [
    "myKNN_4 = KNNClassifier(n_neighbors=5)\n",
    "myKNN_4.fit(X4,Y4)\n",
    "\n",
    "frontiere_new((lambda x : myKNN_4.predict(x.reshape(1,-1))), X4, Y4)"
   ]
  },
  {
   "cell_type": "markdown",
   "metadata": {},
   "source": [
    "## Question 6.\n",
    "\n",
    "Pour les observations d’indice pair du jeu de données #2, faites varier le nombre k de voisins pris en compte : k = 1, 2, . . . , n. Que devient la méthode dans le cas extrême où k = 1 ? k = n ? Afficher ces cas sur les données étudiées en utilisant la fonction frontiere_new et présentez les dans une forme facilement lisible. Dans quels cas la frontière est-elle complexe ? simple ?"
   ]
  },
  {
   "cell_type": "code",
   "execution_count": 19,
   "metadata": {},
   "outputs": [],
   "source": [
    "X_train = X2[::2]\n",
    "Y_train = Y2[::2]\n",
    "X_test = X2[1::2]\n",
    "Y_test = Y2[1::2]"
   ]
  },
  {
   "cell_type": "markdown",
   "metadata": {},
   "source": [
    "### K = 1 "
   ]
  },
  {
   "cell_type": "code",
   "execution_count": 20,
   "metadata": {},
   "outputs": [
    {
     "data": {
      "image/png": "[encoded data removed]",
      "text/plain": [
       "<Figure size 432x288 with 2 Axes>"
      ]
     },
     "metadata": {},
     "output_type": "display_data"
    }
   ],
   "source": [
    "myKNN = KNNClassifier(n_neighbors=1)\n",
    "myKNN.fit(X_train,Y_train)\n",
    "\n",
    "frontiere_new((lambda x : myKNN.predict(x.reshape(1,-1))), X_train, Y_train)"
   ]
  },
  {
   "cell_type": "markdown",
   "metadata": {},
   "source": [
    "### K = 5"
   ]
  },
  {
   "cell_type": "code",
   "execution_count": 21,
   "metadata": {},
   "outputs": [
    {
     "data": {
      "image/png": "[encoded data removed]",
      "text/plain": [
       "<Figure size 432x288 with 2 Axes>"
      ]
     },
     "metadata": {},
     "output_type": "display_data"
    }
   ],
   "source": [
    "myKNN = KNNClassifier(n_neighbors=5)\n",
    "myKNN.fit(X_train,Y_train)\n",
    "\n",
    "frontiere_new((lambda x : myKNN.predict(x.reshape(1,-1))), X_train, Y_train)"
   ]
  },
  {
   "cell_type": "markdown",
   "metadata": {},
   "source": [
    "### K = 10 "
   ]
  },
  {
   "cell_type": "code",
   "execution_count": 22,
   "metadata": {},
   "outputs": [
    {
     "data": {
      "image/png": "[encoded data removed]",
      "text/plain": [
       "<Figure size 432x288 with 2 Axes>"
      ]
     },
     "metadata": {},
     "output_type": "display_data"
    }
   ],
   "source": [
    "myKNN = KNNClassifier(n_neighbors=10)\n",
    "myKNN.fit(X_train,Y_train)\n",
    "\n",
    "frontiere_new((lambda x : myKNN.predict(x.reshape(1,-1))), X_train, Y_train)"
   ]
  },
  {
   "cell_type": "markdown",
   "metadata": {},
   "source": [
    "### K = n "
   ]
  },
  {
   "cell_type": "code",
   "execution_count": 23,
   "metadata": {},
   "outputs": [
    {
     "data": {
      "image/png": "[encoded data removed]",
      "text/plain": [
       "<Figure size 432x288 with 2 Axes>"
      ]
     },
     "metadata": {},
     "output_type": "display_data"
    }
   ],
   "source": [
    "myKNN_2 = KNNClassifier(n_neighbors=len(X_train))\n",
    "myKNN_2.fit(X_train,Y_train)\n",
    "\n",
    "frontiere_new((lambda x : myKNN_2.predict(x.reshape(1,-1))), X_train, Y_train)"
   ]
  },
  {
   "cell_type": "markdown",
   "metadata": {},
   "source": [
    "On se rend compte que : <br>\n",
    " - Lorsque k = 1 : la classification est 'trop' précise, la frontière est alors complèxe et correspond à un ensemble de petites régions <br>\n",
    " - Lorsque k = n : la classification est beaucoup trop vague. A chaque point on étudie l'ensemble des voisin : on classifie donc systématiquement à la classe la plus présente dans le dataset <br>\n",
    "\n",
    "La frontière devient plus simple dans le cas où la classification prend en compte un nombre raisonnable de voisins, de manière à grouper par région des points. Ce nombre est fortement dépendant du dataset. Dans nos exemple, un nombre de voisin de l'ordre de [5 ; 10] semble être adapté\n",
    "    \n",
    "    "
   ]
  },
  {
   "cell_type": "markdown",
   "metadata": {},
   "source": [
    "## Question 7.\n",
    "\n",
    "Une variante possible très utilisée consiste à pondérer les poids du jème voisin (...). Implémentez cette variante dans scikit-learn en passant le paramètre weights au constructeur de KNeighborsClassifier. Pour tester l’impact du choix de h sur les frontières de classification, visualisez les règles de classification pour k = 7 et h = 10**j avec j = −2, −1, 0, 1, 2 ; utilisez les observations d’indice pair du jeux de données #2 pour l’entrainement du classifieur (Vous pouvez utiliser la fonction frontiere_new.)"
   ]
  },
  {
   "cell_type": "code",
   "execution_count": 24,
   "metadata": {},
   "outputs": [],
   "source": [
    "def _weight_func(dist, j):\n",
    "    \"\"\" Weight function to replace lambda d: d ** -2.\n",
    "    The lambda function is not valid because:\n",
    "    if d==0 then 0^-2 is not valid. \"\"\"\n",
    "\n",
    "    # Dist could be multidimensional, flatten it so all values\n",
    "    # can be looped\n",
    "    with np.errstate(divide='ignore'):\n",
    "        retval = 1. / dist\n",
    "    return retval ** (-j)"
   ]
  },
  {
   "cell_type": "markdown",
   "metadata": {},
   "source": [
    "### j = -2"
   ]
  },
  {
   "cell_type": "code",
   "execution_count": 25,
   "metadata": {},
   "outputs": [
    {
     "data": {
      "image/png": "[encoded data removed]",
      "text/plain": [
       "<Figure size 432x288 with 2 Axes>"
      ]
     },
     "metadata": {},
     "output_type": "display_data"
    }
   ],
   "source": [
    "j = -2\n",
    "KNN = neighbors.KNeighborsClassifier(n_neighbors=7, weights = (lambda x : _weight_func(x,j)))\n",
    "KNN.fit(X_train,Y_train)\n",
    "\n",
    "frontiere_new((lambda x : KNN.predict(x.reshape(1,-1))), X_train, Y_train)"
   ]
  },
  {
   "cell_type": "markdown",
   "metadata": {},
   "source": [
    "### j = -1 "
   ]
  },
  {
   "cell_type": "code",
   "execution_count": 26,
   "metadata": {},
   "outputs": [
    {
     "data": {
      "image/png": "[encoded data removed]",
      "text/plain": [
       "<Figure size 432x288 with 2 Axes>"
      ]
     },
     "metadata": {},
     "output_type": "display_data"
    }
   ],
   "source": [
    "j = -1\n",
    "KNN = neighbors.KNeighborsClassifier(n_neighbors=7, weights = (lambda x : _weight_func(x,j)))\n",
    "KNN.fit(X_train,Y_train)\n",
    "\n",
    "frontiere_new((lambda x : KNN.predict(x.reshape(1,-1))), X_train, Y_train)"
   ]
  },
  {
   "cell_type": "markdown",
   "metadata": {},
   "source": [
    "### j = 0"
   ]
  },
  {
   "cell_type": "code",
   "execution_count": 27,
   "metadata": {},
   "outputs": [
    {
     "data": {
      "image/png": "[encoded data removed]",
      "text/plain": [
       "<Figure size 432x288 with 2 Axes>"
      ]
     },
     "metadata": {},
     "output_type": "display_data"
    }
   ],
   "source": [
    "j = 0\n",
    "KNN = neighbors.KNeighborsClassifier(n_neighbors=7, weights = (lambda x : _weight_func(x,j)))\n",
    "KNN.fit(X_train,Y_train)\n",
    "\n",
    "frontiere_new((lambda x : KNN.predict(x.reshape(1,-1))), X_train, Y_train)"
   ]
  },
  {
   "cell_type": "markdown",
   "metadata": {},
   "source": [
    "### j = 1 "
   ]
  },
  {
   "cell_type": "code",
   "execution_count": 28,
   "metadata": {},
   "outputs": [
    {
     "data": {
      "image/png": "[encoded data removed]",
      "text/plain": [
       "<Figure size 432x288 with 2 Axes>"
      ]
     },
     "metadata": {},
     "output_type": "display_data"
    }
   ],
   "source": [
    "j = 1\n",
    "KNN = neighbors.KNeighborsClassifier(n_neighbors=7, weights = (lambda x : _weight_func(x,j)))\n",
    "KNN.fit(X_train,Y_train)\n",
    "\n",
    "frontiere_new((lambda x : KNN.predict(x.reshape(1,-1))), X_train, Y_train)"
   ]
  },
  {
   "cell_type": "markdown",
   "metadata": {},
   "source": [
    "### j = 2 "
   ]
  },
  {
   "cell_type": "code",
   "execution_count": 29,
   "metadata": {},
   "outputs": [
    {
     "data": {
      "image/png": "[encoded data removed]",
      "text/plain": [
       "<Figure size 432x288 with 2 Axes>"
      ]
     },
     "metadata": {},
     "output_type": "display_data"
    }
   ],
   "source": [
    "j = 2\n",
    "KNN = neighbors.KNeighborsClassifier(n_neighbors=7, weights = (lambda x : _weight_func(x,j)))\n",
    "KNN.fit(X_train,Y_train)\n",
    "\n",
    "frontiere_new((lambda x : KNN.predict(x.reshape(1,-1))), X_train, Y_train)"
   ]
  },
  {
   "cell_type": "markdown",
   "metadata": {},
   "source": [
    "## Question 8. \n",
    "\n",
    "Quel est le taux d’erreur sur les mêmes données d’apprentissage (i.e., la proportion d’erreur faite par le classifieur) lorsque k = 1 ? et sur des données de test (les observations d’indice pair) ?"
   ]
  },
  {
   "cell_type": "code",
   "execution_count": 30,
   "metadata": {},
   "outputs": [
    {
     "data": {
      "text/plain": [
       "KNeighborsClassifier(algorithm='auto', leaf_size=30, metric='minkowski',\n",
       "           metric_params=None, n_jobs=1, n_neighbors=1, p=2,\n",
       "           weights='uniform')"
      ]
     },
     "execution_count": 30,
     "metadata": {},
     "output_type": "execute_result"
    }
   ],
   "source": [
    "KNN = neighbors.KNeighborsClassifier(n_neighbors=1)\n",
    "KNN.fit(X_train,Y_train)"
   ]
  },
  {
   "cell_type": "markdown",
   "metadata": {},
   "source": [
    "#### Sur données train"
   ]
  },
  {
   "cell_type": "code",
   "execution_count": 31,
   "metadata": {},
   "outputs": [
    {
     "name": "stdout",
     "output_type": "stream",
     "text": [
      "0.0\n"
     ]
    }
   ],
   "source": [
    "print(1 - KNN.score(X_train, Y_train))"
   ]
  },
  {
   "cell_type": "markdown",
   "metadata": {},
   "source": [
    "#### Sur données test "
   ]
  },
  {
   "cell_type": "code",
   "execution_count": 32,
   "metadata": {},
   "outputs": [
    {
     "name": "stdout",
     "output_type": "stream",
     "text": [
      "0.3466666666666667\n"
     ]
    }
   ],
   "source": [
    "print(1 - KNN.score(X_test, Y_test))"
   ]
  },
  {
   "cell_type": "markdown",
   "metadata": {},
   "source": [
    "## Question 9.\n",
    "\n",
    "Pour le jeu de données #4, en utilisant les observations d’indice pair pour l’apprentissage et les observations d’indice impair pour le test, tracez le taux d’erreur en fonction de k pour k = 1, 2, . . . , 50. Vous pourrez utiliser la classe fournie ErrorCurve."
   ]
  },
  {
   "cell_type": "code",
   "execution_count": 33,
   "metadata": {},
   "outputs": [],
   "source": [
    "X_train = X4[::2]\n",
    "Y_train = Y4[::2]\n",
    "X_test = X4[1::2]\n",
    "Y_test = Y4[1::2]"
   ]
  },
  {
   "cell_type": "code",
   "execution_count": 34,
   "metadata": {},
   "outputs": [
    {
     "data": {
      "image/png": "[encoded data removed]",
      "text/plain": [
       "<Figure size 432x288 with 1 Axes>"
      ]
     },
     "metadata": {},
     "output_type": "display_data"
    }
   ],
   "source": [
    "Errors = []\n",
    "for k in range(1,50):\n",
    "    KNN = neighbors.KNeighborsClassifier(n_neighbors=k)\n",
    "    KNN.fit(X_train,Y_train)\n",
    "    Errors.append(1- KNN.score(X_test,Y_test))\n",
    "\n",
    "plt.plot(range(1,50), Errors, 'bo')\n",
    "plt.show()"
   ]
  },
  {
   "cell_type": "markdown",
   "metadata": {},
   "source": [
    "## Question 10.\n",
    "\n",
    "Tracez les différentes courbes d’erreur en fonction du paramètre k = (1, 2, . . . , 50) sur le jeu de données #4, pour des nombres d’échantillons d’entrainement n prenant les valeurs 100, 200, 500 à 1000. Cette fois, tirez l’ensemble d’apprentissage et l’ensemble de test indépendamment et de même taille. Quelle est la meilleure valeur de k ? Est-ce la même pour les différents datasets ? Vous pourrez utiliser la classe fournie ErrorCurve. Pour n = 1000 visualisez les données et la règle de décision sur le même graphique. (Vous pouvez utiliser la fonction frontiere_new.)"
   ]
  },
  {
   "cell_type": "markdown",
   "metadata": {},
   "source": [
    "### n = 100"
   ]
  },
  {
   "cell_type": "code",
   "execution_count": 35,
   "metadata": {},
   "outputs": [
    {
     "data": {
      "image/png": "[encoded data removed]",
      "text/plain": [
       "<Figure size 432x288 with 1 Axes>"
      ]
     },
     "metadata": {},
     "output_type": "display_data"
    }
   ],
   "source": [
    "X4, Y4 = rand_checkers(n1 = 100, n2 = 100)\n",
    "\n",
    "X_train = X4[::2]\n",
    "Y_train = Y4[::2]\n",
    "X_test = X4[1::2]\n",
    "Y_test = Y4[1::2]\n",
    "\n",
    "Errors = []\n",
    "for k in range(1,50):\n",
    "    KNN = neighbors.KNeighborsClassifier(n_neighbors=k)\n",
    "    KNN.fit(X_train,Y_train)\n",
    "    Errors.append(1- KNN.score(X_test,Y_test))\n",
    "\n",
    "plt.plot(range(1,50), Errors, 'bo')\n",
    "plt.show()"
   ]
  },
  {
   "cell_type": "markdown",
   "metadata": {},
   "source": [
    "Il semble que <strong>k entre [1,5]</strong> soient les valeurs les plus optimales pour k dans [1,50]. Du fait de la randomisation du dataset, les valeurs peuvent varier suivant les tirages"
   ]
  },
  {
   "cell_type": "markdown",
   "metadata": {},
   "source": [
    "### n = 200 "
   ]
  },
  {
   "cell_type": "code",
   "execution_count": 36,
   "metadata": {},
   "outputs": [
    {
     "data": {
      "image/png": "[encoded data removed]",
      "text/plain": [
       "<Figure size 432x288 with 1 Axes>"
      ]
     },
     "metadata": {},
     "output_type": "display_data"
    }
   ],
   "source": [
    "X4, Y4 = rand_checkers(n1 = 200, n2 = 200)\n",
    "\n",
    "X_train = X4[::2]\n",
    "Y_train = Y4[::2]\n",
    "X_test = X4[1::2]\n",
    "Y_test = Y4[1::2]\n",
    "\n",
    "Errors = []\n",
    "for k in range(1,50):\n",
    "    KNN = neighbors.KNeighborsClassifier(n_neighbors=k)\n",
    "    KNN.fit(X_train,Y_train)\n",
    "    Errors.append(1- KNN.score(X_test,Y_test))\n",
    "\n",
    "plt.plot(range(1,50), Errors, 'bo')\n",
    "plt.show()"
   ]
  },
  {
   "cell_type": "markdown",
   "metadata": {},
   "source": [
    "Il semble que <strong>k autour de 10</strong> soient les valeurs les plus optimales pour k dans [1,50]. Du fait de la randomisation du dataset, les valeurs peuvent varier suivant les tirages"
   ]
  },
  {
   "cell_type": "markdown",
   "metadata": {},
   "source": [
    "### n = 500 "
   ]
  },
  {
   "cell_type": "code",
   "execution_count": 37,
   "metadata": {},
   "outputs": [
    {
     "data": {
      "image/png": "[encoded data removed]",
      "text/plain": [
       "<Figure size 432x288 with 1 Axes>"
      ]
     },
     "metadata": {},
     "output_type": "display_data"
    }
   ],
   "source": [
    "X4, Y4 = rand_checkers(n1 = 500, n2 = 500)\n",
    "\n",
    "X_train = X4[::2]\n",
    "Y_train = Y4[::2]\n",
    "X_test = X4[1::2]\n",
    "Y_test = Y4[1::2]\n",
    "\n",
    "Errors = []\n",
    "for k in range(1,50):\n",
    "    KNN = neighbors.KNeighborsClassifier(n_neighbors=k)\n",
    "    KNN.fit(X_train,Y_train)\n",
    "    Errors.append(1- KNN.score(X_test,Y_test))\n",
    "\n",
    "plt.plot(range(1,50), Errors, 'bo')\n",
    "plt.show()"
   ]
  },
  {
   "cell_type": "markdown",
   "metadata": {},
   "source": [
    "Il semble que <strong>k autour de 20</strong> soient les valeurs les plus optimales pour k dans [1,50]. Du fait de la randomisation du dataset, les valeurs peuvent varier suivant les tirages. C'est encore plus visible pour un n plus grand, comme ici"
   ]
  },
  {
   "cell_type": "markdown",
   "metadata": {},
   "source": [
    "### n = 1000"
   ]
  },
  {
   "cell_type": "code",
   "execution_count": 38,
   "metadata": {},
   "outputs": [
    {
     "data": {
      "image/png": "[encoded data removed]",
      "text/plain": [
       "<Figure size 432x288 with 1 Axes>"
      ]
     },
     "metadata": {},
     "output_type": "display_data"
    }
   ],
   "source": [
    "X4, Y4 = rand_checkers(n1 = 1000, n2 = 1000)\n",
    "\n",
    "X_train = X4[::2]\n",
    "Y_train = Y4[::2]\n",
    "X_test = X4[1::2]\n",
    "Y_test = Y4[1::2]\n",
    "\n",
    "Errors = []\n",
    "for k in range(1,50):\n",
    "    KNN = neighbors.KNeighborsClassifier(n_neighbors=k)\n",
    "    KNN.fit(X_train,Y_train)\n",
    "    Errors.append(1- KNN.score(X_test,Y_test))\n",
    "\n",
    "plt.plot(range(1,50), Errors, 'bo')\n",
    "plt.show()"
   ]
  },
  {
   "cell_type": "markdown",
   "metadata": {},
   "source": [
    "Il semble que <strong>k entre [20,30]</strong> soient les valeurs les plus optimales pour k dans [1,50]. Du fait de la randomisation du dataset, les valeurs peuvent varier suivant les tirages. C'est particulièrement visible pour un n très grand, comme ici"
   ]
  },
  {
   "cell_type": "code",
   "execution_count": 39,
   "metadata": {},
   "outputs": [
    {
     "data": {
      "image/png": "[encoded data removed]",
      "text/plain": [
       "<Figure size 432x288 with 2 Axes>"
      ]
     },
     "metadata": {},
     "output_type": "display_data"
    }
   ],
   "source": [
    "KNN = neighbors.KNeighborsClassifier(n_neighbors=25)\n",
    "KNN.fit(X_train,Y_train)\n",
    "\n",
    "frontiere_new((lambda x : KNN.predict(x.reshape(1,-1))), X_train, Y_train)"
   ]
  },
  {
   "cell_type": "markdown",
   "metadata": {},
   "source": [
    "## Question 11.\n",
    "\n",
    "A votre avis, quels sont les avantages et les inconvénients de la méthode des plus proches voisins : temps de calcul ? passage à l’échelle ? interprétabilité ?"
   ]
  },
  {
   "cell_type": "markdown",
   "metadata": {},
   "source": [
    "La méthode des plus proches voisins permet un temps de fit du modèle nul. L'interprétabilité est également assez facile et simple. Pour les petit jeux de données et à faible dimension, cette méthode semble particulièrement adaptée, notemment en première approche. <br>\n",
    "Cependant, cette méthode peut devenir rapidement plus couteuse en temps de calcul pour les k grands lors du predict. Le passage à l'echelle semble donc plus compliqué"
   ]
  },
  {
   "cell_type": "markdown",
   "metadata": {},
   "source": [
    "## Question 12.\n",
    "\n",
    "Étudiez la base digits de scikit-learn : Décrivez la nature et le format des données (précisément), affichez un exemple. Tracez l’histogramme pour des classes. Coupez l’échantillon en deux parties de même taille et utilisez la première partie pour l’apprentissage et la deuxième pour le test. Appliquez la méthode aux données issues de la base digits pour un choix de k ≥ 1 (e.g., k = 30) et indiquez le taux d’erreur."
   ]
  },
  {
   "cell_type": "code",
   "execution_count": 40,
   "metadata": {},
   "outputs": [
    {
     "data": {
      "text/html": [
       "<div>\n",
       "<style scoped>\n",
       "    .dataframe tbody tr th:only-of-type {\n",
       "        vertical-align: middle;\n",
       "    }\n",
       "\n",
       "    .dataframe tbody tr th {\n",
       "        vertical-align: top;\n",
       "    }\n",
       "\n",
       "    .dataframe thead th {\n",
       "        text-align: right;\n",
       "    }\n",
       "</style>\n",
       "<table border=\"1\" class=\"dataframe\">\n",
       "  <thead>\n",
       "    <tr style=\"text-align: right;\">\n",
       "      <th></th>\n",
       "      <th>0</th>\n",
       "      <th>1</th>\n",
       "      <th>2</th>\n",
       "      <th>3</th>\n",
       "      <th>4</th>\n",
       "      <th>5</th>\n",
       "      <th>6</th>\n",
       "      <th>7</th>\n",
       "      <th>8</th>\n",
       "      <th>9</th>\n",
       "      <th>...</th>\n",
       "      <th>55</th>\n",
       "      <th>56</th>\n",
       "      <th>57</th>\n",
       "      <th>58</th>\n",
       "      <th>59</th>\n",
       "      <th>60</th>\n",
       "      <th>61</th>\n",
       "      <th>62</th>\n",
       "      <th>63</th>\n",
       "      <th>Y</th>\n",
       "    </tr>\n",
       "  </thead>\n",
       "  <tbody>\n",
       "    <tr>\n",
       "      <th>0</th>\n",
       "      <td>0.0</td>\n",
       "      <td>0.0</td>\n",
       "      <td>5.0</td>\n",
       "      <td>13.0</td>\n",
       "      <td>9.0</td>\n",
       "      <td>1.0</td>\n",
       "      <td>0.0</td>\n",
       "      <td>0.0</td>\n",
       "      <td>0.0</td>\n",
       "      <td>0.0</td>\n",
       "      <td>...</td>\n",
       "      <td>0.0</td>\n",
       "      <td>0.0</td>\n",
       "      <td>0.0</td>\n",
       "      <td>6.0</td>\n",
       "      <td>13.0</td>\n",
       "      <td>10.0</td>\n",
       "      <td>0.0</td>\n",
       "      <td>0.0</td>\n",
       "      <td>0.0</td>\n",
       "      <td>0</td>\n",
       "    </tr>\n",
       "    <tr>\n",
       "      <th>1</th>\n",
       "      <td>0.0</td>\n",
       "      <td>0.0</td>\n",
       "      <td>0.0</td>\n",
       "      <td>12.0</td>\n",
       "      <td>13.0</td>\n",
       "      <td>5.0</td>\n",
       "      <td>0.0</td>\n",
       "      <td>0.0</td>\n",
       "      <td>0.0</td>\n",
       "      <td>0.0</td>\n",
       "      <td>...</td>\n",
       "      <td>0.0</td>\n",
       "      <td>0.0</td>\n",
       "      <td>0.0</td>\n",
       "      <td>0.0</td>\n",
       "      <td>11.0</td>\n",
       "      <td>16.0</td>\n",
       "      <td>10.0</td>\n",
       "      <td>0.0</td>\n",
       "      <td>0.0</td>\n",
       "      <td>1</td>\n",
       "    </tr>\n",
       "    <tr>\n",
       "      <th>2</th>\n",
       "      <td>0.0</td>\n",
       "      <td>0.0</td>\n",
       "      <td>0.0</td>\n",
       "      <td>4.0</td>\n",
       "      <td>15.0</td>\n",
       "      <td>12.0</td>\n",
       "      <td>0.0</td>\n",
       "      <td>0.0</td>\n",
       "      <td>0.0</td>\n",
       "      <td>0.0</td>\n",
       "      <td>...</td>\n",
       "      <td>0.0</td>\n",
       "      <td>0.0</td>\n",
       "      <td>0.0</td>\n",
       "      <td>0.0</td>\n",
       "      <td>3.0</td>\n",
       "      <td>11.0</td>\n",
       "      <td>16.0</td>\n",
       "      <td>9.0</td>\n",
       "      <td>0.0</td>\n",
       "      <td>2</td>\n",
       "    </tr>\n",
       "    <tr>\n",
       "      <th>3</th>\n",
       "      <td>0.0</td>\n",
       "      <td>0.0</td>\n",
       "      <td>7.0</td>\n",
       "      <td>15.0</td>\n",
       "      <td>13.0</td>\n",
       "      <td>1.0</td>\n",
       "      <td>0.0</td>\n",
       "      <td>0.0</td>\n",
       "      <td>0.0</td>\n",
       "      <td>8.0</td>\n",
       "      <td>...</td>\n",
       "      <td>0.0</td>\n",
       "      <td>0.0</td>\n",
       "      <td>0.0</td>\n",
       "      <td>7.0</td>\n",
       "      <td>13.0</td>\n",
       "      <td>13.0</td>\n",
       "      <td>9.0</td>\n",
       "      <td>0.0</td>\n",
       "      <td>0.0</td>\n",
       "      <td>3</td>\n",
       "    </tr>\n",
       "    <tr>\n",
       "      <th>4</th>\n",
       "      <td>0.0</td>\n",
       "      <td>0.0</td>\n",
       "      <td>0.0</td>\n",
       "      <td>1.0</td>\n",
       "      <td>11.0</td>\n",
       "      <td>0.0</td>\n",
       "      <td>0.0</td>\n",
       "      <td>0.0</td>\n",
       "      <td>0.0</td>\n",
       "      <td>0.0</td>\n",
       "      <td>...</td>\n",
       "      <td>0.0</td>\n",
       "      <td>0.0</td>\n",
       "      <td>0.0</td>\n",
       "      <td>0.0</td>\n",
       "      <td>2.0</td>\n",
       "      <td>16.0</td>\n",
       "      <td>4.0</td>\n",
       "      <td>0.0</td>\n",
       "      <td>0.0</td>\n",
       "      <td>4</td>\n",
       "    </tr>\n",
       "    <tr>\n",
       "      <th>5</th>\n",
       "      <td>0.0</td>\n",
       "      <td>0.0</td>\n",
       "      <td>12.0</td>\n",
       "      <td>10.0</td>\n",
       "      <td>0.0</td>\n",
       "      <td>0.0</td>\n",
       "      <td>0.0</td>\n",
       "      <td>0.0</td>\n",
       "      <td>0.0</td>\n",
       "      <td>0.0</td>\n",
       "      <td>...</td>\n",
       "      <td>0.0</td>\n",
       "      <td>0.0</td>\n",
       "      <td>0.0</td>\n",
       "      <td>9.0</td>\n",
       "      <td>16.0</td>\n",
       "      <td>16.0</td>\n",
       "      <td>10.0</td>\n",
       "      <td>0.0</td>\n",
       "      <td>0.0</td>\n",
       "      <td>5</td>\n",
       "    </tr>\n",
       "    <tr>\n",
       "      <th>6</th>\n",
       "      <td>0.0</td>\n",
       "      <td>0.0</td>\n",
       "      <td>0.0</td>\n",
       "      <td>12.0</td>\n",
       "      <td>13.0</td>\n",
       "      <td>0.0</td>\n",
       "      <td>0.0</td>\n",
       "      <td>0.0</td>\n",
       "      <td>0.0</td>\n",
       "      <td>0.0</td>\n",
       "      <td>...</td>\n",
       "      <td>0.0</td>\n",
       "      <td>0.0</td>\n",
       "      <td>0.0</td>\n",
       "      <td>1.0</td>\n",
       "      <td>9.0</td>\n",
       "      <td>15.0</td>\n",
       "      <td>11.0</td>\n",
       "      <td>3.0</td>\n",
       "      <td>0.0</td>\n",
       "      <td>6</td>\n",
       "    </tr>\n",
       "    <tr>\n",
       "      <th>7</th>\n",
       "      <td>0.0</td>\n",
       "      <td>0.0</td>\n",
       "      <td>7.0</td>\n",
       "      <td>8.0</td>\n",
       "      <td>13.0</td>\n",
       "      <td>16.0</td>\n",
       "      <td>15.0</td>\n",
       "      <td>1.0</td>\n",
       "      <td>0.0</td>\n",
       "      <td>0.0</td>\n",
       "      <td>...</td>\n",
       "      <td>0.0</td>\n",
       "      <td>0.0</td>\n",
       "      <td>0.0</td>\n",
       "      <td>13.0</td>\n",
       "      <td>5.0</td>\n",
       "      <td>0.0</td>\n",
       "      <td>0.0</td>\n",
       "      <td>0.0</td>\n",
       "      <td>0.0</td>\n",
       "      <td>7</td>\n",
       "    </tr>\n",
       "    <tr>\n",
       "      <th>8</th>\n",
       "      <td>0.0</td>\n",
       "      <td>0.0</td>\n",
       "      <td>9.0</td>\n",
       "      <td>14.0</td>\n",
       "      <td>8.0</td>\n",
       "      <td>1.0</td>\n",
       "      <td>0.0</td>\n",
       "      <td>0.0</td>\n",
       "      <td>0.0</td>\n",
       "      <td>0.0</td>\n",
       "      <td>...</td>\n",
       "      <td>0.0</td>\n",
       "      <td>0.0</td>\n",
       "      <td>0.0</td>\n",
       "      <td>11.0</td>\n",
       "      <td>16.0</td>\n",
       "      <td>15.0</td>\n",
       "      <td>11.0</td>\n",
       "      <td>1.0</td>\n",
       "      <td>0.0</td>\n",
       "      <td>8</td>\n",
       "    </tr>\n",
       "    <tr>\n",
       "      <th>9</th>\n",
       "      <td>0.0</td>\n",
       "      <td>0.0</td>\n",
       "      <td>11.0</td>\n",
       "      <td>12.0</td>\n",
       "      <td>0.0</td>\n",
       "      <td>0.0</td>\n",
       "      <td>0.0</td>\n",
       "      <td>0.0</td>\n",
       "      <td>0.0</td>\n",
       "      <td>2.0</td>\n",
       "      <td>...</td>\n",
       "      <td>0.0</td>\n",
       "      <td>0.0</td>\n",
       "      <td>0.0</td>\n",
       "      <td>9.0</td>\n",
       "      <td>12.0</td>\n",
       "      <td>13.0</td>\n",
       "      <td>3.0</td>\n",
       "      <td>0.0</td>\n",
       "      <td>0.0</td>\n",
       "      <td>9</td>\n",
       "    </tr>\n",
       "  </tbody>\n",
       "</table>\n",
       "<p>10 rows × 65 columns</p>\n",
       "</div>"
      ],
      "text/plain": [
       "     0    1     2     3     4     5     6    7    8    9 ...   55   56   57  \\\n",
       "0  0.0  0.0   5.0  13.0   9.0   1.0   0.0  0.0  0.0  0.0 ...  0.0  0.0  0.0   \n",
       "1  0.0  0.0   0.0  12.0  13.0   5.0   0.0  0.0  0.0  0.0 ...  0.0  0.0  0.0   \n",
       "2  0.0  0.0   0.0   4.0  15.0  12.0   0.0  0.0  0.0  0.0 ...  0.0  0.0  0.0   \n",
       "3  0.0  0.0   7.0  15.0  13.0   1.0   0.0  0.0  0.0  8.0 ...  0.0  0.0  0.0   \n",
       "4  0.0  0.0   0.0   1.0  11.0   0.0   0.0  0.0  0.0  0.0 ...  0.0  0.0  0.0   \n",
       "5  0.0  0.0  12.0  10.0   0.0   0.0   0.0  0.0  0.0  0.0 ...  0.0  0.0  0.0   \n",
       "6  0.0  0.0   0.0  12.0  13.0   0.0   0.0  0.0  0.0  0.0 ...  0.0  0.0  0.0   \n",
       "7  0.0  0.0   7.0   8.0  13.0  16.0  15.0  1.0  0.0  0.0 ...  0.0  0.0  0.0   \n",
       "8  0.0  0.0   9.0  14.0   8.0   1.0   0.0  0.0  0.0  0.0 ...  0.0  0.0  0.0   \n",
       "9  0.0  0.0  11.0  12.0   0.0   0.0   0.0  0.0  0.0  2.0 ...  0.0  0.0  0.0   \n",
       "\n",
       "     58    59    60    61   62   63  Y  \n",
       "0   6.0  13.0  10.0   0.0  0.0  0.0  0  \n",
       "1   0.0  11.0  16.0  10.0  0.0  0.0  1  \n",
       "2   0.0   3.0  11.0  16.0  9.0  0.0  2  \n",
       "3   7.0  13.0  13.0   9.0  0.0  0.0  3  \n",
       "4   0.0   2.0  16.0   4.0  0.0  0.0  4  \n",
       "5   9.0  16.0  16.0  10.0  0.0  0.0  5  \n",
       "6   1.0   9.0  15.0  11.0  3.0  0.0  6  \n",
       "7  13.0   5.0   0.0   0.0  0.0  0.0  7  \n",
       "8  11.0  16.0  15.0  11.0  1.0  0.0  8  \n",
       "9   9.0  12.0  13.0   3.0  0.0  0.0  9  \n",
       "\n",
       "[10 rows x 65 columns]"
      ]
     },
     "execution_count": 40,
     "metadata": {},
     "output_type": "execute_result"
    }
   ],
   "source": [
    "digits = datasets.load_digits()\n",
    "X = digits.data\n",
    "Y = digits.target\n",
    "\n",
    "df = pd.DataFrame(X)\n",
    "df['Y'] = Y\n",
    "df.head(10)"
   ]
  },
  {
   "cell_type": "markdown",
   "metadata": {},
   "source": [
    "On a un X avec 64 colonnes décrivant le degré de noir des 64 pixels d'une image. Le Y donne le label, un chiffre de 0 à 9 que représente l'image."
   ]
  },
  {
   "cell_type": "code",
   "execution_count": 41,
   "metadata": {},
   "outputs": [
    {
     "data": {
      "image/png": "[encoded data removed]",
      "text/plain": [
       "<Figure size 432x288 with 1 Axes>"
      ]
     },
     "metadata": {},
     "output_type": "display_data"
    }
   ],
   "source": [
    "plt.hist(Y)\n",
    "plt.show()"
   ]
  },
  {
   "cell_type": "code",
   "execution_count": 42,
   "metadata": {},
   "outputs": [
    {
     "name": "stdout",
     "output_type": "stream",
     "text": [
      "0.04004449388209119\n"
     ]
    }
   ],
   "source": [
    "X_train = X[::2]\n",
    "Y_train = Y[::2]\n",
    "X_test = X[1::2]\n",
    "Y_test = Y[1::2]\n",
    "\n",
    "KNN = neighbors.KNeighborsClassifier(n_neighbors=30)\n",
    "KNN.fit(X_train,Y_train)\n",
    "print(1 - KNN.score(X_train,Y_train))"
   ]
  },
  {
   "cell_type": "markdown",
   "metadata": {},
   "source": [
    "## Question 13.\n",
    "\n",
    "Estimez la matrice de confusion (P{Y = i, Ck(X) = j})i, j associée au classifieur Ck ainsi obtenu et visualisez celle-ci."
   ]
  },
  {
   "cell_type": "code",
   "execution_count": 43,
   "metadata": {},
   "outputs": [
    {
     "name": "stdout",
     "output_type": "stream",
     "text": [
      "Confusion matrix, without normalization\n",
      "[[88  0  0  0  0  0  0  0  0  0]\n",
      " [ 0 88  0  0  0  0  1  0  0  0]\n",
      " [ 1  1 84  0  0  0  0  1  4  0]\n",
      " [ 0  0  1 85  0  2  0  2  3  0]\n",
      " [ 0  0  0  0 87  0  0  0  1  0]\n",
      " [ 0  0  0  0  0 87  1  0  0  3]\n",
      " [ 0  0  0  0  0  0 90  0  0  0]\n",
      " [ 0  0  0  0  0  0  0 91  0  0]\n",
      " [ 0  5  2  1  0  2  1  0 75  0]\n",
      " [ 0  5  0  0  5  1  0  6  1 73]]\n",
      "Normalized confusion matrix\n",
      "[[1.   0.   0.   0.   0.   0.   0.   0.   0.   0.  ]\n",
      " [0.   0.99 0.   0.   0.   0.   0.01 0.   0.   0.  ]\n",
      " [0.01 0.01 0.92 0.   0.   0.   0.   0.01 0.04 0.  ]\n",
      " [0.   0.   0.01 0.91 0.   0.02 0.   0.02 0.03 0.  ]\n",
      " [0.   0.   0.   0.   0.99 0.   0.   0.   0.01 0.  ]\n",
      " [0.   0.   0.   0.   0.   0.96 0.01 0.   0.   0.03]\n",
      " [0.   0.   0.   0.   0.   0.   1.   0.   0.   0.  ]\n",
      " [0.   0.   0.   0.   0.   0.   0.   1.   0.   0.  ]\n",
      " [0.   0.06 0.02 0.01 0.   0.02 0.01 0.   0.87 0.  ]\n",
      " [0.   0.05 0.   0.   0.05 0.01 0.   0.07 0.01 0.8 ]]\n"
     ]
    },
    {
     "data": {
      "image/png": "[encoded data removed]",
      "text/plain": [
       "<Figure size 432x288 with 2 Axes>"
      ]
     },
     "metadata": {},
     "output_type": "display_data"
    },
    {
     "data": {
      "image/png": "[encoded data removed]",
      "text/plain": [
       "<Figure size 432x288 with 2 Axes>"
      ]
     },
     "metadata": {},
     "output_type": "display_data"
    }
   ],
   "source": [
    "import itertools\n",
    "import numpy as np\n",
    "import matplotlib.pyplot as plt\n",
    "\n",
    "from sklearn import svm, datasets\n",
    "from sklearn.model_selection import train_test_split\n",
    "from sklearn.metrics import confusion_matrix\n",
    "\n",
    "\n",
    "class_names = Y\n",
    "\n",
    "# Run classifier, using a model that is too regularized (C too low) to see\n",
    "# the impact on the results\n",
    "classifier = KNN\n",
    "y_pred = classifier.fit(X_train, Y_train).predict(X_test)\n",
    "\n",
    "\n",
    "def plot_confusion_matrix(cm, classes,\n",
    "                          normalize=False,\n",
    "                          title='Confusion matrix',\n",
    "                          cmap=plt.cm.Blues):\n",
    "    \"\"\"\n",
    "    This function prints and plots the confusion matrix.\n",
    "    Normalization can be applied by setting `normalize=True`.\n",
    "    \"\"\"\n",
    "    if normalize:\n",
    "        cm = cm.astype('float') / cm.sum(axis=1)[:, np.newaxis]\n",
    "        print(\"Normalized confusion matrix\")\n",
    "    else:\n",
    "        print('Confusion matrix, without normalization')\n",
    "\n",
    "    print(cm)\n",
    "\n",
    "    plt.imshow(cm, interpolation='nearest', cmap=cmap)\n",
    "    plt.title(title)\n",
    "    plt.colorbar()\n",
    "    tick_marks = np.arange(len(classes))\n",
    "    plt.xticks(tick_marks, classes, rotation=45)\n",
    "    plt.yticks(tick_marks, classes)\n",
    "\n",
    "    fmt = '.2f' if normalize else 'd'\n",
    "    thresh = cm.max() / 2.\n",
    "    for i, j in itertools.product(range(cm.shape[0]), range(cm.shape[1])):\n",
    "        plt.text(j, i, format(cm[i, j], fmt),\n",
    "                 horizontalalignment=\"center\",\n",
    "                 color=\"white\" if cm[i, j] > thresh else \"black\")\n",
    "\n",
    "    plt.ylabel('True label')\n",
    "    plt.xlabel('Predicted label')\n",
    "    plt.tight_layout()\n",
    "\n",
    "\n",
    "# Compute confusion matrix\n",
    "cnf_matrix = confusion_matrix(Y_test, y_pred)\n",
    "np.set_printoptions(precision=2)\n",
    "\n",
    "# Plot non-normalized confusion matrix\n",
    "plt.figure()\n",
    "plot_confusion_matrix(cnf_matrix, classes=class_names,\n",
    "                      title='Confusion matrix, without normalization')\n",
    "\n",
    "# Plot normalized confusion matrix\n",
    "plt.figure()\n",
    "plot_confusion_matrix(cnf_matrix, classes=class_names, normalize=True,\n",
    "                      title='Normalized confusion matrix')\n",
    "\n",
    "plt.show()"
   ]
  },
  {
   "cell_type": "markdown",
   "metadata": {},
   "source": [
    "## Question 14.\n",
    "\n",
    "Proposez une méthode pour choisir k et mettez-la en œuvre. Vous pourrez utiliser la classe fournie LOOCurve. En utilisant toutes les données, tracez la courbe du taux d’erreur leave-one-out pour k = 1, 6, 11, 16, 21, 26, 31, 36, 41, 46, 100, 200."
   ]
  },
  {
   "cell_type": "code",
   "execution_count": 58,
   "metadata": {},
   "outputs": [
    {
     "name": "stdout",
     "output_type": "stream",
     "text": [
      "[0.011686143572620988, 0.014468558708959356, 0.015581524763494725, 0.01947690595436835, 0.023372287145242088, 0.028380634390651083, 0.03227601558152471, 0.03283249860879245, 0.036727879799666074, 0.036727879799666074, 0.07011686143572626, 0.1012799109627156]\n"
     ]
    }
   ],
   "source": [
    "list_of_k = [1, 6, 11, 16, 21, 26, 31, 36, 41, 46, 100, 200]\n",
    "Errors = []\n",
    "\n",
    "for k in list_of_k :\n",
    "    KNN = neighbors.KNeighborsClassifier(n_neighbors=k)\n",
    "    loo = LeaveOneOut()\n",
    "    loo.get_n_splits(X)\n",
    "\n",
    "    score_cumulee = 0\n",
    "    for train_index, test_index in loo.split(X):\n",
    "        KNN.fit(X[train_index], Y[train_index])\n",
    "        score_cumulee += KNN.score(X[test_index], Y[test_index])\n",
    "    Errors.append(1 - (score_cumulee/len(Y)))\n",
    "\n",
    "print(Errors)        "
   ]
  },
  {
   "cell_type": "code",
   "execution_count": 59,
   "metadata": {},
   "outputs": [
    {
     "data": {
      "image/png": "[encoded data removed]",
      "text/plain": [
       "<Figure size 432x288 with 1 Axes>"
      ]
     },
     "metadata": {},
     "output_type": "display_data"
    }
   ],
   "source": [
    "plt.plot(list_of_k, Errors, 'bo')\n",
    "plt.show()"
   ]
  },
  {
   "cell_type": "markdown",
   "metadata": {},
   "source": [
    "Il semble que plus k soit élevé, plus l'erreur est importante. Il faut donc prendre un <strong>k faible, entre 1 et 10</strong>"
   ]
  },
  {
   "cell_type": "markdown",
   "metadata": {},
   "source": [
    "## Question 15.\n",
    "\n",
    "En utilisant la formule de Bayes donner la formule des probabilités a posteriori : P{Y = +1 | X = x}, P{Y = −1 | X = x}, comme fonctions de f+, f− et π+."
   ]
  },
  {
   "cell_type": "markdown",
   "metadata": {},
   "source": [
    "<img src=\"https://drive.google.com/file/d/1qPXQIBD4-WgRfTKJT2GeG2uQpMiueYvI.jpeg\">"
   ]
  },
  {
   "cell_type": "markdown",
   "metadata": {},
   "source": [
    "## Question 16.\n",
    "\n",
    "Exprimer le log-ratio des deux classes en fonction de π+, μ+, μ− et Σ."
   ]
  },
  {
   "cell_type": "code",
   "execution_count": null,
   "metadata": {},
   "outputs": [],
   "source": []
  },
  {
   "cell_type": "markdown",
   "metadata": {},
   "source": [
    "## Question 17.\n",
    "\n",
    "Justifier le choix du classifieur"
   ]
  },
  {
   "cell_type": "code",
   "execution_count": null,
   "metadata": {},
   "outputs": [],
   "source": []
  },
  {
   "cell_type": "markdown",
   "metadata": {},
   "source": [
    "## Question 18.\n",
    "\n",
    "Écrivez votre propre classe LDAClassifier avec les méthodes d’apprentissage fit et de classification predict."
   ]
  },
  {
   "cell_type": "markdown",
   "metadata": {},
   "source": [
    "<i><strong>Non traitée</strong></i>"
   ]
  },
  {
   "cell_type": "markdown",
   "metadata": {},
   "source": [
    "## Question 19.\n",
    "\n",
    "Vérifiez la validité des résultats obtenus avec votre méthode en les comparant à ceux de la classe <i>LinearDiscriminantAnalysis</i> de scikit-learn en utilisant un jeu de données simulé. Vous proposerez votre propre méthode de comparaison (l’échantillon d’apprentissage doit être petit et l’échantillon de validation doit être assez grand ; on considère par ailleurs que m est différent de n − m, i.e., les deux classes ne sont pas représentées par le même nombre d’échantillons observés). Indiquez les taux d’erreur de LDAClassifier et de LinearDiscriminantAnalysis et le nombre de cas où les prédictions coïncident. En utilisant votre classe LDAClassifier, visualisez la règle de classification."
   ]
  },
  {
   "cell_type": "markdown",
   "metadata": {},
   "source": [
    "<i><strong>Non traitée</strong></i>"
   ]
  },
  {
   "cell_type": "markdown",
   "metadata": {},
   "source": [
    "## Question 20.\n",
    "\n",
    "En utilisant votre classe LDAClassifier, visualisez la règle de classification pour les jeux de données #1 et #3. (Vous pouvez utiliser la fonction frontiere_new.) Discutez l’efficacité de la méthode dans ces deux cas."
   ]
  },
  {
   "cell_type": "markdown",
   "metadata": {},
   "source": [
    "<strong>NOTE :</strong> Les 2 questions précédentes n'ayant pas été traitées, j'ai pris le classifier sklearn pour répondre à cette question"
   ]
  },
  {
   "cell_type": "markdown",
   "metadata": {},
   "source": [
    "### X1"
   ]
  },
  {
   "cell_type": "code",
   "execution_count": 72,
   "metadata": {},
   "outputs": [
    {
     "name": "stdout",
     "output_type": "stream",
     "text": [
      "Score : 1.0\n"
     ]
    },
    {
     "data": {
      "image/png": "[encoded data removed]",
      "text/plain": [
       "<Figure size 432x288 with 2 Axes>"
      ]
     },
     "metadata": {},
     "output_type": "display_data"
    }
   ],
   "source": [
    "X_train, X_test, Y_train, Y_test = train_test_split(X1, Y1, test_size=0.7, random_state=1)\n",
    "\n",
    "lda = LinearDiscriminantAnalysis()\n",
    "lda.fit(X_train, Y_train)\n",
    "\n",
    "print('Score : ' + str(lda.score(X_test, Y_test)))\n",
    "\n",
    "frontiere_new((lambda x : myKNN_1.predict(x.reshape(1,-1))), X1, Y1)"
   ]
  },
  {
   "cell_type": "markdown",
   "metadata": {},
   "source": [
    "Les données étant 'bien' séparées en 2 noyaux distincs, la séparation linéaire de la LDA est très performante"
   ]
  },
  {
   "cell_type": "markdown",
   "metadata": {},
   "source": [
    "### X3 "
   ]
  },
  {
   "cell_type": "code",
   "execution_count": 71,
   "metadata": {},
   "outputs": [
    {
     "name": "stdout",
     "output_type": "stream",
     "text": [
      "Score : 0.6214285714285714\n"
     ]
    },
    {
     "data": {
      "image/png": "[encoded data removed]",
      "text/plain": [
       "<Figure size 432x288 with 2 Axes>"
      ]
     },
     "metadata": {},
     "output_type": "display_data"
    }
   ],
   "source": [
    "X_train, X_test, Y_train, Y_test = train_test_split(X3, Y3, test_size=0.7, random_state=1)\n",
    "\n",
    "lda = LinearDiscriminantAnalysis()\n",
    "lda.fit(X_train, Y_train)\n",
    "\n",
    "print('Score : ' + str(lda.score(X_test, Y_test)))\n",
    "\n",
    "frontiere_new((lambda x : myKNN_1.predict(x.reshape(1,-1))), X3, Y3)"
   ]
  },
  {
   "cell_type": "markdown",
   "metadata": {},
   "source": [
    "Ici, les données des 2 classes sont mélangées sur cette représentation à 2 variable. On observe graphiquement qu'il n'est pas possible de séparer les 2 classes linéairement. Effectivement, dans ce cas, la LDA est très peu performante."
   ]
  },
  {
   "cell_type": "markdown",
   "metadata": {},
   "source": [
    "## Question 21.\n",
    "\n",
    "Appliquez la classification par régression logistique sur les données rand_bi_gauss. Comparer les résultats avec la LDA, notamment lorsque une classe est beaucoup plus petite que l’autre (a beaucoup moins d’observations). On parle alors de classes déséquilibrées."
   ]
  },
  {
   "cell_type": "markdown",
   "metadata": {},
   "source": [
    "<i><strong>Non traitée</strong></i>"
   ]
  },
  {
   "cell_type": "markdown",
   "metadata": {},
   "source": [
    "## Question 22.\n",
    "\n",
    "À quoi correspond la variable coef_ du modèle ? intercept_ ?"
   ]
  },
  {
   "cell_type": "markdown",
   "metadata": {},
   "source": [
    "<i><strong>Non traitée</strong></i>"
   ]
  },
  {
   "cell_type": "markdown",
   "metadata": {},
   "source": [
    "## Question 23.\n",
    "\n",
    "Utiliser la fonction frontiere_new pour visualiser la frontière de décision."
   ]
  },
  {
   "cell_type": "markdown",
   "metadata": {},
   "source": [
    "<i><strong>Non traitée</strong></i>"
   ]
  },
  {
   "cell_type": "markdown",
   "metadata": {},
   "source": [
    "## Question 24. \n",
    "\n",
    "Appliquez la classification par régression logistique à des données issues de la base digits. Comme précédemment, coupez l’échantillon en deux parties de même taille et utilisez la première partie pour l’apprentissage et la deuxième pour tester. Indiquez le taux d’erreur."
   ]
  },
  {
   "cell_type": "markdown",
   "metadata": {},
   "source": [
    "<i><strong>Non traitée</strong></i>"
   ]
  }
 ],
 "metadata": {
  "kernelspec": {
   "display_name": "Python 3",
   "language": "python",
   "name": "python3"
  },
  "language_info": {
   "codemirror_mode": {
    "name": "ipython",
    "version": 3
   },
   "file_extension": ".py",
   "mimetype": "text/x-python",
   "name": "python",
   "nbconvert_exporter": "python",
   "pygments_lexer": "ipython3",
   "version": "3.6.5"
  }
 },
 "nbformat": 4,
 "nbformat_minor": 2
}
